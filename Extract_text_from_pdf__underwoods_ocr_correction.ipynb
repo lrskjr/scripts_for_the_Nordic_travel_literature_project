{
 "cells": [
  {
   "cell_type": "markdown",
   "id": "8e576df8-cecf-4495-af11-273e043cdf4f",
   "metadata": {},
   "source": [
    "## Read the pdf file using PyPDFLoader and apply Underwoods list of ocr corrections"
   ]
  },
  {
   "cell_type": "code",
   "execution_count": 8,
   "id": "eb25a6cf-5867-4cf7-b9bc-a3c9a1cbecae",
   "metadata": {},
   "outputs": [
    {
     "name": "stdout",
     "output_type": "stream",
     "text": [
      "Import libraries\n",
      "Start time\n",
      "Start processing \"1903 Thirty seasons in Scandinavia\".\n",
      "Wait a few seconds.\n"
     ]
    },
    {
     "name": "stderr",
     "output_type": "stream",
     "text": [
      "Loading PDF pages: 100%|\u001b[33m██████████\u001b[0m| 337/337 [00:00<?, ?it/s]\n"
     ]
    },
    {
     "name": "stdout",
     "output_type": "stream",
     "text": [
      "Preprocess text\n"
     ]
    },
    {
     "name": "stderr",
     "output_type": "stream",
     "text": [
      "Extracting and cleaning data: 100%|\u001b[33m██████████\u001b[0m| 337/337 [00:00<00:00, 8227.62it/s]\n"
     ]
    },
    {
     "name": "stdout",
     "output_type": "stream",
     "text": [
      "Starting ocr correction - loading correction rules\n",
      "Ocr correction\n"
     ]
    },
    {
     "name": "stderr",
     "output_type": "stream",
     "text": [
      "Applying OCR post-correction: 100%|\u001b[33m██████████\u001b[0m| 337/337 [00:00<?, ?it/s]"
     ]
    },
    {
     "name": "stdout",
     "output_type": "stream",
     "text": [
      "Saving data\n",
      "Save ocr corrections\n",
      "Script done.\n",
      "Time taken to run the script: 6.405390 seconds\n"
     ]
    },
    {
     "name": "stderr",
     "output_type": "stream",
     "text": [
      "\n"
     ]
    }
   ],
   "source": [
    "# Save start time\n",
    "\n",
    "print ('Import libraries')\n",
    "# import libraries\n",
    "from langchain_community.document_loaders import UnstructuredEPubLoader\n",
    "from langchain.document_loaders import PyPDFLoader\n",
    "import pandas as pd\n",
    "import re\n",
    "import os\n",
    "import csv\n",
    "import json\n",
    "from tqdm import tqdm  # Import tqdm for progress tracking\n",
    "import time\n",
    "\n",
    "print ('Start time')\n",
    "start_time = time.time()\n",
    "\n",
    "####### PDF loader #############\n",
    "# load pdf\n",
    "# Move to pdf folder\n",
    "os.chdir(r'.\\literature pdf')\n",
    "\n",
    "# load text from pdf\n",
    "pdf_file = '1903 Thirty seasons in Scandinavia.pdf'\n",
    "book_title = pdf_file[:-4]\n",
    "print (f'Start processing \"{book_title}\".\\nWait a few seconds.')\n",
    "loader = PyPDFLoader(pdf_file)\n",
    "# Load PDF pages\n",
    "pdf_pages = list(tqdm(loader.load(), desc=\"Loading PDF pages\", colour='yellow'))\n",
    "\n",
    "# Add one to get a reference back to the right page in pdf file\n",
    "def get_pdf_page_no(pageNo):\n",
    "    return pageNo + 1\n",
    "\n",
    "# Extract the name of the source\n",
    "def get_page_source(pageSource):\n",
    "    return pageSource.replace('.pdf', '').split('\\\\')[-1]\n",
    "\n",
    "print ('Preprocess text')\n",
    "# preprocess text\n",
    "def preproces_text(text_string):\n",
    "    # Store text data in variable\n",
    "    # Remove newlines, replace apostrophe s with s, remove quotation marks\n",
    "    text_string_replace = text_string.replace(r' \\xad\\n', '').replace(r'\\xad\\n', '') \\\n",
    "        .replace(r'\\xad', '').replace(r'\\xad ', '') \\\n",
    "        .replace(r'-\\n', '').replace('—', ' ').replace(r'\\n', ' ') \\\n",
    "        .replace(\"'s\", \"s\").replace('\"', ' ').replace(\"'\", \" \") \\\n",
    "        .replace('.', ' . ').replace(' .', ' . ').replace(',', ' ,') \\\n",
    "        .replace('!', ' !').replace('?', ' ?')\n",
    "\n",
    "    # scrub for multiple signs\n",
    "    # but keep full stops, commas, exclamation, and question marks\n",
    "    text_string_re = re.sub(r':|;|\\(|\\)|\\||\\+|\\\"|‘|’|“|”|\\’|…|\\-|–|—|\\$|&|\\*|>|<|\\/|\\[|\\]|»|«', '', text_string_replace)\n",
    "\n",
    "    # Remove numbers and words containing numbers\n",
    "    text_string_no_numbers = re.sub(r'\\b\\w*\\d\\w*\\b', '', text_string_re)\n",
    "    # Remove multiple whitespaces\n",
    "    text_string_sub_additional_white_space = re.sub(r'\\s+', ' ', text_string_no_numbers)\n",
    "\n",
    "    return text_string_sub_additional_white_space\n",
    "\n",
    "# Extract page info\n",
    "def extract_page_data(pdf_pages):\n",
    "    # prepare empty lists\n",
    "    content_list = []\n",
    "    semi_clean_text_list = []\n",
    "    page_no_list = []\n",
    "    source_list = []\n",
    "\n",
    "    for i in tqdm(pdf_pages, desc=\"Extracting and cleaning data\", colour='yellow'):\n",
    "        # take page number\n",
    "        page = i\n",
    "\n",
    "        # return the text content, preproces text, and metadata (source and page no.)\n",
    "        pageContent = page.page_content\n",
    "        semi_clean_text = preproces_text(pageContent)\n",
    "        pageNo = page.metadata['page']\n",
    "        pageSource = page.metadata['source']\n",
    "\n",
    "        # append to lists\n",
    "        content_list.append(pageContent)\n",
    "        semi_clean_text_list.append(semi_clean_text)\n",
    "        page_no_list.append(get_pdf_page_no(pageNo))\n",
    "        source_list.append(get_page_source(pageSource))\n",
    "\n",
    "    # output data\n",
    "    return content_list, semi_clean_text_list, page_no_list, source_list\n",
    "\n",
    "# return lists of content, page numbers, and source\n",
    "C, SC, P, S = extract_page_data(pdf_pages)\n",
    "\n",
    "# send lists to a dataframe\n",
    "df = pd.DataFrame({'content': C, 'source': S, 'element_no': P, 'preprocessed_content': SC})\n",
    "\n",
    "\n",
    "#######################\n",
    "\n",
    "# go back to main folder\n",
    "os.chdir('..')\n",
    "\n",
    "\n",
    "print('Starting ocr correction - loading correction rules')\n",
    "# Read the correction rules from the file\n",
    "with open('Underwoods_CorrectionRules.txt', 'r', encoding='utf-8') as f:\n",
    "    CorrectionRules_string = f.read()\n",
    "\n",
    "# Process the correction rules\n",
    "CorrectionRules_list = CorrectionRules_string.split('\\n')\n",
    "list_of_CorrectionRules_list = [i.split('\\t') for i in CorrectionRules_list]\n",
    "better_list_of_CorrectionRules = [i[0:2] for i in list_of_CorrectionRules_list]\n",
    "\n",
    "# Add additional pairs\n",
    "observations_to_add = [[\"Bruffels\", 'Brussels'], [\"fix\", 'six'], ['Elsinore', 'Helsingør']]\n",
    "better_list_of_CorrectionRules.extend(observations_to_add)\n",
    "\n",
    "# Build correction dictionary\n",
    "correction_dict = dict(better_list_of_CorrectionRules)\n",
    "\n",
    "\n",
    "\n",
    "print('Ocr correction')\n",
    "\n",
    "def ocr_post_correction(text):\n",
    "    # Prepare for correction\n",
    "    ### Keep track of the conditions of the words (capital, title, upper,lower)\n",
    "    tokens = text.split()\n",
    "\n",
    "    # Track the original case of each word\n",
    "    original_case = [i for i in tokens]\n",
    "    clean_text_list = [i.lower() for i in tokens]\n",
    "\n",
    "    # Initialize the list to store corrected words and a dictionary to track corrections\n",
    "    new_word_list = []\n",
    "    corrections_tracker = {}\n",
    "\n",
    "    # Iterate through the clean_text_list word list\n",
    "    for index, word in enumerate(clean_text_list):\n",
    "        # Check if the word has a correction in the dictionary\n",
    "        if word in correction_dict:\n",
    "            # If it does, append the corrected word to the new list and track the correction\n",
    "            corrected_word = correction_dict[word]\n",
    "            # Restore the original case of the word\n",
    "            if original_case[index].istitle():\n",
    "                corrected_word = corrected_word.capitalize()\n",
    "            elif original_case[index].isupper():\n",
    "                corrected_word = corrected_word.upper()\n",
    "            new_word_list.append(corrected_word)\n",
    "            corrections_tracker[word] = corrected_word\n",
    "\n",
    "            # Extract context around the corrected word\n",
    "            start_index = max(0, index - 10)\n",
    "            end_index = min(len(clean_text_list), index + 11)\n",
    "            context = clean_text_list[start_index:end_index]\n",
    "\n",
    "            # Store the context with the correction\n",
    "            corrections_tracker[word] = {\n",
    "                'corrected_word': corrected_word,\n",
    "                'context': ' '.join(context)\n",
    "            }\n",
    "        else:\n",
    "            # If it doesn't, append the original word\n",
    "            new_word_list.append(original_case[index])\n",
    "\n",
    "    # Send data back to text\n",
    "    new_corrected_text = ' '.join(new_word_list)\n",
    "\n",
    "    return corrections_tracker, new_corrected_text\n",
    "\n",
    "# Use the function and make two new columns to add to the dataframe\n",
    "df['corrections_tracker'], df['ocr_corrected_text'] = zip(*tqdm(df['preprocessed_content'].apply(ocr_post_correction), desc=\"Applying OCR post-correction\", colour='yellow'))\n",
    "\n",
    "print ('Saving data')\n",
    "# Save the df as a csv file\n",
    "os.chdir(r'.\\literature csv')\n",
    "df.to_csv(f'{book_title}.csv', index=False)\n",
    "\n",
    "\n",
    "# Save txt versions\n",
    "os.chdir('..')\n",
    "os.chdir(r'.\\literature txt')\n",
    "\n",
    "# Save text version without spell correction\n",
    "text = ' '.join(df['preprocessed_content'].to_list())\n",
    "with open(f'{book_title} without ocr correction.txt', 'w', encoding='utf-8') as f:\n",
    "    f.write(text)\n",
    "\n",
    "# Save text version with spell correction\n",
    "# Join the corrected words back into a string\n",
    "ocr_corrected_text = ' '.join(df['ocr_corrected_text'].to_list())\n",
    "with open(f'{book_title} with ocr correction.txt', 'w', encoding='utf-8') as f:\n",
    "    f.write(ocr_corrected_text)\n",
    "\n",
    "\n",
    "########\n",
    "# Save ocr corrections\n",
    "print ('Save ocr corrections')\n",
    "os.chdir('..')\n",
    "os.chdir(r'.\\ocr_correction_tracker')\n",
    "obs_corrections_tracker = []\n",
    "for i,j in enumerate(df['corrections_tracker'].to_list()):\n",
    "    if j:\n",
    "        observation = f\"Index no.: {str(i)}. OCR observation: {str(j)}\"\n",
    "        observation = observation.replace('{', '').replace('}', '')\n",
    "        obs_corrections_tracker.append(observation)\n",
    "\n",
    "ocr_observations = '\\n\\n'.join(obs_corrections_tracker)\n",
    "\n",
    "with open(f'{book_title} ocr corrections.txt', 'w', encoding='utf-8') as f:\n",
    "    f.write(ocr_observations)\n",
    "\n",
    "##############\n",
    "\n",
    "\n",
    "\n",
    "# change to main folder\n",
    "os.chdir('..')\n",
    "\n",
    "print ('Script done.')\n",
    "# Record the end time\n",
    "end_time = time.time()\n",
    "\n",
    "# Calculate the elapsed time\n",
    "elapsed_time = end_time - start_time\n",
    "\n",
    "# Print the elapsed time\n",
    "print(f\"Time taken to run the script: {elapsed_time:.6f} seconds\")"
   ]
  },
  {
   "cell_type": "code",
   "execution_count": 9,
   "id": "d8cf7210-1276-49da-b2ac-c418f42a3cd4",
   "metadata": {},
   "outputs": [
    {
     "data": {
      "text/html": [
       "<div>\n",
       "<style scoped>\n",
       "    .dataframe tbody tr th:only-of-type {\n",
       "        vertical-align: middle;\n",
       "    }\n",
       "\n",
       "    .dataframe tbody tr th {\n",
       "        vertical-align: top;\n",
       "    }\n",
       "\n",
       "    .dataframe thead th {\n",
       "        text-align: right;\n",
       "    }\n",
       "</style>\n",
       "<table border=\"1\" class=\"dataframe\">\n",
       "  <thead>\n",
       "    <tr style=\"text-align: right;\">\n",
       "      <th></th>\n",
       "      <th>content</th>\n",
       "      <th>source</th>\n",
       "      <th>element_no</th>\n",
       "      <th>preprocessed_content</th>\n",
       "      <th>corrections_tracker</th>\n",
       "      <th>ocr_corrected_text</th>\n",
       "    </tr>\n",
       "  </thead>\n",
       "  <tbody>\n",
       "    <tr>\n",
       "      <th>0</th>\n",
       "      <td>Digitaliseret af | Digitised by\\nForfatter(e) ...</td>\n",
       "      <td>1903 Thirty seasons in Scandinavia</td>\n",
       "      <td>1</td>\n",
       "      <td>Digitaliseret af Digitised by Forfatter e Auth...</td>\n",
       "      <td>{}</td>\n",
       "      <td>Digitaliseret af Digitised by Forfatter e Auth...</td>\n",
       "    </tr>\n",
       "    <tr>\n",
       "      <th>1</th>\n",
       "      <td>ThirtÖmws\\n■\\n,N\\n^(ANDINAVH/ w\\nytJ,■</td>\n",
       "      <td>1903 Thirty seasons in Scandinavia</td>\n",
       "      <td>2</td>\n",
       "      <td>ThirtÖmws ■ ,N ^ ANDINAVH w ytJ ,■</td>\n",
       "      <td>{}</td>\n",
       "      <td>ThirtÖmws ■ ,N ^ ANDINAVH w ytJ ,■</td>\n",
       "    </tr>\n",
       "    <tr>\n",
       "      <th>2</th>\n",
       "      <td>Det Kgl. Bibliotek\\n130025471602</td>\n",
       "      <td>1903 Thirty seasons in Scandinavia</td>\n",
       "      <td>3</td>\n",
       "      <td>Det Kgl . Bibliotek 130025471602</td>\n",
       "      <td>{}</td>\n",
       "      <td>Det Kgl . Bibliotek 130025471602</td>\n",
       "    </tr>\n",
       "    <tr>\n",
       "      <th>3</th>\n",
       "      <td></td>\n",
       "      <td>1903 Thirty seasons in Scandinavia</td>\n",
       "      <td>4</td>\n",
       "      <td></td>\n",
       "      <td>{}</td>\n",
       "      <td></td>\n",
       "    </tr>\n",
       "    <tr>\n",
       "      <th>4</th>\n",
       "      <td></td>\n",
       "      <td>1903 Thirty seasons in Scandinavia</td>\n",
       "      <td>5</td>\n",
       "      <td></td>\n",
       "      <td>{}</td>\n",
       "      <td></td>\n",
       "    </tr>\n",
       "    <tr>\n",
       "      <th>...</th>\n",
       "      <td>...</td>\n",
       "      <td>...</td>\n",
       "      <td>...</td>\n",
       "      <td>...</td>\n",
       "      <td>...</td>\n",
       "      <td>...</td>\n",
       "    </tr>\n",
       "    <tr>\n",
       "      <th>332</th>\n",
       "      <td></td>\n",
       "      <td>1903 Thirty seasons in Scandinavia</td>\n",
       "      <td>333</td>\n",
       "      <td></td>\n",
       "      <td>{}</td>\n",
       "      <td></td>\n",
       "    </tr>\n",
       "    <tr>\n",
       "      <th>333</th>\n",
       "      <td></td>\n",
       "      <td>1903 Thirty seasons in Scandinavia</td>\n",
       "      <td>334</td>\n",
       "      <td></td>\n",
       "      <td>{}</td>\n",
       "      <td></td>\n",
       "    </tr>\n",
       "    <tr>\n",
       "      <th>334</th>\n",
       "      <td></td>\n",
       "      <td>1903 Thirty seasons in Scandinavia</td>\n",
       "      <td>335</td>\n",
       "      <td></td>\n",
       "      <td>{}</td>\n",
       "      <td></td>\n",
       "    </tr>\n",
       "    <tr>\n",
       "      <th>335</th>\n",
       "      <td></td>\n",
       "      <td>1903 Thirty seasons in Scandinavia</td>\n",
       "      <td>336</td>\n",
       "      <td></td>\n",
       "      <td>{}</td>\n",
       "      <td></td>\n",
       "    </tr>\n",
       "    <tr>\n",
       "      <th>336</th>\n",
       "      <td></td>\n",
       "      <td>1903 Thirty seasons in Scandinavia</td>\n",
       "      <td>337</td>\n",
       "      <td></td>\n",
       "      <td>{}</td>\n",
       "      <td></td>\n",
       "    </tr>\n",
       "  </tbody>\n",
       "</table>\n",
       "<p>337 rows × 6 columns</p>\n",
       "</div>"
      ],
      "text/plain": [
       "                                               content  \\\n",
       "0    Digitaliseret af | Digitised by\\nForfatter(e) ...   \n",
       "1               ThirtÖmws\\n■\\n,N\\n^(ANDINAVH/ w\\nytJ,■   \n",
       "2                     Det Kgl. Bibliotek\\n130025471602   \n",
       "3                                                        \n",
       "4                                                        \n",
       "..                                                 ...   \n",
       "332                                                      \n",
       "333                                                      \n",
       "334                                                      \n",
       "335                                                      \n",
       "336                                                      \n",
       "\n",
       "                                 source  element_no  \\\n",
       "0    1903 Thirty seasons in Scandinavia           1   \n",
       "1    1903 Thirty seasons in Scandinavia           2   \n",
       "2    1903 Thirty seasons in Scandinavia           3   \n",
       "3    1903 Thirty seasons in Scandinavia           4   \n",
       "4    1903 Thirty seasons in Scandinavia           5   \n",
       "..                                  ...         ...   \n",
       "332  1903 Thirty seasons in Scandinavia         333   \n",
       "333  1903 Thirty seasons in Scandinavia         334   \n",
       "334  1903 Thirty seasons in Scandinavia         335   \n",
       "335  1903 Thirty seasons in Scandinavia         336   \n",
       "336  1903 Thirty seasons in Scandinavia         337   \n",
       "\n",
       "                                  preprocessed_content corrections_tracker  \\\n",
       "0    Digitaliseret af Digitised by Forfatter e Auth...                  {}   \n",
       "1                   ThirtÖmws ■ ,N ^ ANDINAVH w ytJ ,■                  {}   \n",
       "2                     Det Kgl . Bibliotek 130025471602                  {}   \n",
       "3                                                                       {}   \n",
       "4                                                                       {}   \n",
       "..                                                 ...                 ...   \n",
       "332                                                                     {}   \n",
       "333                                                                     {}   \n",
       "334                                                                     {}   \n",
       "335                                                                     {}   \n",
       "336                                                                     {}   \n",
       "\n",
       "                                    ocr_corrected_text  \n",
       "0    Digitaliseret af Digitised by Forfatter e Auth...  \n",
       "1                   ThirtÖmws ■ ,N ^ ANDINAVH w ytJ ,■  \n",
       "2                     Det Kgl . Bibliotek 130025471602  \n",
       "3                                                       \n",
       "4                                                       \n",
       "..                                                 ...  \n",
       "332                                                     \n",
       "333                                                     \n",
       "334                                                     \n",
       "335                                                     \n",
       "336                                                     \n",
       "\n",
       "[337 rows x 6 columns]"
      ]
     },
     "execution_count": 9,
     "metadata": {},
     "output_type": "execute_result"
    }
   ],
   "source": [
    "df"
   ]
  },
  {
   "cell_type": "code",
   "execution_count": 4,
   "id": "4122f042-7ae1-47f1-8c65-453af45be3ab",
   "metadata": {},
   "outputs": [
    {
     "name": "stdout",
     "output_type": "stream",
     "text": [
      "Import libraries\n"
     ]
    }
   ],
   "source": [
    "print ('Import libraries')\n",
    "# import libraries\n",
    "from langchain_community.document_loaders import UnstructuredEPubLoader\n",
    "from langchain.document_loaders import PyPDFLoader\n",
    "import pandas as pd\n",
    "import re\n",
    "import os\n",
    "import csv\n",
    "import json\n",
    "from tqdm import tqdm  # Import tqdm for progress tracking\n",
    "import time"
   ]
  },
  {
   "cell_type": "code",
   "execution_count": 5,
   "id": "32073ba5-e805-4bbb-ae85-3c334ba218cd",
   "metadata": {},
   "outputs": [],
   "source": [
    "path_to_folder = r'C:\\Users\\lakj\\Documents\\GitHub\\nordic travel literature\\literature pdf'\n",
    "no_of_files = len(os.listdir(path_to_folder))\n",
    "files = os.listdir(path_to_folder)"
   ]
  },
  {
   "cell_type": "code",
   "execution_count": 6,
   "id": "4aaf034f-cc3c-42b0-8c28-9a5b564bfeea",
   "metadata": {},
   "outputs": [],
   "source": [
    "\n",
    "def input_is_folder(pdf_file):\n",
    "\n",
    "    \n",
    "    print ('Start time')\n",
    "    start_time = time.time()\n",
    "    \n",
    "    ####### PDF loader #############\n",
    "    # load pdf\n",
    "    # Move to pdf folder\n",
    "    os.chdir(r'.\\literature pdf')\n",
    "    \n",
    "    # load text from pdf\n",
    "    #pdf_file = 'Scenes of travel in Norway J C Phythian.pdf'\n",
    "    book_title = pdf_file[:-4]\n",
    "    print (f'Start processing \"{book_title}\".\\nWait a few seconds.')\n",
    "    loader = PyPDFLoader(pdf_file)\n",
    "    # Load PDF pages\n",
    "    pdf_pages = list(tqdm(loader.load(), desc=\"Loading PDF pages\", colour='yellow'))\n",
    "    \n",
    "    # Add one to get a reference back to the right page in pdf file\n",
    "    def get_pdf_page_no(pageNo):\n",
    "        return pageNo + 1\n",
    "    \n",
    "    # Extract the name of the source\n",
    "    def get_page_source(pageSource):\n",
    "        return pageSource.replace('.pdf', '').split('\\\\')[-1]\n",
    "    \n",
    "    print ('Preprocess text')\n",
    "    # preprocess text\n",
    "    def preproces_text(text_string):\n",
    "        # Store text data in variable\n",
    "        # Remove newlines, replace apostrophe s with s, remove quotation marks\n",
    "        text_string_replace = text_string.replace(r' \\xad\\n', '').replace(r'\\xad\\n', '') \\\n",
    "            .replace(r'\\xad', '').replace(r'\\xad ', '') \\\n",
    "            .replace(r'-\\n', '').replace('—', ' ').replace(r'\\n', ' ') \\\n",
    "            .replace(\"'s\", \"s\").replace('\"', ' ').replace(\"'\", \" \") \\\n",
    "            .replace('.', ' . ').replace(' .', ' . ').replace(',', ' ,') \\\n",
    "            .replace('!', ' !').replace('?', ' ?')\n",
    "    \n",
    "        # scrub for multiple signs\n",
    "        # but keep full stops, commas, exclamation, and question marks\n",
    "        text_string_re = re.sub(r':|;|\\(|\\)|\\||\\+|\\\"|‘|’|“|”|\\’|…|\\-|–|—|\\$|&|\\*|>|<|\\/|\\[|\\]|»|«', '', text_string_replace)\n",
    "    \n",
    "        # Remove numbers and words containing numbers\n",
    "        text_string_no_numbers = re.sub(r'\\b\\w*\\d\\w*\\b', '', text_string_re)\n",
    "        # Remove multiple whitespaces\n",
    "        text_string_sub_additional_white_space = re.sub(r'\\s+', ' ', text_string_no_numbers)\n",
    "    \n",
    "        return text_string_sub_additional_white_space\n",
    "    \n",
    "    # Extract page info\n",
    "    def extract_page_data(pdf_pages):\n",
    "        # prepare empty lists\n",
    "        content_list = []\n",
    "        semi_clean_text_list = []\n",
    "        page_no_list = []\n",
    "        source_list = []\n",
    "    \n",
    "        for i in tqdm(pdf_pages, desc=\"Extracting and cleaning data\", colour='yellow'):\n",
    "            # take page number\n",
    "            page = i\n",
    "    \n",
    "            # return the text content, preproces text, and metadata (source and page no.)\n",
    "            pageContent = page.page_content\n",
    "            semi_clean_text = preproces_text(pageContent)\n",
    "            pageNo = page.metadata['page']\n",
    "            pageSource = page.metadata['source']\n",
    "    \n",
    "            # append to lists\n",
    "            content_list.append(pageContent)\n",
    "            semi_clean_text_list.append(semi_clean_text)\n",
    "            page_no_list.append(get_pdf_page_no(pageNo))\n",
    "            source_list.append(get_page_source(pageSource))\n",
    "    \n",
    "        # output data\n",
    "        return content_list, semi_clean_text_list, page_no_list, source_list\n",
    "    \n",
    "    # return lists of content, page numbers, and source\n",
    "    C, SC, P, S = extract_page_data(pdf_pages)\n",
    "    \n",
    "    # send lists to a dataframe\n",
    "    df = pd.DataFrame({'content': C, 'source': S, 'element_no': P, 'preprocessed_content': SC})\n",
    "    \n",
    "    \n",
    "    #######################\n",
    "    \n",
    "    # go back to main folder\n",
    "    os.chdir('..')\n",
    "    \n",
    "    \n",
    "    print('Starting ocr correction - loading correction rules')\n",
    "    # Read the correction rules from the file\n",
    "    with open('Underwoods_CorrectionRules.txt', 'r', encoding='utf-8') as f:\n",
    "        CorrectionRules_string = f.read()\n",
    "    \n",
    "    # Process the correction rules\n",
    "    CorrectionRules_list = CorrectionRules_string.split('\\n')\n",
    "    list_of_CorrectionRules_list = [i.split('\\t') for i in CorrectionRules_list]\n",
    "    better_list_of_CorrectionRules = [i[0:2] for i in list_of_CorrectionRules_list]\n",
    "    \n",
    "    # Add additional pairs\n",
    "    observations_to_add = [[\"Bruffels\", 'Brussels'], [\"fix\", 'six'], ['Elsinore', 'Helsingør']]\n",
    "    better_list_of_CorrectionRules.extend(observations_to_add)\n",
    "    \n",
    "    # Build correction dictionary\n",
    "    correction_dict = dict(better_list_of_CorrectionRules)\n",
    "    \n",
    "    \n",
    "    \n",
    "    print('Ocr correction')\n",
    "    \n",
    "    def ocr_post_correction(text):\n",
    "        # Prepare for correction\n",
    "        ### Keep track of the conditions of the words (capital, title, upper,lower)\n",
    "        tokens = text.split()\n",
    "    \n",
    "        # Track the original case of each word\n",
    "        original_case = [i for i in tokens]\n",
    "        clean_text_list = [i.lower() for i in tokens]\n",
    "    \n",
    "        # Initialize the list to store corrected words and a dictionary to track corrections\n",
    "        new_word_list = []\n",
    "        corrections_tracker = {}\n",
    "    \n",
    "        # Iterate through the clean_text_list word list\n",
    "        for index, word in enumerate(clean_text_list):\n",
    "            # Check if the word has a correction in the dictionary\n",
    "            if word in correction_dict:\n",
    "                # If it does, append the corrected word to the new list and track the correction\n",
    "                corrected_word = correction_dict[word]\n",
    "                # Restore the original case of the word\n",
    "                if original_case[index].istitle():\n",
    "                    corrected_word = corrected_word.capitalize()\n",
    "                elif original_case[index].isupper():\n",
    "                    corrected_word = corrected_word.upper()\n",
    "                new_word_list.append(corrected_word)\n",
    "                corrections_tracker[word] = corrected_word\n",
    "    \n",
    "                # Extract context around the corrected word\n",
    "                start_index = max(0, index - 10)\n",
    "                end_index = min(len(clean_text_list), index + 11)\n",
    "                context = clean_text_list[start_index:end_index]\n",
    "    \n",
    "                # Store the context with the correction\n",
    "                corrections_tracker[word] = {\n",
    "                    'corrected_word': corrected_word,\n",
    "                    'context': ' '.join(context)\n",
    "                }\n",
    "            else:\n",
    "                # If it doesn't, append the original word\n",
    "                new_word_list.append(original_case[index])\n",
    "    \n",
    "        # Send data back to text\n",
    "        new_corrected_text = ' '.join(new_word_list)\n",
    "    \n",
    "        return corrections_tracker, new_corrected_text\n",
    "    \n",
    "    # Use the function and make two new columns to add to the dataframe\n",
    "    df['corrections_tracker'], df['ocr_corrected_text'] = zip(*tqdm(df['preprocessed_content'].apply(ocr_post_correction), desc=\"Applying OCR post-correction\", colour='yellow'))\n",
    "    \n",
    "    print ('Saving data')\n",
    "    # Save the df as a csv file\n",
    "    os.chdir(r'.\\literature csv')\n",
    "    df.to_csv(f'{book_title}.csv', index=False)\n",
    "    \n",
    "    \n",
    "    # Save txt versions\n",
    "    os.chdir('..')\n",
    "    os.chdir(r'.\\literature txt')\n",
    "    \n",
    "    # Save text version without spell correction\n",
    "    text = ' '.join(df['preprocessed_content'].to_list())\n",
    "    with open(f'{book_title} without ocr correction.txt', 'w', encoding='utf-8') as f:\n",
    "        f.write(text)\n",
    "    \n",
    "    # Save text version with spell correction\n",
    "    # Join the corrected words back into a string\n",
    "    ocr_corrected_text = ' '.join(df['ocr_corrected_text'].to_list())\n",
    "    with open(f'{book_title} with ocr correction.txt', 'w', encoding='utf-8') as f:\n",
    "        f.write(ocr_corrected_text)\n",
    "    \n",
    "    \n",
    "    ########\n",
    "    # Save ocr corrections\n",
    "    print ('Save ocr corrections')\n",
    "    os.chdir('..')\n",
    "    os.chdir(r'.\\ocr_correction_tracker')\n",
    "    obs_corrections_tracker = []\n",
    "    for i,j in enumerate(df['corrections_tracker'].to_list()):\n",
    "        if j:\n",
    "            observation = f\"Index no.: {str(i)}. OCR observation: {str(j)}\"\n",
    "            observation = observation.replace('{', '').replace('}', '')\n",
    "            obs_corrections_tracker.append(observation)\n",
    "    \n",
    "    ocr_observations = '\\n\\n'.join(obs_corrections_tracker)\n",
    "    \n",
    "    with open(f'{book_title} ocr corrections.txt', 'w', encoding='utf-8') as f:\n",
    "        f.write(ocr_observations)\n",
    "    \n",
    "    ##############\n",
    "    \n",
    "    \n",
    "    \n",
    "    # change to main folder\n",
    "    os.chdir('..')\n",
    "    \n",
    "    print ('Script done.')\n",
    "    # Record the end time\n",
    "    end_time = time.time()\n",
    "    \n",
    "    # Calculate the elapsed time\n",
    "    elapsed_time = end_time - start_time\n",
    "    \n",
    "    # Print the elapsed time\n",
    "    print(f\"Time taken to run the script: {elapsed_time:.6f} seconds\")"
   ]
  },
  {
   "cell_type": "code",
   "execution_count": 7,
   "id": "abe792f8-6298-41ff-9c97-0ad22ae0d418",
   "metadata": {},
   "outputs": [
    {
     "name": "stdout",
     "output_type": "stream",
     "text": [
      "Start time\n",
      "Start processing \"1772 Travels through Holland Flanders Germany Denmark Sweden Lapland Russia the Ukraine and Poland in the years 1768 1769 and 1770 Vol 1\".\n",
      "Wait a few seconds.\n"
     ]
    },
    {
     "name": "stderr",
     "output_type": "stream",
     "text": [
      "Loading PDF pages: 100%|\u001b[33m██████████\u001b[0m| 202/202 [00:00<?, ?it/s]\n"
     ]
    },
    {
     "name": "stdout",
     "output_type": "stream",
     "text": [
      "Preprocess text\n"
     ]
    },
    {
     "name": "stderr",
     "output_type": "stream",
     "text": [
      "Extracting and cleaning data: 100%|\u001b[33m██████████\u001b[0m| 202/202 [00:00<00:00, 4191.32it/s]\n"
     ]
    },
    {
     "name": "stdout",
     "output_type": "stream",
     "text": [
      "Starting ocr correction - loading correction rules\n",
      "Ocr correction\n"
     ]
    },
    {
     "name": "stderr",
     "output_type": "stream",
     "text": [
      "Applying OCR post-correction: 100%|\u001b[33m██████████\u001b[0m| 202/202 [00:00<?, ?it/s]"
     ]
    },
    {
     "name": "stdout",
     "output_type": "stream",
     "text": [
      "Saving data\n",
      "Save ocr corrections\n",
      "Script done.\n",
      "Time taken to run the script: 2.426439 seconds\n",
      "Start time\n",
      "Start processing \"1807 A Tour round the Baltic\".\n",
      "Wait a few seconds.\n"
     ]
    },
    {
     "name": "stderr",
     "output_type": "stream",
     "text": [
      "\n",
      "Loading PDF pages: 100%|\u001b[33m██████████\u001b[0m| 466/466 [00:00<?, ?it/s]\n"
     ]
    },
    {
     "name": "stdout",
     "output_type": "stream",
     "text": [
      "Preprocess text\n"
     ]
    },
    {
     "name": "stderr",
     "output_type": "stream",
     "text": [
      "Extracting and cleaning data: 100%|\u001b[33m██████████\u001b[0m| 466/466 [00:00<00:00, 11490.16it/s]\n"
     ]
    },
    {
     "name": "stdout",
     "output_type": "stream",
     "text": [
      "Starting ocr correction - loading correction rules\n",
      "Ocr correction\n"
     ]
    },
    {
     "name": "stderr",
     "output_type": "stream",
     "text": [
      "Applying OCR post-correction: 100%|\u001b[33m██████████\u001b[0m| 466/466 [00:00<?, ?it/s]"
     ]
    },
    {
     "name": "stdout",
     "output_type": "stream",
     "text": [
      "Saving data\n",
      "Save ocr corrections\n",
      "Script done.\n",
      "Time taken to run the script: 76.484557 seconds\n",
      "Start time\n",
      "Start processing \"1811 Travels in Iceland\".\n",
      "Wait a few seconds.\n"
     ]
    },
    {
     "name": "stderr",
     "output_type": "stream",
     "text": [
      "\n",
      "Loading PDF pages: 100%|\u001b[33m██████████\u001b[0m| 562/562 [00:00<?, ?it/s]\n"
     ]
    },
    {
     "name": "stdout",
     "output_type": "stream",
     "text": [
      "Preprocess text\n"
     ]
    },
    {
     "name": "stderr",
     "output_type": "stream",
     "text": [
      "Extracting and cleaning data: 100%|\u001b[33m██████████\u001b[0m| 562/562 [00:00<00:00, 10666.49it/s]\n"
     ]
    },
    {
     "name": "stdout",
     "output_type": "stream",
     "text": [
      "Starting ocr correction - loading correction rules\n",
      "Ocr correction\n"
     ]
    },
    {
     "name": "stderr",
     "output_type": "stream",
     "text": [
      "Applying OCR post-correction: 100%|\u001b[33m██████████\u001b[0m| 562/562 [00:00<?, ?it/s]"
     ]
    },
    {
     "name": "stdout",
     "output_type": "stream",
     "text": [
      "Saving data\n",
      "Save ocr corrections\n",
      "Script done.\n",
      "Time taken to run the script: 9.571139 seconds\n",
      "Start time\n",
      "Start processing \"1813 Travels through Norway and Lapland during the Years 1806 1807 and 1808\".\n",
      "Wait a few seconds.\n"
     ]
    },
    {
     "name": "stderr",
     "output_type": "stream",
     "text": [
      "\n",
      "Loading PDF pages: 100%|\u001b[33m██████████\u001b[0m| 933/933 [00:00<?, ?it/s]\n"
     ]
    },
    {
     "name": "stdout",
     "output_type": "stream",
     "text": [
      "Preprocess text\n"
     ]
    },
    {
     "name": "stderr",
     "output_type": "stream",
     "text": [
      "Extracting and cleaning data: 100%|\u001b[33m██████████\u001b[0m| 933/933 [00:00<00:00, 3681.20it/s]\n"
     ]
    },
    {
     "name": "stdout",
     "output_type": "stream",
     "text": [
      "Starting ocr correction - loading correction rules\n",
      "Ocr correction\n"
     ]
    },
    {
     "name": "stderr",
     "output_type": "stream",
     "text": [
      "Applying OCR post-correction: 100%|\u001b[33m██████████\u001b[0m| 933/933 [00:00<?, ?it/s]"
     ]
    },
    {
     "name": "stdout",
     "output_type": "stream",
     "text": [
      "Saving data\n"
     ]
    },
    {
     "name": "stderr",
     "output_type": "stream",
     "text": [
      "\n"
     ]
    },
    {
     "name": "stdout",
     "output_type": "stream",
     "text": [
      "Save ocr corrections\n",
      "Script done.\n",
      "Time taken to run the script: 20.421648 seconds\n",
      "Start time\n",
      "Start processing \"1834 Excursions in the north of Europe through parts of Russia Finland Sweden Denmark and Norway\".\n",
      "Wait a few seconds.\n"
     ]
    },
    {
     "name": "stderr",
     "output_type": "stream",
     "text": [
      "Loading PDF pages: 100%|\u001b[33m██████████\u001b[0m| 424/424 [00:00<?, ?it/s]\n"
     ]
    },
    {
     "name": "stdout",
     "output_type": "stream",
     "text": [
      "Preprocess text\n"
     ]
    },
    {
     "name": "stderr",
     "output_type": "stream",
     "text": [
      "Extracting and cleaning data: 100%|\u001b[33m██████████\u001b[0m| 424/424 [00:00<00:00, 10530.40it/s]\n"
     ]
    },
    {
     "name": "stdout",
     "output_type": "stream",
     "text": [
      "Starting ocr correction - loading correction rules\n",
      "Ocr correction\n"
     ]
    },
    {
     "name": "stderr",
     "output_type": "stream",
     "text": [
      "Applying OCR post-correction: 100%|\u001b[33m██████████\u001b[0m| 424/424 [00:00<?, ?it/s]"
     ]
    },
    {
     "name": "stdout",
     "output_type": "stream",
     "text": [
      "Saving data\n",
      "Save ocr corrections\n",
      "Script done.\n",
      "Time taken to run the script: 10.702873 seconds\n",
      "Start time\n",
      "Start processing \"1839 Handbook for travellers in Denmark Norway Sweden and Russia\".\n",
      "Wait a few seconds.\n"
     ]
    },
    {
     "name": "stderr",
     "output_type": "stream",
     "text": [
      "\n",
      "Loading PDF pages: 100%|\u001b[33m██████████\u001b[0m| 316/316 [00:00<?, ?it/s]\n"
     ]
    },
    {
     "name": "stdout",
     "output_type": "stream",
     "text": [
      "Preprocess text\n"
     ]
    },
    {
     "name": "stderr",
     "output_type": "stream",
     "text": [
      "Extracting and cleaning data: 100%|\u001b[33m██████████\u001b[0m| 316/316 [00:00<00:00, 3151.15it/s]\n"
     ]
    },
    {
     "name": "stdout",
     "output_type": "stream",
     "text": [
      "Starting ocr correction - loading correction rules\n",
      "Ocr correction\n"
     ]
    },
    {
     "name": "stderr",
     "output_type": "stream",
     "text": [
      "Applying OCR post-correction: 100%|\u001b[33m██████████\u001b[0m| 316/316 [00:00<?, ?it/s]"
     ]
    },
    {
     "name": "stdout",
     "output_type": "stream",
     "text": [
      "Saving data\n",
      "Save ocr corrections\n",
      "Script done.\n",
      "Time taken to run the script: 12.863294 seconds\n",
      "Start time\n",
      "Start processing \"1841 Visit to Northern Europe vol 1\".\n",
      "Wait a few seconds.\n"
     ]
    },
    {
     "name": "stderr",
     "output_type": "stream",
     "text": [
      "\n",
      "Loading PDF pages: 100%|\u001b[33m██████████\u001b[0m| 408/408 [00:00<?, ?it/s]\n"
     ]
    },
    {
     "name": "stdout",
     "output_type": "stream",
     "text": [
      "Preprocess text\n"
     ]
    },
    {
     "name": "stderr",
     "output_type": "stream",
     "text": [
      "Extracting and cleaning data: 100%|\u001b[33m██████████\u001b[0m| 408/408 [00:00<00:00, 7701.89it/s]\n"
     ]
    },
    {
     "name": "stdout",
     "output_type": "stream",
     "text": [
      "Starting ocr correction - loading correction rules\n",
      "Ocr correction\n"
     ]
    },
    {
     "name": "stderr",
     "output_type": "stream",
     "text": [
      "Applying OCR post-correction: 100%|\u001b[33m██████████\u001b[0m| 408/408 [00:00<?, ?it/s]"
     ]
    },
    {
     "name": "stdout",
     "output_type": "stream",
     "text": [
      "Saving data\n",
      "Save ocr corrections\n",
      "Script done.\n",
      "Time taken to run the script: 71.081715 seconds\n",
      "Start time\n",
      "Start processing \"1842 Travels in Iceland\".\n",
      "Wait a few seconds.\n"
     ]
    },
    {
     "name": "stderr",
     "output_type": "stream",
     "text": [
      "\n",
      "Loading PDF pages: 100%|\u001b[33m██████████\u001b[0m| 97/97 [00:00<?, ?it/s]\n"
     ]
    },
    {
     "name": "stdout",
     "output_type": "stream",
     "text": [
      "Preprocess text\n"
     ]
    },
    {
     "name": "stderr",
     "output_type": "stream",
     "text": [
      "Extracting and cleaning data: 100%|\u001b[33m██████████\u001b[0m| 97/97 [00:00<00:00, 1337.37it/s]\n"
     ]
    },
    {
     "name": "stdout",
     "output_type": "stream",
     "text": [
      "Starting ocr correction - loading correction rules\n",
      "Ocr correction\n"
     ]
    },
    {
     "name": "stderr",
     "output_type": "stream",
     "text": [
      "Applying OCR post-correction: 100%|\u001b[33m██████████\u001b[0m| 97/97 [00:00<?, ?it/s]"
     ]
    },
    {
     "name": "stdout",
     "output_type": "stream",
     "text": [
      "Saving data\n",
      "Save ocr corrections\n",
      "Script done.\n",
      "Time taken to run the script: 8.438377 seconds\n",
      "Start time\n",
      "Start processing \"1856 The Danes and the Swedes\".\n",
      "Wait a few seconds.\n"
     ]
    },
    {
     "name": "stderr",
     "output_type": "stream",
     "text": [
      "\n",
      "Loading PDF pages: 100%|\u001b[33m██████████\u001b[0m| 433/433 [00:00<?, ?it/s]\n"
     ]
    },
    {
     "name": "stdout",
     "output_type": "stream",
     "text": [
      "Preprocess text\n"
     ]
    },
    {
     "name": "stderr",
     "output_type": "stream",
     "text": [
      "Extracting and cleaning data: 100%|\u001b[33m██████████\u001b[0m| 433/433 [00:00<00:00, 5331.64it/s]\n"
     ]
    },
    {
     "name": "stdout",
     "output_type": "stream",
     "text": [
      "Starting ocr correction - loading correction rules\n",
      "Ocr correction\n"
     ]
    },
    {
     "name": "stderr",
     "output_type": "stream",
     "text": [
      "Applying OCR post-correction: 100%|\u001b[33m██████████\u001b[0m| 433/433 [00:00<?, ?it/s]"
     ]
    },
    {
     "name": "stdout",
     "output_type": "stream",
     "text": [
      "Saving data\n",
      "Save ocr corrections\n",
      "Script done.\n",
      "Time taken to run the script: 8.866470 seconds\n",
      "Start time\n",
      "Start processing \"1857 The book of the Baltic being the North of Europe Steam Companys route to Denmark Sweden and Russia Norway Prussia and the Hanseatic Ports\".\n",
      "Wait a few seconds.\n"
     ]
    },
    {
     "name": "stderr",
     "output_type": "stream",
     "text": [
      "\n",
      "Loading PDF pages: 100%|\u001b[33m██████████\u001b[0m| 169/169 [00:00<?, ?it/s]\n"
     ]
    },
    {
     "name": "stdout",
     "output_type": "stream",
     "text": [
      "Preprocess text\n"
     ]
    },
    {
     "name": "stderr",
     "output_type": "stream",
     "text": [
      "Extracting and cleaning data: 100%|\u001b[33m██████████\u001b[0m| 169/169 [00:00<00:00, 4472.44it/s]\n"
     ]
    },
    {
     "name": "stdout",
     "output_type": "stream",
     "text": [
      "Starting ocr correction - loading correction rules\n",
      "Ocr correction\n"
     ]
    },
    {
     "name": "stderr",
     "output_type": "stream",
     "text": [
      "Applying OCR post-correction: 100%|\u001b[33m██████████\u001b[0m| 169/169 [00:00<?, ?it/s]"
     ]
    },
    {
     "name": "stdout",
     "output_type": "stream",
     "text": [
      "Saving data\n",
      "Save ocr corrections\n",
      "Script done.\n",
      "Time taken to run the script: 4.279276 seconds\n",
      "Start time\n",
      "Start processing \"1860 A Residence in Jutland the Danish Isles and Copenhagen vol I\".\n",
      "Wait a few seconds.\n"
     ]
    },
    {
     "name": "stderr",
     "output_type": "stream",
     "text": [
      "\n",
      "Loading PDF pages: 100%|\u001b[33m██████████\u001b[0m| 429/429 [00:00<?, ?it/s]\n"
     ]
    },
    {
     "name": "stdout",
     "output_type": "stream",
     "text": [
      "Preprocess text\n"
     ]
    },
    {
     "name": "stderr",
     "output_type": "stream",
     "text": [
      "Extracting and cleaning data: 100%|\u001b[33m██████████\u001b[0m| 429/429 [00:00<00:00, 6042.83it/s]\n"
     ]
    },
    {
     "name": "stdout",
     "output_type": "stream",
     "text": [
      "Starting ocr correction - loading correction rules\n",
      "Ocr correction\n"
     ]
    },
    {
     "name": "stderr",
     "output_type": "stream",
     "text": [
      "Applying OCR post-correction: 100%|\u001b[33m██████████\u001b[0m| 429/429 [00:00<?, ?it/s]"
     ]
    },
    {
     "name": "stdout",
     "output_type": "stream",
     "text": [
      "Saving data\n",
      "Save ocr corrections\n",
      "Script done.\n",
      "Time taken to run the script: 15.038571 seconds\n",
      "Start time\n",
      "Start processing \"1860 A Residence in Jutland the Danish Isles and Copenhagen vol II\".\n",
      "Wait a few seconds.\n"
     ]
    },
    {
     "name": "stderr",
     "output_type": "stream",
     "text": [
      "\n",
      "Loading PDF pages: 100%|\u001b[33m██████████\u001b[0m| 407/407 [00:00<?, ?it/s]\n"
     ]
    },
    {
     "name": "stdout",
     "output_type": "stream",
     "text": [
      "Preprocess text\n"
     ]
    },
    {
     "name": "stderr",
     "output_type": "stream",
     "text": [
      "Extracting and cleaning data: 100%|\u001b[33m██████████\u001b[0m| 407/407 [00:00<00:00, 5567.02it/s]\n"
     ]
    },
    {
     "name": "stdout",
     "output_type": "stream",
     "text": [
      "Starting ocr correction - loading correction rules\n",
      "Ocr correction\n"
     ]
    },
    {
     "name": "stderr",
     "output_type": "stream",
     "text": [
      "Applying OCR post-correction: 100%|\u001b[33m██████████\u001b[0m| 407/407 [00:00<?, ?it/s]"
     ]
    },
    {
     "name": "stdout",
     "output_type": "stream",
     "text": [
      "Saving data\n",
      "Save ocr corrections\n",
      "Script done.\n",
      "Time taken to run the script: 15.001379 seconds\n",
      "Start time\n",
      "Start processing \"1861 Seasons with the sea horses\".\n",
      "Wait a few seconds.\n"
     ]
    },
    {
     "name": "stderr",
     "output_type": "stream",
     "text": [
      "\n",
      "Loading PDF pages: 100%|\u001b[33m██████████\u001b[0m| 306/306 [00:00<?, ?it/s]\n"
     ]
    },
    {
     "name": "stdout",
     "output_type": "stream",
     "text": [
      "Preprocess text\n"
     ]
    },
    {
     "name": "stderr",
     "output_type": "stream",
     "text": [
      "Extracting and cleaning data: 100%|\u001b[33m██████████\u001b[0m| 306/306 [00:00<00:00, 15908.19it/s]\n"
     ]
    },
    {
     "name": "stdout",
     "output_type": "stream",
     "text": [
      "Starting ocr correction - loading correction rules\n",
      "Ocr correction\n"
     ]
    },
    {
     "name": "stderr",
     "output_type": "stream",
     "text": [
      "Applying OCR post-correction: 100%|\u001b[33m██████████\u001b[0m| 306/306 [00:00<?, ?it/s]\n"
     ]
    },
    {
     "name": "stdout",
     "output_type": "stream",
     "text": [
      "Saving data\n",
      "Save ocr corrections\n",
      "Script done.\n",
      "Time taken to run the script: 4.725705 seconds\n",
      "Start time\n",
      "Start processing \"1862 A tour in Northern Europe\".\n",
      "Wait a few seconds.\n"
     ]
    },
    {
     "name": "stderr",
     "output_type": "stream",
     "text": [
      "Loading PDF pages: 100%|\u001b[33m██████████\u001b[0m| 415/415 [00:00<?, ?it/s]\n"
     ]
    },
    {
     "name": "stdout",
     "output_type": "stream",
     "text": [
      "Preprocess text\n"
     ]
    },
    {
     "name": "stderr",
     "output_type": "stream",
     "text": [
      "Extracting and cleaning data: 100%|\u001b[33m██████████\u001b[0m| 415/415 [00:00<00:00, 6013.72it/s]\n"
     ]
    },
    {
     "name": "stdout",
     "output_type": "stream",
     "text": [
      "Starting ocr correction - loading correction rules\n",
      "Ocr correction\n"
     ]
    },
    {
     "name": "stderr",
     "output_type": "stream",
     "text": [
      "Applying OCR post-correction: 100%|\u001b[33m██████████\u001b[0m| 415/415 [00:00<00:00, 26541.78it/s]"
     ]
    },
    {
     "name": "stdout",
     "output_type": "stream",
     "text": [
      "Saving data\n",
      "Save ocr corrections\n",
      "Script done.\n",
      "Time taken to run the script: 7.314599 seconds\n",
      "Start time\n",
      "Start processing \"1871 A handbook for travellers in Denmark Norway and Sweden\".\n",
      "Wait a few seconds.\n"
     ]
    },
    {
     "name": "stderr",
     "output_type": "stream",
     "text": [
      "\n",
      "Loading PDF pages: 100%|\u001b[33m██████████\u001b[0m| 572/572 [00:00<?, ?it/s]\n"
     ]
    },
    {
     "name": "stdout",
     "output_type": "stream",
     "text": [
      "Preprocess text\n"
     ]
    },
    {
     "name": "stderr",
     "output_type": "stream",
     "text": [
      "Extracting and cleaning data: 100%|\u001b[33m██████████\u001b[0m| 572/572 [00:00<00:00, 6430.02it/s]\n"
     ]
    },
    {
     "name": "stdout",
     "output_type": "stream",
     "text": [
      "Starting ocr correction - loading correction rules\n",
      "Ocr correction\n"
     ]
    },
    {
     "name": "stderr",
     "output_type": "stream",
     "text": [
      "Applying OCR post-correction: 100%|\u001b[33m██████████\u001b[0m| 572/572 [00:00<?, ?it/s]"
     ]
    },
    {
     "name": "stdout",
     "output_type": "stream",
     "text": [
      "Saving data\n",
      "Save ocr corrections\n",
      "Script done.\n",
      "Time taken to run the script: 27.017711 seconds\n",
      "Start time\n",
      "Start processing \"1872 The Rob Roy on the Baltic\".\n",
      "Wait a few seconds.\n"
     ]
    },
    {
     "name": "stderr",
     "output_type": "stream",
     "text": [
      "\n",
      "Loading PDF pages: 100%|\u001b[33m██████████\u001b[0m| 302/302 [00:00<?, ?it/s]\n"
     ]
    },
    {
     "name": "stdout",
     "output_type": "stream",
     "text": [
      "Preprocess text\n"
     ]
    },
    {
     "name": "stderr",
     "output_type": "stream",
     "text": [
      "Extracting and cleaning data: 100%|\u001b[33m██████████\u001b[0m| 302/302 [00:00<00:00, 14998.46it/s]\n"
     ]
    },
    {
     "name": "stdout",
     "output_type": "stream",
     "text": [
      "Starting ocr correction - loading correction rules\n",
      "Ocr correction\n"
     ]
    },
    {
     "name": "stderr",
     "output_type": "stream",
     "text": [
      "Applying OCR post-correction: 100%|\u001b[33m██████████\u001b[0m| 302/302 [00:00<?, ?it/s]"
     ]
    },
    {
     "name": "stdout",
     "output_type": "stream",
     "text": [
      "Saving data\n",
      "Save ocr corrections\n",
      "Script done.\n",
      "Time taken to run the script: 6.779924 seconds\n",
      "Start time\n",
      "Start processing \"1875 An American in Iceland\".\n",
      "Wait a few seconds.\n"
     ]
    },
    {
     "name": "stderr",
     "output_type": "stream",
     "text": [
      "\n",
      "Loading PDF pages: 100%|\u001b[33m██████████\u001b[0m| 349/349 [00:00<?, ?it/s]\n"
     ]
    },
    {
     "name": "stdout",
     "output_type": "stream",
     "text": [
      "Preprocess text\n"
     ]
    },
    {
     "name": "stderr",
     "output_type": "stream",
     "text": [
      "Extracting and cleaning data: 100%|\u001b[33m██████████\u001b[0m| 349/349 [00:00<00:00, 7197.00it/s]\n"
     ]
    },
    {
     "name": "stdout",
     "output_type": "stream",
     "text": [
      "Starting ocr correction - loading correction rules\n",
      "Ocr correction\n"
     ]
    },
    {
     "name": "stderr",
     "output_type": "stream",
     "text": [
      "Applying OCR post-correction: 100%|\u001b[33m██████████\u001b[0m| 349/349 [00:00<?, ?it/s]"
     ]
    },
    {
     "name": "stdout",
     "output_type": "stream",
     "text": [
      "Saving data\n",
      "Save ocr corrections\n",
      "Script done.\n",
      "Time taken to run the script: 7.989728 seconds\n",
      "Start time\n",
      "Start processing \"1877 Scenes of travel in Norway\".\n",
      "Wait a few seconds.\n"
     ]
    },
    {
     "name": "stderr",
     "output_type": "stream",
     "text": [
      "\n",
      "Loading PDF pages: 100%|\u001b[33m██████████\u001b[0m| 271/271 [00:00<?, ?it/s]\n"
     ]
    },
    {
     "name": "stdout",
     "output_type": "stream",
     "text": [
      "Preprocess text\n"
     ]
    },
    {
     "name": "stderr",
     "output_type": "stream",
     "text": [
      "Extracting and cleaning data: 100%|\u001b[33m██████████\u001b[0m| 271/271 [00:00<00:00, 8672.66it/s]\n"
     ]
    },
    {
     "name": "stdout",
     "output_type": "stream",
     "text": [
      "Starting ocr correction - loading correction rules\n",
      "Ocr correction\n"
     ]
    },
    {
     "name": "stderr",
     "output_type": "stream",
     "text": [
      "Applying OCR post-correction: 100%|\u001b[33m██████████\u001b[0m| 271/271 [00:00<?, ?it/s]"
     ]
    },
    {
     "name": "stdout",
     "output_type": "stream",
     "text": [
      "Saving data\n",
      "Save ocr corrections\n",
      "Script done.\n",
      "Time taken to run the script: 4.338245 seconds\n",
      "Start time\n",
      "Start processing \"1879 A holiday in Iceland\".\n",
      "Wait a few seconds.\n"
     ]
    },
    {
     "name": "stderr",
     "output_type": "stream",
     "text": [
      "\n",
      "Loading PDF pages: 100%|\u001b[33m██████████\u001b[0m| 123/123 [00:00<?, ?it/s]\n"
     ]
    },
    {
     "name": "stdout",
     "output_type": "stream",
     "text": [
      "Preprocess text\n"
     ]
    },
    {
     "name": "stderr",
     "output_type": "stream",
     "text": [
      "Extracting and cleaning data: 100%|\u001b[33m██████████\u001b[0m| 123/123 [00:00<00:00, 6769.80it/s]\n"
     ]
    },
    {
     "name": "stdout",
     "output_type": "stream",
     "text": [
      "Starting ocr correction - loading correction rules\n",
      "Ocr correction\n"
     ]
    },
    {
     "name": "stderr",
     "output_type": "stream",
     "text": [
      "Applying OCR post-correction: 100%|\u001b[33m██████████\u001b[0m| 123/123 [00:00<?, ?it/s]\n"
     ]
    },
    {
     "name": "stdout",
     "output_type": "stream",
     "text": [
      "Saving data\n",
      "Save ocr corrections\n",
      "Script done.\n",
      "Time taken to run the script: 2.446751 seconds\n",
      "Start time\n",
      "Start processing \"1880 Five weeks in Iceland\".\n",
      "Wait a few seconds.\n"
     ]
    },
    {
     "name": "stderr",
     "output_type": "stream",
     "text": [
      "Loading PDF pages: 100%|\u001b[33m██████████\u001b[0m| 199/199 [00:00<?, ?it/s]\n"
     ]
    },
    {
     "name": "stdout",
     "output_type": "stream",
     "text": [
      "Preprocess text\n"
     ]
    },
    {
     "name": "stderr",
     "output_type": "stream",
     "text": [
      "Extracting and cleaning data: 100%|\u001b[33m██████████\u001b[0m| 199/199 [00:00<00:00, 10969.75it/s]\n"
     ]
    },
    {
     "name": "stdout",
     "output_type": "stream",
     "text": [
      "Starting ocr correction - loading correction rules\n",
      "Ocr correction\n"
     ]
    },
    {
     "name": "stderr",
     "output_type": "stream",
     "text": [
      "Applying OCR post-correction: 100%|\u001b[33m██████████\u001b[0m| 199/199 [00:00<?, ?it/s]"
     ]
    },
    {
     "name": "stdout",
     "output_type": "stream",
     "text": [
      "Saving data\n",
      "Save ocr corrections\n",
      "Script done.\n",
      "Time taken to run the script: 3.404396 seconds\n",
      "Start time\n",
      "Start processing \"1885 In the Northmans land\".\n",
      "Wait a few seconds.\n"
     ]
    },
    {
     "name": "stderr",
     "output_type": "stream",
     "text": [
      "\n",
      "Loading PDF pages: 100%|\u001b[33m██████████\u001b[0m| 376/376 [00:00<?, ?it/s]\n"
     ]
    },
    {
     "name": "stdout",
     "output_type": "stream",
     "text": [
      "Preprocess text\n"
     ]
    },
    {
     "name": "stderr",
     "output_type": "stream",
     "text": [
      "Extracting and cleaning data: 100%|\u001b[33m██████████\u001b[0m| 376/376 [00:00<00:00, 5448.33it/s]\n"
     ]
    },
    {
     "name": "stdout",
     "output_type": "stream",
     "text": [
      "Starting ocr correction - loading correction rules\n",
      "Ocr correction\n"
     ]
    },
    {
     "name": "stderr",
     "output_type": "stream",
     "text": [
      "Applying OCR post-correction: 100%|\u001b[33m██████████\u001b[0m| 376/376 [00:00<?, ?it/s]"
     ]
    },
    {
     "name": "stdout",
     "output_type": "stream",
     "text": [
      "Saving data\n",
      "Save ocr corrections\n",
      "Script done.\n",
      "Time taken to run the script: 8.555696 seconds\n",
      "Start time\n",
      "Start processing \"1886 The midnight sun the tsar and the nihilist\".\n",
      "Wait a few seconds.\n"
     ]
    },
    {
     "name": "stderr",
     "output_type": "stream",
     "text": [
      "\n",
      "Loading PDF pages: 100%|\u001b[33m██████████\u001b[0m| 388/388 [00:00<?, ?it/s]\n"
     ]
    },
    {
     "name": "stdout",
     "output_type": "stream",
     "text": [
      "Preprocess text\n"
     ]
    },
    {
     "name": "stderr",
     "output_type": "stream",
     "text": [
      "Extracting and cleaning data: 100%|\u001b[33m██████████\u001b[0m| 388/388 [00:00<00:00, 9588.28it/s]\n"
     ]
    },
    {
     "name": "stdout",
     "output_type": "stream",
     "text": [
      "Starting ocr correction - loading correction rules\n",
      "Ocr correction\n"
     ]
    },
    {
     "name": "stderr",
     "output_type": "stream",
     "text": [
      "Applying OCR post-correction: 100%|\u001b[33m██████████\u001b[0m| 388/388 [00:00<?, ?it/s]\n",
      "Skipping broken line b'143f   143f   10300': Odd-length string\n",
      "Skipping broken line b'1440   1440   10301': Odd-length string\n",
      "Skipping broken line b'1441   1441   10302': Odd-length string\n",
      "Skipping broken line b'1442   1442   10303': Odd-length string\n",
      "Skipping broken line b'1443   1443   10304': Odd-length string\n",
      "Skipping broken line b'1444   1444   10305': Odd-length string\n",
      "Skipping broken line b'1445   1445   10306': Odd-length string\n",
      "Skipping broken line b'1446   1446   10307': Odd-length string\n",
      "Skipping broken line b'1447   1447   10308': Odd-length string\n",
      "Skipping broken line b'1448   1448   10309': Odd-length string\n",
      "Skipping broken line b'1449   1449   1030a': Odd-length string\n",
      "Skipping broken line b'144a   144a   1030b': Odd-length string\n",
      "Skipping broken line b'144b   144b   1030c': Odd-length string\n",
      "Skipping broken line b'144c   144c   1030d': Odd-length string\n",
      "Skipping broken line b'144d   144d   1030e': Odd-length string\n",
      "Skipping broken line b'144e   144e   1030f': Odd-length string\n",
      "Skipping broken line b'144f   144f   10310': Odd-length string\n",
      "Skipping broken line b'1450   1450   10311': Odd-length string\n",
      "Skipping broken line b'1451   1451   10312': Odd-length string\n",
      "Skipping broken line b'1452   1452   10313': Odd-length string\n",
      "Skipping broken line b'1453   1453   10314': Odd-length string\n",
      "Skipping broken line b'1454   1454   10315': Odd-length string\n",
      "Skipping broken line b'1455   1455   10316': Odd-length string\n",
      "Skipping broken line b'1456   1456   10317': Odd-length string\n",
      "Skipping broken line b'1457   1457   10318': Odd-length string\n",
      "Skipping broken line b'1458   1458   10319': Odd-length string\n",
      "Skipping broken line b'1459   1459   1031a': Odd-length string\n",
      "Skipping broken line b'145a   145a   1031b': Odd-length string\n",
      "Skipping broken line b'145b   145b   1031c': Odd-length string\n",
      "Skipping broken line b'145c   145c   1031d': Odd-length string\n",
      "Skipping broken line b'145d   145d   1031e': Odd-length string\n",
      "Skipping broken line b'145e   145e   10320': Odd-length string\n",
      "Skipping broken line b'145f   145f   10321': Odd-length string\n",
      "Skipping broken line b'1460   1460   10322': Odd-length string\n",
      "Skipping broken line b'1461   1461   10323': Odd-length string\n",
      "Skipping broken line b'1462   1462   1d300': Odd-length string\n",
      "Skipping broken line b'1463   1463   1d301': Odd-length string\n",
      "Skipping broken line b'1464   1464   1d302': Odd-length string\n",
      "Skipping broken line b'1465   1465   1d303': Odd-length string\n",
      "Skipping broken line b'1466   1466   1d304': Odd-length string\n",
      "Skipping broken line b'1467   1467   1d305': Odd-length string\n",
      "Skipping broken line b'1468   1468   1d306': Odd-length string\n",
      "Skipping broken line b'1469   1469   1d307': Odd-length string\n",
      "Skipping broken line b'146a   146a   1d308': Odd-length string\n",
      "Skipping broken line b'146b   146b   1d309': Odd-length string\n",
      "Skipping broken line b'146c   146c   1d30a': Odd-length string\n",
      "Skipping broken line b'146d   146d   1d30b': Odd-length string\n",
      "Skipping broken line b'146e   146e   1d30c': Odd-length string\n",
      "Skipping broken line b'146f   146f   1d30d': Odd-length string\n",
      "Skipping broken line b'1470   1470   1d30e': Odd-length string\n",
      "Skipping broken line b'1471   1471   1d30f': Odd-length string\n",
      "Skipping broken line b'1472   1472   1d310': Odd-length string\n",
      "Skipping broken line b'1473   1473   1d311': Odd-length string\n",
      "Skipping broken line b'1474   1474   1d312': Odd-length string\n",
      "Skipping broken line b'1475   1475   1d313': Odd-length string\n",
      "Skipping broken line b'1476   1476   1d314': Odd-length string\n",
      "Skipping broken line b'1477   1477   1d315': Odd-length string\n",
      "Skipping broken line b'1478   1478   1d316': Odd-length string\n",
      "Skipping broken line b'1479   1479   1d317': Odd-length string\n",
      "Skipping broken line b'147a   147a   1d318': Odd-length string\n",
      "Skipping broken line b'147b   147b   1d319': Odd-length string\n",
      "Skipping broken line b'147c   147c   1d31a': Odd-length string\n",
      "Skipping broken line b'147d   147d   1d31b': Odd-length string\n",
      "Skipping broken line b'147e   147e   1d31c': Odd-length string\n",
      "Skipping broken line b'147f   147f   1d31d': Odd-length string\n",
      "Skipping broken line b'1480   1480   1d31e': Odd-length string\n",
      "Skipping broken line b'1481   1481   1d31f': Odd-length string\n",
      "Skipping broken line b'1482   1482   1d320': Odd-length string\n"
     ]
    },
    {
     "name": "stdout",
     "output_type": "stream",
     "text": [
      "Saving data\n",
      "Save ocr corrections\n",
      "Script done.\n",
      "Time taken to run the script: 6.717661 seconds\n",
      "Start time\n",
      "Start processing \"1892 The boy travellers in nothern Europe\".\n",
      "Wait a few seconds.\n"
     ]
    },
    {
     "name": "stderr",
     "output_type": "stream",
     "text": [
      "Skipping broken line b'1483   1483   1d321': Odd-length string\n",
      "Skipping broken line b'1484   1484   1d322': Odd-length string\n",
      "Skipping broken line b'1485   1485   1d323': Odd-length string\n",
      "Skipping broken line b'1486   1486   1d324': Odd-length string\n",
      "Skipping broken line b'1487   1487   1d325': Odd-length string\n",
      "Skipping broken line b'1488   1488   1d326': Odd-length string\n",
      "Skipping broken line b'1489   1489   1d327': Odd-length string\n",
      "Skipping broken line b'148a   148a   1d328': Odd-length string\n",
      "Skipping broken line b'148b   148b   1d329': Odd-length string\n",
      "Skipping broken line b'148c   148c   1d32a': Odd-length string\n",
      "Skipping broken line b'148d   148d   1d32b': Odd-length string\n",
      "Skipping broken line b'148e   148e   1d32c': Odd-length string\n",
      "Skipping broken line b'148f   148f   1d32d': Odd-length string\n",
      "Skipping broken line b'1490   1490   1d32e': Odd-length string\n",
      "Skipping broken line b'1491   1491   1d32f': Odd-length string\n",
      "Skipping broken line b'1492   1492   1d330': Odd-length string\n",
      "Skipping broken line b'1493   1493   1d331': Odd-length string\n",
      "Skipping broken line b'1494   1494   1d332': Odd-length string\n",
      "Skipping broken line b'1495   1495   1d333': Odd-length string\n",
      "Skipping broken line b'1496   1496   1d334': Odd-length string\n",
      "Skipping broken line b'1497   1497   1d335': Odd-length string\n",
      "Skipping broken line b'1498   1498   1d336': Odd-length string\n",
      "Skipping broken line b'1499   1499   1d337': Odd-length string\n",
      "Skipping broken line b'149a   149a   1d338': Odd-length string\n",
      "Skipping broken line b'149b   149b   1d339': Odd-length string\n",
      "Skipping broken line b'149c   149c   1d33a': Odd-length string\n",
      "Skipping broken line b'149d   149d   1d33b': Odd-length string\n",
      "Skipping broken line b'149e   149e   1d33c': Odd-length string\n",
      "Skipping broken line b'149f   149f   1d33d': Odd-length string\n",
      "Skipping broken line b'14a0   14a0   1d33e': Odd-length string\n",
      "Skipping broken line b'14a1   14a1   1d33f': Odd-length string\n",
      "Skipping broken line b'14a2   14a2   1d340': Odd-length string\n",
      "Skipping broken line b'14a3   14a3   1d341': Odd-length string\n",
      "Skipping broken line b'14a4   14a4   1d342': Odd-length string\n",
      "Skipping broken line b'14a5   14a5   1d343': Odd-length string\n",
      "Skipping broken line b'14a6   14a6   1d344': Odd-length string\n",
      "Skipping broken line b'14a7   14a7   1d345': Odd-length string\n",
      "Skipping broken line b'14a8   14a8   1d346': Odd-length string\n",
      "Skipping broken line b'14a9   14a9   1d347': Odd-length string\n",
      "Skipping broken line b'14aa   14aa   1d348': Odd-length string\n",
      "Skipping broken line b'14ab   14ab   1d349': Odd-length string\n",
      "Skipping broken line b'14ac   14ac   1d34a': Odd-length string\n",
      "Skipping broken line b'14ad   14ad   1d34b': Odd-length string\n",
      "Skipping broken line b'14ae   14ae   1d34c': Odd-length string\n",
      "Skipping broken line b'14af   14af   1d34d': Odd-length string\n",
      "Skipping broken line b'14b0   14b0   1d34e': Odd-length string\n",
      "Skipping broken line b'14b1   14b1   1d34f': Odd-length string\n",
      "Skipping broken line b'14b2   14b2   1d350': Odd-length string\n",
      "Skipping broken line b'14b3   14b3   1d351': Odd-length string\n",
      "Skipping broken line b'14b4   14b4   1d352': Odd-length string\n",
      "Skipping broken line b'14b5   14b5   1d353': Odd-length string\n",
      "Skipping broken line b'14b6   14b6   1d354': Odd-length string\n",
      "Skipping broken line b'14b7   14b7   1d355': Odd-length string\n",
      "Skipping broken line b'14b8   14b8   1d356': Odd-length string\n",
      "Skipping broken line b'14b9   14b9   1d538': Odd-length string\n",
      "Skipping broken line b'14ba   14ba   1d539': Odd-length string\n",
      "Skipping broken line b'14bb   14bb   1d53b': Odd-length string\n",
      "Skipping broken line b'14bc   14bc   1d53c': Odd-length string\n",
      "Skipping broken line b'14bd   14bd   1d53d': Odd-length string\n",
      "Skipping broken line b'14be   14be   1d53e': Odd-length string\n",
      "Skipping broken line b'14bf   14bf   1d540': Odd-length string\n",
      "Skipping broken line b'14c0   14c0   1d541': Odd-length string\n",
      "Skipping broken line b'14c1   14c1   1d542': Odd-length string\n",
      "Skipping broken line b'14c2   14c2   1d543': Odd-length string\n",
      "Skipping broken line b'14c3   14c3   1d544': Odd-length string\n",
      "Skipping broken line b'14c4   14c4   1d546': Odd-length string\n",
      "Skipping broken line b'14c5   14c5   1d54a': Odd-length string\n",
      "Skipping broken line b'14c6   14c6   1d54b': Odd-length string\n",
      "Skipping broken line b'14c7   14c7   1d54c': Odd-length string\n",
      "Skipping broken line b'14c8   14c8   1d54d': Odd-length string\n",
      "Skipping broken line b'14c9   14c9   1d54e': Odd-length string\n",
      "Skipping broken line b'14ca   14ca   1d54f': Odd-length string\n",
      "Skipping broken line b'14cb   14cb   1d550': Odd-length string\n",
      "Skipping broken line b'14cc   14cc   1d552': Odd-length string\n",
      "Skipping broken line b'14cd   14cd   1d553': Odd-length string\n",
      "Skipping broken line b'14ce   14ce   1d554': Odd-length string\n",
      "Skipping broken line b'14cf   14cf   1d555': Odd-length string\n",
      "Skipping broken line b'14d0   14d0   1d556': Odd-length string\n",
      "Skipping broken line b'14d1   14d1   1d557': Odd-length string\n",
      "Skipping broken line b'14d2   14d2   1d558': Odd-length string\n",
      "Skipping broken line b'14d3   14d3   1d559': Odd-length string\n",
      "Skipping broken line b'14d4   14d4   1d55a': Odd-length string\n",
      "Skipping broken line b'14d5   14d5   1d55b': Odd-length string\n",
      "Skipping broken line b'14d6   14d6   1d55c': Odd-length string\n",
      "Skipping broken line b'14d7   14d7   1d55d': Odd-length string\n",
      "Skipping broken line b'14d8   14d8   1d55e': Odd-length string\n",
      "Skipping broken line b'14d9   14d9   1d55f': Odd-length string\n",
      "Skipping broken line b'14da   14da   1d560': Odd-length string\n",
      "Skipping broken line b'14db   14db   1d561': Odd-length string\n",
      "Skipping broken line b'14dc   14dc   1d562': Odd-length string\n",
      "Skipping broken line b'14dd   14dd   1d563': Odd-length string\n",
      "Skipping broken line b'14de   14de   1d564': Odd-length string\n",
      "Skipping broken line b'14df   14df   1d565': Odd-length string\n",
      "Skipping broken line b'14e0   14e0   1d566': Odd-length string\n",
      "Skipping broken line b'14e1   14e1   1d567': Odd-length string\n",
      "Skipping broken line b'14e2   14e2   1d568': Odd-length string\n",
      "Skipping broken line b'14e3   14e3   1d569': Odd-length string\n",
      "Skipping broken line b'14e4   14e4   1d56a': Odd-length string\n",
      "Skipping broken line b'14e5   14e5   1d56b': Odd-length string\n",
      "Skipping broken line b'14e6   14e6   1d5a0': Odd-length string\n",
      "Skipping broken line b'14e7   14e7   1d5a1': Odd-length string\n",
      "Skipping broken line b'14e8   14e8   1d5a2': Odd-length string\n",
      "Skipping broken line b'14e9   14e9   1d5a3': Odd-length string\n",
      "Skipping broken line b'14ea   14ea   1d5a4': Odd-length string\n",
      "Skipping broken line b'14eb   14eb   1d5a5': Odd-length string\n",
      "Skipping broken line b'14ec   14ec   1d5a6': Odd-length string\n",
      "Skipping broken line b'14ed   14ed   1d5a7': Odd-length string\n",
      "Skipping broken line b'14ee   14ee   1d5a8': Odd-length string\n",
      "Skipping broken line b'14ef   14ef   1d5a9': Odd-length string\n",
      "Skipping broken line b'14f0   14f0   1d5aa': Odd-length string\n",
      "Skipping broken line b'14f1   14f1   1d5ab': Odd-length string\n",
      "Skipping broken line b'14f2   14f2   1d5ac': Odd-length string\n",
      "Skipping broken line b'14f3   14f3   1d5ad': Odd-length string\n",
      "Skipping broken line b'14f4   14f4   1d5ae': Odd-length string\n",
      "Skipping broken line b'14f5   14f5   1d5af': Odd-length string\n",
      "Skipping broken line b'14f6   14f6   1d5b0': Odd-length string\n",
      "Skipping broken line b'14f7   14f7   1d5b1': Odd-length string\n",
      "Skipping broken line b'14f8   14f8   1d5b2': Odd-length string\n",
      "Skipping broken line b'14f9   14f9   1d5b3': Odd-length string\n",
      "Skipping broken line b'14fa   14fa   1d5b4': Odd-length string\n",
      "Skipping broken line b'14fb   14fb   1d5b5': Odd-length string\n",
      "Skipping broken line b'14fc   14fc   1d5b6': Odd-length string\n",
      "Skipping broken line b'14fd   14fd   1d5b7': Odd-length string\n",
      "Skipping broken line b'14fe   14fe   1d5b8': Odd-length string\n",
      "Skipping broken line b'14ff   14ff   1d5b9': Odd-length string\n",
      "Skipping broken line b'1500   1500   1d5ba': Odd-length string\n",
      "Skipping broken line b'1501   1501   1d5bb': Odd-length string\n",
      "Skipping broken line b'1502   1502   1d5bc': Odd-length string\n",
      "Skipping broken line b'1503   1503   1d5bd': Odd-length string\n",
      "Skipping broken line b'1504   1504   1d5be': Odd-length string\n",
      "Skipping broken line b'1505   1505   1d5bf': Odd-length string\n",
      "Skipping broken line b'1506   1506   1d5c0': Odd-length string\n",
      "Skipping broken line b'1507   1507   1d5c1': Odd-length string\n",
      "Skipping broken line b'1508   1508   1d5c2': Odd-length string\n",
      "Skipping broken line b'1509   1509   1d5c3': Odd-length string\n",
      "Skipping broken line b'150a   150a   1d5c4': Odd-length string\n",
      "Skipping broken line b'150b   150b   1d5c5': Odd-length string\n",
      "Skipping broken line b'150c   150c   1d5c6': Odd-length string\n",
      "Skipping broken line b'150d   150d   1d5c7': Odd-length string\n",
      "Skipping broken line b'150e   150e   1d5c8': Odd-length string\n",
      "Skipping broken line b'150f   150f   1d5c9': Odd-length string\n",
      "Skipping broken line b'1510   1510   1d5ca': Odd-length string\n",
      "Skipping broken line b'1511   1511   1d5cb': Odd-length string\n",
      "Skipping broken line b'1512   1512   1d5cc': Odd-length string\n",
      "Skipping broken line b'1513   1513   1d5cd': Odd-length string\n",
      "Skipping broken line b'1514   1514   1d5ce': Odd-length string\n",
      "Skipping broken line b'1515   1515   1d5cf': Odd-length string\n",
      "Skipping broken line b'1516   1516   1d5d0': Odd-length string\n",
      "Skipping broken line b'1517   1517   1d5d1': Odd-length string\n",
      "Skipping broken line b'1518   1518   1d5d2': Odd-length string\n",
      "Skipping broken line b'1519   1519   1d5d3': Odd-length string\n",
      "Skipping broken line b'151a   151a   1d7d8': Odd-length string\n",
      "Skipping broken line b'151b   151b   1d7d9': Odd-length string\n",
      "Skipping broken line b'151c   151c   1d7da': Odd-length string\n",
      "Skipping broken line b'151d   151d   1d7db': Odd-length string\n",
      "Skipping broken line b'151e   151e   1d7dc': Odd-length string\n",
      "Skipping broken line b'151f   151f   1d7dd': Odd-length string\n",
      "Skipping broken line b'1520   1520   1d7de': Odd-length string\n",
      "Skipping broken line b'1521   1521   1d7df': Odd-length string\n",
      "Skipping broken line b'1522   1522   1d7e0': Odd-length string\n",
      "Skipping broken line b'1523   1523   1d7e1': Odd-length string\n",
      "Skipping broken line b'1524   1524   1d7e2': Odd-length string\n",
      "Skipping broken line b'1525   1525   1d7e3': Odd-length string\n",
      "Skipping broken line b'1526   1526   1d7e4': Odd-length string\n",
      "Skipping broken line b'1527   1527   1d7e5': Odd-length string\n",
      "Skipping broken line b'1528   1528   1d7e6': Odd-length string\n",
      "Skipping broken line b'1529   1529   1d7e7': Odd-length string\n",
      "Skipping broken line b'152a   152a   1d7e8': Odd-length string\n",
      "Skipping broken line b'152b   152b   1d7e9': Odd-length string\n",
      "Skipping broken line b'152c   152c   1d7ea': Odd-length string\n",
      "Skipping broken line b'152d   152d   1d7eb': Odd-length string\n",
      "Skipping broken line b'152e   152e   1f030': Odd-length string\n",
      "Skipping broken line b'152f   152f   1f031': Odd-length string\n",
      "Skipping broken line b'1530   1530   1f032': Odd-length string\n",
      "Skipping broken line b'1531   1531   1f033': Odd-length string\n",
      "Skipping broken line b'1532   1532   1f034': Odd-length string\n",
      "Skipping broken line b'1533   1533   1f035': Odd-length string\n",
      "Skipping broken line b'1534   1534   1f036': Odd-length string\n",
      "Skipping broken line b'1535   1535   1f037': Odd-length string\n",
      "Skipping broken line b'1536   1536   1f038': Odd-length string\n",
      "Skipping broken line b'1537   1537   1f039': Odd-length string\n",
      "Skipping broken line b'1538   1538   1f03a': Odd-length string\n",
      "Skipping broken line b'1539   1539   1f03b': Odd-length string\n",
      "Skipping broken line b'153a   153a   1f03c': Odd-length string\n",
      "Skipping broken line b'153b   153b   1f03d': Odd-length string\n",
      "Skipping broken line b'153c   153c   1f03e': Odd-length string\n",
      "Skipping broken line b'153d   153d   1f03f': Odd-length string\n",
      "Skipping broken line b'153e   153e   1f040': Odd-length string\n",
      "Skipping broken line b'153f   153f   1f041': Odd-length string\n",
      "Skipping broken line b'1540   1540   1f042': Odd-length string\n",
      "Skipping broken line b'1541   1541   1f043': Odd-length string\n",
      "Skipping broken line b'1542   1542   1f044': Odd-length string\n",
      "Skipping broken line b'1543   1543   1f045': Odd-length string\n",
      "Skipping broken line b'1544   1544   1f046': Odd-length string\n",
      "Skipping broken line b'1545   1545   1f047': Odd-length string\n",
      "Skipping broken line b'1546   1546   1f048': Odd-length string\n",
      "Skipping broken line b'1547   1547   1f049': Odd-length string\n",
      "Skipping broken line b'1548   1548   1f04a': Odd-length string\n",
      "Skipping broken line b'1549   1549   1f04b': Odd-length string\n",
      "Skipping broken line b'154a   154a   1f04c': Odd-length string\n",
      "Skipping broken line b'154b   154b   1f04d': Odd-length string\n",
      "Skipping broken line b'154c   154c   1f04e': Odd-length string\n",
      "Skipping broken line b'154d   154d   1f04f': Odd-length string\n",
      "Skipping broken line b'154e   154e   1f050': Odd-length string\n",
      "Skipping broken line b'154f   154f   1f051': Odd-length string\n",
      "Skipping broken line b'1550   1550   1f052': Odd-length string\n",
      "Skipping broken line b'1551   1551   1f053': Odd-length string\n",
      "Skipping broken line b'1552   1552   1f054': Odd-length string\n",
      "Skipping broken line b'1553   1553   1f055': Odd-length string\n",
      "Skipping broken line b'1554   1554   1f056': Odd-length string\n",
      "Skipping broken line b'1555   1555   1f057': Odd-length string\n",
      "Skipping broken line b'1556   1556   1f058': Odd-length string\n",
      "Skipping broken line b'1557   1557   1f059': Odd-length string\n",
      "Skipping broken line b'1558   1558   1f05a': Odd-length string\n",
      "Skipping broken line b'1559   1559   1f05b': Odd-length string\n",
      "Skipping broken line b'155a   155a   1f05c': Odd-length string\n",
      "Skipping broken line b'155b   155b   1f05d': Odd-length string\n",
      "Skipping broken line b'155c   155c   1f05e': Odd-length string\n",
      "Skipping broken line b'155d   155d   1f05f': Odd-length string\n",
      "Skipping broken line b'155e   155e   1f060': Odd-length string\n",
      "Skipping broken line b'155f   155f   1f061': Odd-length string\n",
      "Skipping broken line b'1560   1560   1f062': Odd-length string\n",
      "Skipping broken line b'1561   1561   1f063': Odd-length string\n",
      "Skipping broken line b'1562   1562   1f064': Odd-length string\n",
      "Skipping broken line b'1563   1563   1f065': Odd-length string\n",
      "Skipping broken line b'1564   1564   1f066': Odd-length string\n",
      "Skipping broken line b'1565   1565   1f067': Odd-length string\n",
      "Skipping broken line b'1566   1566   1f068': Odd-length string\n",
      "Skipping broken line b'1567   1567   1f069': Odd-length string\n",
      "Skipping broken line b'1568   1568   1f06a': Odd-length string\n",
      "Skipping broken line b'1569   1569   1f06b': Odd-length string\n",
      "Skipping broken line b'156a   156a   1f06c': Odd-length string\n",
      "Skipping broken line b'156b   156b   1f06d': Odd-length string\n",
      "Skipping broken line b'156c   156c   1f06e': Odd-length string\n",
      "Skipping broken line b'156d   156d   1f06f': Odd-length string\n",
      "Skipping broken line b'156e   156e   1f070': Odd-length string\n",
      "Skipping broken line b'156f   156f   1f071': Odd-length string\n",
      "Skipping broken line b'1570   1570   1f072': Odd-length string\n",
      "Skipping broken line b'1571   1571   1f073': Odd-length string\n",
      "Skipping broken line b'1572   1572   1f074': Odd-length string\n",
      "Skipping broken line b'1573   1573   1f075': Odd-length string\n",
      "Skipping broken line b'1574   1574   1f076': Odd-length string\n",
      "Skipping broken line b'1575   1575   1f077': Odd-length string\n",
      "Skipping broken line b'1576   1576   1f078': Odd-length string\n",
      "Skipping broken line b'1577   1577   1f079': Odd-length string\n",
      "Skipping broken line b'1578   1578   1f07a': Odd-length string\n",
      "Skipping broken line b'1579   1579   1f07b': Odd-length string\n",
      "Skipping broken line b'157a   157a   1f07c': Odd-length string\n",
      "Skipping broken line b'157b   157b   1f07d': Odd-length string\n",
      "Skipping broken line b'157c   157c   1f07e': Odd-length string\n",
      "Skipping broken line b'157d   157d   1f07f': Odd-length string\n",
      "Skipping broken line b'157e   157e   1f080': Odd-length string\n",
      "Skipping broken line b'157f   157f   1f081': Odd-length string\n",
      "Skipping broken line b'1580   1580   1f082': Odd-length string\n",
      "Skipping broken line b'1581   1581   1f083': Odd-length string\n",
      "Skipping broken line b'1582   1582   1f084': Odd-length string\n",
      "Skipping broken line b'1583   1583   1f085': Odd-length string\n",
      "Skipping broken line b'1584   1584   1f086': Odd-length string\n",
      "Skipping broken line b'1585   1585   1f087': Odd-length string\n",
      "Skipping broken line b'1586   1586   1f088': Odd-length string\n",
      "Skipping broken line b'1587   1587   1f089': Odd-length string\n",
      "Skipping broken line b'1588   1588   1f08a': Odd-length string\n",
      "Skipping broken line b'1589   1589   1f08b': Odd-length string\n",
      "Skipping broken line b'158a   158a   1f08c': Odd-length string\n",
      "Skipping broken line b'158b   158b   1f08d': Odd-length string\n",
      "Skipping broken line b'158c   158c   1f08e': Odd-length string\n",
      "Skipping broken line b'158d   158d   1f08f': Odd-length string\n",
      "Skipping broken line b'158e   158e   1f090': Odd-length string\n",
      "Skipping broken line b'158f   158f   1f091': Odd-length string\n",
      "Skipping broken line b'1590   1590   1f092': Odd-length string\n",
      "Skipping broken line b'1591   1591   1f093': Odd-length string\n",
      "Skipping broken line b'1592   1592   1f0a0': Odd-length string\n",
      "Skipping broken line b'1593   1593   1f0a1': Odd-length string\n",
      "Skipping broken line b'1594   1594   1f0a2': Odd-length string\n",
      "Skipping broken line b'1595   1595   1f0a3': Odd-length string\n",
      "Skipping broken line b'1596   1596   1f0a4': Odd-length string\n",
      "Skipping broken line b'1597   1597   1f0a5': Odd-length string\n",
      "Skipping broken line b'1598   1598   1f0a6': Odd-length string\n",
      "Skipping broken line b'1599   1599   1f0a7': Odd-length string\n",
      "Skipping broken line b'159a   159a   1f0a8': Odd-length string\n",
      "Skipping broken line b'159b   159b   1f0a9': Odd-length string\n",
      "Skipping broken line b'159c   159c   1f0aa': Odd-length string\n",
      "Skipping broken line b'159d   159d   1f0ab': Odd-length string\n",
      "Skipping broken line b'159e   159e   1f0ac': Odd-length string\n",
      "Skipping broken line b'159f   159f   1f0ad': Odd-length string\n",
      "Skipping broken line b'15a0   15a0   1f0ae': Odd-length string\n",
      "Skipping broken line b'15a1   15a1   1f0b1': Odd-length string\n",
      "Skipping broken line b'15a2   15a2   1f0b2': Odd-length string\n",
      "Skipping broken line b'15a3   15a3   1f0b3': Odd-length string\n",
      "Skipping broken line b'15a4   15a4   1f0b4': Odd-length string\n",
      "Skipping broken line b'15a5   15a5   1f0b5': Odd-length string\n",
      "Skipping broken line b'15a6   15a6   1f0b6': Odd-length string\n",
      "Skipping broken line b'15a7   15a7   1f0b7': Odd-length string\n",
      "Skipping broken line b'15a8   15a8   1f0b8': Odd-length string\n",
      "Skipping broken line b'15a9   15a9   1f0b9': Odd-length string\n",
      "Skipping broken line b'15aa   15aa   1f0ba': Odd-length string\n",
      "Skipping broken line b'15ab   15ab   1f0bb': Odd-length string\n",
      "Skipping broken line b'15ac   15ac   1f0bc': Odd-length string\n",
      "Skipping broken line b'15ad   15ad   1f0bd': Odd-length string\n",
      "Skipping broken line b'15ae   15ae   1f0be': Odd-length string\n",
      "Skipping broken line b'15af   15af   1f0c1': Odd-length string\n",
      "Skipping broken line b'15b0   15b0   1f0c2': Odd-length string\n",
      "Skipping broken line b'15b1   15b1   1f0c3': Odd-length string\n",
      "Skipping broken line b'15b2   15b2   1f0c4': Odd-length string\n",
      "Skipping broken line b'15b3   15b3   1f0c5': Odd-length string\n",
      "Skipping broken line b'15b4   15b4   1f0c6': Odd-length string\n",
      "Skipping broken line b'15b5   15b5   1f0c7': Odd-length string\n",
      "Skipping broken line b'15b6   15b6   1f0c8': Odd-length string\n",
      "Skipping broken line b'15b7   15b7   1f0c9': Odd-length string\n",
      "Skipping broken line b'15b8   15b8   1f0ca': Odd-length string\n",
      "Skipping broken line b'15b9   15b9   1f0cb': Odd-length string\n",
      "Skipping broken line b'15ba   15ba   1f0cc': Odd-length string\n",
      "Skipping broken line b'15bb   15bb   1f0cd': Odd-length string\n",
      "Skipping broken line b'15bc   15bc   1f0ce': Odd-length string\n",
      "Skipping broken line b'15bd   15bd   1f0cf': Odd-length string\n",
      "Skipping broken line b'15be   15be   1f0d1': Odd-length string\n",
      "Skipping broken line b'15bf   15bf   1f0d2': Odd-length string\n",
      "Skipping broken line b'15c0   15c0   1f0d3': Odd-length string\n",
      "Skipping broken line b'15c1   15c1   1f0d4': Odd-length string\n",
      "Skipping broken line b'15c2   15c2   1f0d5': Odd-length string\n",
      "Skipping broken line b'15c3   15c3   1f0d6': Odd-length string\n",
      "Skipping broken line b'15c4   15c4   1f0d7': Odd-length string\n",
      "Skipping broken line b'15c5   15c5   1f0d8': Odd-length string\n",
      "Skipping broken line b'15c6   15c6   1f0d9': Odd-length string\n",
      "Skipping broken line b'15c7   15c7   1f0da': Odd-length string\n",
      "Skipping broken line b'15c8   15c8   1f0db': Odd-length string\n",
      "Skipping broken line b'15c9   15c9   1f0dc': Odd-length string\n",
      "Skipping broken line b'15ca   15ca   1f0dd': Odd-length string\n",
      "Skipping broken line b'15cb   15cb   1f0de': Odd-length string\n",
      "Skipping broken line b'15cc   15cc   1f0df': Odd-length string\n",
      "Skipping broken line b'15cd   15cd   1f42d': Odd-length string\n",
      "Skipping broken line b'15ce   15ce   1f42e': Odd-length string\n",
      "Skipping broken line b'15cf   15cf   1f431': Odd-length string\n",
      "Skipping broken line b'15d0   15d0   1f435': Odd-length string\n",
      "Skipping broken line b'15d1   15d1   1f601': Odd-length string\n",
      "Skipping broken line b'15d2   15d2   1f602': Odd-length string\n",
      "Skipping broken line b'15d3   15d3   1f603': Odd-length string\n",
      "Skipping broken line b'15d4   15d4   1f604': Odd-length string\n",
      "Skipping broken line b'15d5   15d5   1f605': Odd-length string\n",
      "Skipping broken line b'15d6   15d6   1f606': Odd-length string\n",
      "Skipping broken line b'15d7   15d7   1f607': Odd-length string\n",
      "Skipping broken line b'15d8   15d8   1f608': Odd-length string\n",
      "Skipping broken line b'15d9   15d9   1f609': Odd-length string\n",
      "Skipping broken line b'15da   15da   1f60a': Odd-length string\n",
      "Skipping broken line b'15db   15db   1f60b': Odd-length string\n",
      "Skipping broken line b'15dc   15dc   1f60c': Odd-length string\n",
      "Skipping broken line b'15dd   15dd   1f60d': Odd-length string\n",
      "Skipping broken line b'15de   15de   1f60e': Odd-length string\n",
      "Skipping broken line b'15df   15df   1f60f': Odd-length string\n",
      "Skipping broken line b'15e0   15e0   1f610': Odd-length string\n",
      "Skipping broken line b'15e1   15e1   1f612': Odd-length string\n",
      "Skipping broken line b'15e2   15e2   1f613': Odd-length string\n",
      "Skipping broken line b'15e3   15e3   1f614': Odd-length string\n",
      "Skipping broken line b'15e4   15e4   1f616': Odd-length string\n",
      "Skipping broken line b'15e5   15e5   1f618': Odd-length string\n",
      "Skipping broken line b'15e6   15e6   1f61a': Odd-length string\n",
      "Skipping broken line b'15e7   15e7   1f61c': Odd-length string\n",
      "Skipping broken line b'15e8   15e8   1f61d': Odd-length string\n",
      "Skipping broken line b'15e9   15e9   1f61e': Odd-length string\n",
      "Skipping broken line b'15ea   15ea   1f620': Odd-length string\n",
      "Skipping broken line b'15eb   15eb   1f621': Odd-length string\n",
      "Skipping broken line b'15ec   15ec   1f622': Odd-length string\n",
      "Skipping broken line b'15ed   15ed   1f623': Odd-length string\n",
      "Skipping broken line b'15ee   15ee   1f625': Odd-length string\n",
      "Skipping broken line b'15ef   15ef   1f628': Odd-length string\n",
      "Skipping broken line b'15f0   15f0   1f629': Odd-length string\n",
      "Skipping broken line b'15f1   15f1   1f62a': Odd-length string\n",
      "Skipping broken line b'15f2   15f2   1f62b': Odd-length string\n",
      "Skipping broken line b'15f3   15f3   1f62d': Odd-length string\n",
      "Skipping broken line b'15f4   15f4   1f630': Odd-length string\n",
      "Skipping broken line b'15f5   15f5   1f631': Odd-length string\n",
      "Skipping broken line b'15f6   15f6   1f632': Odd-length string\n",
      "Skipping broken line b'15f7   15f7   1f633': Odd-length string\n",
      "Skipping broken line b'15f8   15f8   1f635': Odd-length string\n",
      "Skipping broken line b'15f9   15f9   1f636': Odd-length string\n",
      "Skipping broken line b'15fa   15fa   1f637': Odd-length string\n",
      "Skipping broken line b'15fb   15fb   1f638': Odd-length string\n",
      "Skipping broken line b'15fc   15fc   1f639': Odd-length string\n",
      "Skipping broken line b'15fd   15fd   1f63a': Odd-length string\n",
      "Skipping broken line b'15fe   15fe   1f63b': Odd-length string\n",
      "Skipping broken line b'15ff   15ff   1f63c': Odd-length string\n",
      "Skipping broken line b'1600   1600   1f63d': Odd-length string\n",
      "Skipping broken line b'1601   1601   1f63e': Odd-length string\n",
      "Skipping broken line b'1602   1602   1f63f': Odd-length string\n",
      "Skipping broken line b'1603   1603   1f640': Odd-length string\n",
      "Loading PDF pages: 100%|\u001b[33m██████████\u001b[0m| 1/1 [00:00<?, ?it/s]\n"
     ]
    },
    {
     "name": "stdout",
     "output_type": "stream",
     "text": [
      "Preprocess text\n"
     ]
    },
    {
     "name": "stderr",
     "output_type": "stream",
     "text": [
      "Extracting and cleaning data: 100%|\u001b[33m██████████\u001b[0m| 1/1 [00:00<?, ?it/s]\n"
     ]
    },
    {
     "name": "stdout",
     "output_type": "stream",
     "text": [
      "Starting ocr correction - loading correction rules\n",
      "Ocr correction\n"
     ]
    },
    {
     "name": "stderr",
     "output_type": "stream",
     "text": [
      "Applying OCR post-correction: 100%|\u001b[33m██████████\u001b[0m| 1/1 [00:00<?, ?it/s]"
     ]
    },
    {
     "name": "stdout",
     "output_type": "stream",
     "text": [
      "Saving data\n",
      "Save ocr corrections\n",
      "Script done.\n",
      "Time taken to run the script: 0.753872 seconds\n",
      "Start time\n",
      "Start processing \"1893 Sweden and the Swedes\".\n",
      "Wait a few seconds.\n"
     ]
    },
    {
     "name": "stderr",
     "output_type": "stream",
     "text": [
      "\n",
      "Loading PDF pages: 100%|\u001b[33m██████████\u001b[0m| 766/766 [00:00<?, ?it/s]\n"
     ]
    },
    {
     "name": "stdout",
     "output_type": "stream",
     "text": [
      "Preprocess text\n"
     ]
    },
    {
     "name": "stderr",
     "output_type": "stream",
     "text": [
      "Extracting and cleaning data: 100%|\u001b[33m██████████\u001b[0m| 766/766 [00:00<00:00, 5712.91it/s]\n"
     ]
    },
    {
     "name": "stdout",
     "output_type": "stream",
     "text": [
      "Starting ocr correction - loading correction rules\n",
      "Ocr correction\n"
     ]
    },
    {
     "name": "stderr",
     "output_type": "stream",
     "text": [
      "Applying OCR post-correction: 100%|\u001b[33m██████████\u001b[0m| 766/766 [00:00<?, ?it/s]"
     ]
    },
    {
     "name": "stdout",
     "output_type": "stream",
     "text": [
      "Saving data\n",
      "Save ocr corrections\n",
      "Script done.\n",
      "Time taken to run the script: 124.419775 seconds\n",
      "Start time\n",
      "Start processing \"1895 Angling travels in Norway\".\n",
      "Wait a few seconds.\n"
     ]
    },
    {
     "name": "stderr",
     "output_type": "stream",
     "text": [
      "\n",
      "Loading PDF pages: 100%|\u001b[33m██████████\u001b[0m| 320/320 [00:00<?, ?it/s]\n"
     ]
    },
    {
     "name": "stdout",
     "output_type": "stream",
     "text": [
      "Preprocess text\n"
     ]
    },
    {
     "name": "stderr",
     "output_type": "stream",
     "text": [
      "Extracting and cleaning data: 100%|\u001b[33m██████████\u001b[0m| 320/320 [00:00<00:00, 15807.80it/s]\n"
     ]
    },
    {
     "name": "stdout",
     "output_type": "stream",
     "text": [
      "Starting ocr correction - loading correction rules\n",
      "Ocr correction\n"
     ]
    },
    {
     "name": "stderr",
     "output_type": "stream",
     "text": [
      "Applying OCR post-correction: 100%|\u001b[33m██████████\u001b[0m| 320/320 [00:00<?, ?it/s]"
     ]
    },
    {
     "name": "stdout",
     "output_type": "stream",
     "text": [
      "Saving data\n",
      "Save ocr corrections\n",
      "Script done.\n",
      "Time taken to run the script: 6.467244 seconds\n",
      "Start time\n",
      "Start processing \"1897 Wild Norway\".\n",
      "Wait a few seconds.\n"
     ]
    },
    {
     "name": "stderr",
     "output_type": "stream",
     "text": [
      "\n",
      "Loading PDF pages: 100%|\u001b[33m██████████\u001b[0m| 434/434 [00:00<?, ?it/s]\n"
     ]
    },
    {
     "name": "stdout",
     "output_type": "stream",
     "text": [
      "Preprocess text\n"
     ]
    },
    {
     "name": "stderr",
     "output_type": "stream",
     "text": [
      "Extracting and cleaning data: 100%|\u001b[33m██████████\u001b[0m| 434/434 [00:00<00:00, 5344.51it/s]\n"
     ]
    },
    {
     "name": "stdout",
     "output_type": "stream",
     "text": [
      "Starting ocr correction - loading correction rules\n",
      "Ocr correction\n"
     ]
    },
    {
     "name": "stderr",
     "output_type": "stream",
     "text": [
      "Applying OCR post-correction: 100%|\u001b[33m██████████\u001b[0m| 434/434 [00:00<?, ?it/s]"
     ]
    },
    {
     "name": "stdout",
     "output_type": "stream",
     "text": [
      "Saving data\n",
      "Save ocr corrections\n",
      "Script done.\n",
      "Time taken to run the script: 10.146729 seconds\n",
      "Start time\n",
      "Start processing \"1898 Through Finland in Carts\".\n",
      "Wait a few seconds.\n"
     ]
    },
    {
     "name": "stderr",
     "output_type": "stream",
     "text": [
      "\n",
      "Loading PDF pages: 100%|\u001b[33m██████████\u001b[0m| 432/432 [00:00<?, ?it/s]\n"
     ]
    },
    {
     "name": "stdout",
     "output_type": "stream",
     "text": [
      "Preprocess text\n"
     ]
    },
    {
     "name": "stderr",
     "output_type": "stream",
     "text": [
      "Extracting and cleaning data: 100%|\u001b[33m██████████\u001b[0m| 432/432 [00:00<00:00, 5916.98it/s]\n"
     ]
    },
    {
     "name": "stdout",
     "output_type": "stream",
     "text": [
      "Starting ocr correction - loading correction rules\n",
      "Ocr correction\n"
     ]
    },
    {
     "name": "stderr",
     "output_type": "stream",
     "text": [
      "Applying OCR post-correction: 100%|\u001b[33m██████████\u001b[0m| 432/432 [00:00<?, ?it/s]"
     ]
    },
    {
     "name": "stdout",
     "output_type": "stream",
     "text": [
      "Saving data\n",
      "Save ocr corrections\n",
      "Script done.\n",
      "Time taken to run the script: 77.553542 seconds\n",
      "Start time\n",
      "Start processing \"1903 Thirty seasons in Scandinavia\".\n",
      "Wait a few seconds.\n"
     ]
    },
    {
     "name": "stderr",
     "output_type": "stream",
     "text": [
      "\n",
      "Loading PDF pages: 100%|\u001b[33m██████████\u001b[0m| 337/337 [00:00<?, ?it/s]\n"
     ]
    },
    {
     "name": "stdout",
     "output_type": "stream",
     "text": [
      "Preprocess text\n"
     ]
    },
    {
     "name": "stderr",
     "output_type": "stream",
     "text": [
      "Extracting and cleaning data: 100%|\u001b[33m██████████\u001b[0m| 337/337 [00:00<00:00, 5391.12it/s]\n"
     ]
    },
    {
     "name": "stdout",
     "output_type": "stream",
     "text": [
      "Starting ocr correction - loading correction rules\n",
      "Ocr correction\n"
     ]
    },
    {
     "name": "stderr",
     "output_type": "stream",
     "text": [
      "Applying OCR post-correction: 100%|\u001b[33m██████████\u001b[0m| 337/337 [00:00<?, ?it/s]"
     ]
    },
    {
     "name": "stdout",
     "output_type": "stream",
     "text": [
      "Saving data\n",
      "Save ocr corrections\n",
      "Script done.\n",
      "Time taken to run the script: 6.880169 seconds\n",
      "Start time\n",
      "Start processing \"1909 Peeps at many Lands Finland\".\n",
      "Wait a few seconds.\n"
     ]
    },
    {
     "name": "stderr",
     "output_type": "stream",
     "text": [
      "\n",
      "Loading PDF pages: 100%|\u001b[33m██████████\u001b[0m| 107/107 [00:00<?, ?it/s]\n"
     ]
    },
    {
     "name": "stdout",
     "output_type": "stream",
     "text": [
      "Preprocess text\n"
     ]
    },
    {
     "name": "stderr",
     "output_type": "stream",
     "text": [
      "Extracting and cleaning data: 100%|\u001b[33m██████████\u001b[0m| 107/107 [00:00<00:00, 13253.91it/s]\n"
     ]
    },
    {
     "name": "stdout",
     "output_type": "stream",
     "text": [
      "Starting ocr correction - loading correction rules\n",
      "Ocr correction\n"
     ]
    },
    {
     "name": "stderr",
     "output_type": "stream",
     "text": [
      "Applying OCR post-correction: 100%|\u001b[33m██████████\u001b[0m| 107/107 [00:00<?, ?it/s]"
     ]
    },
    {
     "name": "stdout",
     "output_type": "stream",
     "text": [
      "Saving data\n",
      "Save ocr corrections\n",
      "Script done.\n",
      "Time taken to run the script: 1.513091 seconds\n",
      "Start time\n",
      "Start processing \"1911 Two visits to Denmark 1872 1874\".\n",
      "Wait a few seconds.\n"
     ]
    },
    {
     "name": "stderr",
     "output_type": "stream",
     "text": [
      "\n",
      "Loading PDF pages: 100%|\u001b[33m██████████\u001b[0m| 401/401 [00:00<?, ?it/s]\n"
     ]
    },
    {
     "name": "stdout",
     "output_type": "stream",
     "text": [
      "Preprocess text\n"
     ]
    },
    {
     "name": "stderr",
     "output_type": "stream",
     "text": [
      "Extracting and cleaning data: 100%|\u001b[33m██████████\u001b[0m| 401/401 [00:00<00:00, 6599.32it/s]\n"
     ]
    },
    {
     "name": "stdout",
     "output_type": "stream",
     "text": [
      "Starting ocr correction - loading correction rules\n",
      "Ocr correction\n"
     ]
    },
    {
     "name": "stderr",
     "output_type": "stream",
     "text": [
      "Applying OCR post-correction: 100%|\u001b[33m██████████\u001b[0m| 401/401 [00:00<?, ?it/s]"
     ]
    },
    {
     "name": "stdout",
     "output_type": "stream",
     "text": [
      "Saving data\n",
      "Save ocr corrections\n",
      "Script done.\n",
      "Time taken to run the script: 8.652174 seconds\n"
     ]
    },
    {
     "name": "stderr",
     "output_type": "stream",
     "text": [
      "\n"
     ]
    },
    {
     "data": {
      "text/plain": [
       "[None,\n",
       " None,\n",
       " None,\n",
       " None,\n",
       " None,\n",
       " None,\n",
       " None,\n",
       " None,\n",
       " None,\n",
       " None,\n",
       " None,\n",
       " None,\n",
       " None,\n",
       " None,\n",
       " None,\n",
       " None,\n",
       " None,\n",
       " None,\n",
       " None,\n",
       " None,\n",
       " None,\n",
       " None,\n",
       " None,\n",
       " None,\n",
       " None,\n",
       " None,\n",
       " None,\n",
       " None,\n",
       " None,\n",
       " None]"
      ]
     },
     "execution_count": 7,
     "metadata": {},
     "output_type": "execute_result"
    }
   ],
   "source": [
    "[input_is_folder(pdf_file) for pdf_file in files]"
   ]
  },
  {
   "cell_type": "code",
   "execution_count": null,
   "id": "e97b8677-f296-46ea-a905-693cd12c5860",
   "metadata": {},
   "outputs": [],
   "source": []
  }
 ],
 "metadata": {
  "kernelspec": {
   "display_name": "Python 3 (ipykernel)",
   "language": "python",
   "name": "python3"
  },
  "language_info": {
   "codemirror_mode": {
    "name": "ipython",
    "version": 3
   },
   "file_extension": ".py",
   "mimetype": "text/x-python",
   "name": "python",
   "nbconvert_exporter": "python",
   "pygments_lexer": "ipython3",
   "version": "3.9.21"
  }
 },
 "nbformat": 4,
 "nbformat_minor": 5
}
