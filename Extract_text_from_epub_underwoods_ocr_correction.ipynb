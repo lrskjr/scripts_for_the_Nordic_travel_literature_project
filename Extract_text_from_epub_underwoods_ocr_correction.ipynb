{
 "cells": [
  {
   "cell_type": "markdown",
   "id": "b09d2b4a-3b95-448d-97b3-a4513c8425f2",
   "metadata": {},
   "source": [
    "# Read epub file using UnstructuredEPubLoader and apply Underwoods list of ocr corrections"
   ]
  },
  {
   "cell_type": "code",
   "execution_count": null,
   "id": "56f8439b-18ad-43c5-8fe9-50d1e063f55c",
   "metadata": {},
   "outputs": [],
   "source": [
    "#! pip install pypandoc"
   ]
  },
  {
   "cell_type": "code",
   "execution_count": 9,
   "id": "62777ba4-299c-4f9f-a0b6-9f9c034cc1dd",
   "metadata": {},
   "outputs": [
    {
     "name": "stdout",
     "output_type": "stream",
     "text": [
      "import libraries\n",
      "start time\n",
      "Start processing \"1860 A Residence in Jutland the Danish Isles and Copenhagen vol II\".\n",
      "Wait a few seconds.\n",
      "Preprocess text\n",
      "Starting ocr correction - loading correction rules\n",
      "Ocr correction\n"
     ]
    },
    {
     "name": "stderr",
     "output_type": "stream",
     "text": [
      "Applying OCR post-correction: 100%|\u001b[33m██████████\u001b[0m| 1314/1314 [00:00<?, ?it/s]"
     ]
    },
    {
     "name": "stdout",
     "output_type": "stream",
     "text": [
      "Saving data\n",
      "Save ocr corrections\n",
      "Script done.\n",
      "Time taken to run the script: 5.438003 seconds\n"
     ]
    },
    {
     "name": "stderr",
     "output_type": "stream",
     "text": [
      "\n"
     ]
    }
   ],
   "source": [
    "print ('import libraries')\n",
    "# import libraries\n",
    "from langchain_community.document_loaders import UnstructuredEPubLoader\n",
    "from langchain.document_loaders import PyPDFLoader\n",
    "import pandas as pd\n",
    "import re\n",
    "import os\n",
    "import csv\n",
    "import json\n",
    "from tqdm import tqdm  # Import tqdm for progress tracking\n",
    "import time\n",
    "\n",
    "# Save start time\n",
    "print ('start time')\n",
    "start_time = time.time()\n",
    "#######################\n",
    "\n",
    "# Move to epub folder\n",
    "os.chdir(r'.\\literature epub')\n",
    "# load text from epub\n",
    "epub_file = '1860 A Residence in Jutland the Danish Isles and Copenhagen vol II.epub'\n",
    "book_title = epub_file[:-5]\n",
    "print (f'Start processing \"{book_title}\".\\nWait a few seconds.')\n",
    "loader = UnstructuredEPubLoader(epub_file, mode=\"elements\")\n",
    "epub_pages = loader.load()\n",
    "\n",
    "# Extract data from epub and send it to a dataframe\n",
    "content = []\n",
    "source = []\n",
    "element_no = []\n",
    "\n",
    "\n",
    "# add counter to element number\n",
    "count = 1 \n",
    "for i in epub_pages:\n",
    "       \n",
    "    # return the text content, source, and element no.\n",
    "    pageContent = i.page_content\n",
    "    pageSource = i.metadata['source'][:-5]\n",
    "    elementNo = count\n",
    "    \n",
    "    content.append(pageContent)\n",
    "    source.append(pageSource)\n",
    "    element_no.append(elementNo)\n",
    "\n",
    "    count += 1\n",
    "    \n",
    "df = pd.DataFrame({'content': content, 'source': source, 'element_no': element_no})\n",
    "\n",
    "######################\n",
    "print ('Preprocess text')\n",
    "# preprocess text\n",
    "def preproces_text(text_string):\n",
    "    # Store text data in variable\n",
    "    # Remove newlines, replace apostrophe s with s, remove quotation marks\n",
    "    text_string_replace = text_string.replace(r' \\xad\\n', '').replace(r'\\xad\\n', '') \\\n",
    "        .replace(r'\\xad', '').replace(r'\\xad ', '') \\\n",
    "        .replace(r'-\\n', '').replace('—', ' ').replace(r'\\n', ' ') \\\n",
    "        .replace(\"'s\", \"s\").replace('\"', ' ').replace(\"'\", \" \") \\\n",
    "        .replace('.', ' . ').replace(' .', ' . ').replace(',', ' ,') \\\n",
    "        .replace('!', ' !').replace('?', ' ?')\n",
    "\n",
    "    # scrub for multiple signs\n",
    "    # but keep full stops, commas, exclamation, and question marks\n",
    "    text_string_re = re.sub(r':|;||||\\||\\+|\\\"|‘|’|“|”|\\’|…|\\-|–|—|\\$|&|\\*|>|<|\\/||||»|«', '', text_string_replace)\n",
    "\n",
    "    # Remove numbers and words containing numbers\n",
    "    text_string_no_numbers = re.sub(r'\\b\\w*\\d\\w*\\b', ' ', text_string_re)\n",
    "    # Remove multiple whitespaces\n",
    "    text_string_sub_additional_white_space = re.sub(r'\\s+', ' ', text_string_no_numbers )\n",
    "\n",
    "    return text_string_sub_additional_white_space\n",
    "\n",
    "df['preprocessed_content'] = df['content'].apply(lambda x : preproces_text(x))\n",
    "\n",
    "################\n",
    "\n",
    "# go back to main folder\n",
    "os.chdir('..')\n",
    "\n",
    "\n",
    "print('Starting ocr correction - loading correction rules')\n",
    "# Read the correction rules from the file\n",
    "with open('Underwoods_CorrectionRules.txt', 'r', encoding='utf-8') as f:\n",
    "    CorrectionRules_string = f.read()\n",
    "\n",
    "# Process the correction rules\n",
    "CorrectionRules_list = CorrectionRules_string.split('\\n')\n",
    "list_of_CorrectionRules_list = [i.split('\\t') for i in CorrectionRules_list]\n",
    "better_list_of_CorrectionRules = [i[0:2] for i in list_of_CorrectionRules_list]\n",
    "\n",
    "# Add additional pairs\n",
    "observations_to_add = [[\"Bruffels\", 'Brussels'], [\"fix\", 'six'], ['Elsinore', 'Helsingør']]\n",
    "better_list_of_CorrectionRules.extend(observations_to_add)\n",
    "\n",
    "# Build correction dictionary\n",
    "correction_dict = dict(better_list_of_CorrectionRules)\n",
    "\n",
    "\n",
    "\n",
    "print('Ocr correction')\n",
    "\n",
    "def ocr_post_correction(text):\n",
    "    # Prepare for correction\n",
    "    ### Keep track of the conditions of the words (capital, title, upper,lower)\n",
    "    tokens = text.split()\n",
    "\n",
    "    # Track the original case of each word\n",
    "    original_case = [i for i in tokens]\n",
    "    clean_text_list = [i.lower() for i in tokens]\n",
    "\n",
    "    # Initialize the list to store corrected words and a dictionary to track corrections\n",
    "    new_word_list = []\n",
    "    corrections_tracker = {}\n",
    "\n",
    "    # Iterate through the clean_text_list word list\n",
    "    for index, word in enumerate(clean_text_list):\n",
    "        # Check if the word has a correction in the dictionary\n",
    "        if word in correction_dict:\n",
    "            # If it does, append the corrected word to the new list and track the correction\n",
    "            corrected_word = correction_dict[word]\n",
    "            # Restore the original case of the word\n",
    "            if original_case[index].istitle():\n",
    "                corrected_word = corrected_word.capitalize()\n",
    "            elif original_case[index].isupper():\n",
    "                corrected_word = corrected_word.upper()\n",
    "            new_word_list.append(corrected_word)\n",
    "            corrections_tracker[word] = corrected_word\n",
    "\n",
    "            # Extract context around the corrected word\n",
    "            start_index = max(0, index - 10)\n",
    "            end_index = min(len(clean_text_list), index + 11)\n",
    "            context = clean_text_list[start_index:end_index]\n",
    "\n",
    "            # Store the context with the correction\n",
    "            corrections_tracker[word] = {\n",
    "                'corrected_word': corrected_word,\n",
    "                'context': ' '.join(context)\n",
    "            }\n",
    "        else:\n",
    "            # If it doesn't, append the original word\n",
    "            new_word_list.append(original_case[index])\n",
    "\n",
    "    # Send data back to text\n",
    "    new_corrected_text = ' '.join(new_word_list)\n",
    "\n",
    "    return corrections_tracker, new_corrected_text\n",
    "\n",
    "# Use the function and make two new columns to add to the dataframe\n",
    "df['corrections_tracker'], df['ocr_corrected_text'] = zip(*tqdm(df['preprocessed_content'].apply(ocr_post_correction), desc=\"Applying OCR post-correction\", colour='yellow'))\n",
    "\n",
    "print ('Saving data')\n",
    "# Save the df as a csv file\n",
    "os.chdir(r'.\\literature csv')\n",
    "df.to_csv(f'{book_title}.csv', index=False)\n",
    "\n",
    "\n",
    "# Save txt versions\n",
    "os.chdir('..')\n",
    "os.chdir(r'.\\literature txt')\n",
    "\n",
    "# Save text version without spell correction\n",
    "text = ' '.join(df['preprocessed_content'].to_list())\n",
    "with open(f'{book_title} without ocr correction.txt', 'w', encoding='utf-8') as f:\n",
    "    f.write(text)\n",
    "\n",
    "# Save text version with spell correction\n",
    "# Join the corrected words back into a string\n",
    "ocr_corrected_text = ' '.join(df['ocr_corrected_text'].to_list())\n",
    "with open(f'{book_title} with ocr correction.txt', 'w', encoding='utf-8') as f:\n",
    "    f.write(ocr_corrected_text)\n",
    "\n",
    "########\n",
    "# Save ocr corrections\n",
    "print ('Save ocr corrections')\n",
    "os.chdir('..')\n",
    "os.chdir(r'.\\ocr_correction_tracker')\n",
    "obs_corrections_tracker = []\n",
    "for i,j in enumerate(df['corrections_tracker'].to_list()):\n",
    "    if j:\n",
    "        observation = f\"Index no.: {str(i)}. OCR observation: {str(j)}\"\n",
    "        observation = observation.replace('{', '').replace('}', '')\n",
    "        obs_corrections_tracker.append(observation)\n",
    "\n",
    "ocr_observations = '\\n\\n'.join(obs_corrections_tracker)\n",
    "\n",
    "with open(f'{book_title} ocr corrections.txt', 'w', encoding='utf-8') as f:\n",
    "    f.write(ocr_observations)\n",
    "\n",
    "##############\n",
    "\n",
    "print ('Script done.')\n",
    "\n",
    "# change to main folder\n",
    "os.chdir('..')\n",
    "\n",
    "# Record the end time\n",
    "end_time = time.time()\n",
    "\n",
    "# Calculate the elapsed time\n",
    "elapsed_time = end_time - start_time\n",
    "\n",
    "# Print the elapsed time\n",
    "print(f\"Time taken to run the script: {elapsed_time:.6f} seconds\")"
   ]
  },
  {
   "cell_type": "code",
   "execution_count": 9,
   "id": "ebc6b284-e7f4-4870-9ad5-4422c5167126",
   "metadata": {},
   "outputs": [],
   "source": [
    "#! pip install --upgrade langchain_community unstructured pypandoc"
   ]
  },
  {
   "cell_type": "code",
   "execution_count": null,
   "id": "e178ae6a-89e4-4bf7-a97b-e246c3baef3f",
   "metadata": {},
   "outputs": [],
   "source": [
    "# Interate a folder"
   ]
  },
  {
   "cell_type": "code",
   "execution_count": null,
   "id": "1bff5a7f-ba2e-457e-883b-439dc6fd00b3",
   "metadata": {},
   "outputs": [],
   "source": [
    "print ('import libraries')\n",
    "# import libraries\n",
    "from langchain_community.document_loaders import UnstructuredEPubLoader\n",
    "from langchain.document_loaders import PyPDFLoader\n",
    "import pandas as pd\n",
    "import re\n",
    "import os\n",
    "import csv\n",
    "import json\n",
    "from tqdm import tqdm  # Import tqdm for progress tracking\n",
    "import time"
   ]
  },
  {
   "cell_type": "code",
   "execution_count": 29,
   "id": "7f803bfb-c49f-4f35-890a-46ea5c395016",
   "metadata": {},
   "outputs": [],
   "source": [
    "path_to_folder = r'C:\\Users\\lakj\\Documents\\GitHub\\nordic travel literature\\literature epub'\n",
    "no_of_files = len(os.listdir(path_to_folder))\n",
    "files = os.listdir(path_to_folder)"
   ]
  },
  {
   "cell_type": "code",
   "execution_count": 30,
   "id": "aa468047-c22e-4417-b0ec-634ea7b01570",
   "metadata": {},
   "outputs": [],
   "source": [
    "def input_is_folder(epub_file):\n",
    "    # Save start time\n",
    "    print ('start time')\n",
    "    start_time = time.time()\n",
    "    #######################\n",
    "    \n",
    "    # Move to epub folder\n",
    "    os.chdir(r'.\\literature epub')\n",
    "    # load text from epub\n",
    "    #epub_file = '1853 Visit to Iceland And the Scandinavian North.epub'\n",
    "    book_title = epub_file[:-5]\n",
    "    print (f'Start processing \"{book_title}\".\\nWait a few seconds.')\n",
    "    loader = UnstructuredEPubLoader(epub_file, mode=\"elements\")\n",
    "    epub_pages = loader.load()\n",
    "    \n",
    "    # Extract data from epub and send it to a dataframe\n",
    "    content = []\n",
    "    source = []\n",
    "    element_no = []\n",
    "    \n",
    "    \n",
    "    # add counter to element number\n",
    "    count = 1 \n",
    "    for i in epub_pages:\n",
    "           \n",
    "        # return the text content, source, and element no.\n",
    "        pageContent = i.page_content\n",
    "        pageSource = i.metadata['source'][:-5]\n",
    "        elementNo = count\n",
    "        \n",
    "        content.append(pageContent)\n",
    "        source.append(pageSource)\n",
    "        element_no.append(elementNo)\n",
    "    \n",
    "        count += 1\n",
    "        \n",
    "    df = pd.DataFrame({'content': content, 'source': source, 'element_no': element_no})\n",
    "    \n",
    "    ######################\n",
    "    print ('Preprocess text')\n",
    "    # preprocess text\n",
    "    def preproces_text(text_string):\n",
    "        # Store text data in variable\n",
    "        # Remove newlines, replace apostrophe s with s, remove quotation marks\n",
    "        text_string_replace = text_string.replace(r' \\xad\\n', '').replace(r'\\xad\\n', '') \\\n",
    "            .replace(r'\\xad', '').replace(r'\\xad ', '') \\\n",
    "            .replace(r'-\\n', '').replace('—', ' ').replace(r'\\n', ' ') \\\n",
    "            .replace(\"'s\", \"s\").replace('\"', ' ').replace(\"'\", \" \") \\\n",
    "            .replace('.', ' . ').replace(' .', ' . ').replace(',', ' ,') \\\n",
    "            .replace('!', ' !').replace('?', ' ?')\n",
    "    \n",
    "        # scrub for multiple signs\n",
    "        # but keep full stops, commas, exclamation, and question marks\n",
    "        text_string_re = re.sub(r':|;||||\\||\\+|\\\"|‘|’|“|”|\\’|…|\\-|–|—|\\$|&|\\*|>|<|\\/||||»|«', '', text_string_replace)\n",
    "    \n",
    "        # Remove numbers and words containing numbers\n",
    "        # text_string_no_numbers = re.sub(r'\\b\\w*\\d\\w*\\b', '', text_string_re)\n",
    "        # Remove multiple whitespaces\n",
    "        text_string_sub_additional_white_space = re.sub(r'\\s+', ' ', text_string_re)\n",
    "    \n",
    "        return text_string_sub_additional_white_space\n",
    "    \n",
    "    df['preprocessed_content'] = df['content'].apply(lambda x : preproces_text(x))\n",
    "    \n",
    "    ################\n",
    "    \n",
    "    # go back to main folder\n",
    "    os.chdir('..')\n",
    "    \n",
    "    \n",
    "    print('Starting ocr correction - loading correction rules')\n",
    "    # Read the correction rules from the file\n",
    "    with open('Underwoods_CorrectionRules.txt', 'r', encoding='utf-8') as f:\n",
    "        CorrectionRules_string = f.read()\n",
    "    \n",
    "    # Process the correction rules\n",
    "    CorrectionRules_list = CorrectionRules_string.split('\\n')\n",
    "    list_of_CorrectionRules_list = [i.split('\\t') for i in CorrectionRules_list]\n",
    "    better_list_of_CorrectionRules = [i[0:2] for i in list_of_CorrectionRules_list]\n",
    "    \n",
    "    # Add additional pairs\n",
    "    observations_to_add = [[\"Bruffels\", 'Brussels'], [\"fix\", 'six'], ['Elsinore', 'Helsingør']]\n",
    "    better_list_of_CorrectionRules.extend(observations_to_add)\n",
    "    \n",
    "    # Build correction dictionary\n",
    "    correction_dict = dict(better_list_of_CorrectionRules)\n",
    "    \n",
    "    \n",
    "    \n",
    "    print('Ocr correction')\n",
    "    \n",
    "    def ocr_post_correction(text):\n",
    "        # Prepare for correction\n",
    "        ### Keep track of the conditions of the words (capital, title, upper,lower)\n",
    "        tokens = text.split()\n",
    "    \n",
    "        # Track the original case of each word\n",
    "        original_case = [i for i in tokens]\n",
    "        clean_text_list = [i.lower() for i in tokens]\n",
    "    \n",
    "        # Initialize the list to store corrected words and a dictionary to track corrections\n",
    "        new_word_list = []\n",
    "        corrections_tracker = {}\n",
    "    \n",
    "        # Iterate through the clean_text_list word list\n",
    "        for index, word in enumerate(clean_text_list):\n",
    "            # Check if the word has a correction in the dictionary\n",
    "            if word in correction_dict:\n",
    "                # If it does, append the corrected word to the new list and track the correction\n",
    "                corrected_word = correction_dict[word]\n",
    "                # Restore the original case of the word\n",
    "                if original_case[index].istitle():\n",
    "                    corrected_word = corrected_word.capitalize()\n",
    "                elif original_case[index].isupper():\n",
    "                    corrected_word = corrected_word.upper()\n",
    "                new_word_list.append(corrected_word)\n",
    "                corrections_tracker[word] = corrected_word\n",
    "    \n",
    "                # Extract context around the corrected word\n",
    "                start_index = max(0, index - 10)\n",
    "                end_index = min(len(clean_text_list), index + 11)\n",
    "                context = clean_text_list[start_index:end_index]\n",
    "    \n",
    "                # Store the context with the correction\n",
    "                corrections_tracker[word] = {\n",
    "                    'corrected_word': corrected_word,\n",
    "                    'context': ' '.join(context)\n",
    "                }\n",
    "            else:\n",
    "                # If it doesn't, append the original word\n",
    "                new_word_list.append(original_case[index])\n",
    "    \n",
    "        # Send data back to text\n",
    "        new_corrected_text = ' '.join(new_word_list)\n",
    "    \n",
    "        return corrections_tracker, new_corrected_text\n",
    "    \n",
    "    # Use the function and make two new columns to add to the dataframe\n",
    "    df['corrections_tracker'], df['ocr_corrected_text'] = zip(*tqdm(df['preprocessed_content'].apply(ocr_post_correction), desc=\"Applying OCR post-correction\", colour='yellow'))\n",
    "    \n",
    "    print ('Saving data')\n",
    "    # Save the df as a csv file\n",
    "    os.chdir(r'.\\literature csv')\n",
    "    df.to_csv(f'{book_title}.csv', index=False)\n",
    "    \n",
    "    \n",
    "    # Save txt versions\n",
    "    os.chdir('..')\n",
    "    os.chdir(r'.\\literature txt')\n",
    "    \n",
    "    # Save text version without spell correction\n",
    "    text = ' '.join(df['preprocessed_content'].to_list())\n",
    "    with open(f'{book_title} without ocr correction.txt', 'w', encoding='utf-8') as f:\n",
    "        f.write(text)\n",
    "    \n",
    "    # Save text version with spell correction\n",
    "    # Join the corrected words back into a string\n",
    "    ocr_corrected_text = ' '.join(df['ocr_corrected_text'].to_list())\n",
    "    with open(f'{book_title} with ocr correction.txt', 'w', encoding='utf-8') as f:\n",
    "        f.write(ocr_corrected_text)\n",
    "    \n",
    "    ########\n",
    "    # Save ocr corrections\n",
    "    print ('Save ocr corrections')\n",
    "    os.chdir('..')\n",
    "    os.chdir(r'.\\ocr_correction_tracker')\n",
    "    obs_corrections_tracker = []\n",
    "    for i,j in enumerate(df['corrections_tracker'].to_list()):\n",
    "        if j:\n",
    "            observation = f\"Index no.: {str(i)}. OCR observation: {str(j)}\"\n",
    "            observation = observation.replace('{', '').replace('}', '')\n",
    "            obs_corrections_tracker.append(observation)\n",
    "    \n",
    "    ocr_observations = '\\n\\n'.join(obs_corrections_tracker)\n",
    "    \n",
    "    with open(f'{book_title} ocr corrections.txt', 'w', encoding='utf-8') as f:\n",
    "        f.write(ocr_observations)\n",
    "    \n",
    "    ##############\n",
    "    \n",
    "    print ('Script done.')\n",
    "    \n",
    "    # change to main folder\n",
    "    os.chdir('..')\n",
    "    \n",
    "    # Record the end time\n",
    "    end_time = time.time()\n",
    "    \n",
    "    # Calculate the elapsed time\n",
    "    elapsed_time = end_time - start_time\n",
    "    \n",
    "    # Print the elapsed time\n",
    "    print(f\"Time taken to run the script: {elapsed_time:.6f} seconds\")"
   ]
  },
  {
   "cell_type": "code",
   "execution_count": 31,
   "id": "f7558dbb-6dfe-4bd1-9a0d-2ab4e1476de7",
   "metadata": {},
   "outputs": [
    {
     "name": "stdout",
     "output_type": "stream",
     "text": [
      "start time\n",
      "Start processing \"1773 Travels through Holland Flanders Germany Denmark Sweden Lapland Russia the Ukraine and Poland in the years 1768 1769 and 1770\".\n",
      "Wait a few seconds.\n",
      "Preprocess text\n",
      "Starting ocr correction - loading correction rules\n",
      "Ocr correction\n"
     ]
    },
    {
     "name": "stderr",
     "output_type": "stream",
     "text": [
      "Applying OCR post-correction: 100%|\u001b[33m██████████\u001b[0m| 784/784 [00:00<?, ?it/s]"
     ]
    },
    {
     "name": "stdout",
     "output_type": "stream",
     "text": [
      "Saving data\n",
      "Save ocr corrections\n",
      "Script done.\n",
      "Time taken to run the script: 2.448855 seconds\n",
      "start time\n",
      "Start processing \"1795 A tour through some of the northern parts of Europe\".\n",
      "Wait a few seconds.\n"
     ]
    },
    {
     "name": "stderr",
     "output_type": "stream",
     "text": [
      "\n"
     ]
    },
    {
     "name": "stdout",
     "output_type": "stream",
     "text": [
      "Preprocess text\n",
      "Starting ocr correction - loading correction rules\n",
      "Ocr correction\n"
     ]
    },
    {
     "name": "stderr",
     "output_type": "stream",
     "text": [
      "Applying OCR post-correction: 100%|\u001b[33m██████████\u001b[0m| 677/677 [00:00<?, ?it/s]"
     ]
    },
    {
     "name": "stdout",
     "output_type": "stream",
     "text": [
      "Saving data\n",
      "Save ocr corrections\n",
      "Script done.\n",
      "Time taken to run the script: 2.777956 seconds\n",
      "start time\n",
      "Start processing \"1805 A northern summer\".\n",
      "Wait a few seconds.\n"
     ]
    },
    {
     "name": "stderr",
     "output_type": "stream",
     "text": [
      "\n"
     ]
    },
    {
     "name": "stdout",
     "output_type": "stream",
     "text": [
      "Preprocess text\n",
      "Starting ocr correction - loading correction rules\n",
      "Ocr correction\n"
     ]
    },
    {
     "name": "stderr",
     "output_type": "stream",
     "text": [
      "Applying OCR post-correction: 100%|\u001b[33m██████████\u001b[0m| 2201/2201 [00:00<?, ?it/s]"
     ]
    },
    {
     "name": "stdout",
     "output_type": "stream",
     "text": [
      "Saving data\n",
      "Save ocr corrections\n",
      "Script done.\n",
      "Time taken to run the script: 24.087781 seconds\n",
      "start time\n",
      "Start processing \"1807 A tour through part of Germany Poland Russia Sweden Denmark\".\n",
      "Wait a few seconds.\n"
     ]
    },
    {
     "name": "stderr",
     "output_type": "stream",
     "text": [
      "\n"
     ]
    },
    {
     "name": "stdout",
     "output_type": "stream",
     "text": [
      "Preprocess text\n",
      "Starting ocr correction - loading correction rules\n",
      "Ocr correction\n"
     ]
    },
    {
     "name": "stderr",
     "output_type": "stream",
     "text": [
      "Applying OCR post-correction: 100%|\u001b[33m██████████\u001b[0m| 598/598 [00:00<?, ?it/s]"
     ]
    },
    {
     "name": "stdout",
     "output_type": "stream",
     "text": [
      "Saving data\n",
      "Save ocr corrections\n",
      "Script done.\n",
      "Time taken to run the script: 1.860720 seconds\n",
      "start time\n",
      "Start processing \"1809 Travelling sketches in Russia and Sweden\".\n",
      "Wait a few seconds.\n"
     ]
    },
    {
     "name": "stderr",
     "output_type": "stream",
     "text": [
      "\n"
     ]
    },
    {
     "name": "stdout",
     "output_type": "stream",
     "text": [
      "Preprocess text\n",
      "Starting ocr correction - loading correction rules\n",
      "Ocr correction\n"
     ]
    },
    {
     "name": "stderr",
     "output_type": "stream",
     "text": [
      "Applying OCR post-correction: 100%|\u001b[33m██████████\u001b[0m| 2413/2413 [00:00<?, ?it/s]"
     ]
    },
    {
     "name": "stdout",
     "output_type": "stream",
     "text": [
      "Saving data\n",
      "Save ocr corrections\n",
      "Script done.\n",
      "Time taken to run the script: 19.674750 seconds\n",
      "start time\n",
      "Start processing \"1810 Travel through Denmark and part of Sweden during the winter and spring of the year 1809\".\n",
      "Wait a few seconds.\n"
     ]
    },
    {
     "name": "stderr",
     "output_type": "stream",
     "text": [
      "\n"
     ]
    },
    {
     "name": "stdout",
     "output_type": "stream",
     "text": [
      "Preprocess text\n",
      "Starting ocr correction - loading correction rules\n",
      "Ocr correction\n"
     ]
    },
    {
     "name": "stderr",
     "output_type": "stream",
     "text": [
      "Applying OCR post-correction: 100%|\u001b[33m██████████\u001b[0m| 650/650 [00:00<?, ?it/s]"
     ]
    },
    {
     "name": "stdout",
     "output_type": "stream",
     "text": [
      "Saving data\n",
      "Save ocr corrections\n",
      "Script done.\n",
      "Time taken to run the script: 1.647672 seconds\n",
      "start time\n",
      "Start processing \"1811 Journal of a Tour in Iceland in the Summer of 1809\".\n",
      "Wait a few seconds.\n"
     ]
    },
    {
     "name": "stderr",
     "output_type": "stream",
     "text": [
      "\n"
     ]
    },
    {
     "name": "stdout",
     "output_type": "stream",
     "text": [
      "Preprocess text\n",
      "Starting ocr correction - loading correction rules\n",
      "Ocr correction\n"
     ]
    },
    {
     "name": "stderr",
     "output_type": "stream",
     "text": [
      "Applying OCR post-correction: 100%|\u001b[33m██████████\u001b[0m| 1977/1977 [00:00<00:00, 246885.37it/s]"
     ]
    },
    {
     "name": "stdout",
     "output_type": "stream",
     "text": [
      "Saving data\n",
      "Save ocr corrections\n",
      "Script done.\n",
      "Time taken to run the script: 4.278895 seconds\n",
      "start time\n",
      "Start processing \"1812 Travels in the island of Iceland during the summer of the year MDCCCX\".\n",
      "Wait a few seconds.\n"
     ]
    },
    {
     "name": "stderr",
     "output_type": "stream",
     "text": [
      "\n"
     ]
    },
    {
     "name": "stdout",
     "output_type": "stream",
     "text": [
      "Preprocess text\n",
      "Starting ocr correction - loading correction rules\n",
      "Ocr correction\n"
     ]
    },
    {
     "name": "stderr",
     "output_type": "stream",
     "text": [
      "Applying OCR post-correction: 100%|\u001b[33m██████████\u001b[0m| 6263/6263 [00:00<?, ?it/s]"
     ]
    },
    {
     "name": "stdout",
     "output_type": "stream",
     "text": [
      "Saving data\n",
      "Save ocr corrections\n",
      "Script done.\n",
      "Time taken to run the script: 33.383862 seconds\n",
      "start time\n",
      "Start processing \"1813 Travels in Sweden during the Autumn of 1812\".\n",
      "Wait a few seconds.\n"
     ]
    },
    {
     "name": "stderr",
     "output_type": "stream",
     "text": [
      "\n"
     ]
    },
    {
     "name": "stdout",
     "output_type": "stream",
     "text": [
      "Preprocess text\n",
      "Starting ocr correction - loading correction rules\n",
      "Ocr correction\n"
     ]
    },
    {
     "name": "stderr",
     "output_type": "stream",
     "text": [
      "Applying OCR post-correction: 100%|\u001b[33m██████████\u001b[0m| 2801/2801 [00:00<?, ?it/s]"
     ]
    },
    {
     "name": "stdout",
     "output_type": "stream",
     "text": [
      "Saving data\n",
      "Save ocr corrections\n",
      "Script done.\n",
      "Time taken to run the script: 7.188789 seconds\n",
      "start time\n",
      "Start processing \"1813 Travels through Norway and Lapland during the years 1806 1807 and 1808\".\n",
      "Wait a few seconds.\n"
     ]
    },
    {
     "name": "stderr",
     "output_type": "stream",
     "text": [
      "\n"
     ]
    },
    {
     "name": "stdout",
     "output_type": "stream",
     "text": [
      "Preprocess text\n",
      "Starting ocr correction - loading correction rules\n",
      "Ocr correction\n"
     ]
    },
    {
     "name": "stderr",
     "output_type": "stream",
     "text": [
      "Applying OCR post-correction: 100%|\u001b[33m██████████\u001b[0m| 1611/1611 [00:00<?, ?it/s]"
     ]
    },
    {
     "name": "stdout",
     "output_type": "stream",
     "text": [
      "Saving data\n",
      "Save ocr corrections\n",
      "Script done.\n",
      "Time taken to run the script: 5.673369 seconds\n",
      "start time\n",
      "Start processing \"1815 A Tour Through Sweden Swedish_Lapland Finland and Denmark\".\n",
      "Wait a few seconds.\n"
     ]
    },
    {
     "name": "stderr",
     "output_type": "stream",
     "text": [
      "\n"
     ]
    },
    {
     "name": "stdout",
     "output_type": "stream",
     "text": [
      "Preprocess text\n",
      "Starting ocr correction - loading correction rules\n",
      "Ocr correction\n"
     ]
    },
    {
     "name": "stderr",
     "output_type": "stream",
     "text": [
      "Applying OCR post-correction: 100%|\u001b[33m██████████\u001b[0m| 649/649 [00:00<?, ?it/s]"
     ]
    },
    {
     "name": "stdout",
     "output_type": "stream",
     "text": [
      "Saving data\n",
      "Save ocr corrections\n",
      "Script done.\n",
      "Time taken to run the script: 1.594533 seconds\n",
      "start time\n",
      "Start processing \"1816 Journal of a Tour in Germany Sweden Russia Poland During the Years 1813 and 1814\".\n",
      "Wait a few seconds.\n"
     ]
    },
    {
     "name": "stderr",
     "output_type": "stream",
     "text": [
      "\n"
     ]
    },
    {
     "name": "stdout",
     "output_type": "stream",
     "text": [
      "Preprocess text\n",
      "Starting ocr correction - loading correction rules\n",
      "Ocr correction\n"
     ]
    },
    {
     "name": "stderr",
     "output_type": "stream",
     "text": [
      "Applying OCR post-correction: 100%|\u001b[33m██████████\u001b[0m| 1678/1678 [00:00<?, ?it/s]"
     ]
    },
    {
     "name": "stdout",
     "output_type": "stream",
     "text": [
      "Saving data\n",
      "Save ocr corrections\n",
      "Script done.\n",
      "Time taken to run the script: 4.905273 seconds\n",
      "start time\n",
      "Start processing \"1816 Sketches on a Tour to Copenhagen Through Norway and Sweden\".\n",
      "Wait a few seconds.\n"
     ]
    },
    {
     "name": "stderr",
     "output_type": "stream",
     "text": [
      "\n"
     ]
    },
    {
     "name": "stdout",
     "output_type": "stream",
     "text": [
      "Preprocess text\n",
      "Starting ocr correction - loading correction rules\n",
      "Ocr correction\n"
     ]
    },
    {
     "name": "stderr",
     "output_type": "stream",
     "text": [
      "Applying OCR post-correction: 100%|\u001b[33m██████████\u001b[0m| 1465/1465 [00:00<?, ?it/s]"
     ]
    },
    {
     "name": "stdout",
     "output_type": "stream",
     "text": [
      "Saving data\n",
      "Save ocr corrections\n",
      "Script done.\n",
      "Time taken to run the script: 4.702153 seconds\n",
      "start time\n",
      "Start processing \"1816 Travels Through Part of the Russian Empire and the Country of Poland Along the Southern Shores of the Baltic\".\n",
      "Wait a few seconds.\n"
     ]
    },
    {
     "name": "stderr",
     "output_type": "stream",
     "text": [
      "\n"
     ]
    },
    {
     "name": "stdout",
     "output_type": "stream",
     "text": [
      "Preprocess text\n",
      "Starting ocr correction - loading correction rules\n",
      "Ocr correction\n"
     ]
    },
    {
     "name": "stderr",
     "output_type": "stream",
     "text": [
      "Applying OCR post-correction: 100%|\u001b[33m██████████\u001b[0m| 1007/1007 [00:00<?, ?it/s]"
     ]
    },
    {
     "name": "stdout",
     "output_type": "stream",
     "text": [
      "Saving data\n",
      "Save ocr corrections\n",
      "Script done.\n",
      "Time taken to run the script: 3.028809 seconds\n",
      "start time\n",
      "Start processing \"1818 Iceland Or The Journal of a Residence in that Island During the Years 1814 and 1815 Vol 1\".\n",
      "Wait a few seconds.\n"
     ]
    },
    {
     "name": "stderr",
     "output_type": "stream",
     "text": [
      "\n"
     ]
    },
    {
     "name": "stdout",
     "output_type": "stream",
     "text": [
      "Preprocess text\n",
      "Starting ocr correction - loading correction rules\n",
      "Ocr correction\n"
     ]
    },
    {
     "name": "stderr",
     "output_type": "stream",
     "text": [
      "Applying OCR post-correction: 100%|\u001b[33m██████████\u001b[0m| 1011/1011 [00:00<?, ?it/s]"
     ]
    },
    {
     "name": "stdout",
     "output_type": "stream",
     "text": [
      "Saving data\n",
      "Save ocr corrections\n",
      "Script done.\n",
      "Time taken to run the script: 3.726991 seconds\n",
      "start time\n",
      "Start processing \"1818 Iceland Or The Journal of a Residence in that Island During the Years 1814 and 1815 Vol 2\".\n",
      "Wait a few seconds.\n"
     ]
    },
    {
     "name": "stderr",
     "output_type": "stream",
     "text": [
      "\n"
     ]
    },
    {
     "name": "stdout",
     "output_type": "stream",
     "text": [
      "Preprocess text\n",
      "Starting ocr correction - loading correction rules\n",
      "Ocr correction\n"
     ]
    },
    {
     "name": "stderr",
     "output_type": "stream",
     "text": [
      "Applying OCR post-correction: 100%|\u001b[33m██████████\u001b[0m| 2210/2210 [00:00<?, ?it/s]"
     ]
    },
    {
     "name": "stdout",
     "output_type": "stream",
     "text": [
      "Saving data\n",
      "Save ocr corrections\n",
      "Script done.\n",
      "Time taken to run the script: 4.343188 seconds\n",
      "start time\n",
      "Start processing \"1826 Travels in Norway Sweden Denmark Hanover Germany Netherlands\".\n",
      "Wait a few seconds.\n"
     ]
    },
    {
     "name": "stderr",
     "output_type": "stream",
     "text": [
      "\n"
     ]
    },
    {
     "name": "stdout",
     "output_type": "stream",
     "text": [
      "Preprocess text\n",
      "Starting ocr correction - loading correction rules\n",
      "Ocr correction\n"
     ]
    },
    {
     "name": "stderr",
     "output_type": "stream",
     "text": [
      "Applying OCR post-correction: 100%|\u001b[33m██████████\u001b[0m| 3981/3981 [00:00<?, ?it/s]"
     ]
    },
    {
     "name": "stdout",
     "output_type": "stream",
     "text": [
      "Saving data\n",
      "Save ocr corrections\n"
     ]
    },
    {
     "name": "stderr",
     "output_type": "stream",
     "text": [
      "\n"
     ]
    },
    {
     "name": "stdout",
     "output_type": "stream",
     "text": [
      "Script done.\n",
      "Time taken to run the script: 7.966364 seconds\n",
      "start time\n",
      "Start processing \"1826 Travels in Sweden Denmark and Norway\".\n",
      "Wait a few seconds.\n",
      "Preprocess text\n",
      "Starting ocr correction - loading correction rules\n",
      "Ocr correction\n"
     ]
    },
    {
     "name": "stderr",
     "output_type": "stream",
     "text": [
      "Applying OCR post-correction: 100%|\u001b[33m██████████\u001b[0m| 353/353 [00:00<?, ?it/s]"
     ]
    },
    {
     "name": "stdout",
     "output_type": "stream",
     "text": [
      "Saving data\n",
      "Save ocr corrections\n",
      "Script done.\n",
      "Time taken to run the script: 1.957046 seconds\n",
      "start time\n",
      "Start processing \"1827 Travels in Norway Sweden Finland Russia and Turkey vol 1\".\n",
      "Wait a few seconds.\n"
     ]
    },
    {
     "name": "stderr",
     "output_type": "stream",
     "text": [
      "\n"
     ]
    },
    {
     "name": "stdout",
     "output_type": "stream",
     "text": [
      "Preprocess text\n",
      "Starting ocr correction - loading correction rules\n",
      "Ocr correction\n"
     ]
    },
    {
     "name": "stderr",
     "output_type": "stream",
     "text": [
      "Applying OCR post-correction: 100%|\u001b[33m██████████\u001b[0m| 1954/1954 [00:00<?, ?it/s]"
     ]
    },
    {
     "name": "stdout",
     "output_type": "stream",
     "text": [
      "Saving data\n",
      "Save ocr corrections\n",
      "Script done.\n",
      "Time taken to run the script: 5.306626 seconds\n",
      "start time\n",
      "Start processing \"1827 Travels in Norway Sweden Finland Russia and Turkey vol 2\".\n",
      "Wait a few seconds.\n"
     ]
    },
    {
     "name": "stderr",
     "output_type": "stream",
     "text": [
      "\n"
     ]
    },
    {
     "name": "stdout",
     "output_type": "stream",
     "text": [
      "Preprocess text\n",
      "Starting ocr correction - loading correction rules\n",
      "Ocr correction\n"
     ]
    },
    {
     "name": "stderr",
     "output_type": "stream",
     "text": [
      "Applying OCR post-correction: 100%|\u001b[33m██████████\u001b[0m| 1784/1784 [00:00<?, ?it/s]"
     ]
    },
    {
     "name": "stdout",
     "output_type": "stream",
     "text": [
      "Saving data\n",
      "Save ocr corrections\n",
      "Script done.\n",
      "Time taken to run the script: 4.855132 seconds\n",
      "start time\n",
      "Start processing \"1830 Field sports of the north of Europe vol 1\".\n",
      "Wait a few seconds.\n"
     ]
    },
    {
     "name": "stderr",
     "output_type": "stream",
     "text": [
      "\n"
     ]
    },
    {
     "name": "stdout",
     "output_type": "stream",
     "text": [
      "Preprocess text\n",
      "Starting ocr correction - loading correction rules\n",
      "Ocr correction\n"
     ]
    },
    {
     "name": "stderr",
     "output_type": "stream",
     "text": [
      "Applying OCR post-correction: 100%|\u001b[33m██████████\u001b[0m| 1377/1377 [00:00<?, ?it/s]"
     ]
    },
    {
     "name": "stdout",
     "output_type": "stream",
     "text": [
      "Saving data\n",
      "Save ocr corrections\n",
      "Script done.\n",
      "Time taken to run the script: 3.339149 seconds\n",
      "start time\n",
      "Start processing \"1830 Field sports of the north of Europe vol 2\".\n",
      "Wait a few seconds.\n"
     ]
    },
    {
     "name": "stderr",
     "output_type": "stream",
     "text": [
      "\n"
     ]
    },
    {
     "name": "stdout",
     "output_type": "stream",
     "text": [
      "Preprocess text\n",
      "Starting ocr correction - loading correction rules\n",
      "Ocr correction\n"
     ]
    },
    {
     "name": "stderr",
     "output_type": "stream",
     "text": [
      "Applying OCR post-correction: 100%|\u001b[33m██████████\u001b[0m| 1720/1720 [00:00<?, ?it/s]"
     ]
    },
    {
     "name": "stdout",
     "output_type": "stream",
     "text": [
      "Saving data\n",
      "Save ocr corrections\n",
      "Script done.\n",
      "Time taken to run the script: 3.614130 seconds\n",
      "start time\n",
      "Start processing \"1831 Iceland Or The Journal of a Residence in that Island\".\n",
      "Wait a few seconds.\n"
     ]
    },
    {
     "name": "stderr",
     "output_type": "stream",
     "text": [
      "\n"
     ]
    },
    {
     "name": "stdout",
     "output_type": "stream",
     "text": [
      "Preprocess text\n",
      "Starting ocr correction - loading correction rules\n",
      "Ocr correction\n"
     ]
    },
    {
     "name": "stderr",
     "output_type": "stream",
     "text": [
      "Applying OCR post-correction: 100%|\u001b[33m██████████\u001b[0m| 943/943 [00:00<?, ?it/s]"
     ]
    },
    {
     "name": "stdout",
     "output_type": "stream",
     "text": [
      "Saving data\n",
      "Save ocr corrections\n",
      "Script done.\n",
      "Time taken to run the script: 2.966225 seconds\n",
      "start time\n",
      "Start processing \"1832 Letters from the north of Europe\".\n",
      "Wait a few seconds.\n"
     ]
    },
    {
     "name": "stderr",
     "output_type": "stream",
     "text": [
      "\n"
     ]
    },
    {
     "name": "stdout",
     "output_type": "stream",
     "text": [
      "Preprocess text\n",
      "Starting ocr correction - loading correction rules\n",
      "Ocr correction\n"
     ]
    },
    {
     "name": "stderr",
     "output_type": "stream",
     "text": [
      "Applying OCR post-correction: 100%|\u001b[33m██████████\u001b[0m| 1174/1174 [00:00<?, ?it/s]"
     ]
    },
    {
     "name": "stdout",
     "output_type": "stream",
     "text": [
      "Saving data\n",
      "Save ocr corrections\n",
      "Script done.\n",
      "Time taken to run the script: 3.466552 seconds\n",
      "start time\n",
      "Start processing \"1834 Norway Views of wild scenery and journal\".\n",
      "Wait a few seconds.\n"
     ]
    },
    {
     "name": "stderr",
     "output_type": "stream",
     "text": [
      "\n"
     ]
    },
    {
     "name": "stdout",
     "output_type": "stream",
     "text": [
      "Preprocess text\n",
      "Starting ocr correction - loading correction rules\n",
      "Ocr correction\n"
     ]
    },
    {
     "name": "stderr",
     "output_type": "stream",
     "text": [
      "Applying OCR post-correction: 100%|\u001b[33m██████████\u001b[0m| 412/412 [00:00<?, ?it/s]"
     ]
    },
    {
     "name": "stdout",
     "output_type": "stream",
     "text": [
      "Saving data\n",
      "Save ocr corrections\n",
      "Script done.\n",
      "Time taken to run the script: 1.297385 seconds\n",
      "start time\n",
      "Start processing \"1835 A Personal Narrative of a Journey Through Norway Part of Sweden and the Islands and States of Denmark\".\n",
      "Wait a few seconds.\n"
     ]
    },
    {
     "name": "stderr",
     "output_type": "stream",
     "text": [
      "\n"
     ]
    },
    {
     "name": "stdout",
     "output_type": "stream",
     "text": [
      "Preprocess text\n",
      "Starting ocr correction - loading correction rules\n",
      "Ocr correction\n"
     ]
    },
    {
     "name": "stderr",
     "output_type": "stream",
     "text": [
      "Applying OCR post-correction: 100%|\u001b[33m██████████\u001b[0m| 1215/1215 [00:00<?, ?it/s]"
     ]
    },
    {
     "name": "stdout",
     "output_type": "stream",
     "text": [
      "Saving data\n",
      "Save ocr corrections\n",
      "Script done.\n",
      "Time taken to run the script: 3.264511 seconds\n",
      "start time\n",
      "Start processing \"1835 A Visit to Iceland\".\n",
      "Wait a few seconds.\n"
     ]
    },
    {
     "name": "stderr",
     "output_type": "stream",
     "text": [
      "\n"
     ]
    },
    {
     "name": "stdout",
     "output_type": "stream",
     "text": [
      "Preprocess text\n",
      "Starting ocr correction - loading correction rules\n",
      "Ocr correction\n"
     ]
    },
    {
     "name": "stderr",
     "output_type": "stream",
     "text": [
      "Applying OCR post-correction: 100%|\u001b[33m██████████\u001b[0m| 881/881 [00:00<00:00, 110031.32it/s]"
     ]
    },
    {
     "name": "stdout",
     "output_type": "stream",
     "text": [
      "Saving data\n",
      "Save ocr corrections\n",
      "Script done.\n",
      "Time taken to run the script: 2.759729 seconds\n",
      "start time\n",
      "Start processing \"1836 Journal of a Residence in Norway During the Years 1834 1835 and 1836\".\n",
      "Wait a few seconds.\n"
     ]
    },
    {
     "name": "stderr",
     "output_type": "stream",
     "text": [
      "\n"
     ]
    },
    {
     "name": "stdout",
     "output_type": "stream",
     "text": [
      "Preprocess text\n",
      "Starting ocr correction - loading correction rules\n",
      "Ocr correction\n"
     ]
    },
    {
     "name": "stderr",
     "output_type": "stream",
     "text": [
      "Applying OCR post-correction: 100%|\u001b[33m██████████\u001b[0m| 1292/1292 [00:00<?, ?it/s]"
     ]
    },
    {
     "name": "stdout",
     "output_type": "stream",
     "text": [
      "Saving data\n",
      "Save ocr corrections\n",
      "Script done.\n",
      "Time taken to run the script: 4.950837 seconds\n",
      "start time\n",
      "Start processing \"1838 Recollections of a tour in the North of Europe in 1836-1837\".\n",
      "Wait a few seconds.\n"
     ]
    },
    {
     "name": "stderr",
     "output_type": "stream",
     "text": [
      "\n"
     ]
    },
    {
     "name": "stdout",
     "output_type": "stream",
     "text": [
      "Preprocess text\n",
      "Starting ocr correction - loading correction rules\n",
      "Ocr correction\n"
     ]
    },
    {
     "name": "stderr",
     "output_type": "stream",
     "text": [
      "Applying OCR post-correction: 100%|\u001b[33m██████████\u001b[0m| 5003/5003 [00:00<00:00, 4997404.84it/s]"
     ]
    },
    {
     "name": "stdout",
     "output_type": "stream",
     "text": [
      "Saving data\n",
      "Save ocr corrections\n",
      "Script done.\n",
      "Time taken to run the script: 27.158223 seconds\n",
      "start time\n",
      "Start processing \"1838 Travels in Various Countries of Scandinavia vol 1\".\n",
      "Wait a few seconds.\n"
     ]
    },
    {
     "name": "stderr",
     "output_type": "stream",
     "text": [
      "\n"
     ]
    },
    {
     "name": "stdout",
     "output_type": "stream",
     "text": [
      "Preprocess text\n",
      "Starting ocr correction - loading correction rules\n",
      "Ocr correction\n"
     ]
    },
    {
     "name": "stderr",
     "output_type": "stream",
     "text": [
      "Applying OCR post-correction: 100%|\u001b[33m██████████\u001b[0m| 3905/3905 [00:00<00:00, 4013417.57it/s]"
     ]
    },
    {
     "name": "stdout",
     "output_type": "stream",
     "text": [
      "Saving data\n",
      "Save ocr corrections\n",
      "Script done.\n",
      "Time taken to run the script: 8.683641 seconds\n",
      "start time\n"
     ]
    },
    {
     "name": "stderr",
     "output_type": "stream",
     "text": [
      "\n"
     ]
    },
    {
     "name": "stdout",
     "output_type": "stream",
     "text": [
      "Start processing \"1838 Travels in Various Countries of Scandinavia vol 2\".\n",
      "Wait a few seconds.\n",
      "Preprocess text\n",
      "Starting ocr correction - loading correction rules\n",
      "Ocr correction\n"
     ]
    },
    {
     "name": "stderr",
     "output_type": "stream",
     "text": [
      "Applying OCR post-correction: 100%|\u001b[33m██████████\u001b[0m| 3035/3035 [00:00<00:00, 3140037.65it/s]"
     ]
    },
    {
     "name": "stdout",
     "output_type": "stream",
     "text": [
      "Saving data\n",
      "Save ocr corrections\n",
      "Script done.\n",
      "Time taken to run the script: 6.958644 seconds\n",
      "start time\n",
      "Start processing \"1838 Travels in Various Countries of Scandinavia vol 3\".\n",
      "Wait a few seconds.\n"
     ]
    },
    {
     "name": "stderr",
     "output_type": "stream",
     "text": [
      "\n"
     ]
    },
    {
     "name": "stdout",
     "output_type": "stream",
     "text": [
      "Preprocess text\n",
      "Starting ocr correction - loading correction rules\n",
      "Ocr correction\n"
     ]
    },
    {
     "name": "stderr",
     "output_type": "stream",
     "text": [
      "Applying OCR post-correction: 100%|\u001b[33m██████████\u001b[0m| 2491/2491 [00:00<00:00, 2493558.77it/s]"
     ]
    },
    {
     "name": "stdout",
     "output_type": "stream",
     "text": [
      "Saving data\n",
      "Save ocr corrections\n",
      "Script done.\n",
      "Time taken to run the script: 4.874808 seconds\n",
      "start time\n",
      "Start processing \"1839 A Tour in Sweden in 1838\".\n",
      "Wait a few seconds.\n"
     ]
    },
    {
     "name": "stderr",
     "output_type": "stream",
     "text": [
      "\n"
     ]
    },
    {
     "name": "stdout",
     "output_type": "stream",
     "text": [
      "Preprocess text\n",
      "Starting ocr correction - loading correction rules\n",
      "Ocr correction\n"
     ]
    },
    {
     "name": "stderr",
     "output_type": "stream",
     "text": [
      "Applying OCR post-correction: 100%|\u001b[33m██████████\u001b[0m| 951/951 [00:00<?, ?it/s]"
     ]
    },
    {
     "name": "stdout",
     "output_type": "stream",
     "text": [
      "Saving data\n",
      "Save ocr corrections\n",
      "Script done.\n",
      "Time taken to run the script: 4.129997 seconds\n",
      "start time\n",
      "Start processing \"1840 An Historical and Descriptive Account of Iceland, Greenland, and the Faroe Islands\".\n",
      "Wait a few seconds.\n"
     ]
    },
    {
     "name": "stderr",
     "output_type": "stream",
     "text": [
      "\n"
     ]
    },
    {
     "name": "stdout",
     "output_type": "stream",
     "text": [
      "Preprocess text\n",
      "Starting ocr correction - loading correction rules\n",
      "Ocr correction\n"
     ]
    },
    {
     "name": "stderr",
     "output_type": "stream",
     "text": [
      "Applying OCR post-correction: 100%|\u001b[33m██████████\u001b[0m| 1378/1378 [00:00<?, ?it/s]"
     ]
    },
    {
     "name": "stdout",
     "output_type": "stream",
     "text": [
      "Saving data\n",
      "Save ocr corrections\n",
      "Script done.\n",
      "Time taken to run the script: 4.238269 seconds\n",
      "start time\n",
      "Start processing \"1840 Excursions in Denmark Norway and Sweden vol 1\".\n",
      "Wait a few seconds.\n"
     ]
    },
    {
     "name": "stderr",
     "output_type": "stream",
     "text": [
      "\n"
     ]
    },
    {
     "name": "stdout",
     "output_type": "stream",
     "text": [
      "Preprocess text\n",
      "Starting ocr correction - loading correction rules\n",
      "Ocr correction\n"
     ]
    },
    {
     "name": "stderr",
     "output_type": "stream",
     "text": [
      "Applying OCR post-correction: 100%|\u001b[33m██████████\u001b[0m| 924/924 [00:00<00:00, 959053.92it/s]"
     ]
    },
    {
     "name": "stdout",
     "output_type": "stream",
     "text": [
      "Saving data\n",
      "Save ocr corrections\n",
      "Script done.\n",
      "Time taken to run the script: 2.807806 seconds\n",
      "start time\n",
      "Start processing \"1841 Visit to Northern Europe vol 2\".\n",
      "Wait a few seconds.\n"
     ]
    },
    {
     "name": "stderr",
     "output_type": "stream",
     "text": [
      "\n"
     ]
    },
    {
     "name": "stdout",
     "output_type": "stream",
     "text": [
      "Preprocess text\n",
      "Starting ocr correction - loading correction rules\n",
      "Ocr correction\n"
     ]
    },
    {
     "name": "stderr",
     "output_type": "stream",
     "text": [
      "Applying OCR post-correction: 100%|\u001b[33m██████████\u001b[0m| 1120/1120 [00:00<?, ?it/s]"
     ]
    },
    {
     "name": "stdout",
     "output_type": "stream",
     "text": [
      "Saving data\n",
      "Save ocr corrections\n",
      "Script done.\n",
      "Time taken to run the script: 4.342052 seconds\n",
      "start time\n",
      "Start processing \"1842 Letters from the Shores of the Baltic vol 1\".\n",
      "Wait a few seconds.\n"
     ]
    },
    {
     "name": "stderr",
     "output_type": "stream",
     "text": [
      "\n"
     ]
    },
    {
     "name": "stdout",
     "output_type": "stream",
     "text": [
      "Preprocess text\n",
      "Starting ocr correction - loading correction rules\n",
      "Ocr correction\n"
     ]
    },
    {
     "name": "stderr",
     "output_type": "stream",
     "text": [
      "Applying OCR post-correction: 100%|\u001b[33m██████████\u001b[0m| 358/358 [00:00<?, ?it/s]"
     ]
    },
    {
     "name": "stdout",
     "output_type": "stream",
     "text": [
      "Saving data\n",
      "Save ocr corrections\n",
      "Script done.\n",
      "Time taken to run the script: 2.049547 seconds\n",
      "start time\n",
      "Start processing \"1842 Letters from the Shores of the Baltic vol 2\".\n",
      "Wait a few seconds.\n"
     ]
    },
    {
     "name": "stderr",
     "output_type": "stream",
     "text": [
      "\n"
     ]
    },
    {
     "name": "stdout",
     "output_type": "stream",
     "text": [
      "Preprocess text\n",
      "Starting ocr correction - loading correction rules\n",
      "Ocr correction\n"
     ]
    },
    {
     "name": "stderr",
     "output_type": "stream",
     "text": [
      "Applying OCR post-correction: 100%|\u001b[33m██████████\u001b[0m| 519/519 [00:00<?, ?it/s]"
     ]
    },
    {
     "name": "stdout",
     "output_type": "stream",
     "text": [
      "Saving data\n",
      "Save ocr corrections\n",
      "Script done.\n",
      "Time taken to run the script: 3.790713 seconds\n",
      "start time\n",
      "Start processing \"1848 Handbook for Northern Europe Including Denmark Norway Sweden Finland and Russia\".\n",
      "Wait a few seconds.\n"
     ]
    },
    {
     "name": "stderr",
     "output_type": "stream",
     "text": [
      "\n"
     ]
    },
    {
     "name": "stdout",
     "output_type": "stream",
     "text": [
      "Preprocess text\n",
      "Starting ocr correction - loading correction rules\n",
      "Ocr correction\n"
     ]
    },
    {
     "name": "stderr",
     "output_type": "stream",
     "text": [
      "Applying OCR post-correction: 100%|\u001b[33m██████████\u001b[0m| 3665/3665 [00:00<00:00, 3669640.53it/s]"
     ]
    },
    {
     "name": "stdout",
     "output_type": "stream",
     "text": [
      "Saving data\n",
      "Save ocr corrections\n",
      "Script done.\n",
      "Time taken to run the script: 8.295602 seconds\n"
     ]
    },
    {
     "name": "stderr",
     "output_type": "stream",
     "text": [
      "\n"
     ]
    },
    {
     "name": "stdout",
     "output_type": "stream",
     "text": [
      "start time\n",
      "Start processing \"1849 A Yacht Voyage to Norway Denmark and Sweden\".\n",
      "Wait a few seconds.\n",
      "Preprocess text\n",
      "Starting ocr correction - loading correction rules\n",
      "Ocr correction\n"
     ]
    },
    {
     "name": "stderr",
     "output_type": "stream",
     "text": [
      "Applying OCR post-correction: 100%|\u001b[33m██████████\u001b[0m| 1663/1663 [00:00<?, ?it/s]"
     ]
    },
    {
     "name": "stdout",
     "output_type": "stream",
     "text": [
      "Saving data\n",
      "Save ocr corrections\n",
      "Script done.\n",
      "Time taken to run the script: 4.464308 seconds\n",
      "start time\n",
      "Start processing \"1849 Handbook for Northern Europe Including Denmark Norway Sweden Finland and Russia vol 2\".\n",
      "Wait a few seconds.\n"
     ]
    },
    {
     "name": "stderr",
     "output_type": "stream",
     "text": [
      "\n"
     ]
    },
    {
     "name": "stdout",
     "output_type": "stream",
     "text": [
      "Preprocess text\n",
      "Starting ocr correction - loading correction rules\n",
      "Ocr correction\n"
     ]
    },
    {
     "name": "stderr",
     "output_type": "stream",
     "text": [
      "Applying OCR post-correction: 100%|\u001b[33m██████████\u001b[0m| 2956/2956 [00:00<00:00, 2956214.26it/s]"
     ]
    },
    {
     "name": "stdout",
     "output_type": "stream",
     "text": [
      "Saving data\n",
      "Save ocr corrections\n",
      "Script done.\n",
      "Time taken to run the script: 6.361740 seconds\n",
      "start time\n",
      "Start processing \"1851 One year in Scandinavia\".\n",
      "Wait a few seconds.\n"
     ]
    },
    {
     "name": "stderr",
     "output_type": "stream",
     "text": [
      "\n"
     ]
    },
    {
     "name": "stdout",
     "output_type": "stream",
     "text": [
      "Preprocess text\n",
      "Starting ocr correction - loading correction rules\n",
      "Ocr correction\n"
     ]
    },
    {
     "name": "stderr",
     "output_type": "stream",
     "text": [
      "Applying OCR post-correction: 100%|\u001b[33m██████████\u001b[0m| 212/212 [00:00<00:00, 209715.20it/s]"
     ]
    },
    {
     "name": "stdout",
     "output_type": "stream",
     "text": [
      "Saving data\n",
      "Save ocr corrections\n",
      "Script done.\n",
      "Time taken to run the script: 1.244613 seconds\n",
      "start time\n",
      "Start processing \"1852 Observations on the Social and Political State of Denmark\".\n",
      "Wait a few seconds.\n"
     ]
    },
    {
     "name": "stderr",
     "output_type": "stream",
     "text": [
      "\n"
     ]
    },
    {
     "name": "stdout",
     "output_type": "stream",
     "text": [
      "Preprocess text\n",
      "Starting ocr correction - loading correction rules\n",
      "Ocr correction\n"
     ]
    },
    {
     "name": "stderr",
     "output_type": "stream",
     "text": [
      "Applying OCR post-correction: 100%|\u001b[33m██████████\u001b[0m| 1754/1754 [00:00<?, ?it/s]"
     ]
    },
    {
     "name": "stdout",
     "output_type": "stream",
     "text": [
      "Saving data\n",
      "Save ocr corrections\n",
      "Script done.\n",
      "Time taken to run the script: 5.040210 seconds\n",
      "start time\n",
      "Start processing \"1853 Life in Sweden vol 1\".\n",
      "Wait a few seconds.\n"
     ]
    },
    {
     "name": "stderr",
     "output_type": "stream",
     "text": [
      "\n"
     ]
    },
    {
     "name": "stdout",
     "output_type": "stream",
     "text": [
      "Preprocess text\n",
      "Starting ocr correction - loading correction rules\n",
      "Ocr correction\n"
     ]
    },
    {
     "name": "stderr",
     "output_type": "stream",
     "text": [
      "Applying OCR post-correction: 100%|\u001b[33m██████████\u001b[0m| 1094/1094 [00:00<?, ?it/s]"
     ]
    },
    {
     "name": "stdout",
     "output_type": "stream",
     "text": [
      "Saving data\n",
      "Save ocr corrections\n",
      "Script done.\n",
      "Time taken to run the script: 3.393388 seconds\n",
      "start time\n",
      "Start processing \"1853 Life in Sweden vol 2\".\n",
      "Wait a few seconds.\n"
     ]
    },
    {
     "name": "stderr",
     "output_type": "stream",
     "text": [
      "\n"
     ]
    },
    {
     "name": "stdout",
     "output_type": "stream",
     "text": [
      "Preprocess text\n",
      "Starting ocr correction - loading correction rules\n",
      "Ocr correction\n"
     ]
    },
    {
     "name": "stderr",
     "output_type": "stream",
     "text": [
      "Applying OCR post-correction: 100%|\u001b[33m██████████\u001b[0m| 1459/1459 [00:00<?, ?it/s]"
     ]
    },
    {
     "name": "stdout",
     "output_type": "stream",
     "text": [
      "Saving data\n",
      "Save ocr corrections\n",
      "Script done.\n",
      "Time taken to run the script: 3.275326 seconds\n",
      "start time\n",
      "Start processing \"1853 Norway and Its Glaciers\".\n",
      "Wait a few seconds.\n"
     ]
    },
    {
     "name": "stderr",
     "output_type": "stream",
     "text": [
      "\n"
     ]
    },
    {
     "name": "stdout",
     "output_type": "stream",
     "text": [
      "Preprocess text\n",
      "Starting ocr correction - loading correction rules\n",
      "Ocr correction\n"
     ]
    },
    {
     "name": "stderr",
     "output_type": "stream",
     "text": [
      "Applying OCR post-correction: 100%|\u001b[33m██████████\u001b[0m| 1611/1611 [00:00<00:00, 1613424.96it/s]"
     ]
    },
    {
     "name": "stdout",
     "output_type": "stream",
     "text": [
      "Saving data\n",
      "Save ocr corrections\n",
      "Script done.\n",
      "Time taken to run the script: 3.760660 seconds\n",
      "start time\n",
      "Start processing \"1853 Norway and its scenery\".\n",
      "Wait a few seconds.\n"
     ]
    },
    {
     "name": "stderr",
     "output_type": "stream",
     "text": [
      "\n"
     ]
    },
    {
     "name": "stdout",
     "output_type": "stream",
     "text": [
      "Preprocess text\n",
      "Starting ocr correction - loading correction rules\n",
      "Ocr correction\n"
     ]
    },
    {
     "name": "stderr",
     "output_type": "stream",
     "text": [
      "Applying OCR post-correction: 100%|\u001b[33m██████████\u001b[0m| 2900/2900 [00:00<?, ?it/s]"
     ]
    },
    {
     "name": "stdout",
     "output_type": "stream",
     "text": [
      "Saving data\n",
      "Save ocr corrections\n",
      "Script done.\n",
      "Time taken to run the script: 5.224669 seconds\n",
      "start time\n",
      "Start processing \"1853 Visit to Iceland And the Scandinavian North\".\n",
      "Wait a few seconds.\n"
     ]
    },
    {
     "name": "stderr",
     "output_type": "stream",
     "text": [
      "\n"
     ]
    },
    {
     "name": "stdout",
     "output_type": "stream",
     "text": [
      "Preprocess text\n",
      "Starting ocr correction - loading correction rules\n",
      "Ocr correction\n"
     ]
    },
    {
     "name": "stderr",
     "output_type": "stream",
     "text": [
      "Applying OCR post-correction: 100%|\u001b[33m██████████\u001b[0m| 1170/1170 [00:00<00:00, 1168691.52it/s]"
     ]
    },
    {
     "name": "stdout",
     "output_type": "stream",
     "text": [
      "Saving data\n",
      "Save ocr corrections\n",
      "Script done.\n",
      "Time taken to run the script: 3.245926 seconds\n",
      "start time\n",
      "Start processing \"1854 A Yacht Voyage to Iceland in 1853\".\n",
      "Wait a few seconds.\n"
     ]
    },
    {
     "name": "stderr",
     "output_type": "stream",
     "text": [
      "\n"
     ]
    },
    {
     "name": "stdout",
     "output_type": "stream",
     "text": [
      "Preprocess text\n",
      "Starting ocr correction - loading correction rules\n",
      "Ocr correction\n"
     ]
    },
    {
     "name": "stderr",
     "output_type": "stream",
     "text": [
      "Applying OCR post-correction: 100%|\u001b[33m██████████\u001b[0m| 749/749 [00:00<?, ?it/s]"
     ]
    },
    {
     "name": "stdout",
     "output_type": "stream",
     "text": [
      "Saving data\n",
      "Save ocr corrections\n",
      "Script done.\n",
      "Time taken to run the script: 1.595286 seconds\n",
      "start time\n",
      "Start processing \"1854 Norðurfari or Rambles in Iceland\".\n",
      "Wait a few seconds.\n"
     ]
    },
    {
     "name": "stderr",
     "output_type": "stream",
     "text": [
      "\n"
     ]
    },
    {
     "name": "stdout",
     "output_type": "stream",
     "text": [
      "Preprocess text\n",
      "Starting ocr correction - loading correction rules\n",
      "Ocr correction\n"
     ]
    },
    {
     "name": "stderr",
     "output_type": "stream",
     "text": [
      "Applying OCR post-correction: 100%|\u001b[33m██████████\u001b[0m| 1358/1358 [00:00<?, ?it/s]"
     ]
    },
    {
     "name": "stdout",
     "output_type": "stream",
     "text": [
      "Saving data\n",
      "Save ocr corrections\n",
      "Script done.\n",
      "Time taken to run the script: 3.744073 seconds\n",
      "start time\n",
      "Start processing \"1854 The Baltic Its Gates Shores and Cities\".\n",
      "Wait a few seconds.\n"
     ]
    },
    {
     "name": "stderr",
     "output_type": "stream",
     "text": [
      "\n"
     ]
    },
    {
     "name": "stdout",
     "output_type": "stream",
     "text": [
      "Preprocess text\n",
      "Starting ocr correction - loading correction rules\n",
      "Ocr correction\n"
     ]
    },
    {
     "name": "stderr",
     "output_type": "stream",
     "text": [
      "Applying OCR post-correction: 100%|\u001b[33m██████████\u001b[0m| 1296/1296 [00:00<?, ?it/s]"
     ]
    },
    {
     "name": "stdout",
     "output_type": "stream",
     "text": [
      "Saving data\n",
      "Save ocr corrections\n",
      "Script done.\n",
      "Time taken to run the script: 3.631772 seconds\n",
      "start time\n",
      "Start processing \"1854 Travels and Adventures in Sweden and Norway\".\n",
      "Wait a few seconds.\n"
     ]
    },
    {
     "name": "stderr",
     "output_type": "stream",
     "text": [
      "\n"
     ]
    },
    {
     "name": "stdout",
     "output_type": "stream",
     "text": [
      "Preprocess text\n",
      "Starting ocr correction - loading correction rules\n",
      "Ocr correction\n"
     ]
    },
    {
     "name": "stderr",
     "output_type": "stream",
     "text": [
      "Applying OCR post-correction: 100%|\u001b[33m██████████\u001b[0m| 812/812 [00:00<?, ?it/s]"
     ]
    },
    {
     "name": "stdout",
     "output_type": "stream",
     "text": [
      "Saving data\n",
      "Save ocr corrections\n",
      "Script done.\n",
      "Time taken to run the script: 2.595928 seconds\n",
      "start time\n",
      "Start processing \"1854 Travels on the Shores of the Baltic Extended to Moscow\".\n",
      "Wait a few seconds.\n"
     ]
    },
    {
     "name": "stderr",
     "output_type": "stream",
     "text": [
      "\n"
     ]
    },
    {
     "name": "stdout",
     "output_type": "stream",
     "text": [
      "Preprocess text\n",
      "Starting ocr correction - loading correction rules\n",
      "Ocr correction\n"
     ]
    },
    {
     "name": "stderr",
     "output_type": "stream",
     "text": [
      "Applying OCR post-correction: 100%|\u001b[33m██████████\u001b[0m| 1357/1357 [00:00<?, ?it/s]"
     ]
    },
    {
     "name": "stdout",
     "output_type": "stream",
     "text": [
      "Saving data\n",
      "Save ocr corrections\n",
      "Script done.\n",
      "Time taken to run the script: 3.628800 seconds\n",
      "start time\n",
      "Start processing \"1855 Forest Scenes in Norway and Sweden\".\n",
      "Wait a few seconds.\n"
     ]
    },
    {
     "name": "stderr",
     "output_type": "stream",
     "text": [
      "\n"
     ]
    },
    {
     "name": "stdout",
     "output_type": "stream",
     "text": [
      "Preprocess text\n",
      "Starting ocr correction - loading correction rules\n",
      "Ocr correction\n"
     ]
    },
    {
     "name": "stderr",
     "output_type": "stream",
     "text": [
      "Applying OCR post-correction: 100%|\u001b[33m██████████\u001b[0m| 2676/2676 [00:00<00:00, 2673644.00it/s]"
     ]
    },
    {
     "name": "stdout",
     "output_type": "stream",
     "text": [
      "Saving data\n",
      "Save ocr corrections\n",
      "Script done.\n",
      "Time taken to run the script: 6.064349 seconds\n",
      "start time\n",
      "Start processing \"1856 A Summer in Northern Europe\".\n",
      "Wait a few seconds.\n"
     ]
    },
    {
     "name": "stderr",
     "output_type": "stream",
     "text": [
      "\n"
     ]
    },
    {
     "name": "stdout",
     "output_type": "stream",
     "text": [
      "Preprocess text\n",
      "Starting ocr correction - loading correction rules\n",
      "Ocr correction\n"
     ]
    },
    {
     "name": "stderr",
     "output_type": "stream",
     "text": [
      "Applying OCR post-correction: 100%|\u001b[33m██████████\u001b[0m| 1484/1484 [00:00<00:00, 1483753.79it/s]"
     ]
    },
    {
     "name": "stdout",
     "output_type": "stream",
     "text": [
      "Saving data\n",
      "Save ocr corrections\n",
      "Script done.\n",
      "Time taken to run the script: 3.227608 seconds\n",
      "start time\n",
      "Start processing \"1856 Europe vol 3 Residence in Norway Notes on France Russia etc\".\n",
      "Wait a few seconds.\n"
     ]
    },
    {
     "name": "stderr",
     "output_type": "stream",
     "text": [
      "\n"
     ]
    },
    {
     "name": "stdout",
     "output_type": "stream",
     "text": [
      "Preprocess text\n",
      "Starting ocr correction - loading correction rules\n",
      "Ocr correction\n"
     ]
    },
    {
     "name": "stderr",
     "output_type": "stream",
     "text": [
      "Applying OCR post-correction: 100%|\u001b[33m██████████\u001b[0m| 1690/1690 [00:00<00:00, 1694972.20it/s]"
     ]
    },
    {
     "name": "stdout",
     "output_type": "stream",
     "text": [
      "Saving data\n",
      "Save ocr corrections\n",
      "Script done.\n",
      "Time taken to run the script: 6.391122 seconds\n"
     ]
    },
    {
     "name": "stderr",
     "output_type": "stream",
     "text": [
      "\n"
     ]
    },
    {
     "name": "stdout",
     "output_type": "stream",
     "text": [
      "start time\n",
      "Start processing \"1856 Tracings of Iceland and the Faroe Islands\".\n",
      "Wait a few seconds.\n",
      "Preprocess text\n",
      "Starting ocr correction - loading correction rules\n",
      "Ocr correction\n"
     ]
    },
    {
     "name": "stderr",
     "output_type": "stream",
     "text": [
      "Applying OCR post-correction: 100%|\u001b[33m██████████\u001b[0m| 178/178 [00:00<?, ?it/s]"
     ]
    },
    {
     "name": "stdout",
     "output_type": "stream",
     "text": [
      "Saving data\n",
      "Save ocr corrections\n",
      "Script done.\n",
      "Time taken to run the script: 1.555885 seconds\n",
      "start time\n",
      "Start processing \"1857 A long vacation ramble in Norway and Sweden\".\n",
      "Wait a few seconds.\n"
     ]
    },
    {
     "name": "stderr",
     "output_type": "stream",
     "text": [
      "\n"
     ]
    },
    {
     "name": "stdout",
     "output_type": "stream",
     "text": [
      "Preprocess text\n",
      "Starting ocr correction - loading correction rules\n",
      "Ocr correction\n"
     ]
    },
    {
     "name": "stderr",
     "output_type": "stream",
     "text": [
      "Applying OCR post-correction: 100%|\u001b[33m██████████\u001b[0m| 1015/1015 [00:00<00:00, 1015315.66it/s]"
     ]
    },
    {
     "name": "stdout",
     "output_type": "stream",
     "text": [
      "Saving data\n",
      "Save ocr corrections\n",
      "Script done.\n",
      "Time taken to run the script: 2.576519 seconds\n",
      "start time\n",
      "Start processing \"1857 Letters from High Latitudes\".\n",
      "Wait a few seconds.\n"
     ]
    },
    {
     "name": "stderr",
     "output_type": "stream",
     "text": [
      "\n"
     ]
    },
    {
     "name": "stdout",
     "output_type": "stream",
     "text": [
      "Preprocess text\n",
      "Starting ocr correction - loading correction rules\n",
      "Ocr correction\n"
     ]
    },
    {
     "name": "stderr",
     "output_type": "stream",
     "text": [
      "Applying OCR post-correction: 100%|\u001b[33m██████████\u001b[0m| 746/746 [00:00<?, ?it/s]"
     ]
    },
    {
     "name": "stdout",
     "output_type": "stream",
     "text": [
      "Saving data\n",
      "Save ocr corrections\n",
      "Script done.\n",
      "Time taken to run the script: 2.509607 seconds\n",
      "start time\n",
      "Start processing \"1857 Unprotected Females in Norway\".\n",
      "Wait a few seconds.\n"
     ]
    },
    {
     "name": "stderr",
     "output_type": "stream",
     "text": [
      "\n"
     ]
    },
    {
     "name": "stdout",
     "output_type": "stream",
     "text": [
      "Preprocess text\n",
      "Starting ocr correction - loading correction rules\n",
      "Ocr correction\n"
     ]
    },
    {
     "name": "stderr",
     "output_type": "stream",
     "text": [
      "Applying OCR post-correction: 100%|\u001b[33m██████████\u001b[0m| 1045/1045 [00:00<?, ?it/s]"
     ]
    },
    {
     "name": "stdout",
     "output_type": "stream",
     "text": [
      "Saving data\n",
      "Save ocr corrections\n",
      "Script done.\n",
      "Time taken to run the script: 2.292920 seconds\n",
      "start time\n",
      "Start processing \"1858 The Oxonian in Thelemarken vol 1\".\n",
      "Wait a few seconds.\n"
     ]
    },
    {
     "name": "stderr",
     "output_type": "stream",
     "text": [
      "\n"
     ]
    },
    {
     "name": "stdout",
     "output_type": "stream",
     "text": [
      "Preprocess text\n",
      "Starting ocr correction - loading correction rules\n",
      "Ocr correction\n"
     ]
    },
    {
     "name": "stderr",
     "output_type": "stream",
     "text": [
      "Applying OCR post-correction: 100%|\u001b[33m██████████\u001b[0m| 1107/1107 [00:00<?, ?it/s]"
     ]
    },
    {
     "name": "stdout",
     "output_type": "stream",
     "text": [
      "Saving data\n",
      "Save ocr corrections\n",
      "Script done.\n",
      "Time taken to run the script: 2.910603 seconds\n",
      "start time\n",
      "Start processing \"1858 The Oxonian in Thelemarken vol 2\".\n",
      "Wait a few seconds.\n"
     ]
    },
    {
     "name": "stderr",
     "output_type": "stream",
     "text": [
      "\n"
     ]
    },
    {
     "name": "stdout",
     "output_type": "stream",
     "text": [
      "Preprocess text\n",
      "Starting ocr correction - loading correction rules\n",
      "Ocr correction\n"
     ]
    },
    {
     "name": "stderr",
     "output_type": "stream",
     "text": [
      "Applying OCR post-correction: 100%|\u001b[33m██████████\u001b[0m| 1207/1207 [00:00<?, ?it/s]"
     ]
    },
    {
     "name": "stdout",
     "output_type": "stream",
     "text": [
      "Saving data\n",
      "Save ocr corrections\n",
      "Script done.\n",
      "Time taken to run the script: 2.936493 seconds\n",
      "start time\n",
      "Start processing \"1859 Northern Travel\".\n",
      "Wait a few seconds.\n"
     ]
    },
    {
     "name": "stderr",
     "output_type": "stream",
     "text": [
      "\n"
     ]
    },
    {
     "name": "stdout",
     "output_type": "stream",
     "text": [
      "Preprocess text\n",
      "Starting ocr correction - loading correction rules\n",
      "Ocr correction\n"
     ]
    },
    {
     "name": "stderr",
     "output_type": "stream",
     "text": [
      "Applying OCR post-correction: 100%|\u001b[33m██████████\u001b[0m| 762/762 [00:00<00:00, 382669.98it/s]"
     ]
    },
    {
     "name": "stdout",
     "output_type": "stream",
     "text": [
      "Saving data\n",
      "Save ocr corrections\n",
      "Script done.\n",
      "Time taken to run the script: 3.826235 seconds\n",
      "start time\n",
      "Start processing \"1859 The Norse folk or A visit to the homes of Norway and Sweden\".\n",
      "Wait a few seconds.\n"
     ]
    },
    {
     "name": "stderr",
     "output_type": "stream",
     "text": [
      "\n"
     ]
    },
    {
     "name": "stdout",
     "output_type": "stream",
     "text": [
      "Preprocess text\n",
      "Starting ocr correction - loading correction rules\n",
      "Ocr correction\n"
     ]
    },
    {
     "name": "stderr",
     "output_type": "stream",
     "text": [
      "Applying OCR post-correction: 100%|\u001b[33m██████████\u001b[0m| 522/522 [00:00<?, ?it/s]"
     ]
    },
    {
     "name": "stdout",
     "output_type": "stream",
     "text": [
      "Saving data\n",
      "Save ocr corrections\n",
      "Script done.\n",
      "Time taken to run the script: 5.894387 seconds\n",
      "start time\n",
      "Start processing \"1859 Through Norway with a knapsack\".\n",
      "Wait a few seconds.\n"
     ]
    },
    {
     "name": "stderr",
     "output_type": "stream",
     "text": [
      "\n"
     ]
    },
    {
     "name": "stdout",
     "output_type": "stream",
     "text": [
      "Preprocess text\n",
      "Starting ocr correction - loading correction rules\n",
      "Ocr correction\n"
     ]
    },
    {
     "name": "stderr",
     "output_type": "stream",
     "text": [
      "Applying OCR post-correction: 100%|\u001b[33m██████████\u001b[0m| 2797/2797 [00:00<00:00, 2790549.07it/s]"
     ]
    },
    {
     "name": "stdout",
     "output_type": "stream",
     "text": [
      "Saving data\n",
      "Save ocr corrections\n",
      "Script done.\n",
      "Time taken to run the script: 21.091928 seconds\n",
      "start time\n",
      "Start processing \"1861 The Oxonian in Iceland\".\n",
      "Wait a few seconds.\n"
     ]
    },
    {
     "name": "stderr",
     "output_type": "stream",
     "text": [
      "\n"
     ]
    },
    {
     "name": "stdout",
     "output_type": "stream",
     "text": [
      "Preprocess text\n",
      "Starting ocr correction - loading correction rules\n",
      "Ocr correction\n"
     ]
    },
    {
     "name": "stderr",
     "output_type": "stream",
     "text": [
      "Applying OCR post-correction: 100%|\u001b[33m██████████\u001b[0m| 1013/1013 [00:00<?, ?it/s]"
     ]
    },
    {
     "name": "stdout",
     "output_type": "stream",
     "text": [
      "Saving data\n",
      "Save ocr corrections\n",
      "Script done.\n",
      "Time taken to run the script: 3.440825 seconds\n",
      "start time\n",
      "Start processing \"1862 One year in Sweden including a visit to the isle of Gotland vol 1\".\n",
      "Wait a few seconds.\n"
     ]
    },
    {
     "name": "stderr",
     "output_type": "stream",
     "text": [
      "\n"
     ]
    },
    {
     "name": "stdout",
     "output_type": "stream",
     "text": [
      "Preprocess text\n",
      "Starting ocr correction - loading correction rules\n",
      "Ocr correction\n"
     ]
    },
    {
     "name": "stderr",
     "output_type": "stream",
     "text": [
      "Applying OCR post-correction: 100%|\u001b[33m██████████\u001b[0m| 4391/4391 [00:00<?, ?it/s]"
     ]
    },
    {
     "name": "stdout",
     "output_type": "stream",
     "text": [
      "Saving data\n",
      "Save ocr corrections\n",
      "Script done.\n",
      "Time taken to run the script: 7.846021 seconds\n",
      "start time\n",
      "Start processing \"1862 Pen and Pencil Sketches of Faroe and Iceland\".\n",
      "Wait a few seconds.\n"
     ]
    },
    {
     "name": "stderr",
     "output_type": "stream",
     "text": [
      "\n"
     ]
    },
    {
     "name": "stdout",
     "output_type": "stream",
     "text": [
      "Preprocess text\n",
      "Starting ocr correction - loading correction rules\n",
      "Ocr correction\n"
     ]
    },
    {
     "name": "stderr",
     "output_type": "stream",
     "text": [
      "Applying OCR post-correction: 100%|\u001b[33m██████████\u001b[0m| 3648/3648 [00:00<?, ?it/s]"
     ]
    },
    {
     "name": "stdout",
     "output_type": "stream",
     "text": [
      "Saving data\n",
      "Save ocr corrections\n",
      "Script done.\n",
      "Time taken to run the script: 4.414979 seconds\n",
      "start time\n",
      "Start processing \"1863 A Yachting Cruise in the Baltic\".\n",
      "Wait a few seconds.\n"
     ]
    },
    {
     "name": "stderr",
     "output_type": "stream",
     "text": [
      "\n"
     ]
    },
    {
     "name": "stdout",
     "output_type": "stream",
     "text": [
      "Preprocess text\n",
      "Starting ocr correction - loading correction rules\n",
      "Ocr correction\n"
     ]
    },
    {
     "name": "stderr",
     "output_type": "stream",
     "text": [
      "Applying OCR post-correction: 100%|\u001b[33m██████████\u001b[0m| 1587/1587 [00:00<?, ?it/s]"
     ]
    },
    {
     "name": "stdout",
     "output_type": "stream",
     "text": [
      "Saving data\n",
      "Save ocr corrections\n",
      "Script done.\n",
      "Time taken to run the script: 3.814864 seconds\n",
      "start time\n",
      "Start processing \"1864 Chasing the Sun\".\n",
      "Wait a few seconds.\n"
     ]
    },
    {
     "name": "stderr",
     "output_type": "stream",
     "text": [
      "\n"
     ]
    },
    {
     "name": "stdout",
     "output_type": "stream",
     "text": [
      "Preprocess text\n",
      "Starting ocr correction - loading correction rules\n",
      "Ocr correction\n"
     ]
    },
    {
     "name": "stderr",
     "output_type": "stream",
     "text": [
      "Applying OCR post-correction: 100%|\u001b[33m██████████\u001b[0m| 610/610 [00:00<?, ?it/s]"
     ]
    },
    {
     "name": "stdout",
     "output_type": "stream",
     "text": [
      "Saving data\n",
      "Save ocr corrections\n",
      "Script done.\n",
      "Time taken to run the script: 1.248142 seconds\n",
      "start time\n",
      "Start processing \"1867 Sweden and Norway\".\n",
      "Wait a few seconds.\n"
     ]
    },
    {
     "name": "stderr",
     "output_type": "stream",
     "text": [
      "\n"
     ]
    },
    {
     "name": "stdout",
     "output_type": "stream",
     "text": [
      "Preprocess text\n",
      "Starting ocr correction - loading correction rules\n",
      "Ocr correction\n"
     ]
    },
    {
     "name": "stderr",
     "output_type": "stream",
     "text": [
      "Applying OCR post-correction: 100%|\u001b[33m██████████\u001b[0m| 1879/1879 [00:00<00:00, 1877345.69it/s]"
     ]
    },
    {
     "name": "stdout",
     "output_type": "stream",
     "text": [
      "Saving data\n",
      "Save ocr corrections\n",
      "Script done.\n",
      "Time taken to run the script: 4.030429 seconds\n",
      "start time\n",
      "Start processing \"1867 The Land of Thor\".\n",
      "Wait a few seconds.\n"
     ]
    },
    {
     "name": "stderr",
     "output_type": "stream",
     "text": [
      "\n"
     ]
    },
    {
     "name": "stdout",
     "output_type": "stream",
     "text": [
      "Preprocess text\n",
      "Starting ocr correction - loading correction rules\n",
      "Ocr correction\n"
     ]
    },
    {
     "name": "stderr",
     "output_type": "stream",
     "text": [
      "Applying OCR post-correction: 100%|\u001b[33m██████████\u001b[0m| 1536/1536 [00:00<00:00, 1533551.76it/s]"
     ]
    },
    {
     "name": "stdout",
     "output_type": "stream",
     "text": [
      "Saving data\n",
      "Save ocr corrections\n",
      "Script done.\n",
      "Time taken to run the script: 4.944042 seconds\n",
      "start time\n",
      "Start processing \"1870 The Knapsack guide to Norway\".\n",
      "Wait a few seconds.\n"
     ]
    },
    {
     "name": "stderr",
     "output_type": "stream",
     "text": [
      "\n"
     ]
    },
    {
     "name": "stdout",
     "output_type": "stream",
     "text": [
      "Preprocess text\n",
      "Starting ocr correction - loading correction rules\n",
      "Ocr correction\n"
     ]
    },
    {
     "name": "stderr",
     "output_type": "stream",
     "text": [
      "Applying OCR post-correction: 100%|\u001b[33m██████████\u001b[0m| 2437/2437 [00:00<00:00, 2379310.72it/s]"
     ]
    },
    {
     "name": "stdout",
     "output_type": "stream",
     "text": [
      "Saving data\n",
      "Save ocr corrections\n",
      "Script done.\n",
      "Time taken to run the script: 5.432774 seconds\n",
      "start time\n",
      "Start processing \"1871 A Handbook for Travellers in Denmark Norway and Sweden third edition\".\n",
      "Wait a few seconds.\n"
     ]
    },
    {
     "name": "stderr",
     "output_type": "stream",
     "text": [
      "\n"
     ]
    },
    {
     "name": "stdout",
     "output_type": "stream",
     "text": [
      "Preprocess text\n",
      "Starting ocr correction - loading correction rules\n",
      "Ocr correction\n"
     ]
    },
    {
     "name": "stderr",
     "output_type": "stream",
     "text": [
      "Applying OCR post-correction: 100%|\u001b[33m██████████\u001b[0m| 7155/7155 [00:00<00:00, 3582457.34it/s]"
     ]
    },
    {
     "name": "stdout",
     "output_type": "stream",
     "text": [
      "Saving data\n"
     ]
    },
    {
     "name": "stderr",
     "output_type": "stream",
     "text": [
      "\n"
     ]
    },
    {
     "name": "stdout",
     "output_type": "stream",
     "text": [
      "Save ocr corrections\n",
      "Script done.\n",
      "Time taken to run the script: 12.423533 seconds\n",
      "start time\n",
      "Start processing \"1871 Canoe Travelling Log of a Cruise on the Baltic\".\n",
      "Wait a few seconds.\n",
      "Preprocess text\n",
      "Starting ocr correction - loading correction rules\n",
      "Ocr correction\n"
     ]
    },
    {
     "name": "stderr",
     "output_type": "stream",
     "text": [
      "Applying OCR post-correction: 100%|\u001b[33m██████████\u001b[0m| 733/733 [00:00<?, ?it/s]"
     ]
    },
    {
     "name": "stdout",
     "output_type": "stream",
     "text": [
      "Saving data\n",
      "Save ocr corrections\n",
      "Script done.\n",
      "Time taken to run the script: 1.964013 seconds\n",
      "start time\n",
      "Start processing \"1871 How to See Norway\".\n",
      "Wait a few seconds.\n"
     ]
    },
    {
     "name": "stderr",
     "output_type": "stream",
     "text": [
      "\n"
     ]
    },
    {
     "name": "stdout",
     "output_type": "stream",
     "text": [
      "Preprocess text\n",
      "Starting ocr correction - loading correction rules\n",
      "Ocr correction\n"
     ]
    },
    {
     "name": "stderr",
     "output_type": "stream",
     "text": [
      "Applying OCR post-correction: 100%|\u001b[33m██████████\u001b[0m| 1019/1019 [00:00<?, ?it/s]"
     ]
    },
    {
     "name": "stdout",
     "output_type": "stream",
     "text": [
      "Saving data\n",
      "Save ocr corrections\n",
      "Script done.\n",
      "Time taken to run the script: 2.276581 seconds\n",
      "start time\n",
      "Start processing \"1871 Up the Baltic Or Young America in Norway Sweden and Denmark\".\n",
      "Wait a few seconds.\n"
     ]
    },
    {
     "name": "stderr",
     "output_type": "stream",
     "text": [
      "\n"
     ]
    },
    {
     "name": "stdout",
     "output_type": "stream",
     "text": [
      "Preprocess text\n",
      "Starting ocr correction - loading correction rules\n",
      "Ocr correction\n"
     ]
    },
    {
     "name": "stderr",
     "output_type": "stream",
     "text": [
      "Applying OCR post-correction: 100%|\u001b[33m██████████\u001b[0m| 2772/2772 [00:00<00:00, 2874316.61it/s]"
     ]
    },
    {
     "name": "stdout",
     "output_type": "stream",
     "text": [
      "Saving data\n",
      "Save ocr corrections\n",
      "Script done.\n",
      "Time taken to run the script: 4.453424 seconds\n",
      "start time\n",
      "Start processing \"1873 Tent Life with English Gipsies in Norway\".\n",
      "Wait a few seconds.\n"
     ]
    },
    {
     "name": "stderr",
     "output_type": "stream",
     "text": [
      "\n"
     ]
    },
    {
     "name": "stdout",
     "output_type": "stream",
     "text": [
      "Preprocess text\n",
      "Starting ocr correction - loading correction rules\n",
      "Ocr correction\n"
     ]
    },
    {
     "name": "stderr",
     "output_type": "stream",
     "text": [
      "Applying OCR post-correction: 100%|\u001b[33m██████████\u001b[0m| 1918/1918 [00:00<?, ?it/s]"
     ]
    },
    {
     "name": "stdout",
     "output_type": "stream",
     "text": [
      "Saving data\n",
      "Save ocr corrections\n",
      "Script done.\n",
      "Time taken to run the script: 5.187166 seconds\n",
      "start time\n",
      "Start processing \"1873 To Iceland in a Yacht\".\n",
      "Wait a few seconds.\n"
     ]
    },
    {
     "name": "stderr",
     "output_type": "stream",
     "text": [
      "\n"
     ]
    },
    {
     "name": "stdout",
     "output_type": "stream",
     "text": [
      "Preprocess text\n",
      "Starting ocr correction - loading correction rules\n",
      "Ocr correction\n"
     ]
    },
    {
     "name": "stderr",
     "output_type": "stream",
     "text": [
      "Applying OCR post-correction: 100%|\u001b[33m██████████\u001b[0m| 461/461 [00:00<00:00, 440249.12it/s]"
     ]
    },
    {
     "name": "stdout",
     "output_type": "stream",
     "text": [
      "Saving data\n",
      "Save ocr corrections\n",
      "Script done.\n",
      "Time taken to run the script: 1.621122 seconds\n",
      "start time\n",
      "Start processing \"1874 Wayside notes in Scandinavia\".\n",
      "Wait a few seconds.\n"
     ]
    },
    {
     "name": "stderr",
     "output_type": "stream",
     "text": [
      "\n"
     ]
    },
    {
     "name": "stdout",
     "output_type": "stream",
     "text": [
      "Preprocess text\n",
      "Starting ocr correction - loading correction rules\n",
      "Ocr correction\n"
     ]
    },
    {
     "name": "stderr",
     "output_type": "stream",
     "text": [
      "Applying OCR post-correction: 100%|\u001b[33m██████████\u001b[0m| 2456/2456 [00:00<?, ?it/s]"
     ]
    },
    {
     "name": "stdout",
     "output_type": "stream",
     "text": [
      "Saving data\n",
      "Save ocr corrections\n",
      "Script done.\n",
      "Time taken to run the script: 13.317996 seconds\n",
      "start time\n",
      "Start processing \"1875 The Pilgrim of Scandinavia\".\n",
      "Wait a few seconds.\n"
     ]
    },
    {
     "name": "stderr",
     "output_type": "stream",
     "text": [
      "\n"
     ]
    },
    {
     "name": "stdout",
     "output_type": "stream",
     "text": [
      "Preprocess text\n",
      "Starting ocr correction - loading correction rules\n",
      "Ocr correction\n"
     ]
    },
    {
     "name": "stderr",
     "output_type": "stream",
     "text": [
      "Applying OCR post-correction: 100%|\u001b[33m██████████\u001b[0m| 388/388 [00:00<00:00, 388398.56it/s]"
     ]
    },
    {
     "name": "stdout",
     "output_type": "stream",
     "text": [
      "Saving data\n",
      "Save ocr corrections\n",
      "Script done.\n",
      "Time taken to run the script: 1.950545 seconds\n",
      "start time\n",
      "Start processing \"1875 Ultima Thule or A Summer in Iceland vol 1\".\n",
      "Wait a few seconds.\n"
     ]
    },
    {
     "name": "stderr",
     "output_type": "stream",
     "text": [
      "\n"
     ]
    },
    {
     "name": "stdout",
     "output_type": "stream",
     "text": [
      "Preprocess text\n",
      "Starting ocr correction - loading correction rules\n",
      "Ocr correction\n"
     ]
    },
    {
     "name": "stderr",
     "output_type": "stream",
     "text": [
      "Applying OCR post-correction: 100%|\u001b[33m██████████\u001b[0m| 1893/1893 [00:00<?, ?it/s]"
     ]
    },
    {
     "name": "stdout",
     "output_type": "stream",
     "text": [
      "Saving data\n",
      "Save ocr corrections\n",
      "Script done.\n",
      "Time taken to run the script: 6.036602 seconds\n",
      "start time\n",
      "Start processing \"1875 Ultima Thule or A Summer in Iceland vol 2\".\n",
      "Wait a few seconds.\n"
     ]
    },
    {
     "name": "stderr",
     "output_type": "stream",
     "text": [
      "\n"
     ]
    },
    {
     "name": "stdout",
     "output_type": "stream",
     "text": [
      "Preprocess text\n",
      "Starting ocr correction - loading correction rules\n",
      "Ocr correction\n"
     ]
    },
    {
     "name": "stderr",
     "output_type": "stream",
     "text": [
      "Applying OCR post-correction: 100%|\u001b[33m██████████\u001b[0m| 1747/1747 [00:00<00:00, 1743385.46it/s]"
     ]
    },
    {
     "name": "stdout",
     "output_type": "stream",
     "text": [
      "Saving data\n",
      "Save ocr corrections\n",
      "Script done.\n",
      "Time taken to run the script: 5.438897 seconds\n",
      "start time\n",
      "Start processing \"1875 Ultima Thule or A Summer in Iceland\".\n",
      "Wait a few seconds.\n"
     ]
    },
    {
     "name": "stderr",
     "output_type": "stream",
     "text": [
      "\n"
     ]
    },
    {
     "name": "stdout",
     "output_type": "stream",
     "text": [
      "Preprocess text\n",
      "Starting ocr correction - loading correction rules\n",
      "Ocr correction\n"
     ]
    },
    {
     "name": "stderr",
     "output_type": "stream",
     "text": [
      "Applying OCR post-correction: 100%|\u001b[33m██████████\u001b[0m| 1893/1893 [00:00<?, ?it/s]"
     ]
    },
    {
     "name": "stdout",
     "output_type": "stream",
     "text": [
      "Saving data\n",
      "Save ocr corrections\n",
      "Script done.\n",
      "Time taken to run the script: 6.161680 seconds\n",
      "start time\n",
      "Start processing \"1875 Up The Baltic  Or Young America in Norway Sweden and Denmark\".\n",
      "Wait a few seconds.\n"
     ]
    },
    {
     "name": "stderr",
     "output_type": "stream",
     "text": [
      "\n"
     ]
    },
    {
     "name": "stdout",
     "output_type": "stream",
     "text": [
      "Preprocess text\n",
      "Starting ocr correction - loading correction rules\n",
      "Ocr correction\n"
     ]
    },
    {
     "name": "stderr",
     "output_type": "stream",
     "text": [
      "Applying OCR post-correction: 100%|\u001b[33m██████████\u001b[0m| 2861/2861 [00:00<00:00, 2906953.43it/s]"
     ]
    },
    {
     "name": "stdout",
     "output_type": "stream",
     "text": [
      "Saving data\n",
      "Save ocr corrections\n",
      "Script done.\n",
      "Time taken to run the script: 4.486533 seconds\n",
      "start time\n",
      "Start processing \"1877 A summer holiday in Scandinavia\".\n",
      "Wait a few seconds.\n"
     ]
    },
    {
     "name": "stderr",
     "output_type": "stream",
     "text": [
      "\n"
     ]
    },
    {
     "name": "stdout",
     "output_type": "stream",
     "text": [
      "Preprocess text\n",
      "Starting ocr correction - loading correction rules\n",
      "Ocr correction\n"
     ]
    },
    {
     "name": "stderr",
     "output_type": "stream",
     "text": [
      "Applying OCR post-correction: 100%|\u001b[33m██████████\u001b[0m| 1663/1663 [00:00<00:00, 1805157.23it/s]"
     ]
    },
    {
     "name": "stdout",
     "output_type": "stream",
     "text": [
      "Saving data\n",
      "Save ocr corrections\n",
      "Script done.\n",
      "Time taken to run the script: 3.512595 seconds\n",
      "start time\n",
      "Start processing \"1877 Scenes of travel in Norway\".\n",
      "Wait a few seconds.\n"
     ]
    },
    {
     "name": "stderr",
     "output_type": "stream",
     "text": [
      "\n"
     ]
    },
    {
     "name": "stdout",
     "output_type": "stream",
     "text": [
      "Preprocess text\n",
      "Starting ocr correction - loading correction rules\n",
      "Ocr correction\n"
     ]
    },
    {
     "name": "stderr",
     "output_type": "stream",
     "text": [
      "Applying OCR post-correction: 100%|\u001b[33m██████████\u001b[0m| 655/655 [00:00<?, ?it/s]"
     ]
    },
    {
     "name": "stdout",
     "output_type": "stream",
     "text": [
      "Saving data\n",
      "Save ocr corrections\n",
      "Script done.\n",
      "Time taken to run the script: 1.699773 seconds\n",
      "start time\n",
      "Start processing \"1877 Six weeks in Norway\".\n",
      "Wait a few seconds.\n"
     ]
    },
    {
     "name": "stderr",
     "output_type": "stream",
     "text": [
      "\n"
     ]
    },
    {
     "name": "stdout",
     "output_type": "stream",
     "text": [
      "Preprocess text\n",
      "Starting ocr correction - loading correction rules\n",
      "Ocr correction\n"
     ]
    },
    {
     "name": "stderr",
     "output_type": "stream",
     "text": [
      "Applying OCR post-correction: 100%|\u001b[33m██████████\u001b[0m| 313/313 [00:00<00:00, 312724.43it/s]"
     ]
    },
    {
     "name": "stdout",
     "output_type": "stream",
     "text": [
      "Saving data\n",
      "Save ocr corrections\n",
      "Script done.\n",
      "Time taken to run the script: 2.874555 seconds\n",
      "start time\n",
      "Start processing \"1878 To the Arctic Regions and Back in Six Weeks\".\n",
      "Wait a few seconds.\n"
     ]
    },
    {
     "name": "stderr",
     "output_type": "stream",
     "text": [
      "\n"
     ]
    },
    {
     "name": "stdout",
     "output_type": "stream",
     "text": [
      "Preprocess text\n",
      "Starting ocr correction - loading correction rules\n",
      "Ocr correction\n"
     ]
    },
    {
     "name": "stderr",
     "output_type": "stream",
     "text": [
      "Applying OCR post-correction: 100%|\u001b[33m██████████\u001b[0m| 1809/1809 [00:00<?, ?it/s]"
     ]
    },
    {
     "name": "stdout",
     "output_type": "stream",
     "text": [
      "Saving data\n",
      "Save ocr corrections\n",
      "Script done.\n",
      "Time taken to run the script: 4.046121 seconds\n",
      "start time\n",
      "Start processing \"1879 Diary of a tour in Sweden Norway and Russia in 1827 with letters\".\n",
      "Wait a few seconds.\n"
     ]
    },
    {
     "name": "stderr",
     "output_type": "stream",
     "text": [
      "\n"
     ]
    },
    {
     "name": "stdout",
     "output_type": "stream",
     "text": [
      "Preprocess text\n",
      "Starting ocr correction - loading correction rules\n",
      "Ocr correction\n"
     ]
    },
    {
     "name": "stderr",
     "output_type": "stream",
     "text": [
      "Applying OCR post-correction: 100%|\u001b[33m██████████\u001b[0m| 1122/1122 [00:00<?, ?it/s]"
     ]
    },
    {
     "name": "stdout",
     "output_type": "stream",
     "text": [
      "Saving data\n",
      "Save ocr corrections\n",
      "Script done.\n",
      "Time taken to run the script: 12.561373 seconds\n",
      "start time\n",
      "Start processing \"1879 Gamle Norge Rambles and Scrambles in Norway\".\n",
      "Wait a few seconds.\n"
     ]
    },
    {
     "name": "stderr",
     "output_type": "stream",
     "text": [
      "\n"
     ]
    },
    {
     "name": "stdout",
     "output_type": "stream",
     "text": [
      "Preprocess text\n",
      "Starting ocr correction - loading correction rules\n",
      "Ocr correction\n"
     ]
    },
    {
     "name": "stderr",
     "output_type": "stream",
     "text": [
      "Applying OCR post-correction: 100%|\u001b[33m██████████\u001b[0m| 655/655 [00:00<00:00, 654735.25it/s]"
     ]
    },
    {
     "name": "stdout",
     "output_type": "stream",
     "text": [
      "Saving data\n",
      "Save ocr corrections\n",
      "Script done.\n",
      "Time taken to run the script: 3.036509 seconds\n",
      "start time\n",
      "Start processing \"1881 Denmark and Iceland\".\n",
      "Wait a few seconds.\n"
     ]
    },
    {
     "name": "stderr",
     "output_type": "stream",
     "text": [
      "\n"
     ]
    },
    {
     "name": "stdout",
     "output_type": "stream",
     "text": [
      "Preprocess text\n",
      "Starting ocr correction - loading correction rules\n",
      "Ocr correction\n"
     ]
    },
    {
     "name": "stderr",
     "output_type": "stream",
     "text": [
      "Applying OCR post-correction: 100%|\u001b[33m██████████\u001b[0m| 1456/1456 [00:00<00:00, 1452987.54it/s]"
     ]
    },
    {
     "name": "stdout",
     "output_type": "stream",
     "text": [
      "Saving data\n",
      "Save ocr corrections\n",
      "Script done.\n",
      "Time taken to run the script: 2.938597 seconds\n",
      "start time\n",
      "Start processing \"1881 The story of a scandinavian summer\".\n",
      "Wait a few seconds.\n"
     ]
    },
    {
     "name": "stderr",
     "output_type": "stream",
     "text": [
      "\n"
     ]
    },
    {
     "name": "stdout",
     "output_type": "stream",
     "text": [
      "Preprocess text\n",
      "Starting ocr correction - loading correction rules\n",
      "Ocr correction\n"
     ]
    },
    {
     "name": "stderr",
     "output_type": "stream",
     "text": [
      "Applying OCR post-correction: 100%|\u001b[33m██████████\u001b[0m| 1661/1661 [00:00<?, ?it/s]"
     ]
    },
    {
     "name": "stdout",
     "output_type": "stream",
     "text": [
      "Saving data\n",
      "Save ocr corrections\n",
      "Script done.\n",
      "Time taken to run the script: 3.765163 seconds\n",
      "start time\n",
      "Start processing \"1882 Summer travelling in Iceland\".\n",
      "Wait a few seconds.\n"
     ]
    },
    {
     "name": "stderr",
     "output_type": "stream",
     "text": [
      "\n"
     ]
    },
    {
     "name": "stdout",
     "output_type": "stream",
     "text": [
      "Preprocess text\n",
      "Starting ocr correction - loading correction rules\n",
      "Ocr correction\n"
     ]
    },
    {
     "name": "stderr",
     "output_type": "stream",
     "text": [
      "Applying OCR post-correction: 100%|\u001b[33m██████████\u001b[0m| 1580/1580 [00:00<00:00, 1577106.22it/s]"
     ]
    },
    {
     "name": "stdout",
     "output_type": "stream",
     "text": [
      "Saving data\n",
      "Save ocr corrections\n",
      "Script done.\n",
      "Time taken to run the script: 3.588426 seconds\n",
      "start time\n",
      "Start processing \"1882 Sweden and Norway\".\n",
      "Wait a few seconds.\n"
     ]
    },
    {
     "name": "stderr",
     "output_type": "stream",
     "text": [
      "\n"
     ]
    },
    {
     "name": "stdout",
     "output_type": "stream",
     "text": [
      "Preprocess text\n",
      "Starting ocr correction - loading correction rules\n",
      "Ocr correction\n"
     ]
    },
    {
     "name": "stderr",
     "output_type": "stream",
     "text": [
      "Applying OCR post-correction: 100%|\u001b[33m██████████\u001b[0m| 2008/2008 [00:00<00:00, 990376.58it/s]"
     ]
    },
    {
     "name": "stdout",
     "output_type": "stream",
     "text": [
      "Saving data\n",
      "Save ocr corrections\n",
      "Script done.\n",
      "Time taken to run the script: 3.877325 seconds\n",
      "start time\n",
      "Start processing \"1882 The Land of the Midnight Sun vol 1\".\n",
      "Wait a few seconds.\n"
     ]
    },
    {
     "name": "stderr",
     "output_type": "stream",
     "text": [
      "\n"
     ]
    },
    {
     "name": "stdout",
     "output_type": "stream",
     "text": [
      "Preprocess text\n",
      "Starting ocr correction - loading correction rules\n",
      "Ocr correction\n"
     ]
    },
    {
     "name": "stderr",
     "output_type": "stream",
     "text": [
      "Applying OCR post-correction: 100%|\u001b[33m██████████\u001b[0m| 2399/2399 [00:00<00:00, 2390623.73it/s]"
     ]
    },
    {
     "name": "stdout",
     "output_type": "stream",
     "text": [
      "Saving data\n",
      "Save ocr corrections\n",
      "Script done.\n",
      "Time taken to run the script: 5.007459 seconds\n",
      "start time\n",
      "Start processing \"1882 The Land of the Midnight Sun vol 2\".\n",
      "Wait a few seconds.\n"
     ]
    },
    {
     "name": "stderr",
     "output_type": "stream",
     "text": [
      "\n"
     ]
    },
    {
     "name": "stdout",
     "output_type": "stream",
     "text": [
      "Preprocess text\n",
      "Starting ocr correction - loading correction rules\n",
      "Ocr correction\n"
     ]
    },
    {
     "name": "stderr",
     "output_type": "stream",
     "text": [
      "Applying OCR post-correction: 100%|\u001b[33m██████████\u001b[0m| 2358/2358 [00:00<00:00, 2421093.96it/s]"
     ]
    },
    {
     "name": "stdout",
     "output_type": "stream",
     "text": [
      "Saving data\n",
      "Save ocr corrections\n",
      "Script done.\n",
      "Time taken to run the script: 5.143129 seconds\n",
      "start time\n",
      "Start processing \"1882 Three in Norway by Two of Them\".\n",
      "Wait a few seconds.\n"
     ]
    },
    {
     "name": "stderr",
     "output_type": "stream",
     "text": [
      "\n"
     ]
    },
    {
     "name": "stdout",
     "output_type": "stream",
     "text": [
      "Preprocess text\n",
      "Starting ocr correction - loading correction rules\n",
      "Ocr correction\n"
     ]
    },
    {
     "name": "stderr",
     "output_type": "stream",
     "text": [
      "Applying OCR post-correction: 100%|\u001b[33m██████████\u001b[0m| 1322/1322 [00:00<00:00, 1320207.12it/s]"
     ]
    },
    {
     "name": "stdout",
     "output_type": "stream",
     "text": [
      "Saving data\n",
      "Save ocr corrections\n",
      "Script done.\n",
      "Time taken to run the script: 3.865093 seconds\n",
      "start time\n",
      "Start processing \"1884 Driftwood from Scandinavia\".\n",
      "Wait a few seconds.\n"
     ]
    },
    {
     "name": "stderr",
     "output_type": "stream",
     "text": [
      "\n"
     ]
    },
    {
     "name": "stdout",
     "output_type": "stream",
     "text": [
      "Preprocess text\n",
      "Starting ocr correction - loading correction rules\n",
      "Ocr correction\n"
     ]
    },
    {
     "name": "stderr",
     "output_type": "stream",
     "text": [
      "Applying OCR post-correction: 100%|\u001b[33m██████████\u001b[0m| 1167/1167 [00:00<?, ?it/s]"
     ]
    },
    {
     "name": "stdout",
     "output_type": "stream",
     "text": [
      "Saving data\n",
      "Save ocr corrections\n",
      "Script done.\n",
      "Time taken to run the script: 2.985980 seconds\n",
      "start time\n",
      "Start processing \"1884 Zigzag Journeys in Northern Land\".\n",
      "Wait a few seconds.\n"
     ]
    },
    {
     "name": "stderr",
     "output_type": "stream",
     "text": [
      "\n"
     ]
    },
    {
     "name": "stdout",
     "output_type": "stream",
     "text": [
      "Preprocess text\n",
      "Starting ocr correction - loading correction rules\n",
      "Ocr correction\n"
     ]
    },
    {
     "name": "stderr",
     "output_type": "stream",
     "text": [
      "Applying OCR post-correction: 100%|\u001b[33m██████████\u001b[0m| 2196/2196 [00:00<00:00, 2191978.01it/s]"
     ]
    },
    {
     "name": "stdout",
     "output_type": "stream",
     "text": [
      "Saving data\n",
      "Save ocr corrections\n",
      "Script done.\n",
      "Time taken to run the script: 3.223131 seconds\n",
      "start time\n",
      "Start processing \"1885 Sketches in Holland and Scandinavia\".\n",
      "Wait a few seconds.\n"
     ]
    },
    {
     "name": "stderr",
     "output_type": "stream",
     "text": [
      "\n"
     ]
    },
    {
     "name": "stdout",
     "output_type": "stream",
     "text": [
      "Preprocess text\n",
      "Starting ocr correction - loading correction rules\n",
      "Ocr correction\n"
     ]
    },
    {
     "name": "stderr",
     "output_type": "stream",
     "text": [
      "Applying OCR post-correction: 100%|\u001b[33m██████████\u001b[0m| 428/428 [00:00<?, ?it/s]"
     ]
    },
    {
     "name": "stdout",
     "output_type": "stream",
     "text": [
      "Saving data\n",
      "Save ocr corrections\n",
      "Script done.\n",
      "Time taken to run the script: 1.420000 seconds\n",
      "start time\n",
      "Start processing \"1885 The viking Bodleys\".\n",
      "Wait a few seconds.\n"
     ]
    },
    {
     "name": "stderr",
     "output_type": "stream",
     "text": [
      "\n"
     ]
    },
    {
     "name": "stdout",
     "output_type": "stream",
     "text": [
      "Preprocess text\n",
      "Starting ocr correction - loading correction rules\n",
      "Ocr correction\n"
     ]
    },
    {
     "name": "stderr",
     "output_type": "stream",
     "text": [
      "Applying OCR post-correction: 100%|\u001b[33m██████████\u001b[0m| 1622/1622 [00:00<00:00, 1603762.63it/s]"
     ]
    },
    {
     "name": "stdout",
     "output_type": "stream",
     "text": [
      "Saving data\n",
      "Save ocr corrections\n",
      "Script done.\n",
      "Time taken to run the script: 8.616974 seconds\n",
      "start time\n",
      "Start processing \"1887 Glimpses of Scandinavia and Russia\".\n",
      "Wait a few seconds.\n"
     ]
    },
    {
     "name": "stderr",
     "output_type": "stream",
     "text": [
      "\n"
     ]
    },
    {
     "name": "stdout",
     "output_type": "stream",
     "text": [
      "Preprocess text\n",
      "Starting ocr correction - loading correction rules\n",
      "Ocr correction\n"
     ]
    },
    {
     "name": "stderr",
     "output_type": "stream",
     "text": [
      "Applying OCR post-correction: 100%|\u001b[33m██████████\u001b[0m| 533/533 [00:00<?, ?it/s]"
     ]
    },
    {
     "name": "stdout",
     "output_type": "stream",
     "text": [
      "Saving data\n",
      "Save ocr corrections\n",
      "Script done.\n",
      "Time taken to run the script: 2.932653 seconds\n",
      "start time\n",
      "Start processing \"1887 Norway Nights and Russian Days\".\n",
      "Wait a few seconds.\n"
     ]
    },
    {
     "name": "stderr",
     "output_type": "stream",
     "text": [
      "\n"
     ]
    },
    {
     "name": "stdout",
     "output_type": "stream",
     "text": [
      "Preprocess text\n",
      "Starting ocr correction - loading correction rules\n",
      "Ocr correction\n"
     ]
    },
    {
     "name": "stderr",
     "output_type": "stream",
     "text": [
      "Applying OCR post-correction: 100%|\u001b[33m██████████\u001b[0m| 603/603 [00:00<?, ?it/s]"
     ]
    },
    {
     "name": "stdout",
     "output_type": "stream",
     "text": [
      "Saving data\n",
      "Save ocr corrections\n",
      "Script done.\n",
      "Time taken to run the script: 1.893769 seconds\n",
      "start time\n",
      "Start processing \"1889 Letters Written During a Short Residence in Sweden Norway and Denmark\".\n",
      "Wait a few seconds.\n"
     ]
    },
    {
     "name": "stderr",
     "output_type": "stream",
     "text": [
      "\n"
     ]
    },
    {
     "name": "stdout",
     "output_type": "stream",
     "text": [
      "Preprocess text\n",
      "Starting ocr correction - loading correction rules\n",
      "Ocr correction\n"
     ]
    },
    {
     "name": "stderr",
     "output_type": "stream",
     "text": [
      "Applying OCR post-correction: 100%|\u001b[33m██████████\u001b[0m| 603/603 [00:00<?, ?it/s]"
     ]
    },
    {
     "name": "stdout",
     "output_type": "stream",
     "text": [
      "Saving data\n",
      "Save ocr corrections\n",
      "Script done.\n",
      "Time taken to run the script: 2.148021 seconds\n",
      "start time\n",
      "Start processing \"1890 Norwegian Pictures\".\n",
      "Wait a few seconds.\n"
     ]
    },
    {
     "name": "stderr",
     "output_type": "stream",
     "text": [
      "\n"
     ]
    },
    {
     "name": "stdout",
     "output_type": "stream",
     "text": [
      "Preprocess text\n",
      "Starting ocr correction - loading correction rules\n",
      "Ocr correction\n"
     ]
    },
    {
     "name": "stderr",
     "output_type": "stream",
     "text": [
      "Applying OCR post-correction: 100%|\u001b[33m██████████\u001b[0m| 1006/1006 [00:00<00:00, 1053024.66it/s]\n"
     ]
    },
    {
     "name": "stdout",
     "output_type": "stream",
     "text": [
      "Saving data\n",
      "Save ocr corrections\n",
      "Script done.\n",
      "Time taken to run the script: 2.095540 seconds\n",
      "start time\n",
      "Start processing \"1894 A Girls Ride in Iceland\".\n",
      "Wait a few seconds.\n",
      "Preprocess text\n",
      "Starting ocr correction - loading correction rules\n",
      "Ocr correction\n"
     ]
    },
    {
     "name": "stderr",
     "output_type": "stream",
     "text": [
      "Applying OCR post-correction: 100%|\u001b[33m██████████\u001b[0m| 747/747 [00:00<?, ?it/s]"
     ]
    },
    {
     "name": "stdout",
     "output_type": "stream",
     "text": [
      "Saving data\n",
      "Save ocr corrections\n",
      "Script done.\n",
      "Time taken to run the script: 2.281957 seconds\n",
      "start time\n",
      "Start processing \"1894 A Winter Jaunt to Norway\".\n",
      "Wait a few seconds.\n"
     ]
    },
    {
     "name": "stderr",
     "output_type": "stream",
     "text": [
      "\n"
     ]
    },
    {
     "name": "stdout",
     "output_type": "stream",
     "text": [
      "Preprocess text\n",
      "Starting ocr correction - loading correction rules\n",
      "Ocr correction\n"
     ]
    },
    {
     "name": "stderr",
     "output_type": "stream",
     "text": [
      "Applying OCR post-correction: 100%|\u001b[33m██████████\u001b[0m| 1480/1480 [00:00<?, ?it/s]"
     ]
    },
    {
     "name": "stdout",
     "output_type": "stream",
     "text": [
      "Saving data\n",
      "Save ocr corrections\n",
      "Script done.\n",
      "Time taken to run the script: 3.809255 seconds\n",
      "start time\n",
      "Start processing \"1899 Ruins of the Saga Time\".\n",
      "Wait a few seconds.\n"
     ]
    },
    {
     "name": "stderr",
     "output_type": "stream",
     "text": [
      "\n"
     ]
    },
    {
     "name": "stdout",
     "output_type": "stream",
     "text": [
      "Preprocess text\n",
      "Starting ocr correction - loading correction rules\n",
      "Ocr correction\n"
     ]
    },
    {
     "name": "stderr",
     "output_type": "stream",
     "text": [
      "Applying OCR post-correction: 100%|\u001b[33m██████████\u001b[0m| 677/677 [00:00<?, ?it/s]"
     ]
    },
    {
     "name": "stdout",
     "output_type": "stream",
     "text": [
      "Saving data\n",
      "Save ocr corrections\n",
      "Script done.\n",
      "Time taken to run the script: 2.063102 seconds\n",
      "start time\n",
      "Start processing \"1902 Across Iceland\".\n",
      "Wait a few seconds.\n"
     ]
    },
    {
     "name": "stderr",
     "output_type": "stream",
     "text": [
      "\n"
     ]
    },
    {
     "name": "stdout",
     "output_type": "stream",
     "text": [
      "Preprocess text\n",
      "Starting ocr correction - loading correction rules\n",
      "Ocr correction\n"
     ]
    },
    {
     "name": "stderr",
     "output_type": "stream",
     "text": [
      "Applying OCR post-correction: 100%|\u001b[33m██████████\u001b[0m| 990/990 [00:00<?, ?it/s]"
     ]
    },
    {
     "name": "stdout",
     "output_type": "stream",
     "text": [
      "Saving data\n",
      "Save ocr corrections\n",
      "Script done.\n",
      "Time taken to run the script: 3.234737 seconds\n",
      "start time\n",
      "Start processing \"1906 Through Scandinavia to Moscow\".\n",
      "Wait a few seconds.\n"
     ]
    },
    {
     "name": "stderr",
     "output_type": "stream",
     "text": [
      "\n"
     ]
    },
    {
     "name": "stdout",
     "output_type": "stream",
     "text": [
      "Preprocess text\n",
      "Starting ocr correction - loading correction rules\n",
      "Ocr correction\n"
     ]
    },
    {
     "name": "stderr",
     "output_type": "stream",
     "text": [
      "Applying OCR post-correction: 100%|\u001b[33m██████████\u001b[0m| 927/927 [00:00<00:00, 929727.36it/s]"
     ]
    },
    {
     "name": "stdout",
     "output_type": "stream",
     "text": [
      "Saving data\n",
      "Save ocr corrections\n",
      "Script done.\n",
      "Time taken to run the script: 2.410426 seconds\n",
      "start time\n",
      "Start processing \"1907 The Norwegian Fjords\".\n",
      "Wait a few seconds.\n"
     ]
    },
    {
     "name": "stderr",
     "output_type": "stream",
     "text": [
      "\n"
     ]
    },
    {
     "name": "stdout",
     "output_type": "stream",
     "text": [
      "Preprocess text\n",
      "Starting ocr correction - loading correction rules\n",
      "Ocr correction\n"
     ]
    },
    {
     "name": "stderr",
     "output_type": "stream",
     "text": [
      "Applying OCR post-correction: 100%|\u001b[33m██████████\u001b[0m| 700/700 [00:00<?, ?it/s]"
     ]
    },
    {
     "name": "stdout",
     "output_type": "stream",
     "text": [
      "Saving data\n",
      "Save ocr corrections\n",
      "Script done.\n",
      "Time taken to run the script: 1.791727 seconds\n",
      "start time\n",
      "Start processing \"1911 Peeps at Many Lands Norway\".\n",
      "Wait a few seconds.\n"
     ]
    },
    {
     "name": "stderr",
     "output_type": "stream",
     "text": [
      "\n"
     ]
    },
    {
     "name": "stdout",
     "output_type": "stream",
     "text": [
      "Preprocess text\n",
      "Starting ocr correction - loading correction rules\n",
      "Ocr correction\n"
     ]
    },
    {
     "name": "stderr",
     "output_type": "stream",
     "text": [
      "Applying OCR post-correction: 100%|\u001b[33m██████████\u001b[0m| 551/551 [00:00<?, ?it/s]"
     ]
    },
    {
     "name": "stdout",
     "output_type": "stream",
     "text": [
      "Saving data\n",
      "Save ocr corrections\n",
      "Script done.\n",
      "Time taken to run the script: 1.571963 seconds\n",
      "start time\n",
      "Start processing \"1914 Capitals of the Northlands Tales of Ten Cities\".\n",
      "Wait a few seconds.\n"
     ]
    },
    {
     "name": "stderr",
     "output_type": "stream",
     "text": [
      "\n"
     ]
    },
    {
     "name": "stdout",
     "output_type": "stream",
     "text": [
      "Preprocess text\n",
      "Starting ocr correction - loading correction rules\n",
      "Ocr correction\n"
     ]
    },
    {
     "name": "stderr",
     "output_type": "stream",
     "text": [
      "Applying OCR post-correction: 100%|\u001b[33m██████████\u001b[0m| 1244/1244 [00:00<?, ?it/s]"
     ]
    },
    {
     "name": "stdout",
     "output_type": "stream",
     "text": [
      "Saving data\n",
      "Save ocr corrections\n",
      "Script done.\n",
      "Time taken to run the script: 2.651119 seconds\n",
      "start time\n",
      "Start processing \"1914 Iceland Horseback tours in saga land\".\n",
      "Wait a few seconds.\n"
     ]
    },
    {
     "name": "stderr",
     "output_type": "stream",
     "text": [
      "\n"
     ]
    },
    {
     "name": "stdout",
     "output_type": "stream",
     "text": [
      "Preprocess text\n",
      "Starting ocr correction - loading correction rules\n",
      "Ocr correction\n"
     ]
    },
    {
     "name": "stderr",
     "output_type": "stream",
     "text": [
      "Applying OCR post-correction: 100%|\u001b[33m██████████\u001b[0m| 1652/1652 [00:00<?, ?it/s]"
     ]
    },
    {
     "name": "stdout",
     "output_type": "stream",
     "text": [
      "Saving data\n",
      "Save ocr corrections\n",
      "Script done.\n",
      "Time taken to run the script: 3.459002 seconds\n",
      "start time\n",
      "Start processing \"1918 The Charm of Scandinavia\".\n",
      "Wait a few seconds.\n"
     ]
    },
    {
     "name": "stderr",
     "output_type": "stream",
     "text": [
      "\n"
     ]
    },
    {
     "name": "stdout",
     "output_type": "stream",
     "text": [
      "Preprocess text\n",
      "Starting ocr correction - loading correction rules\n",
      "Ocr correction\n"
     ]
    },
    {
     "name": "stderr",
     "output_type": "stream",
     "text": [
      "Applying OCR post-correction: 100%|\u001b[33m██████████\u001b[0m| 1492/1492 [00:00<00:00, 1489976.56it/s]"
     ]
    },
    {
     "name": "stdout",
     "output_type": "stream",
     "text": [
      "Saving data\n",
      "Save ocr corrections\n",
      "Script done.\n",
      "Time taken to run the script: 3.359514 seconds\n",
      "start time\n",
      "Start processing \"1921 Denmark\".\n",
      "Wait a few seconds.\n"
     ]
    },
    {
     "name": "stderr",
     "output_type": "stream",
     "text": [
      "\n"
     ]
    },
    {
     "name": "stdout",
     "output_type": "stream",
     "text": [
      "Preprocess text\n",
      "Starting ocr correction - loading correction rules\n",
      "Ocr correction\n"
     ]
    },
    {
     "name": "stderr",
     "output_type": "stream",
     "text": [
      "Applying OCR post-correction: 100%|\u001b[33m██████████\u001b[0m| 307/307 [00:00<?, ?it/s]"
     ]
    },
    {
     "name": "stdout",
     "output_type": "stream",
     "text": [
      "Saving data\n",
      "Save ocr corrections\n",
      "Script done.\n",
      "Time taken to run the script: 1.163779 seconds\n",
      "start time\n",
      "Start processing \"1963 Iceland Its Scenes and Its Sagas\".\n",
      "Wait a few seconds.\n"
     ]
    },
    {
     "name": "stderr",
     "output_type": "stream",
     "text": [
      "\n"
     ]
    },
    {
     "name": "stdout",
     "output_type": "stream",
     "text": [
      "Preprocess text\n",
      "Starting ocr correction - loading correction rules\n",
      "Ocr correction\n"
     ]
    },
    {
     "name": "stderr",
     "output_type": "stream",
     "text": [
      "Applying OCR post-correction: 100%|\u001b[33m██████████\u001b[0m| 3773/3773 [00:00<00:00, 3773273.48it/s]"
     ]
    },
    {
     "name": "stdout",
     "output_type": "stream",
     "text": [
      "Saving data\n",
      "Save ocr corrections\n",
      "Script done.\n",
      "Time taken to run the script: 6.587312 seconds\n"
     ]
    },
    {
     "name": "stderr",
     "output_type": "stream",
     "text": [
      "\n"
     ]
    },
    {
     "data": {
      "text/plain": [
       "[None,\n",
       " None,\n",
       " None,\n",
       " None,\n",
       " None,\n",
       " None,\n",
       " None,\n",
       " None,\n",
       " None,\n",
       " None,\n",
       " None,\n",
       " None,\n",
       " None,\n",
       " None,\n",
       " None,\n",
       " None,\n",
       " None,\n",
       " None,\n",
       " None,\n",
       " None,\n",
       " None,\n",
       " None,\n",
       " None,\n",
       " None,\n",
       " None,\n",
       " None,\n",
       " None,\n",
       " None,\n",
       " None,\n",
       " None,\n",
       " None,\n",
       " None,\n",
       " None,\n",
       " None,\n",
       " None,\n",
       " None,\n",
       " None,\n",
       " None,\n",
       " None,\n",
       " None,\n",
       " None,\n",
       " None,\n",
       " None,\n",
       " None,\n",
       " None,\n",
       " None,\n",
       " None,\n",
       " None,\n",
       " None,\n",
       " None,\n",
       " None,\n",
       " None,\n",
       " None,\n",
       " None,\n",
       " None,\n",
       " None,\n",
       " None,\n",
       " None,\n",
       " None,\n",
       " None,\n",
       " None,\n",
       " None,\n",
       " None,\n",
       " None,\n",
       " None,\n",
       " None,\n",
       " None,\n",
       " None,\n",
       " None,\n",
       " None,\n",
       " None,\n",
       " None,\n",
       " None,\n",
       " None,\n",
       " None,\n",
       " None,\n",
       " None,\n",
       " None,\n",
       " None,\n",
       " None,\n",
       " None,\n",
       " None,\n",
       " None,\n",
       " None,\n",
       " None,\n",
       " None,\n",
       " None,\n",
       " None,\n",
       " None,\n",
       " None,\n",
       " None,\n",
       " None,\n",
       " None,\n",
       " None,\n",
       " None,\n",
       " None,\n",
       " None,\n",
       " None,\n",
       " None,\n",
       " None,\n",
       " None,\n",
       " None,\n",
       " None,\n",
       " None,\n",
       " None,\n",
       " None,\n",
       " None,\n",
       " None,\n",
       " None,\n",
       " None,\n",
       " None,\n",
       " None,\n",
       " None,\n",
       " None,\n",
       " None,\n",
       " None,\n",
       " None,\n",
       " None]"
      ]
     },
     "execution_count": 31,
     "metadata": {},
     "output_type": "execute_result"
    }
   ],
   "source": [
    "[input_is_folder(epub_file) for epub_file in files]"
   ]
  },
  {
   "cell_type": "code",
   "execution_count": null,
   "id": "505c2e33-294f-455e-988b-4bbd2642f16c",
   "metadata": {},
   "outputs": [],
   "source": []
  }
 ],
 "metadata": {
  "kernelspec": {
   "display_name": "Python 3 (ipykernel)",
   "language": "python",
   "name": "python3"
  },
  "language_info": {
   "codemirror_mode": {
    "name": "ipython",
    "version": 3
   },
   "file_extension": ".py",
   "mimetype": "text/x-python",
   "name": "python",
   "nbconvert_exporter": "python",
   "pygments_lexer": "ipython3",
   "version": "3.9.21"
  }
 },
 "nbformat": 4,
 "nbformat_minor": 5
}
