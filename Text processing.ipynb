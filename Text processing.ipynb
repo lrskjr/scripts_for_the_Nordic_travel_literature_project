{
 "cells": [
  {
   "cell_type": "markdown",
   "id": "df35f5bd-908c-4a20-95c6-cc62bc57f933",
   "metadata": {},
   "source": [
    "# Text Processing\n",
    "\n",
    "This notebook processes OCR-extracted text from Nordic travel literature CSV files through a comprehensive pipeline:\n",
    "\n",
    "## Overview\n",
    "- **Input**: Raw CSV files from `literature csv_raw` folder containing OCR-extracted text\n",
    "- **Output**: Cleaned CSV files in `literature csv_clean` folder with corrected text\n",
    "- **Purpose**: Prepare historical travel literature text for NLP analysis\n",
    "\n",
    "## Processing Pipeline\n",
    "1. **Text Preprocessing**: Cleans and normalizes OCR text by removing soft hyphens, standardizing punctuation, and collapsing whitespace\n",
    "2. **OCR Correction**: Applies rule-based corrections using a dictionary of common OCR errors while preserving original capitalization\n",
    "3. **Batch Processing**: Processes all CSV files in the input folder with progress tracking\n",
    "4. **Output Generation**: Creates new columns with preprocessed content, corrected text, and correction tracking data\n",
    "\n",
    "## Key Features\n",
    "- Preserves original text alongside corrected versions\n",
    "- Tracks all corrections made with context\n",
    "- Maintains original capitalization patterns\n",
    "- Provides progress bars for batch processing\n",
    "- Handles large datasets efficiently"
   ]
  },
  {
   "cell_type": "code",
   "execution_count": 27,
   "id": "da580c72-b4e2-4973-a74f-21bd88a32eaa",
   "metadata": {},
   "outputs": [],
   "source": [
    "# Data manipulation and file operations\n",
    "import pandas as pd  # For creating and managing DataFrames\n",
    "import os  # For file and directory operations\n",
    "import re # For handling text processing patterns\n",
    "\n",
    "# Progress tracking\n",
    "from tqdm.notebook import tqdm  # Display progress bars in Jupyter notebooks\n",
    "tqdm.pandas()"
   ]
  },
  {
   "cell_type": "markdown",
   "id": "9bfeb304-55c6-46c2-8a01-b957153867e5",
   "metadata": {},
   "source": [
    "## Text Preprocessing Function\n",
    "\n",
    "This script cleans and normalizes text by:\n",
    "- Removing soft hyphens and line breaks\n",
    "- Standardizing punctuation (spaces around `.`, `,`, `!`, `?`)\n",
    "- Removing special characters while preserving basic punctuation\n",
    "- Optionally removing numbers and words containing numbers\n",
    "- Collapsing multiple whitespaces into single spaces\n",
    "\n",
    "Use this function to prepare OCR-extracted text for NLP analysis.\n"
   ]
  },
  {
   "cell_type": "code",
   "execution_count": 1,
   "id": "2b1325a4-e1da-4db6-862c-df3ae3aa7729",
   "metadata": {},
   "outputs": [],
   "source": [
    "# preprocess text\n",
    "def preprocess_text(text_string):\n",
    "    # Avoid data type errors\n",
    "    _text_string = str(text_string)\n",
    "    # Store text data in variable\n",
    "    # Remove newlines, replace apostrophe s with s, remove quotation marks\n",
    "    text_string_replace = _text_string.replace(r' \\xad\\n', '').replace(r'\\xad\\n', '') \\\n",
    "        .replace(r'\\xad', '').replace(r'\\xad ', '') \\\n",
    "        .replace(r'-\\n', '').replace('—', ' ').replace(r'\\n', ' ') \\\n",
    "        .replace(\"'s\", \"s\").replace('\"', ' ').replace(\"'\", \" \") \\\n",
    "        .replace('.', ' . ').replace(' .', ' . ').replace(',', ' ,') \\\n",
    "        .replace('!', ' !').replace('?', ' ?')\n",
    "\n",
    "    # scrub for multiple signs\n",
    "    # but keep full stops, commas, exclamation, and question marks\n",
    "    text_string_re = re.sub(r':|;|\\||\\+|\\\"|‘|’|“|”|\\’|…|\\-|–|—|\\$|&|\\*|>|<|\\/|»|«', '', text_string_replace)\n",
    "\n",
    "    # Remove \"standalone\" numbers, but keep numbers that are part of words (e.g. \"20th\") (optional)\n",
    "    text_string_re = re.sub(r'\\b\\d+\\b', ' ', text_string_re)\n",
    "    \n",
    "    # Remove multiple whitespaces\n",
    "    text_string_sub_additional_white_space = re.sub(r'\\s+', ' ', text_string_re)\n",
    "\n",
    "    return text_string_sub_additional_white_space"
   ]
  },
  {
   "cell_type": "markdown",
   "id": "ce5687c8",
   "metadata": {},
   "source": [
    "## OCR Correction Function\n",
    "\n",
    "\n",
    "This function corrects common OCR errors in text by:\n",
    "- Loading correction rules from `Underwoods_CorrectionRules.txt` file. (Source: [CorrectionRules.txt](https://github.com/tedunderwood/DataMunging/blob/master/rulesets/CorrectionRules.txt)\n",
    "- Creating a dictionary mapping common OCR errors to correct words\n",
    "- Preserving original capitalization (title case, uppercase, lowercase)\n",
    "- Tracking corrections made and providing context around corrected words\n",
    "- Returning both the corrected text and a detailed corrections tracker\n",
    "\n",
    "Use this function to improve OCR-extracted text quality for NLP analysis.\n",
    "\n"
   ]
  },
  {
   "cell_type": "code",
   "execution_count": 2,
   "id": "1294b1c6-26a2-492b-83a8-ca3f2459eab7",
   "metadata": {},
   "outputs": [],
   "source": [
    "# Read the correction rules from the file\n",
    "with open('Underwoods_CorrectionRules.txt', 'r', encoding='utf-8') as f:\n",
    "    CorrectionRules_string = f.read()\n",
    "\n",
    "# Process the correction rules\n",
    "CorrectionRules_list = CorrectionRules_string.split('\\n')\n",
    "list_of_CorrectionRules_list = [i.split('\\t') for i in CorrectionRules_list]\n",
    "better_list_of_CorrectionRules = [i[0:2] for i in list_of_CorrectionRules_list]\n",
    "\n",
    "# Add additional pairs\n",
    "observations_to_add = [[\"Bruffels\", 'Brussels'], [\"fix\", 'six'], ['Ruffia', 'Russia']]\n",
    "better_list_of_CorrectionRules.extend(observations_to_add)\n",
    "\n",
    "# Build correction dictionary\n",
    "correction_dict = dict(better_list_of_CorrectionRules)\n",
    "\n",
    "\n",
    "# OCR Correction Function\n",
    "def ocr_correction(text):\n",
    "    # Prepare for correction\n",
    "    ### Keep track of the conditions of the words (capital, title, upper,lower)\n",
    "    tokens = text.split()\n",
    "\n",
    "    # Track the original case of each word\n",
    "    original_case = [i for i in tokens]\n",
    "    clean_text_list = [i.lower() for i in tokens]\n",
    "\n",
    "    # Initialize the list to store corrected words and a dictionary to track corrections\n",
    "    new_word_list = []\n",
    "    corrections_tracker = {}\n",
    "\n",
    "    # Iterate through the clean_text_list word list\n",
    "    for index, word in enumerate(clean_text_list):\n",
    "        # Check if the word has a correction in the dictionary\n",
    "        if word in correction_dict:\n",
    "            # If it does, append the corrected word to the new list and track the correction\n",
    "            corrected_word = correction_dict[word]\n",
    "            # Restore the original case of the word\n",
    "            if original_case[index].istitle():\n",
    "                corrected_word = corrected_word.capitalize()\n",
    "            elif original_case[index].isupper():\n",
    "                corrected_word = corrected_word.upper()\n",
    "            new_word_list.append(corrected_word)\n",
    "            corrections_tracker[word] = corrected_word\n",
    "\n",
    "            # Extract context around the corrected word\n",
    "            start_index = max(0, index - 10)\n",
    "            end_index = min(len(clean_text_list), index + 11)\n",
    "            context = clean_text_list[start_index:end_index]\n",
    "\n",
    "            # Store the context with the correction\n",
    "            corrections_tracker[word] = {\n",
    "                'corrected_word': corrected_word,\n",
    "                'context': ' '.join(context)\n",
    "            }\n",
    "        else:\n",
    "            # If it doesn't, append the original word\n",
    "            new_word_list.append(original_case[index])\n",
    "\n",
    "    # Send data back to text\n",
    "    new_corrected_text = ' '.join(new_word_list)\n",
    "\n",
    "    return corrections_tracker, new_corrected_text"
   ]
  },
  {
   "cell_type": "code",
   "execution_count": 30,
   "id": "cc5b8424-d18c-4a33-9c8e-a975a2975f5b",
   "metadata": {},
   "outputs": [
    {
     "data": {
      "application/vnd.jupyter.widget-view+json": {
       "model_id": "2770a9782fcc429399341d898fd11797",
       "version_major": 2,
       "version_minor": 0
      },
      "text/plain": [
       "Text processing:   0%|          | 0/159 [00:00<?, ?it/s]"
      ]
     },
     "metadata": {},
     "output_type": "display_data"
    },
    {
     "name": "stdout",
     "output_type": "stream",
     "text": [
      "Starting on 1772 Travels through Holland Flanders Germany Denmark Sweden Lapland Russia the Ukraine and Poland in the years 1768 1769 and 1770 Vol 1.csv\n",
      "\n"
     ]
    },
    {
     "data": {
      "application/vnd.jupyter.widget-view+json": {
       "model_id": "87d41c9cfb6348e699ad2768552c78d2",
       "version_major": 2,
       "version_minor": 0
      },
      "text/plain": [
       "  0%|          | 0/202 [00:00<?, ?it/s]"
      ]
     },
     "metadata": {},
     "output_type": "display_data"
    },
    {
     "data": {
      "application/vnd.jupyter.widget-view+json": {
       "model_id": "a6b1e81a8e934658a8f6819a927f36da",
       "version_major": 2,
       "version_minor": 0
      },
      "text/plain": [
       "Applying OCR post-correction:   0%|          | 0/202 [00:00<?, ?it/s]"
      ]
     },
     "metadata": {},
     "output_type": "display_data"
    },
    {
     "name": "stdout",
     "output_type": "stream",
     "text": [
      "Done with 1772 Travels through Holland Flanders Germany Denmark Sweden Lapland Russia the Ukraine and Poland in the years 1768 1769 and 1770 Vol 1.csv\n",
      "\n",
      "Starting on 1773 Travels through Holland Flanders Germany Denmark Sweden Lapland Russia the Ukraine and Poland in the years 1768 1769 and 1770 Vol 3.csv\n",
      "\n"
     ]
    },
    {
     "data": {
      "application/vnd.jupyter.widget-view+json": {
       "model_id": "aaf998bd2aa14fb0b16b608d06ef64a9",
       "version_major": 2,
       "version_minor": 0
      },
      "text/plain": [
       "  0%|          | 0/816 [00:00<?, ?it/s]"
      ]
     },
     "metadata": {},
     "output_type": "display_data"
    },
    {
     "data": {
      "application/vnd.jupyter.widget-view+json": {
       "model_id": "94045e993b6e4b819a2c12caf4c7b70c",
       "version_major": 2,
       "version_minor": 0
      },
      "text/plain": [
       "Applying OCR post-correction:   0%|          | 0/816 [00:00<?, ?it/s]"
      ]
     },
     "metadata": {},
     "output_type": "display_data"
    },
    {
     "name": "stdout",
     "output_type": "stream",
     "text": [
      "Done with 1773 Travels through Holland Flanders Germany Denmark Sweden Lapland Russia the Ukraine and Poland in the years 1768 1769 and 1770 Vol 3.csv\n",
      "\n",
      "Starting on 1795 A tour through some of the northern parts of Europe.csv\n",
      "\n"
     ]
    },
    {
     "data": {
      "application/vnd.jupyter.widget-view+json": {
       "model_id": "bc3f07c3bff548c4aa9e23b28510147a",
       "version_major": 2,
       "version_minor": 0
      },
      "text/plain": [
       "  0%|          | 0/721 [00:00<?, ?it/s]"
      ]
     },
     "metadata": {},
     "output_type": "display_data"
    },
    {
     "data": {
      "application/vnd.jupyter.widget-view+json": {
       "model_id": "f8f1427778bd4c3e8710c4023ac80a66",
       "version_major": 2,
       "version_minor": 0
      },
      "text/plain": [
       "Applying OCR post-correction:   0%|          | 0/721 [00:00<?, ?it/s]"
      ]
     },
     "metadata": {},
     "output_type": "display_data"
    },
    {
     "name": "stdout",
     "output_type": "stream",
     "text": [
      "Done with 1795 A tour through some of the northern parts of Europe.csv\n",
      "\n",
      "Starting on 1805 A northern summer.csv\n",
      "\n"
     ]
    },
    {
     "data": {
      "application/vnd.jupyter.widget-view+json": {
       "model_id": "29b4f0918eb64f35863862b789a26c52",
       "version_major": 2,
       "version_minor": 0
      },
      "text/plain": [
       "  0%|          | 0/2204 [00:00<?, ?it/s]"
      ]
     },
     "metadata": {},
     "output_type": "display_data"
    },
    {
     "data": {
      "application/vnd.jupyter.widget-view+json": {
       "model_id": "8ab9138b21484c838441ad3be69a4e40",
       "version_major": 2,
       "version_minor": 0
      },
      "text/plain": [
       "Applying OCR post-correction:   0%|          | 0/2204 [00:00<?, ?it/s]"
      ]
     },
     "metadata": {},
     "output_type": "display_data"
    },
    {
     "name": "stdout",
     "output_type": "stream",
     "text": [
      "Done with 1805 A northern summer.csv\n",
      "\n",
      "Starting on 1807 A Tour round the Baltic.csv\n",
      "\n"
     ]
    },
    {
     "data": {
      "application/vnd.jupyter.widget-view+json": {
       "model_id": "5402c009df2247eeb9edf03b560c9994",
       "version_major": 2,
       "version_minor": 0
      },
      "text/plain": [
       "  0%|          | 0/466 [00:00<?, ?it/s]"
      ]
     },
     "metadata": {},
     "output_type": "display_data"
    },
    {
     "data": {
      "application/vnd.jupyter.widget-view+json": {
       "model_id": "6821073add7145d2ab83be1a13a5d1da",
       "version_major": 2,
       "version_minor": 0
      },
      "text/plain": [
       "Applying OCR post-correction:   0%|          | 0/466 [00:00<?, ?it/s]"
      ]
     },
     "metadata": {},
     "output_type": "display_data"
    },
    {
     "name": "stdout",
     "output_type": "stream",
     "text": [
      "Done with 1807 A Tour round the Baltic.csv\n",
      "\n",
      "Starting on 1807 A tour through part of Germany Poland Russia Sweden Denmark.csv\n",
      "\n"
     ]
    },
    {
     "data": {
      "application/vnd.jupyter.widget-view+json": {
       "model_id": "490ccb0a239341fe916066428c29d227",
       "version_major": 2,
       "version_minor": 0
      },
      "text/plain": [
       "  0%|          | 0/620 [00:00<?, ?it/s]"
      ]
     },
     "metadata": {},
     "output_type": "display_data"
    },
    {
     "data": {
      "application/vnd.jupyter.widget-view+json": {
       "model_id": "454066e4a72a481a8752d07fad36026c",
       "version_major": 2,
       "version_minor": 0
      },
      "text/plain": [
       "Applying OCR post-correction:   0%|          | 0/620 [00:00<?, ?it/s]"
      ]
     },
     "metadata": {},
     "output_type": "display_data"
    },
    {
     "name": "stdout",
     "output_type": "stream",
     "text": [
      "Done with 1807 A tour through part of Germany Poland Russia Sweden Denmark.csv\n",
      "\n",
      "Starting on 1809 Travelling sketches in Russia and Sweden.csv\n",
      "\n"
     ]
    },
    {
     "data": {
      "application/vnd.jupyter.widget-view+json": {
       "model_id": "31b8525370b9435c92e31391b711ea6e",
       "version_major": 2,
       "version_minor": 0
      },
      "text/plain": [
       "  0%|          | 0/2416 [00:00<?, ?it/s]"
      ]
     },
     "metadata": {},
     "output_type": "display_data"
    },
    {
     "data": {
      "application/vnd.jupyter.widget-view+json": {
       "model_id": "ee47f5732e06470e9f9e1dfdf1bc06c3",
       "version_major": 2,
       "version_minor": 0
      },
      "text/plain": [
       "Applying OCR post-correction:   0%|          | 0/2416 [00:00<?, ?it/s]"
      ]
     },
     "metadata": {},
     "output_type": "display_data"
    },
    {
     "name": "stdout",
     "output_type": "stream",
     "text": [
      "Done with 1809 Travelling sketches in Russia and Sweden.csv\n",
      "\n",
      "Starting on 1810 Travel through Denmark and part of Sweden during the winter and spring of the year 1809.csv\n",
      "\n"
     ]
    },
    {
     "data": {
      "application/vnd.jupyter.widget-view+json": {
       "model_id": "f44f1cca0c194e479f34b346109bcbfc",
       "version_major": 2,
       "version_minor": 0
      },
      "text/plain": [
       "  0%|          | 0/667 [00:00<?, ?it/s]"
      ]
     },
     "metadata": {},
     "output_type": "display_data"
    },
    {
     "data": {
      "application/vnd.jupyter.widget-view+json": {
       "model_id": "8fb6105b69bf4878942c44295e1cc45e",
       "version_major": 2,
       "version_minor": 0
      },
      "text/plain": [
       "Applying OCR post-correction:   0%|          | 0/667 [00:00<?, ?it/s]"
      ]
     },
     "metadata": {},
     "output_type": "display_data"
    },
    {
     "name": "stdout",
     "output_type": "stream",
     "text": [
      "Done with 1810 Travel through Denmark and part of Sweden during the winter and spring of the year 1809.csv\n",
      "\n",
      "Starting on 1811 Journal of a Tour in Iceland in the Summer of 1809.csv\n",
      "\n"
     ]
    },
    {
     "data": {
      "application/vnd.jupyter.widget-view+json": {
       "model_id": "18dacabfc6a5448b911b4d0390de77a7",
       "version_major": 2,
       "version_minor": 0
      },
      "text/plain": [
       "  0%|          | 0/2123 [00:00<?, ?it/s]"
      ]
     },
     "metadata": {},
     "output_type": "display_data"
    },
    {
     "data": {
      "application/vnd.jupyter.widget-view+json": {
       "model_id": "dbe71a78f71c4b91944a64f766439602",
       "version_major": 2,
       "version_minor": 0
      },
      "text/plain": [
       "Applying OCR post-correction:   0%|          | 0/2123 [00:00<?, ?it/s]"
      ]
     },
     "metadata": {},
     "output_type": "display_data"
    },
    {
     "name": "stdout",
     "output_type": "stream",
     "text": [
      "Done with 1811 Journal of a Tour in Iceland in the Summer of 1809.csv\n",
      "\n",
      "Starting on 1811 Travels in Iceland.csv\n",
      "\n"
     ]
    },
    {
     "data": {
      "application/vnd.jupyter.widget-view+json": {
       "model_id": "8ed1f8c084724f97aacc4954338b44a1",
       "version_major": 2,
       "version_minor": 0
      },
      "text/plain": [
       "  0%|          | 0/562 [00:00<?, ?it/s]"
      ]
     },
     "metadata": {},
     "output_type": "display_data"
    },
    {
     "data": {
      "application/vnd.jupyter.widget-view+json": {
       "model_id": "572bd609e8b24c8892bab3fff879ed75",
       "version_major": 2,
       "version_minor": 0
      },
      "text/plain": [
       "Applying OCR post-correction:   0%|          | 0/562 [00:00<?, ?it/s]"
      ]
     },
     "metadata": {},
     "output_type": "display_data"
    },
    {
     "name": "stdout",
     "output_type": "stream",
     "text": [
      "Done with 1811 Travels in Iceland.csv\n",
      "\n",
      "Starting on 1812 Travels in the island of Iceland during the summer of the year MDCCCX.csv\n",
      "\n"
     ]
    },
    {
     "data": {
      "application/vnd.jupyter.widget-view+json": {
       "model_id": "6a1ee0b3d4ca4254bfcb953132d6e717",
       "version_major": 2,
       "version_minor": 0
      },
      "text/plain": [
       "  0%|          | 0/6266 [00:00<?, ?it/s]"
      ]
     },
     "metadata": {},
     "output_type": "display_data"
    },
    {
     "data": {
      "application/vnd.jupyter.widget-view+json": {
       "model_id": "911f0049917e47d29fb9182a89b5ff5a",
       "version_major": 2,
       "version_minor": 0
      },
      "text/plain": [
       "Applying OCR post-correction:   0%|          | 0/6266 [00:00<?, ?it/s]"
      ]
     },
     "metadata": {},
     "output_type": "display_data"
    },
    {
     "name": "stdout",
     "output_type": "stream",
     "text": [
      "Done with 1812 Travels in the island of Iceland during the summer of the year MDCCCX.csv\n",
      "\n",
      "Starting on 1813 Travels in Sweden during the Autumn of 1812.csv\n",
      "\n"
     ]
    },
    {
     "data": {
      "application/vnd.jupyter.widget-view+json": {
       "model_id": "14dd48142644420db29a52e836b6da2c",
       "version_major": 2,
       "version_minor": 0
      },
      "text/plain": [
       "  0%|          | 0/2997 [00:00<?, ?it/s]"
      ]
     },
     "metadata": {},
     "output_type": "display_data"
    },
    {
     "data": {
      "application/vnd.jupyter.widget-view+json": {
       "model_id": "18628e53c9fa49c6b441d00a3798e74d",
       "version_major": 2,
       "version_minor": 0
      },
      "text/plain": [
       "Applying OCR post-correction:   0%|          | 0/2997 [00:00<?, ?it/s]"
      ]
     },
     "metadata": {},
     "output_type": "display_data"
    },
    {
     "name": "stdout",
     "output_type": "stream",
     "text": [
      "Done with 1813 Travels in Sweden during the Autumn of 1812.csv\n",
      "\n",
      "Starting on 1813 Travels through Norway and Lapland during the years 1806 1807 and 1808.csv\n",
      "\n"
     ]
    },
    {
     "data": {
      "application/vnd.jupyter.widget-view+json": {
       "model_id": "04e2cd5ee4db49d4b19a6a349a46d4d5",
       "version_major": 2,
       "version_minor": 0
      },
      "text/plain": [
       "  0%|          | 0/1713 [00:00<?, ?it/s]"
      ]
     },
     "metadata": {},
     "output_type": "display_data"
    },
    {
     "data": {
      "application/vnd.jupyter.widget-view+json": {
       "model_id": "c1373944f2a343c7aa0942de0bf4e59c",
       "version_major": 2,
       "version_minor": 0
      },
      "text/plain": [
       "Applying OCR post-correction:   0%|          | 0/1713 [00:00<?, ?it/s]"
      ]
     },
     "metadata": {},
     "output_type": "display_data"
    },
    {
     "name": "stdout",
     "output_type": "stream",
     "text": [
      "Done with 1813 Travels through Norway and Lapland during the years 1806 1807 and 1808.csv\n",
      "\n",
      "Starting on 1815 A Tour Through Sweden Swedish_Lapland Finland and Denmark.csv\n",
      "\n"
     ]
    },
    {
     "data": {
      "application/vnd.jupyter.widget-view+json": {
       "model_id": "53042688f1454f799d65a2ef9ca528a3",
       "version_major": 2,
       "version_minor": 0
      },
      "text/plain": [
       "  0%|          | 0/665 [00:00<?, ?it/s]"
      ]
     },
     "metadata": {},
     "output_type": "display_data"
    },
    {
     "data": {
      "application/vnd.jupyter.widget-view+json": {
       "model_id": "5f2fac5b0ddd46e3a2fa855e80099b4f",
       "version_major": 2,
       "version_minor": 0
      },
      "text/plain": [
       "Applying OCR post-correction:   0%|          | 0/665 [00:00<?, ?it/s]"
      ]
     },
     "metadata": {},
     "output_type": "display_data"
    },
    {
     "name": "stdout",
     "output_type": "stream",
     "text": [
      "Done with 1815 A Tour Through Sweden Swedish_Lapland Finland and Denmark.csv\n",
      "\n",
      "Starting on 1816 Journal of a Tour in Germany Sweden Russia Poland During the Years 1813 and 1814.csv\n",
      "\n"
     ]
    },
    {
     "data": {
      "application/vnd.jupyter.widget-view+json": {
       "model_id": "59230d20f3624e54aa01854765c33d29",
       "version_major": 2,
       "version_minor": 0
      },
      "text/plain": [
       "  0%|          | 0/1752 [00:00<?, ?it/s]"
      ]
     },
     "metadata": {},
     "output_type": "display_data"
    },
    {
     "data": {
      "application/vnd.jupyter.widget-view+json": {
       "model_id": "94742d840229449f9b7faaacbeb008e4",
       "version_major": 2,
       "version_minor": 0
      },
      "text/plain": [
       "Applying OCR post-correction:   0%|          | 0/1752 [00:00<?, ?it/s]"
      ]
     },
     "metadata": {},
     "output_type": "display_data"
    },
    {
     "name": "stdout",
     "output_type": "stream",
     "text": [
      "Done with 1816 Journal of a Tour in Germany Sweden Russia Poland During the Years 1813 and 1814.csv\n",
      "\n",
      "Starting on 1816 Sketches on a Tour to Copenhagen Through Norway and Sweden.csv\n",
      "\n"
     ]
    },
    {
     "data": {
      "application/vnd.jupyter.widget-view+json": {
       "model_id": "1f5efc7aa02849a89d66b02c7894e1e8",
       "version_major": 2,
       "version_minor": 0
      },
      "text/plain": [
       "  0%|          | 0/1540 [00:00<?, ?it/s]"
      ]
     },
     "metadata": {},
     "output_type": "display_data"
    },
    {
     "data": {
      "application/vnd.jupyter.widget-view+json": {
       "model_id": "f06f2a8b57c342a48ddc742bdda3d20f",
       "version_major": 2,
       "version_minor": 0
      },
      "text/plain": [
       "Applying OCR post-correction:   0%|          | 0/1540 [00:00<?, ?it/s]"
      ]
     },
     "metadata": {},
     "output_type": "display_data"
    },
    {
     "name": "stdout",
     "output_type": "stream",
     "text": [
      "Done with 1816 Sketches on a Tour to Copenhagen Through Norway and Sweden.csv\n",
      "\n",
      "Starting on 1816 Travels Through Part of the Russian Empire and the Country of Poland Along the Southern Shores of the Baltic.csv\n",
      "\n"
     ]
    },
    {
     "data": {
      "application/vnd.jupyter.widget-view+json": {
       "model_id": "396aea93d4814a9dbdf5ff9b585e36b3",
       "version_major": 2,
       "version_minor": 0
      },
      "text/plain": [
       "  0%|          | 0/1042 [00:00<?, ?it/s]"
      ]
     },
     "metadata": {},
     "output_type": "display_data"
    },
    {
     "data": {
      "application/vnd.jupyter.widget-view+json": {
       "model_id": "f231ec5212f34eef913f6f551131eb5d",
       "version_major": 2,
       "version_minor": 0
      },
      "text/plain": [
       "Applying OCR post-correction:   0%|          | 0/1042 [00:00<?, ?it/s]"
      ]
     },
     "metadata": {},
     "output_type": "display_data"
    },
    {
     "name": "stdout",
     "output_type": "stream",
     "text": [
      "Done with 1816 Travels Through Part of the Russian Empire and the Country of Poland Along the Southern Shores of the Baltic.csv\n",
      "\n",
      "Starting on 1818 Iceland Or The Journal of a Residence in that Island During the Years 1814 and 1815 Vol 1.csv\n",
      "\n"
     ]
    },
    {
     "data": {
      "application/vnd.jupyter.widget-view+json": {
       "model_id": "e2a5aa339eb14764805f4fd20fce04a9",
       "version_major": 2,
       "version_minor": 0
      },
      "text/plain": [
       "  0%|          | 0/1074 [00:00<?, ?it/s]"
      ]
     },
     "metadata": {},
     "output_type": "display_data"
    },
    {
     "data": {
      "application/vnd.jupyter.widget-view+json": {
       "model_id": "2827a1d5382a4c759450d7590caf1901",
       "version_major": 2,
       "version_minor": 0
      },
      "text/plain": [
       "Applying OCR post-correction:   0%|          | 0/1074 [00:00<?, ?it/s]"
      ]
     },
     "metadata": {},
     "output_type": "display_data"
    },
    {
     "name": "stdout",
     "output_type": "stream",
     "text": [
      "Done with 1818 Iceland Or The Journal of a Residence in that Island During the Years 1814 and 1815 Vol 1.csv\n",
      "\n",
      "Starting on 1818 Iceland Or The Journal of a Residence in that Island During the Years 1814 and 1815 Vol 2.csv\n",
      "\n"
     ]
    },
    {
     "data": {
      "application/vnd.jupyter.widget-view+json": {
       "model_id": "84a69c00e5f74d3bbb89b307c65c6ca3",
       "version_major": 2,
       "version_minor": 0
      },
      "text/plain": [
       "  0%|          | 0/2278 [00:00<?, ?it/s]"
      ]
     },
     "metadata": {},
     "output_type": "display_data"
    },
    {
     "data": {
      "application/vnd.jupyter.widget-view+json": {
       "model_id": "666e968e75ea4354b3e17de219ebe1ec",
       "version_major": 2,
       "version_minor": 0
      },
      "text/plain": [
       "Applying OCR post-correction:   0%|          | 0/2278 [00:00<?, ?it/s]"
      ]
     },
     "metadata": {},
     "output_type": "display_data"
    },
    {
     "name": "stdout",
     "output_type": "stream",
     "text": [
      "Done with 1818 Iceland Or The Journal of a Residence in that Island During the Years 1814 and 1815 Vol 2.csv\n",
      "\n",
      "Starting on 1826 Travels in Norway Sweden Denmark Hanover Germany Netherlands.csv\n",
      "\n"
     ]
    },
    {
     "data": {
      "application/vnd.jupyter.widget-view+json": {
       "model_id": "b022d64d963049ea88e8bde7f7ecc085",
       "version_major": 2,
       "version_minor": 0
      },
      "text/plain": [
       "  0%|          | 0/4449 [00:00<?, ?it/s]"
      ]
     },
     "metadata": {},
     "output_type": "display_data"
    },
    {
     "data": {
      "application/vnd.jupyter.widget-view+json": {
       "model_id": "6040473d067f4806a043cdb8d63358bd",
       "version_major": 2,
       "version_minor": 0
      },
      "text/plain": [
       "Applying OCR post-correction:   0%|          | 0/4449 [00:00<?, ?it/s]"
      ]
     },
     "metadata": {},
     "output_type": "display_data"
    },
    {
     "name": "stdout",
     "output_type": "stream",
     "text": [
      "Done with 1826 Travels in Norway Sweden Denmark Hanover Germany Netherlands.csv\n",
      "\n",
      "Starting on 1826 Travels in Sweden Denmark and Norway.csv\n",
      "\n"
     ]
    },
    {
     "data": {
      "application/vnd.jupyter.widget-view+json": {
       "model_id": "0053f83bfdb64cf0b906f074978d6ccb",
       "version_major": 2,
       "version_minor": 0
      },
      "text/plain": [
       "  0%|          | 0/382 [00:00<?, ?it/s]"
      ]
     },
     "metadata": {},
     "output_type": "display_data"
    },
    {
     "data": {
      "application/vnd.jupyter.widget-view+json": {
       "model_id": "b4c89fe6176d4f0a8f30fd7419b51814",
       "version_major": 2,
       "version_minor": 0
      },
      "text/plain": [
       "Applying OCR post-correction:   0%|          | 0/382 [00:00<?, ?it/s]"
      ]
     },
     "metadata": {},
     "output_type": "display_data"
    },
    {
     "name": "stdout",
     "output_type": "stream",
     "text": [
      "Done with 1826 Travels in Sweden Denmark and Norway.csv\n",
      "\n",
      "Starting on 1827 Travels in Norway Sweden Finland Russia and Turkey vol 1.csv\n",
      "\n"
     ]
    },
    {
     "data": {
      "application/vnd.jupyter.widget-view+json": {
       "model_id": "f32db2a12d534a2699b474b9a42fdeb8",
       "version_major": 2,
       "version_minor": 0
      },
      "text/plain": [
       "  0%|          | 0/2063 [00:00<?, ?it/s]"
      ]
     },
     "metadata": {},
     "output_type": "display_data"
    },
    {
     "data": {
      "application/vnd.jupyter.widget-view+json": {
       "model_id": "a0818915356741f8aa077e3e6f3e0816",
       "version_major": 2,
       "version_minor": 0
      },
      "text/plain": [
       "Applying OCR post-correction:   0%|          | 0/2063 [00:00<?, ?it/s]"
      ]
     },
     "metadata": {},
     "output_type": "display_data"
    },
    {
     "name": "stdout",
     "output_type": "stream",
     "text": [
      "Done with 1827 Travels in Norway Sweden Finland Russia and Turkey vol 1.csv\n",
      "\n",
      "Starting on 1827 Travels in Norway Sweden Finland Russia and Turkey vol 2.csv\n",
      "\n"
     ]
    },
    {
     "data": {
      "application/vnd.jupyter.widget-view+json": {
       "model_id": "c290db95395d4ae786a30cf8579b7110",
       "version_major": 2,
       "version_minor": 0
      },
      "text/plain": [
       "  0%|          | 0/1821 [00:00<?, ?it/s]"
      ]
     },
     "metadata": {},
     "output_type": "display_data"
    },
    {
     "data": {
      "application/vnd.jupyter.widget-view+json": {
       "model_id": "a73f92de57de43e8bea4464bec949cbb",
       "version_major": 2,
       "version_minor": 0
      },
      "text/plain": [
       "Applying OCR post-correction:   0%|          | 0/1821 [00:00<?, ?it/s]"
      ]
     },
     "metadata": {},
     "output_type": "display_data"
    },
    {
     "name": "stdout",
     "output_type": "stream",
     "text": [
      "Done with 1827 Travels in Norway Sweden Finland Russia and Turkey vol 2.csv\n",
      "\n",
      "Starting on 1830 Field sports of the north of Europe vol 1.csv\n",
      "\n"
     ]
    },
    {
     "data": {
      "application/vnd.jupyter.widget-view+json": {
       "model_id": "87c3f53f4a06463c9ba62f04a9516631",
       "version_major": 2,
       "version_minor": 0
      },
      "text/plain": [
       "  0%|          | 0/1439 [00:00<?, ?it/s]"
      ]
     },
     "metadata": {},
     "output_type": "display_data"
    },
    {
     "data": {
      "application/vnd.jupyter.widget-view+json": {
       "model_id": "f25209ee33634103a017afc1e36145e8",
       "version_major": 2,
       "version_minor": 0
      },
      "text/plain": [
       "Applying OCR post-correction:   0%|          | 0/1439 [00:00<?, ?it/s]"
      ]
     },
     "metadata": {},
     "output_type": "display_data"
    },
    {
     "name": "stdout",
     "output_type": "stream",
     "text": [
      "Done with 1830 Field sports of the north of Europe vol 1.csv\n",
      "\n",
      "Starting on 1830 Field sports of the north of Europe vol 2.csv\n",
      "\n"
     ]
    },
    {
     "data": {
      "application/vnd.jupyter.widget-view+json": {
       "model_id": "7b7ecdfa12cf4d97b433fc2f236e0d7a",
       "version_major": 2,
       "version_minor": 0
      },
      "text/plain": [
       "  0%|          | 0/1773 [00:00<?, ?it/s]"
      ]
     },
     "metadata": {},
     "output_type": "display_data"
    },
    {
     "data": {
      "application/vnd.jupyter.widget-view+json": {
       "model_id": "55f7988aac454f53bea071a8791d692e",
       "version_major": 2,
       "version_minor": 0
      },
      "text/plain": [
       "Applying OCR post-correction:   0%|          | 0/1773 [00:00<?, ?it/s]"
      ]
     },
     "metadata": {},
     "output_type": "display_data"
    },
    {
     "name": "stdout",
     "output_type": "stream",
     "text": [
      "Done with 1830 Field sports of the north of Europe vol 2.csv\n",
      "\n",
      "Starting on 1831 Iceland Or The Journal of a Residence in that Island.csv\n",
      "\n"
     ]
    },
    {
     "data": {
      "application/vnd.jupyter.widget-view+json": {
       "model_id": "40c41d0df0f14ec0954a639e5f698742",
       "version_major": 2,
       "version_minor": 0
      },
      "text/plain": [
       "  0%|          | 0/1055 [00:00<?, ?it/s]"
      ]
     },
     "metadata": {},
     "output_type": "display_data"
    },
    {
     "data": {
      "application/vnd.jupyter.widget-view+json": {
       "model_id": "3149451027eb49a8960cea1f9af6fede",
       "version_major": 2,
       "version_minor": 0
      },
      "text/plain": [
       "Applying OCR post-correction:   0%|          | 0/1055 [00:00<?, ?it/s]"
      ]
     },
     "metadata": {},
     "output_type": "display_data"
    },
    {
     "name": "stdout",
     "output_type": "stream",
     "text": [
      "Done with 1831 Iceland Or The Journal of a Residence in that Island.csv\n",
      "\n",
      "Starting on 1832 Letters from the north of Europe.csv\n",
      "\n"
     ]
    },
    {
     "data": {
      "application/vnd.jupyter.widget-view+json": {
       "model_id": "2be04ca220d443adbba4a7f5ec6ce6a0",
       "version_major": 2,
       "version_minor": 0
      },
      "text/plain": [
       "  0%|          | 0/1187 [00:00<?, ?it/s]"
      ]
     },
     "metadata": {},
     "output_type": "display_data"
    },
    {
     "data": {
      "application/vnd.jupyter.widget-view+json": {
       "model_id": "36b625e3978a44d097ba15b5a5c66940",
       "version_major": 2,
       "version_minor": 0
      },
      "text/plain": [
       "Applying OCR post-correction:   0%|          | 0/1187 [00:00<?, ?it/s]"
      ]
     },
     "metadata": {},
     "output_type": "display_data"
    },
    {
     "name": "stdout",
     "output_type": "stream",
     "text": [
      "Done with 1832 Letters from the north of Europe.csv\n",
      "\n",
      "Starting on 1834 Excursions in the north of Europe through parts of Russia Finland Sweden Denmark and Norway.csv\n",
      "\n"
     ]
    },
    {
     "data": {
      "application/vnd.jupyter.widget-view+json": {
       "model_id": "146d84b960ff41f5b26a1553fcf4c3d4",
       "version_major": 2,
       "version_minor": 0
      },
      "text/plain": [
       "  0%|          | 0/424 [00:00<?, ?it/s]"
      ]
     },
     "metadata": {},
     "output_type": "display_data"
    },
    {
     "data": {
      "application/vnd.jupyter.widget-view+json": {
       "model_id": "6a661fd5145b4b59a469aa406a4fec3b",
       "version_major": 2,
       "version_minor": 0
      },
      "text/plain": [
       "Applying OCR post-correction:   0%|          | 0/424 [00:00<?, ?it/s]"
      ]
     },
     "metadata": {},
     "output_type": "display_data"
    },
    {
     "name": "stdout",
     "output_type": "stream",
     "text": [
      "Done with 1834 Excursions in the north of Europe through parts of Russia Finland Sweden Denmark and Norway.csv\n",
      "\n",
      "Starting on 1834 Norway Views of wild scenery and journal.csv\n",
      "\n"
     ]
    },
    {
     "data": {
      "application/vnd.jupyter.widget-view+json": {
       "model_id": "17bc9d2ff9df401bb9e95f0d77a94437",
       "version_major": 2,
       "version_minor": 0
      },
      "text/plain": [
       "  0%|          | 0/455 [00:00<?, ?it/s]"
      ]
     },
     "metadata": {},
     "output_type": "display_data"
    },
    {
     "data": {
      "application/vnd.jupyter.widget-view+json": {
       "model_id": "c71654c40b5f46668063f7dbb2d0afbf",
       "version_major": 2,
       "version_minor": 0
      },
      "text/plain": [
       "Applying OCR post-correction:   0%|          | 0/455 [00:00<?, ?it/s]"
      ]
     },
     "metadata": {},
     "output_type": "display_data"
    },
    {
     "name": "stdout",
     "output_type": "stream",
     "text": [
      "Done with 1834 Norway Views of wild scenery and journal.csv\n",
      "\n",
      "Starting on 1835 A Personal Narrative of a Journey Through Norway Part of Sweden and the Islands and States of Denmark.csv\n",
      "\n"
     ]
    },
    {
     "data": {
      "application/vnd.jupyter.widget-view+json": {
       "model_id": "c575f8e43bcd4e2283e7231fafed6f52",
       "version_major": 2,
       "version_minor": 0
      },
      "text/plain": [
       "  0%|          | 0/1342 [00:00<?, ?it/s]"
      ]
     },
     "metadata": {},
     "output_type": "display_data"
    },
    {
     "data": {
      "application/vnd.jupyter.widget-view+json": {
       "model_id": "433401804ce14b2c89dbf4e01ae7b392",
       "version_major": 2,
       "version_minor": 0
      },
      "text/plain": [
       "Applying OCR post-correction:   0%|          | 0/1342 [00:00<?, ?it/s]"
      ]
     },
     "metadata": {},
     "output_type": "display_data"
    },
    {
     "name": "stdout",
     "output_type": "stream",
     "text": [
      "Done with 1835 A Personal Narrative of a Journey Through Norway Part of Sweden and the Islands and States of Denmark.csv\n",
      "\n",
      "Starting on 1835 A Visit to Iceland.csv\n",
      "\n"
     ]
    },
    {
     "data": {
      "application/vnd.jupyter.widget-view+json": {
       "model_id": "00b3d3aaa5ef44f591d6e1dd923ee879",
       "version_major": 2,
       "version_minor": 0
      },
      "text/plain": [
       "  0%|          | 0/940 [00:00<?, ?it/s]"
      ]
     },
     "metadata": {},
     "output_type": "display_data"
    },
    {
     "data": {
      "application/vnd.jupyter.widget-view+json": {
       "model_id": "b32b950c2f39499292852910a3f92a6f",
       "version_major": 2,
       "version_minor": 0
      },
      "text/plain": [
       "Applying OCR post-correction:   0%|          | 0/940 [00:00<?, ?it/s]"
      ]
     },
     "metadata": {},
     "output_type": "display_data"
    },
    {
     "name": "stdout",
     "output_type": "stream",
     "text": [
      "Done with 1835 A Visit to Iceland.csv\n",
      "\n",
      "Starting on 1836 Journal of a Residence in Norway During the Years 1834 1835 and 1836.csv\n",
      "\n"
     ]
    },
    {
     "data": {
      "application/vnd.jupyter.widget-view+json": {
       "model_id": "a1c212f8e69e450ebc600c9ca3fec56b",
       "version_major": 2,
       "version_minor": 0
      },
      "text/plain": [
       "  0%|          | 0/1318 [00:00<?, ?it/s]"
      ]
     },
     "metadata": {},
     "output_type": "display_data"
    },
    {
     "data": {
      "application/vnd.jupyter.widget-view+json": {
       "model_id": "77a1558e66e84fb4b1c2a2b437edf85c",
       "version_major": 2,
       "version_minor": 0
      },
      "text/plain": [
       "Applying OCR post-correction:   0%|          | 0/1318 [00:00<?, ?it/s]"
      ]
     },
     "metadata": {},
     "output_type": "display_data"
    },
    {
     "name": "stdout",
     "output_type": "stream",
     "text": [
      "Done with 1836 Journal of a Residence in Norway During the Years 1834 1835 and 1836.csv\n",
      "\n",
      "Starting on 1838 Recollections of a tour in the North of Europe in 1836-1837.csv\n",
      "\n"
     ]
    },
    {
     "data": {
      "application/vnd.jupyter.widget-view+json": {
       "model_id": "9c565b220c2542f9a920f3124bb56070",
       "version_major": 2,
       "version_minor": 0
      },
      "text/plain": [
       "  0%|          | 0/5006 [00:00<?, ?it/s]"
      ]
     },
     "metadata": {},
     "output_type": "display_data"
    },
    {
     "data": {
      "application/vnd.jupyter.widget-view+json": {
       "model_id": "748a840f0b07473195872d67d14a5226",
       "version_major": 2,
       "version_minor": 0
      },
      "text/plain": [
       "Applying OCR post-correction:   0%|          | 0/5006 [00:00<?, ?it/s]"
      ]
     },
     "metadata": {},
     "output_type": "display_data"
    },
    {
     "name": "stdout",
     "output_type": "stream",
     "text": [
      "Done with 1838 Recollections of a tour in the North of Europe in 1836-1837.csv\n",
      "\n",
      "Starting on 1838 Travels in Various Countries of Scandinavia vol 1.csv\n",
      "\n"
     ]
    },
    {
     "data": {
      "application/vnd.jupyter.widget-view+json": {
       "model_id": "28e3f009fa81489c8240849149ec4485",
       "version_major": 2,
       "version_minor": 0
      },
      "text/plain": [
       "  0%|          | 0/4401 [00:00<?, ?it/s]"
      ]
     },
     "metadata": {},
     "output_type": "display_data"
    },
    {
     "data": {
      "application/vnd.jupyter.widget-view+json": {
       "model_id": "89c6af2895ec4b3cbc083d8431b94dfc",
       "version_major": 2,
       "version_minor": 0
      },
      "text/plain": [
       "Applying OCR post-correction:   0%|          | 0/4401 [00:00<?, ?it/s]"
      ]
     },
     "metadata": {},
     "output_type": "display_data"
    },
    {
     "name": "stdout",
     "output_type": "stream",
     "text": [
      "Done with 1838 Travels in Various Countries of Scandinavia vol 1.csv\n",
      "\n",
      "Starting on 1838 Travels in Various Countries of Scandinavia vol 2.csv\n",
      "\n"
     ]
    },
    {
     "data": {
      "application/vnd.jupyter.widget-view+json": {
       "model_id": "a66770cfd4af42faac17846349231d89",
       "version_major": 2,
       "version_minor": 0
      },
      "text/plain": [
       "  0%|          | 0/3175 [00:00<?, ?it/s]"
      ]
     },
     "metadata": {},
     "output_type": "display_data"
    },
    {
     "data": {
      "application/vnd.jupyter.widget-view+json": {
       "model_id": "af9511943d124c7facfe678db2563331",
       "version_major": 2,
       "version_minor": 0
      },
      "text/plain": [
       "Applying OCR post-correction:   0%|          | 0/3175 [00:00<?, ?it/s]"
      ]
     },
     "metadata": {},
     "output_type": "display_data"
    },
    {
     "name": "stdout",
     "output_type": "stream",
     "text": [
      "Done with 1838 Travels in Various Countries of Scandinavia vol 2.csv\n",
      "\n",
      "Starting on 1838 Travels in Various Countries of Scandinavia vol 3.csv\n",
      "\n"
     ]
    },
    {
     "data": {
      "application/vnd.jupyter.widget-view+json": {
       "model_id": "b024a9f31629438eb95df5ed4cdc809d",
       "version_major": 2,
       "version_minor": 0
      },
      "text/plain": [
       "  0%|          | 0/2691 [00:00<?, ?it/s]"
      ]
     },
     "metadata": {},
     "output_type": "display_data"
    },
    {
     "data": {
      "application/vnd.jupyter.widget-view+json": {
       "model_id": "b8910f50a2a44c8084d7183c1c1f845f",
       "version_major": 2,
       "version_minor": 0
      },
      "text/plain": [
       "Applying OCR post-correction:   0%|          | 0/2691 [00:00<?, ?it/s]"
      ]
     },
     "metadata": {},
     "output_type": "display_data"
    },
    {
     "name": "stdout",
     "output_type": "stream",
     "text": [
      "Done with 1838 Travels in Various Countries of Scandinavia vol 3.csv\n",
      "\n",
      "Starting on 1839 A Tour in Sweden in 1838.csv\n",
      "\n"
     ]
    },
    {
     "data": {
      "application/vnd.jupyter.widget-view+json": {
       "model_id": "cc82a25511a546aba7f7ca33cb50ab0e",
       "version_major": 2,
       "version_minor": 0
      },
      "text/plain": [
       "  0%|          | 0/987 [00:00<?, ?it/s]"
      ]
     },
     "metadata": {},
     "output_type": "display_data"
    },
    {
     "data": {
      "application/vnd.jupyter.widget-view+json": {
       "model_id": "e58e3f67925840caa6104ce60dd770c1",
       "version_major": 2,
       "version_minor": 0
      },
      "text/plain": [
       "Applying OCR post-correction:   0%|          | 0/987 [00:00<?, ?it/s]"
      ]
     },
     "metadata": {},
     "output_type": "display_data"
    },
    {
     "name": "stdout",
     "output_type": "stream",
     "text": [
      "Done with 1839 A Tour in Sweden in 1838.csv\n",
      "\n",
      "Starting on 1839 Handbook for travellers in Denmark Norway Sweden and Russia.csv\n",
      "\n"
     ]
    },
    {
     "data": {
      "application/vnd.jupyter.widget-view+json": {
       "model_id": "78ad47cff68341969263af7560ee44b6",
       "version_major": 2,
       "version_minor": 0
      },
      "text/plain": [
       "  0%|          | 0/316 [00:00<?, ?it/s]"
      ]
     },
     "metadata": {},
     "output_type": "display_data"
    },
    {
     "data": {
      "application/vnd.jupyter.widget-view+json": {
       "model_id": "4c3d165a5730446bbc10baf269535b5d",
       "version_major": 2,
       "version_minor": 0
      },
      "text/plain": [
       "Applying OCR post-correction:   0%|          | 0/316 [00:00<?, ?it/s]"
      ]
     },
     "metadata": {},
     "output_type": "display_data"
    },
    {
     "name": "stdout",
     "output_type": "stream",
     "text": [
      "Done with 1839 Handbook for travellers in Denmark Norway Sweden and Russia.csv\n",
      "\n",
      "Starting on 1840 An Historical and Descriptive Account of Iceland, Greenland, and the Faroe Islands.csv\n",
      "\n"
     ]
    },
    {
     "data": {
      "application/vnd.jupyter.widget-view+json": {
       "model_id": "759ac41a051d433193ec805f5e11c3bf",
       "version_major": 2,
       "version_minor": 0
      },
      "text/plain": [
       "  0%|          | 0/1424 [00:00<?, ?it/s]"
      ]
     },
     "metadata": {},
     "output_type": "display_data"
    },
    {
     "data": {
      "application/vnd.jupyter.widget-view+json": {
       "model_id": "1e1b20787621459dbfccbf6a8a0e9bc7",
       "version_major": 2,
       "version_minor": 0
      },
      "text/plain": [
       "Applying OCR post-correction:   0%|          | 0/1424 [00:00<?, ?it/s]"
      ]
     },
     "metadata": {},
     "output_type": "display_data"
    },
    {
     "name": "stdout",
     "output_type": "stream",
     "text": [
      "Done with 1840 An Historical and Descriptive Account of Iceland, Greenland, and the Faroe Islands.csv\n",
      "\n",
      "Starting on 1840 Excursions in Denmark Norway and Sweden vol 1.csv\n",
      "\n"
     ]
    },
    {
     "data": {
      "application/vnd.jupyter.widget-view+json": {
       "model_id": "f03015a385f4424abc216964a19c91d9",
       "version_major": 2,
       "version_minor": 0
      },
      "text/plain": [
       "  0%|          | 0/973 [00:00<?, ?it/s]"
      ]
     },
     "metadata": {},
     "output_type": "display_data"
    },
    {
     "data": {
      "application/vnd.jupyter.widget-view+json": {
       "model_id": "a58087042d9945a7a390f56852cae8c2",
       "version_major": 2,
       "version_minor": 0
      },
      "text/plain": [
       "Applying OCR post-correction:   0%|          | 0/973 [00:00<?, ?it/s]"
      ]
     },
     "metadata": {},
     "output_type": "display_data"
    },
    {
     "name": "stdout",
     "output_type": "stream",
     "text": [
      "Done with 1840 Excursions in Denmark Norway and Sweden vol 1.csv\n",
      "\n",
      "Starting on 1840 Norway and the Norwegians In Two Volumes vol 1.csv\n",
      "\n"
     ]
    },
    {
     "data": {
      "application/vnd.jupyter.widget-view+json": {
       "model_id": "f453d0b9ee8944f9a2815a7a984291eb",
       "version_major": 2,
       "version_minor": 0
      },
      "text/plain": [
       "  0%|          | 0/1509 [00:00<?, ?it/s]"
      ]
     },
     "metadata": {},
     "output_type": "display_data"
    },
    {
     "data": {
      "application/vnd.jupyter.widget-view+json": {
       "model_id": "ced503902f874f6e89693630309e7e62",
       "version_major": 2,
       "version_minor": 0
      },
      "text/plain": [
       "Applying OCR post-correction:   0%|          | 0/1509 [00:00<?, ?it/s]"
      ]
     },
     "metadata": {},
     "output_type": "display_data"
    },
    {
     "name": "stdout",
     "output_type": "stream",
     "text": [
      "Done with 1840 Norway and the Norwegians In Two Volumes vol 1.csv\n",
      "\n",
      "Starting on 1840 Norway and the Norwegians In Two Volumes vol 2.csv\n",
      "\n"
     ]
    },
    {
     "data": {
      "application/vnd.jupyter.widget-view+json": {
       "model_id": "c71f34ed68c24c2389908a7d1fe62766",
       "version_major": 2,
       "version_minor": 0
      },
      "text/plain": [
       "  0%|          | 0/1175 [00:00<?, ?it/s]"
      ]
     },
     "metadata": {},
     "output_type": "display_data"
    },
    {
     "data": {
      "application/vnd.jupyter.widget-view+json": {
       "model_id": "00dd69330ddf4496bff89b686ea7dce8",
       "version_major": 2,
       "version_minor": 0
      },
      "text/plain": [
       "Applying OCR post-correction:   0%|          | 0/1175 [00:00<?, ?it/s]"
      ]
     },
     "metadata": {},
     "output_type": "display_data"
    },
    {
     "name": "stdout",
     "output_type": "stream",
     "text": [
      "Done with 1840 Norway and the Norwegians In Two Volumes vol 2.csv\n",
      "\n",
      "Starting on 1841 Visit to Northern Europe vol 1.csv\n",
      "\n"
     ]
    },
    {
     "data": {
      "application/vnd.jupyter.widget-view+json": {
       "model_id": "6727d6d57c7e423a9cbcedfa36ae0ed7",
       "version_major": 2,
       "version_minor": 0
      },
      "text/plain": [
       "  0%|          | 0/408 [00:00<?, ?it/s]"
      ]
     },
     "metadata": {},
     "output_type": "display_data"
    },
    {
     "data": {
      "application/vnd.jupyter.widget-view+json": {
       "model_id": "1d1f5a572c6e40efba745b24aadbac90",
       "version_major": 2,
       "version_minor": 0
      },
      "text/plain": [
       "Applying OCR post-correction:   0%|          | 0/408 [00:00<?, ?it/s]"
      ]
     },
     "metadata": {},
     "output_type": "display_data"
    },
    {
     "name": "stdout",
     "output_type": "stream",
     "text": [
      "Done with 1841 Visit to Northern Europe vol 1.csv\n",
      "\n",
      "Starting on 1841 Visit to Northern Europe vol 2.csv\n",
      "\n"
     ]
    },
    {
     "data": {
      "application/vnd.jupyter.widget-view+json": {
       "model_id": "6a99f0453cc545009f372767e6f4e19c",
       "version_major": 2,
       "version_minor": 0
      },
      "text/plain": [
       "  0%|          | 0/1196 [00:00<?, ?it/s]"
      ]
     },
     "metadata": {},
     "output_type": "display_data"
    },
    {
     "data": {
      "application/vnd.jupyter.widget-view+json": {
       "model_id": "8714eeb8c3c24c0ebb7f6ce2979db633",
       "version_major": 2,
       "version_minor": 0
      },
      "text/plain": [
       "Applying OCR post-correction:   0%|          | 0/1196 [00:00<?, ?it/s]"
      ]
     },
     "metadata": {},
     "output_type": "display_data"
    },
    {
     "name": "stdout",
     "output_type": "stream",
     "text": [
      "Done with 1841 Visit to Northern Europe vol 2.csv\n",
      "\n",
      "Starting on 1842 Letters from the Shores of the Baltic vol 1.csv\n",
      "\n"
     ]
    },
    {
     "data": {
      "application/vnd.jupyter.widget-view+json": {
       "model_id": "e88b3909af0f4ffe97629e1fc1f682ac",
       "version_major": 2,
       "version_minor": 0
      },
      "text/plain": [
       "  0%|          | 0/381 [00:00<?, ?it/s]"
      ]
     },
     "metadata": {},
     "output_type": "display_data"
    },
    {
     "data": {
      "application/vnd.jupyter.widget-view+json": {
       "model_id": "dcce6bceae5f4f2caab4c0435b7affb3",
       "version_major": 2,
       "version_minor": 0
      },
      "text/plain": [
       "Applying OCR post-correction:   0%|          | 0/381 [00:00<?, ?it/s]"
      ]
     },
     "metadata": {},
     "output_type": "display_data"
    },
    {
     "name": "stdout",
     "output_type": "stream",
     "text": [
      "Done with 1842 Letters from the Shores of the Baltic vol 1.csv\n",
      "\n",
      "Starting on 1842 Letters from the Shores of the Baltic vol 2.csv\n",
      "\n"
     ]
    },
    {
     "data": {
      "application/vnd.jupyter.widget-view+json": {
       "model_id": "dc0b602d66d34a39b7c3ceb5710384c5",
       "version_major": 2,
       "version_minor": 0
      },
      "text/plain": [
       "  0%|          | 0/542 [00:00<?, ?it/s]"
      ]
     },
     "metadata": {},
     "output_type": "display_data"
    },
    {
     "data": {
      "application/vnd.jupyter.widget-view+json": {
       "model_id": "bc5bb07d138c417892755c57c8e557a5",
       "version_major": 2,
       "version_minor": 0
      },
      "text/plain": [
       "Applying OCR post-correction:   0%|          | 0/542 [00:00<?, ?it/s]"
      ]
     },
     "metadata": {},
     "output_type": "display_data"
    },
    {
     "name": "stdout",
     "output_type": "stream",
     "text": [
      "Done with 1842 Letters from the Shores of the Baltic vol 2.csv\n",
      "\n",
      "Starting on 1842 Travels in Iceland.csv\n",
      "\n"
     ]
    },
    {
     "data": {
      "application/vnd.jupyter.widget-view+json": {
       "model_id": "bca644f097f34ebcb2f9efe6157ae0dd",
       "version_major": 2,
       "version_minor": 0
      },
      "text/plain": [
       "  0%|          | 0/97 [00:00<?, ?it/s]"
      ]
     },
     "metadata": {},
     "output_type": "display_data"
    },
    {
     "data": {
      "application/vnd.jupyter.widget-view+json": {
       "model_id": "6da9100366a243fa89859432dac19f52",
       "version_major": 2,
       "version_minor": 0
      },
      "text/plain": [
       "Applying OCR post-correction:   0%|          | 0/97 [00:00<?, ?it/s]"
      ]
     },
     "metadata": {},
     "output_type": "display_data"
    },
    {
     "name": "stdout",
     "output_type": "stream",
     "text": [
      "Done with 1842 Travels in Iceland.csv\n",
      "\n",
      "Starting on 1848 Handbook for Northern Europe Including Denmark Norway Sweden Finland and Russia.csv\n",
      "\n"
     ]
    },
    {
     "data": {
      "application/vnd.jupyter.widget-view+json": {
       "model_id": "8558054242994b8fb4384a60387310e4",
       "version_major": 2,
       "version_minor": 0
      },
      "text/plain": [
       "  0%|          | 0/3826 [00:00<?, ?it/s]"
      ]
     },
     "metadata": {},
     "output_type": "display_data"
    },
    {
     "data": {
      "application/vnd.jupyter.widget-view+json": {
       "model_id": "7b6df4d1748a4654a57e83192fe8bed3",
       "version_major": 2,
       "version_minor": 0
      },
      "text/plain": [
       "Applying OCR post-correction:   0%|          | 0/3826 [00:00<?, ?it/s]"
      ]
     },
     "metadata": {},
     "output_type": "display_data"
    },
    {
     "name": "stdout",
     "output_type": "stream",
     "text": [
      "Done with 1848 Handbook for Northern Europe Including Denmark Norway Sweden Finland and Russia.csv\n",
      "\n",
      "Starting on 1849 A Yacht Voyage to Norway Denmark and Sweden.csv\n",
      "\n"
     ]
    },
    {
     "data": {
      "application/vnd.jupyter.widget-view+json": {
       "model_id": "3c1be7797f2d4326997b9c4dfbabbb45",
       "version_major": 2,
       "version_minor": 0
      },
      "text/plain": [
       "  0%|          | 0/1665 [00:00<?, ?it/s]"
      ]
     },
     "metadata": {},
     "output_type": "display_data"
    },
    {
     "data": {
      "application/vnd.jupyter.widget-view+json": {
       "model_id": "519f0e11df66425ca8ccc49cdb1df0eb",
       "version_major": 2,
       "version_minor": 0
      },
      "text/plain": [
       "Applying OCR post-correction:   0%|          | 0/1665 [00:00<?, ?it/s]"
      ]
     },
     "metadata": {},
     "output_type": "display_data"
    },
    {
     "name": "stdout",
     "output_type": "stream",
     "text": [
      "Done with 1849 A Yacht Voyage to Norway Denmark and Sweden.csv\n",
      "\n",
      "Starting on 1849 Handbook for Northern Europe Including Denmark Norway Sweden Finland and Russia vol 2.csv\n",
      "\n"
     ]
    },
    {
     "data": {
      "application/vnd.jupyter.widget-view+json": {
       "model_id": "df2c60c18157409e8ee63f920b33928d",
       "version_major": 2,
       "version_minor": 0
      },
      "text/plain": [
       "  0%|          | 0/3126 [00:00<?, ?it/s]"
      ]
     },
     "metadata": {},
     "output_type": "display_data"
    },
    {
     "data": {
      "application/vnd.jupyter.widget-view+json": {
       "model_id": "789ca5cdf50445178cba4107059dd2f4",
       "version_major": 2,
       "version_minor": 0
      },
      "text/plain": [
       "Applying OCR post-correction:   0%|          | 0/3126 [00:00<?, ?it/s]"
      ]
     },
     "metadata": {},
     "output_type": "display_data"
    },
    {
     "name": "stdout",
     "output_type": "stream",
     "text": [
      "Done with 1849 Handbook for Northern Europe Including Denmark Norway Sweden Finland and Russia vol 2.csv\n",
      "\n",
      "Starting on 1851 One year in Scandinavia.csv\n",
      "\n"
     ]
    },
    {
     "data": {
      "application/vnd.jupyter.widget-view+json": {
       "model_id": "01cfe2e423e44e1cbd5da8de42ffaa3a",
       "version_major": 2,
       "version_minor": 0
      },
      "text/plain": [
       "  0%|          | 0/214 [00:00<?, ?it/s]"
      ]
     },
     "metadata": {},
     "output_type": "display_data"
    },
    {
     "data": {
      "application/vnd.jupyter.widget-view+json": {
       "model_id": "ecd4f257e0a348e18eeafa428241b390",
       "version_major": 2,
       "version_minor": 0
      },
      "text/plain": [
       "Applying OCR post-correction:   0%|          | 0/214 [00:00<?, ?it/s]"
      ]
     },
     "metadata": {},
     "output_type": "display_data"
    },
    {
     "name": "stdout",
     "output_type": "stream",
     "text": [
      "Done with 1851 One year in Scandinavia.csv\n",
      "\n",
      "Starting on 1852 Observations on the Social and Political State of Denmark.csv\n",
      "\n"
     ]
    },
    {
     "data": {
      "application/vnd.jupyter.widget-view+json": {
       "model_id": "03e9085e95254158bb9c80102dd7036b",
       "version_major": 2,
       "version_minor": 0
      },
      "text/plain": [
       "  0%|          | 0/1799 [00:00<?, ?it/s]"
      ]
     },
     "metadata": {},
     "output_type": "display_data"
    },
    {
     "data": {
      "application/vnd.jupyter.widget-view+json": {
       "model_id": "911f1df584084c129c79257b44e76b13",
       "version_major": 2,
       "version_minor": 0
      },
      "text/plain": [
       "Applying OCR post-correction:   0%|          | 0/1799 [00:00<?, ?it/s]"
      ]
     },
     "metadata": {},
     "output_type": "display_data"
    },
    {
     "name": "stdout",
     "output_type": "stream",
     "text": [
      "Done with 1852 Observations on the Social and Political State of Denmark.csv\n",
      "\n",
      "Starting on 1853 Life in Sweden vol 1.csv\n",
      "\n"
     ]
    },
    {
     "data": {
      "application/vnd.jupyter.widget-view+json": {
       "model_id": "e8b9444061b04176a5abbe85a0c6e025",
       "version_major": 2,
       "version_minor": 0
      },
      "text/plain": [
       "  0%|          | 0/1108 [00:00<?, ?it/s]"
      ]
     },
     "metadata": {},
     "output_type": "display_data"
    },
    {
     "data": {
      "application/vnd.jupyter.widget-view+json": {
       "model_id": "fb1cd2eba68c4812bbf71e24cbe11a56",
       "version_major": 2,
       "version_minor": 0
      },
      "text/plain": [
       "Applying OCR post-correction:   0%|          | 0/1108 [00:00<?, ?it/s]"
      ]
     },
     "metadata": {},
     "output_type": "display_data"
    },
    {
     "name": "stdout",
     "output_type": "stream",
     "text": [
      "Done with 1853 Life in Sweden vol 1.csv\n",
      "\n",
      "Starting on 1853 Life in Sweden vol 2.csv\n",
      "\n"
     ]
    },
    {
     "data": {
      "application/vnd.jupyter.widget-view+json": {
       "model_id": "c867f0a8920843679b2a85560f423afd",
       "version_major": 2,
       "version_minor": 0
      },
      "text/plain": [
       "  0%|          | 0/1497 [00:00<?, ?it/s]"
      ]
     },
     "metadata": {},
     "output_type": "display_data"
    },
    {
     "data": {
      "application/vnd.jupyter.widget-view+json": {
       "model_id": "30d11070b8c34f0a911252766703ccf8",
       "version_major": 2,
       "version_minor": 0
      },
      "text/plain": [
       "Applying OCR post-correction:   0%|          | 0/1497 [00:00<?, ?it/s]"
      ]
     },
     "metadata": {},
     "output_type": "display_data"
    },
    {
     "name": "stdout",
     "output_type": "stream",
     "text": [
      "Done with 1853 Life in Sweden vol 2.csv\n",
      "\n",
      "Starting on 1853 Norway and Its Glaciers.csv\n",
      "\n"
     ]
    },
    {
     "data": {
      "application/vnd.jupyter.widget-view+json": {
       "model_id": "f90650e93cc44b1695eb7cf86d4bff38",
       "version_major": 2,
       "version_minor": 0
      },
      "text/plain": [
       "  0%|          | 0/1711 [00:00<?, ?it/s]"
      ]
     },
     "metadata": {},
     "output_type": "display_data"
    },
    {
     "data": {
      "application/vnd.jupyter.widget-view+json": {
       "model_id": "c42916c1d063433898625db2b5a6cf06",
       "version_major": 2,
       "version_minor": 0
      },
      "text/plain": [
       "Applying OCR post-correction:   0%|          | 0/1711 [00:00<?, ?it/s]"
      ]
     },
     "metadata": {},
     "output_type": "display_data"
    },
    {
     "name": "stdout",
     "output_type": "stream",
     "text": [
      "Done with 1853 Norway and Its Glaciers.csv\n",
      "\n",
      "Starting on 1853 Norway and its scenery.csv\n",
      "\n"
     ]
    },
    {
     "data": {
      "application/vnd.jupyter.widget-view+json": {
       "model_id": "d834800a12f84c698237699b4e2353d5",
       "version_major": 2,
       "version_minor": 0
      },
      "text/plain": [
       "  0%|          | 0/3146 [00:00<?, ?it/s]"
      ]
     },
     "metadata": {},
     "output_type": "display_data"
    },
    {
     "data": {
      "application/vnd.jupyter.widget-view+json": {
       "model_id": "2c0f05d938294ba6b00d5a26a384c2ab",
       "version_major": 2,
       "version_minor": 0
      },
      "text/plain": [
       "Applying OCR post-correction:   0%|          | 0/3146 [00:00<?, ?it/s]"
      ]
     },
     "metadata": {},
     "output_type": "display_data"
    },
    {
     "name": "stdout",
     "output_type": "stream",
     "text": [
      "Done with 1853 Norway and its scenery.csv\n",
      "\n",
      "Starting on 1853 Visit to Iceland And the Scandinavian North.csv\n",
      "\n"
     ]
    },
    {
     "data": {
      "application/vnd.jupyter.widget-view+json": {
       "model_id": "98dd447ab2544b748014e73333ef21d9",
       "version_major": 2,
       "version_minor": 0
      },
      "text/plain": [
       "  0%|          | 0/1172 [00:00<?, ?it/s]"
      ]
     },
     "metadata": {},
     "output_type": "display_data"
    },
    {
     "data": {
      "application/vnd.jupyter.widget-view+json": {
       "model_id": "ce5ee1e34c924afb87b56c9febb24570",
       "version_major": 2,
       "version_minor": 0
      },
      "text/plain": [
       "Applying OCR post-correction:   0%|          | 0/1172 [00:00<?, ?it/s]"
      ]
     },
     "metadata": {},
     "output_type": "display_data"
    },
    {
     "name": "stdout",
     "output_type": "stream",
     "text": [
      "Done with 1853 Visit to Iceland And the Scandinavian North.csv\n",
      "\n",
      "Starting on 1854 A Yacht Voyage to Iceland in 1853.csv\n",
      "\n"
     ]
    },
    {
     "data": {
      "application/vnd.jupyter.widget-view+json": {
       "model_id": "9cb20d8b03054237a970c78832295649",
       "version_major": 2,
       "version_minor": 0
      },
      "text/plain": [
       "  0%|          | 0/770 [00:00<?, ?it/s]"
      ]
     },
     "metadata": {},
     "output_type": "display_data"
    },
    {
     "data": {
      "application/vnd.jupyter.widget-view+json": {
       "model_id": "8e2382c546234cf19b9b4d253d47107f",
       "version_major": 2,
       "version_minor": 0
      },
      "text/plain": [
       "Applying OCR post-correction:   0%|          | 0/770 [00:00<?, ?it/s]"
      ]
     },
     "metadata": {},
     "output_type": "display_data"
    },
    {
     "name": "stdout",
     "output_type": "stream",
     "text": [
      "Done with 1854 A Yacht Voyage to Iceland in 1853.csv\n",
      "\n",
      "Starting on 1854 Norðurfari or Rambles in Iceland.csv\n",
      "\n"
     ]
    },
    {
     "data": {
      "application/vnd.jupyter.widget-view+json": {
       "model_id": "4c79478c775347a38239e9fd7063be6c",
       "version_major": 2,
       "version_minor": 0
      },
      "text/plain": [
       "  0%|          | 0/1362 [00:00<?, ?it/s]"
      ]
     },
     "metadata": {},
     "output_type": "display_data"
    },
    {
     "data": {
      "application/vnd.jupyter.widget-view+json": {
       "model_id": "8502e97595a14cf19cc512c62ba72c8d",
       "version_major": 2,
       "version_minor": 0
      },
      "text/plain": [
       "Applying OCR post-correction:   0%|          | 0/1362 [00:00<?, ?it/s]"
      ]
     },
     "metadata": {},
     "output_type": "display_data"
    },
    {
     "name": "stdout",
     "output_type": "stream",
     "text": [
      "Done with 1854 Norðurfari or Rambles in Iceland.csv\n",
      "\n",
      "Starting on 1854 The Baltic Its Gates Shores and Cities.csv\n",
      "\n"
     ]
    },
    {
     "data": {
      "application/vnd.jupyter.widget-view+json": {
       "model_id": "17433c3867b4430f8669ed037d0ab4f5",
       "version_major": 2,
       "version_minor": 0
      },
      "text/plain": [
       "  0%|          | 0/1375 [00:00<?, ?it/s]"
      ]
     },
     "metadata": {},
     "output_type": "display_data"
    },
    {
     "data": {
      "application/vnd.jupyter.widget-view+json": {
       "model_id": "2c579f64b6fd4a3db8b19bf00c468fc3",
       "version_major": 2,
       "version_minor": 0
      },
      "text/plain": [
       "Applying OCR post-correction:   0%|          | 0/1375 [00:00<?, ?it/s]"
      ]
     },
     "metadata": {},
     "output_type": "display_data"
    },
    {
     "name": "stdout",
     "output_type": "stream",
     "text": [
      "Done with 1854 The Baltic Its Gates Shores and Cities.csv\n",
      "\n",
      "Starting on 1854 Travels and Adventures in Sweden and Norway.csv\n",
      "\n"
     ]
    },
    {
     "data": {
      "application/vnd.jupyter.widget-view+json": {
       "model_id": "9c9442c9f9ab4ab99333778d79bef08a",
       "version_major": 2,
       "version_minor": 0
      },
      "text/plain": [
       "  0%|          | 0/959 [00:00<?, ?it/s]"
      ]
     },
     "metadata": {},
     "output_type": "display_data"
    },
    {
     "data": {
      "application/vnd.jupyter.widget-view+json": {
       "model_id": "407a50c1b9a64c23955dea81c42d492b",
       "version_major": 2,
       "version_minor": 0
      },
      "text/plain": [
       "Applying OCR post-correction:   0%|          | 0/959 [00:00<?, ?it/s]"
      ]
     },
     "metadata": {},
     "output_type": "display_data"
    },
    {
     "name": "stdout",
     "output_type": "stream",
     "text": [
      "Done with 1854 Travels and Adventures in Sweden and Norway.csv\n",
      "\n",
      "Starting on 1854 Travels on the Shores of the Baltic Extended to Moscow.csv\n",
      "\n"
     ]
    },
    {
     "data": {
      "application/vnd.jupyter.widget-view+json": {
       "model_id": "1fa530023a5f49cc98c2bc9d0a7376c7",
       "version_major": 2,
       "version_minor": 0
      },
      "text/plain": [
       "  0%|          | 0/1380 [00:00<?, ?it/s]"
      ]
     },
     "metadata": {},
     "output_type": "display_data"
    },
    {
     "data": {
      "application/vnd.jupyter.widget-view+json": {
       "model_id": "0fe5e93f03d34cdea52af9c285f0795b",
       "version_major": 2,
       "version_minor": 0
      },
      "text/plain": [
       "Applying OCR post-correction:   0%|          | 0/1380 [00:00<?, ?it/s]"
      ]
     },
     "metadata": {},
     "output_type": "display_data"
    },
    {
     "name": "stdout",
     "output_type": "stream",
     "text": [
      "Done with 1854 Travels on the Shores of the Baltic Extended to Moscow.csv\n",
      "\n",
      "Starting on 1855 Forest Scenes in Norway and Sweden.csv\n",
      "\n"
     ]
    },
    {
     "data": {
      "application/vnd.jupyter.widget-view+json": {
       "model_id": "bcb79f319efa4964acb62121ba83b408",
       "version_major": 2,
       "version_minor": 0
      },
      "text/plain": [
       "  0%|          | 0/2678 [00:00<?, ?it/s]"
      ]
     },
     "metadata": {},
     "output_type": "display_data"
    },
    {
     "data": {
      "application/vnd.jupyter.widget-view+json": {
       "model_id": "256cbc6d383046ac9c41ad9878b40ddf",
       "version_major": 2,
       "version_minor": 0
      },
      "text/plain": [
       "Applying OCR post-correction:   0%|          | 0/2678 [00:00<?, ?it/s]"
      ]
     },
     "metadata": {},
     "output_type": "display_data"
    },
    {
     "name": "stdout",
     "output_type": "stream",
     "text": [
      "Done with 1855 Forest Scenes in Norway and Sweden.csv\n",
      "\n",
      "Starting on 1856 A Summer in Northern Europe.csv\n",
      "\n"
     ]
    },
    {
     "data": {
      "application/vnd.jupyter.widget-view+json": {
       "model_id": "4d6cb2e95ab54a3d827afef2deb4e71a",
       "version_major": 2,
       "version_minor": 0
      },
      "text/plain": [
       "  0%|          | 0/1529 [00:00<?, ?it/s]"
      ]
     },
     "metadata": {},
     "output_type": "display_data"
    },
    {
     "data": {
      "application/vnd.jupyter.widget-view+json": {
       "model_id": "f5c0f7c6754c442184fd9a4364969b43",
       "version_major": 2,
       "version_minor": 0
      },
      "text/plain": [
       "Applying OCR post-correction:   0%|          | 0/1529 [00:00<?, ?it/s]"
      ]
     },
     "metadata": {},
     "output_type": "display_data"
    },
    {
     "name": "stdout",
     "output_type": "stream",
     "text": [
      "Done with 1856 A Summer in Northern Europe.csv\n",
      "\n",
      "Starting on 1856 Europe vol 3 Residence in Norway Notes on France Russia etc.csv\n",
      "\n"
     ]
    },
    {
     "data": {
      "application/vnd.jupyter.widget-view+json": {
       "model_id": "701269478c2e42b8b5efc969c4e78623",
       "version_major": 2,
       "version_minor": 0
      },
      "text/plain": [
       "  0%|          | 0/1795 [00:00<?, ?it/s]"
      ]
     },
     "metadata": {},
     "output_type": "display_data"
    },
    {
     "data": {
      "application/vnd.jupyter.widget-view+json": {
       "model_id": "bb84774a74ec41959d4cf2338155b222",
       "version_major": 2,
       "version_minor": 0
      },
      "text/plain": [
       "Applying OCR post-correction:   0%|          | 0/1795 [00:00<?, ?it/s]"
      ]
     },
     "metadata": {},
     "output_type": "display_data"
    },
    {
     "name": "stdout",
     "output_type": "stream",
     "text": [
      "Done with 1856 Europe vol 3 Residence in Norway Notes on France Russia etc.csv\n",
      "\n",
      "Starting on 1856 The Danes and the Swedes.csv\n",
      "\n"
     ]
    },
    {
     "data": {
      "application/vnd.jupyter.widget-view+json": {
       "model_id": "e6047b2176c54b868ba7b0d236b6aba2",
       "version_major": 2,
       "version_minor": 0
      },
      "text/plain": [
       "  0%|          | 0/433 [00:00<?, ?it/s]"
      ]
     },
     "metadata": {},
     "output_type": "display_data"
    },
    {
     "data": {
      "application/vnd.jupyter.widget-view+json": {
       "model_id": "f719780c054f49c6b8b8b454b6c69efb",
       "version_major": 2,
       "version_minor": 0
      },
      "text/plain": [
       "Applying OCR post-correction:   0%|          | 0/433 [00:00<?, ?it/s]"
      ]
     },
     "metadata": {},
     "output_type": "display_data"
    },
    {
     "name": "stdout",
     "output_type": "stream",
     "text": [
      "Done with 1856 The Danes and the Swedes.csv\n",
      "\n",
      "Starting on 1856 Tracings of Iceland and the Faroe Islands.csv\n",
      "\n"
     ]
    },
    {
     "data": {
      "application/vnd.jupyter.widget-view+json": {
       "model_id": "a4f0989bbc954856a373144e34c9890a",
       "version_major": 2,
       "version_minor": 0
      },
      "text/plain": [
       "  0%|          | 0/193 [00:00<?, ?it/s]"
      ]
     },
     "metadata": {},
     "output_type": "display_data"
    },
    {
     "data": {
      "application/vnd.jupyter.widget-view+json": {
       "model_id": "08687ed7286d4a02b5c6397784b6c8f8",
       "version_major": 2,
       "version_minor": 0
      },
      "text/plain": [
       "Applying OCR post-correction:   0%|          | 0/193 [00:00<?, ?it/s]"
      ]
     },
     "metadata": {},
     "output_type": "display_data"
    },
    {
     "name": "stdout",
     "output_type": "stream",
     "text": [
      "Done with 1856 Tracings of Iceland and the Faroe Islands.csv\n",
      "\n",
      "Starting on 1857 A long vacation ramble in Norway and Sweden.csv\n",
      "\n"
     ]
    },
    {
     "data": {
      "application/vnd.jupyter.widget-view+json": {
       "model_id": "e933f4bcaaa44a6b8619b6397a9a5204",
       "version_major": 2,
       "version_minor": 0
      },
      "text/plain": [
       "  0%|          | 0/1034 [00:00<?, ?it/s]"
      ]
     },
     "metadata": {},
     "output_type": "display_data"
    },
    {
     "data": {
      "application/vnd.jupyter.widget-view+json": {
       "model_id": "48c83dd6b0734dcfb2252e8e8ae32051",
       "version_major": 2,
       "version_minor": 0
      },
      "text/plain": [
       "Applying OCR post-correction:   0%|          | 0/1034 [00:00<?, ?it/s]"
      ]
     },
     "metadata": {},
     "output_type": "display_data"
    },
    {
     "name": "stdout",
     "output_type": "stream",
     "text": [
      "Done with 1857 A long vacation ramble in Norway and Sweden.csv\n",
      "\n",
      "Starting on 1857 Letters from High Latitudes.csv\n",
      "\n"
     ]
    },
    {
     "data": {
      "application/vnd.jupyter.widget-view+json": {
       "model_id": "8de4efbea6044d2a961b7ef28302c9c6",
       "version_major": 2,
       "version_minor": 0
      },
      "text/plain": [
       "  0%|          | 0/748 [00:00<?, ?it/s]"
      ]
     },
     "metadata": {},
     "output_type": "display_data"
    },
    {
     "data": {
      "application/vnd.jupyter.widget-view+json": {
       "model_id": "543d472f6c894f1b8a5ecc4dc339806f",
       "version_major": 2,
       "version_minor": 0
      },
      "text/plain": [
       "Applying OCR post-correction:   0%|          | 0/748 [00:00<?, ?it/s]"
      ]
     },
     "metadata": {},
     "output_type": "display_data"
    },
    {
     "name": "stdout",
     "output_type": "stream",
     "text": [
      "Done with 1857 Letters from High Latitudes.csv\n",
      "\n",
      "Starting on 1857 The book of the Baltic being the North of Europe Steam Companys route to Denmark Sweden and Russia Norway Prussia and the Hanseatic Ports.csv\n",
      "\n"
     ]
    },
    {
     "data": {
      "application/vnd.jupyter.widget-view+json": {
       "model_id": "adced967384948c2afed57a130544016",
       "version_major": 2,
       "version_minor": 0
      },
      "text/plain": [
       "  0%|          | 0/169 [00:00<?, ?it/s]"
      ]
     },
     "metadata": {},
     "output_type": "display_data"
    },
    {
     "data": {
      "application/vnd.jupyter.widget-view+json": {
       "model_id": "d0f0281730664f12a959af5798f516d7",
       "version_major": 2,
       "version_minor": 0
      },
      "text/plain": [
       "Applying OCR post-correction:   0%|          | 0/169 [00:00<?, ?it/s]"
      ]
     },
     "metadata": {},
     "output_type": "display_data"
    },
    {
     "name": "stdout",
     "output_type": "stream",
     "text": [
      "Done with 1857 The book of the Baltic being the North of Europe Steam Companys route to Denmark Sweden and Russia Norway Prussia and the Hanseatic Ports.csv\n",
      "\n",
      "Starting on 1857 Unprotected Females in Norway.csv\n",
      "\n"
     ]
    },
    {
     "data": {
      "application/vnd.jupyter.widget-view+json": {
       "model_id": "04c307d0731243108e5a42a17c366e3c",
       "version_major": 2,
       "version_minor": 0
      },
      "text/plain": [
       "  0%|          | 0/1154 [00:00<?, ?it/s]"
      ]
     },
     "metadata": {},
     "output_type": "display_data"
    },
    {
     "data": {
      "application/vnd.jupyter.widget-view+json": {
       "model_id": "614538a8e43c4ef2a4e94e8e67180f17",
       "version_major": 2,
       "version_minor": 0
      },
      "text/plain": [
       "Applying OCR post-correction:   0%|          | 0/1154 [00:00<?, ?it/s]"
      ]
     },
     "metadata": {},
     "output_type": "display_data"
    },
    {
     "name": "stdout",
     "output_type": "stream",
     "text": [
      "Done with 1857 Unprotected Females in Norway.csv\n",
      "\n",
      "Starting on 1858 The Oxonian in Thelemarken vol 1.csv\n",
      "\n"
     ]
    },
    {
     "data": {
      "application/vnd.jupyter.widget-view+json": {
       "model_id": "715dcdc4d7934b26a27e9c814c753b4b",
       "version_major": 2,
       "version_minor": 0
      },
      "text/plain": [
       "  0%|          | 0/1109 [00:00<?, ?it/s]"
      ]
     },
     "metadata": {},
     "output_type": "display_data"
    },
    {
     "data": {
      "application/vnd.jupyter.widget-view+json": {
       "model_id": "5c6e90ff7fa84e5ab84a3465ed187be9",
       "version_major": 2,
       "version_minor": 0
      },
      "text/plain": [
       "Applying OCR post-correction:   0%|          | 0/1109 [00:00<?, ?it/s]"
      ]
     },
     "metadata": {},
     "output_type": "display_data"
    },
    {
     "name": "stdout",
     "output_type": "stream",
     "text": [
      "Done with 1858 The Oxonian in Thelemarken vol 1.csv\n",
      "\n",
      "Starting on 1858 The Oxonian in Thelemarken vol 2.csv\n",
      "\n"
     ]
    },
    {
     "data": {
      "application/vnd.jupyter.widget-view+json": {
       "model_id": "5b810d10bf774be889fc8beec8b28985",
       "version_major": 2,
       "version_minor": 0
      },
      "text/plain": [
       "  0%|          | 0/1209 [00:00<?, ?it/s]"
      ]
     },
     "metadata": {},
     "output_type": "display_data"
    },
    {
     "data": {
      "application/vnd.jupyter.widget-view+json": {
       "model_id": "d95b9db4c0554eb2a19f968894f62698",
       "version_major": 2,
       "version_minor": 0
      },
      "text/plain": [
       "Applying OCR post-correction:   0%|          | 0/1209 [00:00<?, ?it/s]"
      ]
     },
     "metadata": {},
     "output_type": "display_data"
    },
    {
     "name": "stdout",
     "output_type": "stream",
     "text": [
      "Done with 1858 The Oxonian in Thelemarken vol 2.csv\n",
      "\n",
      "Starting on 1859 Northern Travel.csv\n",
      "\n"
     ]
    },
    {
     "data": {
      "application/vnd.jupyter.widget-view+json": {
       "model_id": "d278252722604a658138ffbc29e7dfe1",
       "version_major": 2,
       "version_minor": 0
      },
      "text/plain": [
       "  0%|          | 0/764 [00:00<?, ?it/s]"
      ]
     },
     "metadata": {},
     "output_type": "display_data"
    },
    {
     "data": {
      "application/vnd.jupyter.widget-view+json": {
       "model_id": "61c842d763254bd3afa6ec7ed12c8612",
       "version_major": 2,
       "version_minor": 0
      },
      "text/plain": [
       "Applying OCR post-correction:   0%|          | 0/764 [00:00<?, ?it/s]"
      ]
     },
     "metadata": {},
     "output_type": "display_data"
    },
    {
     "name": "stdout",
     "output_type": "stream",
     "text": [
      "Done with 1859 Northern Travel.csv\n",
      "\n",
      "Starting on 1859 The Norse folk or A visit to the homes of Norway and Sweden.csv\n",
      "\n"
     ]
    },
    {
     "data": {
      "application/vnd.jupyter.widget-view+json": {
       "model_id": "3708452efad249dab44c819c48a327f6",
       "version_major": 2,
       "version_minor": 0
      },
      "text/plain": [
       "  0%|          | 0/525 [00:00<?, ?it/s]"
      ]
     },
     "metadata": {},
     "output_type": "display_data"
    },
    {
     "data": {
      "application/vnd.jupyter.widget-view+json": {
       "model_id": "c802ea73524347db8f1cb046eb8443bd",
       "version_major": 2,
       "version_minor": 0
      },
      "text/plain": [
       "Applying OCR post-correction:   0%|          | 0/525 [00:00<?, ?it/s]"
      ]
     },
     "metadata": {},
     "output_type": "display_data"
    },
    {
     "name": "stdout",
     "output_type": "stream",
     "text": [
      "Done with 1859 The Norse folk or A visit to the homes of Norway and Sweden.csv\n",
      "\n",
      "Starting on 1859 Through Norway with a knapsack.csv\n",
      "\n"
     ]
    },
    {
     "data": {
      "application/vnd.jupyter.widget-view+json": {
       "model_id": "8d0b57b687f0471e85b33c507e9e8e8c",
       "version_major": 2,
       "version_minor": 0
      },
      "text/plain": [
       "  0%|          | 0/2800 [00:00<?, ?it/s]"
      ]
     },
     "metadata": {},
     "output_type": "display_data"
    },
    {
     "data": {
      "application/vnd.jupyter.widget-view+json": {
       "model_id": "27de3eec090249c19ad2fbff25ae4208",
       "version_major": 2,
       "version_minor": 0
      },
      "text/plain": [
       "Applying OCR post-correction:   0%|          | 0/2800 [00:00<?, ?it/s]"
      ]
     },
     "metadata": {},
     "output_type": "display_data"
    },
    {
     "name": "stdout",
     "output_type": "stream",
     "text": [
      "Done with 1859 Through Norway with a knapsack.csv\n",
      "\n",
      "Starting on 1860 A Residence in Jutland the Danish Isles and Copenhagen vol I.csv\n",
      "\n"
     ]
    },
    {
     "data": {
      "application/vnd.jupyter.widget-view+json": {
       "model_id": "98c4f000507b4e20a07bb7de539e874a",
       "version_major": 2,
       "version_minor": 0
      },
      "text/plain": [
       "  0%|          | 0/1437 [00:00<?, ?it/s]"
      ]
     },
     "metadata": {},
     "output_type": "display_data"
    },
    {
     "data": {
      "application/vnd.jupyter.widget-view+json": {
       "model_id": "30108e6740c4490c9c71deb2a7c5ccb1",
       "version_major": 2,
       "version_minor": 0
      },
      "text/plain": [
       "Applying OCR post-correction:   0%|          | 0/1437 [00:00<?, ?it/s]"
      ]
     },
     "metadata": {},
     "output_type": "display_data"
    },
    {
     "name": "stdout",
     "output_type": "stream",
     "text": [
      "Done with 1860 A Residence in Jutland the Danish Isles and Copenhagen vol I.csv\n",
      "\n",
      "Starting on 1860 A Residence in Jutland the Danish Isles and Copenhagen vol II.csv\n",
      "\n"
     ]
    },
    {
     "data": {
      "application/vnd.jupyter.widget-view+json": {
       "model_id": "77f2ffb104054cd3a5cf7b030e1b0313",
       "version_major": 2,
       "version_minor": 0
      },
      "text/plain": [
       "  0%|          | 0/1353 [00:00<?, ?it/s]"
      ]
     },
     "metadata": {},
     "output_type": "display_data"
    },
    {
     "data": {
      "application/vnd.jupyter.widget-view+json": {
       "model_id": "0136ad725995463dbd5b4f1d1c2a938f",
       "version_major": 2,
       "version_minor": 0
      },
      "text/plain": [
       "Applying OCR post-correction:   0%|          | 0/1353 [00:00<?, ?it/s]"
      ]
     },
     "metadata": {},
     "output_type": "display_data"
    },
    {
     "name": "stdout",
     "output_type": "stream",
     "text": [
      "Done with 1860 A Residence in Jutland the Danish Isles and Copenhagen vol II.csv\n",
      "\n",
      "Starting on 1861 Seasons with the sea horses.csv\n",
      "\n"
     ]
    },
    {
     "data": {
      "application/vnd.jupyter.widget-view+json": {
       "model_id": "e76f4d3ed0b3462785a0bb8043792ec2",
       "version_major": 2,
       "version_minor": 0
      },
      "text/plain": [
       "  0%|          | 0/306 [00:00<?, ?it/s]"
      ]
     },
     "metadata": {},
     "output_type": "display_data"
    },
    {
     "data": {
      "application/vnd.jupyter.widget-view+json": {
       "model_id": "8e7f0101a17944ebbf2a6ee7229b97f9",
       "version_major": 2,
       "version_minor": 0
      },
      "text/plain": [
       "Applying OCR post-correction:   0%|          | 0/306 [00:00<?, ?it/s]"
      ]
     },
     "metadata": {},
     "output_type": "display_data"
    },
    {
     "name": "stdout",
     "output_type": "stream",
     "text": [
      "Done with 1861 Seasons with the sea horses.csv\n",
      "\n",
      "Starting on 1861 The Oxonian in Iceland.csv\n",
      "\n"
     ]
    },
    {
     "data": {
      "application/vnd.jupyter.widget-view+json": {
       "model_id": "26a122b2e80f4fed83216648a6c0f2e0",
       "version_major": 2,
       "version_minor": 0
      },
      "text/plain": [
       "  0%|          | 0/1045 [00:00<?, ?it/s]"
      ]
     },
     "metadata": {},
     "output_type": "display_data"
    },
    {
     "data": {
      "application/vnd.jupyter.widget-view+json": {
       "model_id": "2a04db3d296a4c3ca33fba39c71ae398",
       "version_major": 2,
       "version_minor": 0
      },
      "text/plain": [
       "Applying OCR post-correction:   0%|          | 0/1045 [00:00<?, ?it/s]"
      ]
     },
     "metadata": {},
     "output_type": "display_data"
    },
    {
     "name": "stdout",
     "output_type": "stream",
     "text": [
      "Done with 1861 The Oxonian in Iceland.csv\n",
      "\n",
      "Starting on 1862 A tour in Northern Europe.csv\n",
      "\n"
     ]
    },
    {
     "data": {
      "application/vnd.jupyter.widget-view+json": {
       "model_id": "ea7fa25013ab425290334cd8cdd82cd8",
       "version_major": 2,
       "version_minor": 0
      },
      "text/plain": [
       "  0%|          | 0/415 [00:00<?, ?it/s]"
      ]
     },
     "metadata": {},
     "output_type": "display_data"
    },
    {
     "data": {
      "application/vnd.jupyter.widget-view+json": {
       "model_id": "d61cade905d44a2bb1c2dbbc8c4e6e4b",
       "version_major": 2,
       "version_minor": 0
      },
      "text/plain": [
       "Applying OCR post-correction:   0%|          | 0/415 [00:00<?, ?it/s]"
      ]
     },
     "metadata": {},
     "output_type": "display_data"
    },
    {
     "name": "stdout",
     "output_type": "stream",
     "text": [
      "Done with 1862 A tour in Northern Europe.csv\n",
      "\n",
      "Starting on 1862 One year in Sweden including a visit to the isle of Gotland vol 1.csv\n",
      "\n"
     ]
    },
    {
     "data": {
      "application/vnd.jupyter.widget-view+json": {
       "model_id": "13a90ef427714b939eef4dcd5e166fd0",
       "version_major": 2,
       "version_minor": 0
      },
      "text/plain": [
       "  0%|          | 0/4626 [00:00<?, ?it/s]"
      ]
     },
     "metadata": {},
     "output_type": "display_data"
    },
    {
     "data": {
      "application/vnd.jupyter.widget-view+json": {
       "model_id": "44a06ede26c048d7b0b1f9043baf88f6",
       "version_major": 2,
       "version_minor": 0
      },
      "text/plain": [
       "Applying OCR post-correction:   0%|          | 0/4626 [00:00<?, ?it/s]"
      ]
     },
     "metadata": {},
     "output_type": "display_data"
    },
    {
     "name": "stdout",
     "output_type": "stream",
     "text": [
      "Done with 1862 One year in Sweden including a visit to the isle of Gotland vol 1.csv\n",
      "\n",
      "Starting on 1862 Pen and Pencil Sketches of Faroe and Iceland.csv\n",
      "\n"
     ]
    },
    {
     "data": {
      "application/vnd.jupyter.widget-view+json": {
       "model_id": "aa32524d5332438c8c70d0b3ebfbc6de",
       "version_major": 2,
       "version_minor": 0
      },
      "text/plain": [
       "  0%|          | 0/3650 [00:00<?, ?it/s]"
      ]
     },
     "metadata": {},
     "output_type": "display_data"
    },
    {
     "data": {
      "application/vnd.jupyter.widget-view+json": {
       "model_id": "3fa172874e7f4d8fa6cd20a61efcaf1b",
       "version_major": 2,
       "version_minor": 0
      },
      "text/plain": [
       "Applying OCR post-correction:   0%|          | 0/3650 [00:00<?, ?it/s]"
      ]
     },
     "metadata": {},
     "output_type": "display_data"
    },
    {
     "name": "stdout",
     "output_type": "stream",
     "text": [
      "Done with 1862 Pen and Pencil Sketches of Faroe and Iceland.csv\n",
      "\n",
      "Starting on 1863 A Yachting Cruise in the Baltic.csv\n",
      "\n"
     ]
    },
    {
     "data": {
      "application/vnd.jupyter.widget-view+json": {
       "model_id": "95269e7147c44c2bac8c79110e461127",
       "version_major": 2,
       "version_minor": 0
      },
      "text/plain": [
       "  0%|          | 0/1675 [00:00<?, ?it/s]"
      ]
     },
     "metadata": {},
     "output_type": "display_data"
    },
    {
     "data": {
      "application/vnd.jupyter.widget-view+json": {
       "model_id": "fec79cb056e64cb4b4bedfce188f35f0",
       "version_major": 2,
       "version_minor": 0
      },
      "text/plain": [
       "Applying OCR post-correction:   0%|          | 0/1675 [00:00<?, ?it/s]"
      ]
     },
     "metadata": {},
     "output_type": "display_data"
    },
    {
     "name": "stdout",
     "output_type": "stream",
     "text": [
      "Done with 1863 A Yachting Cruise in the Baltic.csv\n",
      "\n",
      "Starting on 1863 Iceland Its Scenes and Its Sagas.csv\n",
      "\n"
     ]
    },
    {
     "data": {
      "application/vnd.jupyter.widget-view+json": {
       "model_id": "39dc9775d61b4fb5993c195d28c14a95",
       "version_major": 2,
       "version_minor": 0
      },
      "text/plain": [
       "  0%|          | 0/3905 [00:00<?, ?it/s]"
      ]
     },
     "metadata": {},
     "output_type": "display_data"
    },
    {
     "data": {
      "application/vnd.jupyter.widget-view+json": {
       "model_id": "be5cc2556c1e47f58a9297f49b5a7a56",
       "version_major": 2,
       "version_minor": 0
      },
      "text/plain": [
       "Applying OCR post-correction:   0%|          | 0/3905 [00:00<?, ?it/s]"
      ]
     },
     "metadata": {},
     "output_type": "display_data"
    },
    {
     "name": "stdout",
     "output_type": "stream",
     "text": [
      "Done with 1863 Iceland Its Scenes and Its Sagas.csv\n",
      "\n",
      "Starting on 1864 Chasing the Sun.csv\n",
      "\n"
     ]
    },
    {
     "data": {
      "application/vnd.jupyter.widget-view+json": {
       "model_id": "407b8edb0b534263b531517049520c1f",
       "version_major": 2,
       "version_minor": 0
      },
      "text/plain": [
       "  0%|          | 0/612 [00:00<?, ?it/s]"
      ]
     },
     "metadata": {},
     "output_type": "display_data"
    },
    {
     "data": {
      "application/vnd.jupyter.widget-view+json": {
       "model_id": "a6983d753dad40ff847cc379445b28a0",
       "version_major": 2,
       "version_minor": 0
      },
      "text/plain": [
       "Applying OCR post-correction:   0%|          | 0/612 [00:00<?, ?it/s]"
      ]
     },
     "metadata": {},
     "output_type": "display_data"
    },
    {
     "name": "stdout",
     "output_type": "stream",
     "text": [
      "Done with 1864 Chasing the Sun.csv\n",
      "\n",
      "Starting on 1867 Sweden and Norway.csv\n",
      "\n"
     ]
    },
    {
     "data": {
      "application/vnd.jupyter.widget-view+json": {
       "model_id": "660b32e562e94b7aa4a33d4b95d9dc03",
       "version_major": 2,
       "version_minor": 0
      },
      "text/plain": [
       "  0%|          | 0/1925 [00:00<?, ?it/s]"
      ]
     },
     "metadata": {},
     "output_type": "display_data"
    },
    {
     "data": {
      "application/vnd.jupyter.widget-view+json": {
       "model_id": "293e627ff2e94b6bb5eda4e67b9a6076",
       "version_major": 2,
       "version_minor": 0
      },
      "text/plain": [
       "Applying OCR post-correction:   0%|          | 0/1925 [00:00<?, ?it/s]"
      ]
     },
     "metadata": {},
     "output_type": "display_data"
    },
    {
     "name": "stdout",
     "output_type": "stream",
     "text": [
      "Done with 1867 Sweden and Norway.csv\n",
      "\n",
      "Starting on 1867 The Land of Thor.csv\n",
      "\n"
     ]
    },
    {
     "data": {
      "application/vnd.jupyter.widget-view+json": {
       "model_id": "ad7bf169c6974d90b17268cd5670d409",
       "version_major": 2,
       "version_minor": 0
      },
      "text/plain": [
       "  0%|          | 0/1681 [00:00<?, ?it/s]"
      ]
     },
     "metadata": {},
     "output_type": "display_data"
    },
    {
     "data": {
      "application/vnd.jupyter.widget-view+json": {
       "model_id": "9b790865368545689bf60d68508109a8",
       "version_major": 2,
       "version_minor": 0
      },
      "text/plain": [
       "Applying OCR post-correction:   0%|          | 0/1681 [00:00<?, ?it/s]"
      ]
     },
     "metadata": {},
     "output_type": "display_data"
    },
    {
     "name": "stdout",
     "output_type": "stream",
     "text": [
      "Done with 1867 The Land of Thor.csv\n",
      "\n",
      "Starting on 1870 The Knapsack guide to Norway.csv\n",
      "\n"
     ]
    },
    {
     "data": {
      "application/vnd.jupyter.widget-view+json": {
       "model_id": "2341745b4b49415fa8a0607ae2ad074a",
       "version_major": 2,
       "version_minor": 0
      },
      "text/plain": [
       "  0%|          | 0/2535 [00:00<?, ?it/s]"
      ]
     },
     "metadata": {},
     "output_type": "display_data"
    },
    {
     "data": {
      "application/vnd.jupyter.widget-view+json": {
       "model_id": "6ca7de2cc17e4f03b8d8b6e6c31e355e",
       "version_major": 2,
       "version_minor": 0
      },
      "text/plain": [
       "Applying OCR post-correction:   0%|          | 0/2535 [00:00<?, ?it/s]"
      ]
     },
     "metadata": {},
     "output_type": "display_data"
    },
    {
     "name": "stdout",
     "output_type": "stream",
     "text": [
      "Done with 1870 The Knapsack guide to Norway.csv\n",
      "\n",
      "Starting on 1871 A Handbook for Travellers in Denmark Norway and Sweden third edition.csv\n",
      "\n"
     ]
    },
    {
     "data": {
      "application/vnd.jupyter.widget-view+json": {
       "model_id": "7a31f7ad07ac47e2a18f64436624bb45",
       "version_major": 2,
       "version_minor": 0
      },
      "text/plain": [
       "  0%|          | 0/7391 [00:00<?, ?it/s]"
      ]
     },
     "metadata": {},
     "output_type": "display_data"
    },
    {
     "data": {
      "application/vnd.jupyter.widget-view+json": {
       "model_id": "d76dfab438e240bbbd6a0ddcac1b464f",
       "version_major": 2,
       "version_minor": 0
      },
      "text/plain": [
       "Applying OCR post-correction:   0%|          | 0/7391 [00:00<?, ?it/s]"
      ]
     },
     "metadata": {},
     "output_type": "display_data"
    },
    {
     "name": "stdout",
     "output_type": "stream",
     "text": [
      "Done with 1871 A Handbook for Travellers in Denmark Norway and Sweden third edition.csv\n",
      "\n",
      "Starting on 1871 A handbook for travellers in Denmark Norway and Sweden.csv\n",
      "\n"
     ]
    },
    {
     "data": {
      "application/vnd.jupyter.widget-view+json": {
       "model_id": "208cf638971d45098e0a276118813466",
       "version_major": 2,
       "version_minor": 0
      },
      "text/plain": [
       "  0%|          | 0/572 [00:00<?, ?it/s]"
      ]
     },
     "metadata": {},
     "output_type": "display_data"
    },
    {
     "data": {
      "application/vnd.jupyter.widget-view+json": {
       "model_id": "ffbf2d19462141cebf69006f91fc9d40",
       "version_major": 2,
       "version_minor": 0
      },
      "text/plain": [
       "Applying OCR post-correction:   0%|          | 0/572 [00:00<?, ?it/s]"
      ]
     },
     "metadata": {},
     "output_type": "display_data"
    },
    {
     "name": "stdout",
     "output_type": "stream",
     "text": [
      "Done with 1871 A handbook for travellers in Denmark Norway and Sweden.csv\n",
      "\n",
      "Starting on 1871 Canoe Travelling Log of a Cruise on the Baltic.csv\n",
      "\n"
     ]
    },
    {
     "data": {
      "application/vnd.jupyter.widget-view+json": {
       "model_id": "e5a966164ea0457494413e9903892b0f",
       "version_major": 2,
       "version_minor": 0
      },
      "text/plain": [
       "  0%|          | 0/818 [00:00<?, ?it/s]"
      ]
     },
     "metadata": {},
     "output_type": "display_data"
    },
    {
     "data": {
      "application/vnd.jupyter.widget-view+json": {
       "model_id": "e9e73d8e6bc5493cb4998f7c427db25f",
       "version_major": 2,
       "version_minor": 0
      },
      "text/plain": [
       "Applying OCR post-correction:   0%|          | 0/818 [00:00<?, ?it/s]"
      ]
     },
     "metadata": {},
     "output_type": "display_data"
    },
    {
     "name": "stdout",
     "output_type": "stream",
     "text": [
      "Done with 1871 Canoe Travelling Log of a Cruise on the Baltic.csv\n",
      "\n",
      "Starting on 1871 How to See Norway.csv\n",
      "\n"
     ]
    },
    {
     "data": {
      "application/vnd.jupyter.widget-view+json": {
       "model_id": "1edd5f61e433482c833486dc3262d2a4",
       "version_major": 2,
       "version_minor": 0
      },
      "text/plain": [
       "  0%|          | 0/1081 [00:00<?, ?it/s]"
      ]
     },
     "metadata": {},
     "output_type": "display_data"
    },
    {
     "data": {
      "application/vnd.jupyter.widget-view+json": {
       "model_id": "3a204f04ca574999bed6b7af5598cf02",
       "version_major": 2,
       "version_minor": 0
      },
      "text/plain": [
       "Applying OCR post-correction:   0%|          | 0/1081 [00:00<?, ?it/s]"
      ]
     },
     "metadata": {},
     "output_type": "display_data"
    },
    {
     "name": "stdout",
     "output_type": "stream",
     "text": [
      "Done with 1871 How to See Norway.csv\n",
      "\n",
      "Starting on 1871 Up the Baltic Or Young America in Norway Sweden and Denmark.csv\n",
      "\n"
     ]
    },
    {
     "data": {
      "application/vnd.jupyter.widget-view+json": {
       "model_id": "3d8c4fac01e742ccbb44b983ff210a87",
       "version_major": 2,
       "version_minor": 0
      },
      "text/plain": [
       "  0%|          | 0/2811 [00:00<?, ?it/s]"
      ]
     },
     "metadata": {},
     "output_type": "display_data"
    },
    {
     "data": {
      "application/vnd.jupyter.widget-view+json": {
       "model_id": "4934d0275f5f40b882d00dac4fd8e695",
       "version_major": 2,
       "version_minor": 0
      },
      "text/plain": [
       "Applying OCR post-correction:   0%|          | 0/2811 [00:00<?, ?it/s]"
      ]
     },
     "metadata": {},
     "output_type": "display_data"
    },
    {
     "name": "stdout",
     "output_type": "stream",
     "text": [
      "Done with 1871 Up the Baltic Or Young America in Norway Sweden and Denmark.csv\n",
      "\n",
      "Starting on 1872 The Rob Roy on the Baltic.csv\n",
      "\n"
     ]
    },
    {
     "data": {
      "application/vnd.jupyter.widget-view+json": {
       "model_id": "690d5712f8034ca2b1a7619af72fe5e5",
       "version_major": 2,
       "version_minor": 0
      },
      "text/plain": [
       "  0%|          | 0/302 [00:00<?, ?it/s]"
      ]
     },
     "metadata": {},
     "output_type": "display_data"
    },
    {
     "data": {
      "application/vnd.jupyter.widget-view+json": {
       "model_id": "1ab341bf192e47529092febb04544bc1",
       "version_major": 2,
       "version_minor": 0
      },
      "text/plain": [
       "Applying OCR post-correction:   0%|          | 0/302 [00:00<?, ?it/s]"
      ]
     },
     "metadata": {},
     "output_type": "display_data"
    },
    {
     "name": "stdout",
     "output_type": "stream",
     "text": [
      "Done with 1872 The Rob Roy on the Baltic.csv\n",
      "\n",
      "Starting on 1873 Tent Life with English Gipsies in Norway.csv\n",
      "\n"
     ]
    },
    {
     "data": {
      "application/vnd.jupyter.widget-view+json": {
       "model_id": "f2ffdc4b1802480cbd504744a4045f2f",
       "version_major": 2,
       "version_minor": 0
      },
      "text/plain": [
       "  0%|          | 0/1920 [00:00<?, ?it/s]"
      ]
     },
     "metadata": {},
     "output_type": "display_data"
    },
    {
     "data": {
      "application/vnd.jupyter.widget-view+json": {
       "model_id": "85fdb9a56e114c8787cf2541b13243e4",
       "version_major": 2,
       "version_minor": 0
      },
      "text/plain": [
       "Applying OCR post-correction:   0%|          | 0/1920 [00:00<?, ?it/s]"
      ]
     },
     "metadata": {},
     "output_type": "display_data"
    },
    {
     "name": "stdout",
     "output_type": "stream",
     "text": [
      "Done with 1873 Tent Life with English Gipsies in Norway.csv\n",
      "\n",
      "Starting on 1873 To Iceland in a Yacht.csv\n",
      "\n"
     ]
    },
    {
     "data": {
      "application/vnd.jupyter.widget-view+json": {
       "model_id": "9963f42a11c343feaf40e47cf36c5172",
       "version_major": 2,
       "version_minor": 0
      },
      "text/plain": [
       "  0%|          | 0/498 [00:00<?, ?it/s]"
      ]
     },
     "metadata": {},
     "output_type": "display_data"
    },
    {
     "data": {
      "application/vnd.jupyter.widget-view+json": {
       "model_id": "0ac5eb5fbff4438287a14065c9667392",
       "version_major": 2,
       "version_minor": 0
      },
      "text/plain": [
       "Applying OCR post-correction:   0%|          | 0/498 [00:00<?, ?it/s]"
      ]
     },
     "metadata": {},
     "output_type": "display_data"
    },
    {
     "name": "stdout",
     "output_type": "stream",
     "text": [
      "Done with 1873 To Iceland in a Yacht.csv\n",
      "\n",
      "Starting on 1874 Wayside notes in Scandinavia.csv\n",
      "\n"
     ]
    },
    {
     "data": {
      "application/vnd.jupyter.widget-view+json": {
       "model_id": "d315bccde4f9470ab5244346c2ab82e8",
       "version_major": 2,
       "version_minor": 0
      },
      "text/plain": [
       "  0%|          | 0/2459 [00:00<?, ?it/s]"
      ]
     },
     "metadata": {},
     "output_type": "display_data"
    },
    {
     "data": {
      "application/vnd.jupyter.widget-view+json": {
       "model_id": "c472f3fb7527474db0a29e710b71b8df",
       "version_major": 2,
       "version_minor": 0
      },
      "text/plain": [
       "Applying OCR post-correction:   0%|          | 0/2459 [00:00<?, ?it/s]"
      ]
     },
     "metadata": {},
     "output_type": "display_data"
    },
    {
     "name": "stdout",
     "output_type": "stream",
     "text": [
      "Done with 1874 Wayside notes in Scandinavia.csv\n",
      "\n",
      "Starting on 1875 An American in Iceland.csv\n",
      "\n"
     ]
    },
    {
     "data": {
      "application/vnd.jupyter.widget-view+json": {
       "model_id": "6085cb20251a43ec9010715d046019a0",
       "version_major": 2,
       "version_minor": 0
      },
      "text/plain": [
       "  0%|          | 0/349 [00:00<?, ?it/s]"
      ]
     },
     "metadata": {},
     "output_type": "display_data"
    },
    {
     "data": {
      "application/vnd.jupyter.widget-view+json": {
       "model_id": "232e38b234934604b0961429578fb31e",
       "version_major": 2,
       "version_minor": 0
      },
      "text/plain": [
       "Applying OCR post-correction:   0%|          | 0/349 [00:00<?, ?it/s]"
      ]
     },
     "metadata": {},
     "output_type": "display_data"
    },
    {
     "name": "stdout",
     "output_type": "stream",
     "text": [
      "Done with 1875 An American in Iceland.csv\n",
      "\n",
      "Starting on 1875 The Pilgrim of Scandinavia.csv\n",
      "\n"
     ]
    },
    {
     "data": {
      "application/vnd.jupyter.widget-view+json": {
       "model_id": "eec2b02b1525455aa967cce6187b24ad",
       "version_major": 2,
       "version_minor": 0
      },
      "text/plain": [
       "  0%|          | 0/417 [00:00<?, ?it/s]"
      ]
     },
     "metadata": {},
     "output_type": "display_data"
    },
    {
     "data": {
      "application/vnd.jupyter.widget-view+json": {
       "model_id": "4f9cc7a29b2849f0b30c6abae2e9f91a",
       "version_major": 2,
       "version_minor": 0
      },
      "text/plain": [
       "Applying OCR post-correction:   0%|          | 0/417 [00:00<?, ?it/s]"
      ]
     },
     "metadata": {},
     "output_type": "display_data"
    },
    {
     "name": "stdout",
     "output_type": "stream",
     "text": [
      "Done with 1875 The Pilgrim of Scandinavia.csv\n",
      "\n",
      "Starting on 1875 Ultima Thule or A Summer in Iceland vol 1.csv\n",
      "\n"
     ]
    },
    {
     "data": {
      "application/vnd.jupyter.widget-view+json": {
       "model_id": "8d3c7ece64544aa393cd6f39322910eb",
       "version_major": 2,
       "version_minor": 0
      },
      "text/plain": [
       "  0%|          | 0/1895 [00:00<?, ?it/s]"
      ]
     },
     "metadata": {},
     "output_type": "display_data"
    },
    {
     "data": {
      "application/vnd.jupyter.widget-view+json": {
       "model_id": "ebc1071ed4724356b048f3a14d4af087",
       "version_major": 2,
       "version_minor": 0
      },
      "text/plain": [
       "Applying OCR post-correction:   0%|          | 0/1895 [00:00<?, ?it/s]"
      ]
     },
     "metadata": {},
     "output_type": "display_data"
    },
    {
     "name": "stdout",
     "output_type": "stream",
     "text": [
      "Done with 1875 Ultima Thule or A Summer in Iceland vol 1.csv\n",
      "\n",
      "Starting on 1875 Ultima Thule or A Summer in Iceland vol 2.csv\n",
      "\n"
     ]
    },
    {
     "data": {
      "application/vnd.jupyter.widget-view+json": {
       "model_id": "10e6ddd00193450582bfbf6e2e83fdac",
       "version_major": 2,
       "version_minor": 0
      },
      "text/plain": [
       "  0%|          | 0/1749 [00:00<?, ?it/s]"
      ]
     },
     "metadata": {},
     "output_type": "display_data"
    },
    {
     "data": {
      "application/vnd.jupyter.widget-view+json": {
       "model_id": "7fce3d32b76e4bf69d2004d4fd371700",
       "version_major": 2,
       "version_minor": 0
      },
      "text/plain": [
       "Applying OCR post-correction:   0%|          | 0/1749 [00:00<?, ?it/s]"
      ]
     },
     "metadata": {},
     "output_type": "display_data"
    },
    {
     "name": "stdout",
     "output_type": "stream",
     "text": [
      "Done with 1875 Ultima Thule or A Summer in Iceland vol 2.csv\n",
      "\n",
      "Starting on 1875 Up The Baltic  Or Young America in Norway Sweden and Denmark.csv\n",
      "\n"
     ]
    },
    {
     "data": {
      "application/vnd.jupyter.widget-view+json": {
       "model_id": "cd431fb23fad4e3fba7b916ac8b32324",
       "version_major": 2,
       "version_minor": 0
      },
      "text/plain": [
       "  0%|          | 0/2863 [00:00<?, ?it/s]"
      ]
     },
     "metadata": {},
     "output_type": "display_data"
    },
    {
     "data": {
      "application/vnd.jupyter.widget-view+json": {
       "model_id": "5bb4d7b8fb9246288ce1cd376d3fbfbe",
       "version_major": 2,
       "version_minor": 0
      },
      "text/plain": [
       "Applying OCR post-correction:   0%|          | 0/2863 [00:00<?, ?it/s]"
      ]
     },
     "metadata": {},
     "output_type": "display_data"
    },
    {
     "name": "stdout",
     "output_type": "stream",
     "text": [
      "Done with 1875 Up The Baltic  Or Young America in Norway Sweden and Denmark.csv\n",
      "\n",
      "Starting on 1877 A summer holiday in Scandinavia.csv\n",
      "\n"
     ]
    },
    {
     "data": {
      "application/vnd.jupyter.widget-view+json": {
       "model_id": "500e3e8fbfcf4b08ba725818026c65db",
       "version_major": 2,
       "version_minor": 0
      },
      "text/plain": [
       "  0%|          | 0/1704 [00:00<?, ?it/s]"
      ]
     },
     "metadata": {},
     "output_type": "display_data"
    },
    {
     "data": {
      "application/vnd.jupyter.widget-view+json": {
       "model_id": "bc1877bd864f45f4913ae7b737b47630",
       "version_major": 2,
       "version_minor": 0
      },
      "text/plain": [
       "Applying OCR post-correction:   0%|          | 0/1704 [00:00<?, ?it/s]"
      ]
     },
     "metadata": {},
     "output_type": "display_data"
    },
    {
     "name": "stdout",
     "output_type": "stream",
     "text": [
      "Done with 1877 A summer holiday in Scandinavia.csv\n",
      "\n",
      "Starting on 1877 Scenes of travel in Norway.csv\n",
      "\n"
     ]
    },
    {
     "data": {
      "application/vnd.jupyter.widget-view+json": {
       "model_id": "11343e2318f144b1943c82e9d18a2d46",
       "version_major": 2,
       "version_minor": 0
      },
      "text/plain": [
       "  0%|          | 0/680 [00:00<?, ?it/s]"
      ]
     },
     "metadata": {},
     "output_type": "display_data"
    },
    {
     "data": {
      "application/vnd.jupyter.widget-view+json": {
       "model_id": "c534d01dee854834a5c5db58c6631cd3",
       "version_major": 2,
       "version_minor": 0
      },
      "text/plain": [
       "Applying OCR post-correction:   0%|          | 0/680 [00:00<?, ?it/s]"
      ]
     },
     "metadata": {},
     "output_type": "display_data"
    },
    {
     "name": "stdout",
     "output_type": "stream",
     "text": [
      "Done with 1877 Scenes of travel in Norway.csv\n",
      "\n",
      "Starting on 1877 Six weeks in Norway.csv\n",
      "\n"
     ]
    },
    {
     "data": {
      "application/vnd.jupyter.widget-view+json": {
       "model_id": "2fc03466e6504218afd844a8280c5199",
       "version_major": 2,
       "version_minor": 0
      },
      "text/plain": [
       "  0%|          | 0/316 [00:00<?, ?it/s]"
      ]
     },
     "metadata": {},
     "output_type": "display_data"
    },
    {
     "data": {
      "application/vnd.jupyter.widget-view+json": {
       "model_id": "5a2dd6310ce047ebb664ea329e396226",
       "version_major": 2,
       "version_minor": 0
      },
      "text/plain": [
       "Applying OCR post-correction:   0%|          | 0/316 [00:00<?, ?it/s]"
      ]
     },
     "metadata": {},
     "output_type": "display_data"
    },
    {
     "name": "stdout",
     "output_type": "stream",
     "text": [
      "Done with 1877 Six weeks in Norway.csv\n",
      "\n",
      "Starting on 1878 To the Arctic Regions and Back in Six Weeks.csv\n",
      "\n"
     ]
    },
    {
     "data": {
      "application/vnd.jupyter.widget-view+json": {
       "model_id": "eda8ce522e44459b829460bd7c21a8b7",
       "version_major": 2,
       "version_minor": 0
      },
      "text/plain": [
       "  0%|          | 0/1871 [00:00<?, ?it/s]"
      ]
     },
     "metadata": {},
     "output_type": "display_data"
    },
    {
     "data": {
      "application/vnd.jupyter.widget-view+json": {
       "model_id": "505e98b9253e4dcb8914ea3c59cf4d9c",
       "version_major": 2,
       "version_minor": 0
      },
      "text/plain": [
       "Applying OCR post-correction:   0%|          | 0/1871 [00:00<?, ?it/s]"
      ]
     },
     "metadata": {},
     "output_type": "display_data"
    },
    {
     "name": "stdout",
     "output_type": "stream",
     "text": [
      "Done with 1878 To the Arctic Regions and Back in Six Weeks.csv\n",
      "\n",
      "Starting on 1879 A holiday in Iceland.csv\n",
      "\n"
     ]
    },
    {
     "data": {
      "application/vnd.jupyter.widget-view+json": {
       "model_id": "2af7c76256484df0bbbf2f37f323c83f",
       "version_major": 2,
       "version_minor": 0
      },
      "text/plain": [
       "  0%|          | 0/123 [00:00<?, ?it/s]"
      ]
     },
     "metadata": {},
     "output_type": "display_data"
    },
    {
     "data": {
      "application/vnd.jupyter.widget-view+json": {
       "model_id": "1a372a20e82e4d3a9cef2c4bd1390185",
       "version_major": 2,
       "version_minor": 0
      },
      "text/plain": [
       "Applying OCR post-correction:   0%|          | 0/123 [00:00<?, ?it/s]"
      ]
     },
     "metadata": {},
     "output_type": "display_data"
    },
    {
     "name": "stdout",
     "output_type": "stream",
     "text": [
      "Done with 1879 A holiday in Iceland.csv\n",
      "\n",
      "Starting on 1879 Diary of a tour in Sweden Norway and Russia in 1827 with letters.csv\n",
      "\n"
     ]
    },
    {
     "data": {
      "application/vnd.jupyter.widget-view+json": {
       "model_id": "6634e700b43c4f6b8d3994d0d7d92a20",
       "version_major": 2,
       "version_minor": 0
      },
      "text/plain": [
       "  0%|          | 0/1125 [00:00<?, ?it/s]"
      ]
     },
     "metadata": {},
     "output_type": "display_data"
    },
    {
     "data": {
      "application/vnd.jupyter.widget-view+json": {
       "model_id": "a6f01065ab78411a9be89b14ef1edce4",
       "version_major": 2,
       "version_minor": 0
      },
      "text/plain": [
       "Applying OCR post-correction:   0%|          | 0/1125 [00:00<?, ?it/s]"
      ]
     },
     "metadata": {},
     "output_type": "display_data"
    },
    {
     "name": "stdout",
     "output_type": "stream",
     "text": [
      "Done with 1879 Diary of a tour in Sweden Norway and Russia in 1827 with letters.csv\n",
      "\n",
      "Starting on 1879 Gamle Norge Rambles and Scrambles in Norway.csv\n",
      "\n"
     ]
    },
    {
     "data": {
      "application/vnd.jupyter.widget-view+json": {
       "model_id": "d2004f8452b34f6fadda8851cf8246d9",
       "version_major": 2,
       "version_minor": 0
      },
      "text/plain": [
       "  0%|          | 0/657 [00:00<?, ?it/s]"
      ]
     },
     "metadata": {},
     "output_type": "display_data"
    },
    {
     "data": {
      "application/vnd.jupyter.widget-view+json": {
       "model_id": "2a14741ef79f476b93e4db101c2baa16",
       "version_major": 2,
       "version_minor": 0
      },
      "text/plain": [
       "Applying OCR post-correction:   0%|          | 0/657 [00:00<?, ?it/s]"
      ]
     },
     "metadata": {},
     "output_type": "display_data"
    },
    {
     "name": "stdout",
     "output_type": "stream",
     "text": [
      "Done with 1879 Gamle Norge Rambles and Scrambles in Norway.csv\n",
      "\n",
      "Starting on 1880 Five weeks in Iceland.csv\n",
      "\n"
     ]
    },
    {
     "data": {
      "application/vnd.jupyter.widget-view+json": {
       "model_id": "bfe01c3a9129446188663867b9a26cf6",
       "version_major": 2,
       "version_minor": 0
      },
      "text/plain": [
       "  0%|          | 0/199 [00:00<?, ?it/s]"
      ]
     },
     "metadata": {},
     "output_type": "display_data"
    },
    {
     "data": {
      "application/vnd.jupyter.widget-view+json": {
       "model_id": "218b2444c7bd4381b7c9809e08b0bb00",
       "version_major": 2,
       "version_minor": 0
      },
      "text/plain": [
       "Applying OCR post-correction:   0%|          | 0/199 [00:00<?, ?it/s]"
      ]
     },
     "metadata": {},
     "output_type": "display_data"
    },
    {
     "name": "stdout",
     "output_type": "stream",
     "text": [
      "Done with 1880 Five weeks in Iceland.csv\n",
      "\n",
      "Starting on 1881 Denmark and Iceland.csv\n",
      "\n"
     ]
    },
    {
     "data": {
      "application/vnd.jupyter.widget-view+json": {
       "model_id": "b0671177ae7940698c43a25256830f4e",
       "version_major": 2,
       "version_minor": 0
      },
      "text/plain": [
       "  0%|          | 0/1564 [00:00<?, ?it/s]"
      ]
     },
     "metadata": {},
     "output_type": "display_data"
    },
    {
     "data": {
      "application/vnd.jupyter.widget-view+json": {
       "model_id": "a952b41b7ce6408b8cdf8c75c7e66f55",
       "version_major": 2,
       "version_minor": 0
      },
      "text/plain": [
       "Applying OCR post-correction:   0%|          | 0/1564 [00:00<?, ?it/s]"
      ]
     },
     "metadata": {},
     "output_type": "display_data"
    },
    {
     "name": "stdout",
     "output_type": "stream",
     "text": [
      "Done with 1881 Denmark and Iceland.csv\n",
      "\n",
      "Starting on 1881 The story of a scandinavian summer.csv\n",
      "\n"
     ]
    },
    {
     "data": {
      "application/vnd.jupyter.widget-view+json": {
       "model_id": "6a92691c8e4f404f8142e3707d591163",
       "version_major": 2,
       "version_minor": 0
      },
      "text/plain": [
       "  0%|          | 0/1699 [00:00<?, ?it/s]"
      ]
     },
     "metadata": {},
     "output_type": "display_data"
    },
    {
     "data": {
      "application/vnd.jupyter.widget-view+json": {
       "model_id": "2318cf22b1e24656913a839349019520",
       "version_major": 2,
       "version_minor": 0
      },
      "text/plain": [
       "Applying OCR post-correction:   0%|          | 0/1699 [00:00<?, ?it/s]"
      ]
     },
     "metadata": {},
     "output_type": "display_data"
    },
    {
     "name": "stdout",
     "output_type": "stream",
     "text": [
      "Done with 1881 The story of a scandinavian summer.csv\n",
      "\n",
      "Starting on 1882 By Fell and Fjord.csv\n",
      "\n"
     ]
    },
    {
     "data": {
      "application/vnd.jupyter.widget-view+json": {
       "model_id": "135309e1157c463cb89f33ecf96dfc4d",
       "version_major": 2,
       "version_minor": 0
      },
      "text/plain": [
       "  0%|          | 0/1301 [00:00<?, ?it/s]"
      ]
     },
     "metadata": {},
     "output_type": "display_data"
    },
    {
     "data": {
      "application/vnd.jupyter.widget-view+json": {
       "model_id": "f874803fd5ca4197bce79f7e608a11e2",
       "version_major": 2,
       "version_minor": 0
      },
      "text/plain": [
       "Applying OCR post-correction:   0%|          | 0/1301 [00:00<?, ?it/s]"
      ]
     },
     "metadata": {},
     "output_type": "display_data"
    },
    {
     "name": "stdout",
     "output_type": "stream",
     "text": [
      "Done with 1882 By Fell and Fjord.csv\n",
      "\n",
      "Starting on 1882 Summer travelling in Iceland.csv\n",
      "\n"
     ]
    },
    {
     "data": {
      "application/vnd.jupyter.widget-view+json": {
       "model_id": "483a5177e0bc4e6ba5e644e6f51de83a",
       "version_major": 2,
       "version_minor": 0
      },
      "text/plain": [
       "  0%|          | 0/1670 [00:00<?, ?it/s]"
      ]
     },
     "metadata": {},
     "output_type": "display_data"
    },
    {
     "data": {
      "application/vnd.jupyter.widget-view+json": {
       "model_id": "a56d9f00e2714b4dac463b54484b17d3",
       "version_major": 2,
       "version_minor": 0
      },
      "text/plain": [
       "Applying OCR post-correction:   0%|          | 0/1670 [00:00<?, ?it/s]"
      ]
     },
     "metadata": {},
     "output_type": "display_data"
    },
    {
     "name": "stdout",
     "output_type": "stream",
     "text": [
      "Done with 1882 Summer travelling in Iceland.csv\n",
      "\n",
      "Starting on 1882 Sweden and Norway.csv\n",
      "\n"
     ]
    },
    {
     "data": {
      "application/vnd.jupyter.widget-view+json": {
       "model_id": "a6d284635c4d429b9e241a9ebd17afde",
       "version_major": 2,
       "version_minor": 0
      },
      "text/plain": [
       "  0%|          | 0/2126 [00:00<?, ?it/s]"
      ]
     },
     "metadata": {},
     "output_type": "display_data"
    },
    {
     "data": {
      "application/vnd.jupyter.widget-view+json": {
       "model_id": "86d4737d718f43b09d351c1bf4cd855b",
       "version_major": 2,
       "version_minor": 0
      },
      "text/plain": [
       "Applying OCR post-correction:   0%|          | 0/2126 [00:00<?, ?it/s]"
      ]
     },
     "metadata": {},
     "output_type": "display_data"
    },
    {
     "name": "stdout",
     "output_type": "stream",
     "text": [
      "Done with 1882 Sweden and Norway.csv\n",
      "\n",
      "Starting on 1882 The Land of the Midnight Sun vol 1.csv\n",
      "\n"
     ]
    },
    {
     "data": {
      "application/vnd.jupyter.widget-view+json": {
       "model_id": "0f792639529241df89c1bddf2ea377e5",
       "version_major": 2,
       "version_minor": 0
      },
      "text/plain": [
       "  0%|          | 0/2602 [00:00<?, ?it/s]"
      ]
     },
     "metadata": {},
     "output_type": "display_data"
    },
    {
     "data": {
      "application/vnd.jupyter.widget-view+json": {
       "model_id": "80820c3a6d434fcca9f0140faf4857a7",
       "version_major": 2,
       "version_minor": 0
      },
      "text/plain": [
       "Applying OCR post-correction:   0%|          | 0/2602 [00:00<?, ?it/s]"
      ]
     },
     "metadata": {},
     "output_type": "display_data"
    },
    {
     "name": "stdout",
     "output_type": "stream",
     "text": [
      "Done with 1882 The Land of the Midnight Sun vol 1.csv\n",
      "\n",
      "Starting on 1882 The Land of the Midnight Sun vol 2.csv\n",
      "\n"
     ]
    },
    {
     "data": {
      "application/vnd.jupyter.widget-view+json": {
       "model_id": "509551821d3a4c99b86fc48b60e064f9",
       "version_major": 2,
       "version_minor": 0
      },
      "text/plain": [
       "  0%|          | 0/2555 [00:00<?, ?it/s]"
      ]
     },
     "metadata": {},
     "output_type": "display_data"
    },
    {
     "data": {
      "application/vnd.jupyter.widget-view+json": {
       "model_id": "728f50e24da44c7f93e1aebbc37b1cf6",
       "version_major": 2,
       "version_minor": 0
      },
      "text/plain": [
       "Applying OCR post-correction:   0%|          | 0/2555 [00:00<?, ?it/s]"
      ]
     },
     "metadata": {},
     "output_type": "display_data"
    },
    {
     "name": "stdout",
     "output_type": "stream",
     "text": [
      "Done with 1882 The Land of the Midnight Sun vol 2.csv\n",
      "\n",
      "Starting on 1882 Three in Norway by Two of Them.csv\n",
      "\n"
     ]
    },
    {
     "data": {
      "application/vnd.jupyter.widget-view+json": {
       "model_id": "a5de012d2936478f873ad43991407bd9",
       "version_major": 2,
       "version_minor": 0
      },
      "text/plain": [
       "  0%|          | 0/1324 [00:00<?, ?it/s]"
      ]
     },
     "metadata": {},
     "output_type": "display_data"
    },
    {
     "data": {
      "application/vnd.jupyter.widget-view+json": {
       "model_id": "869cbd72956e4fb383aca75f82712a1c",
       "version_major": 2,
       "version_minor": 0
      },
      "text/plain": [
       "Applying OCR post-correction:   0%|          | 0/1324 [00:00<?, ?it/s]"
      ]
     },
     "metadata": {},
     "output_type": "display_data"
    },
    {
     "name": "stdout",
     "output_type": "stream",
     "text": [
      "Done with 1882 Three in Norway by Two of Them.csv\n",
      "\n",
      "Starting on 1884 Driftwood from Scandinavia.csv\n",
      "\n"
     ]
    },
    {
     "data": {
      "application/vnd.jupyter.widget-view+json": {
       "model_id": "735b4c17abf34b92a84bc4004f8cc5f7",
       "version_major": 2,
       "version_minor": 0
      },
      "text/plain": [
       "  0%|          | 0/1184 [00:00<?, ?it/s]"
      ]
     },
     "metadata": {},
     "output_type": "display_data"
    },
    {
     "data": {
      "application/vnd.jupyter.widget-view+json": {
       "model_id": "15a6cfa89e2046419cbe7f683e489d89",
       "version_major": 2,
       "version_minor": 0
      },
      "text/plain": [
       "Applying OCR post-correction:   0%|          | 0/1184 [00:00<?, ?it/s]"
      ]
     },
     "metadata": {},
     "output_type": "display_data"
    },
    {
     "name": "stdout",
     "output_type": "stream",
     "text": [
      "Done with 1884 Driftwood from Scandinavia.csv\n",
      "\n",
      "Starting on 1884 Zigzag Journeys in Northern Land.csv\n",
      "\n"
     ]
    },
    {
     "data": {
      "application/vnd.jupyter.widget-view+json": {
       "model_id": "08da34997f444c78914ecf1b0f59a5bf",
       "version_major": 2,
       "version_minor": 0
      },
      "text/plain": [
       "  0%|          | 0/2198 [00:00<?, ?it/s]"
      ]
     },
     "metadata": {},
     "output_type": "display_data"
    },
    {
     "data": {
      "application/vnd.jupyter.widget-view+json": {
       "model_id": "30b867cf1ddc4cda9d392ad5bd57d859",
       "version_major": 2,
       "version_minor": 0
      },
      "text/plain": [
       "Applying OCR post-correction:   0%|          | 0/2198 [00:00<?, ?it/s]"
      ]
     },
     "metadata": {},
     "output_type": "display_data"
    },
    {
     "name": "stdout",
     "output_type": "stream",
     "text": [
      "Done with 1884 Zigzag Journeys in Northern Land.csv\n",
      "\n",
      "Starting on 1885 In the Northmans land.csv\n",
      "\n"
     ]
    },
    {
     "data": {
      "application/vnd.jupyter.widget-view+json": {
       "model_id": "617cc686cc764923879a62bbafb8ac2a",
       "version_major": 2,
       "version_minor": 0
      },
      "text/plain": [
       "  0%|          | 0/376 [00:00<?, ?it/s]"
      ]
     },
     "metadata": {},
     "output_type": "display_data"
    },
    {
     "data": {
      "application/vnd.jupyter.widget-view+json": {
       "model_id": "7925366c9a724a8182526216e13ac9b5",
       "version_major": 2,
       "version_minor": 0
      },
      "text/plain": [
       "Applying OCR post-correction:   0%|          | 0/376 [00:00<?, ?it/s]"
      ]
     },
     "metadata": {},
     "output_type": "display_data"
    },
    {
     "name": "stdout",
     "output_type": "stream",
     "text": [
      "Done with 1885 In the Northmans land.csv\n",
      "\n",
      "Starting on 1885 One and a Half in Norway.csv\n",
      "\n"
     ]
    },
    {
     "data": {
      "application/vnd.jupyter.widget-view+json": {
       "model_id": "b41d46d126b24d819973aa60b91e978b",
       "version_major": 2,
       "version_minor": 0
      },
      "text/plain": [
       "  0%|          | 0/1230 [00:00<?, ?it/s]"
      ]
     },
     "metadata": {},
     "output_type": "display_data"
    },
    {
     "data": {
      "application/vnd.jupyter.widget-view+json": {
       "model_id": "1715e8bc79bd4adca457c0b191e3beab",
       "version_major": 2,
       "version_minor": 0
      },
      "text/plain": [
       "Applying OCR post-correction:   0%|          | 0/1230 [00:00<?, ?it/s]"
      ]
     },
     "metadata": {},
     "output_type": "display_data"
    },
    {
     "name": "stdout",
     "output_type": "stream",
     "text": [
      "Done with 1885 One and a Half in Norway.csv\n",
      "\n",
      "Starting on 1885 Sketches in Holland and Scandinavia.csv\n",
      "\n"
     ]
    },
    {
     "data": {
      "application/vnd.jupyter.widget-view+json": {
       "model_id": "cd342846643e498683a950734bcff8b6",
       "version_major": 2,
       "version_minor": 0
      },
      "text/plain": [
       "  0%|          | 0/430 [00:00<?, ?it/s]"
      ]
     },
     "metadata": {},
     "output_type": "display_data"
    },
    {
     "data": {
      "application/vnd.jupyter.widget-view+json": {
       "model_id": "66a1cebcbf3c4a6fa7b1b688791dac24",
       "version_major": 2,
       "version_minor": 0
      },
      "text/plain": [
       "Applying OCR post-correction:   0%|          | 0/430 [00:00<?, ?it/s]"
      ]
     },
     "metadata": {},
     "output_type": "display_data"
    },
    {
     "name": "stdout",
     "output_type": "stream",
     "text": [
      "Done with 1885 Sketches in Holland and Scandinavia.csv\n",
      "\n",
      "Starting on 1885 The viking Bodleys.csv\n",
      "\n"
     ]
    },
    {
     "data": {
      "application/vnd.jupyter.widget-view+json": {
       "model_id": "55ee69c359984b33b0bb610ddb6cf26e",
       "version_major": 2,
       "version_minor": 0
      },
      "text/plain": [
       "  0%|          | 0/1625 [00:00<?, ?it/s]"
      ]
     },
     "metadata": {},
     "output_type": "display_data"
    },
    {
     "data": {
      "application/vnd.jupyter.widget-view+json": {
       "model_id": "f06af2f784cb44819ecb2ca7e5d79d71",
       "version_major": 2,
       "version_minor": 0
      },
      "text/plain": [
       "Applying OCR post-correction:   0%|          | 0/1625 [00:00<?, ?it/s]"
      ]
     },
     "metadata": {},
     "output_type": "display_data"
    },
    {
     "name": "stdout",
     "output_type": "stream",
     "text": [
      "Done with 1885 The viking Bodleys.csv\n",
      "\n",
      "Starting on 1886 The midnight sun the tsar and the nihilist.csv\n",
      "\n"
     ]
    },
    {
     "data": {
      "application/vnd.jupyter.widget-view+json": {
       "model_id": "f9f2917f8c5441af95c65a52f118ec3f",
       "version_major": 2,
       "version_minor": 0
      },
      "text/plain": [
       "  0%|          | 0/388 [00:00<?, ?it/s]"
      ]
     },
     "metadata": {},
     "output_type": "display_data"
    },
    {
     "data": {
      "application/vnd.jupyter.widget-view+json": {
       "model_id": "e35d902852404c65af7b34a7d459312f",
       "version_major": 2,
       "version_minor": 0
      },
      "text/plain": [
       "Applying OCR post-correction:   0%|          | 0/388 [00:00<?, ?it/s]"
      ]
     },
     "metadata": {},
     "output_type": "display_data"
    },
    {
     "name": "stdout",
     "output_type": "stream",
     "text": [
      "Done with 1886 The midnight sun the tsar and the nihilist.csv\n",
      "\n",
      "Starting on 1887 Due North.csv\n",
      "\n"
     ]
    },
    {
     "data": {
      "application/vnd.jupyter.widget-view+json": {
       "model_id": "9266e09c5de64a28b6fb428857fbbd09",
       "version_major": 2,
       "version_minor": 0
      },
      "text/plain": [
       "  0%|          | 0/1609 [00:00<?, ?it/s]"
      ]
     },
     "metadata": {},
     "output_type": "display_data"
    },
    {
     "data": {
      "application/vnd.jupyter.widget-view+json": {
       "model_id": "ab64acb8e4474e06b7ed936e0d32e712",
       "version_major": 2,
       "version_minor": 0
      },
      "text/plain": [
       "Applying OCR post-correction:   0%|          | 0/1609 [00:00<?, ?it/s]"
      ]
     },
     "metadata": {},
     "output_type": "display_data"
    },
    {
     "name": "stdout",
     "output_type": "stream",
     "text": [
      "Done with 1887 Due North.csv\n",
      "\n",
      "Starting on 1887 Glimpses of Scandinavia and Russia.csv\n",
      "\n"
     ]
    },
    {
     "data": {
      "application/vnd.jupyter.widget-view+json": {
       "model_id": "966c5e986cb6466e9b482781620176bc",
       "version_major": 2,
       "version_minor": 0
      },
      "text/plain": [
       "  0%|          | 0/535 [00:00<?, ?it/s]"
      ]
     },
     "metadata": {},
     "output_type": "display_data"
    },
    {
     "data": {
      "application/vnd.jupyter.widget-view+json": {
       "model_id": "c45ec633cb4442089ae428c5a44519dd",
       "version_major": 2,
       "version_minor": 0
      },
      "text/plain": [
       "Applying OCR post-correction:   0%|          | 0/535 [00:00<?, ?it/s]"
      ]
     },
     "metadata": {},
     "output_type": "display_data"
    },
    {
     "name": "stdout",
     "output_type": "stream",
     "text": [
      "Done with 1887 Glimpses of Scandinavia and Russia.csv\n",
      "\n",
      "Starting on 1887 Norway Nights and Russian Days.csv\n",
      "\n"
     ]
    },
    {
     "data": {
      "application/vnd.jupyter.widget-view+json": {
       "model_id": "a24a0b5a5a074380adb47df3c57969ce",
       "version_major": 2,
       "version_minor": 0
      },
      "text/plain": [
       "  0%|          | 0/650 [00:00<?, ?it/s]"
      ]
     },
     "metadata": {},
     "output_type": "display_data"
    },
    {
     "data": {
      "application/vnd.jupyter.widget-view+json": {
       "model_id": "3b1c77b9e74a429590566d9feb228456",
       "version_major": 2,
       "version_minor": 0
      },
      "text/plain": [
       "Applying OCR post-correction:   0%|          | 0/650 [00:00<?, ?it/s]"
      ]
     },
     "metadata": {},
     "output_type": "display_data"
    },
    {
     "name": "stdout",
     "output_type": "stream",
     "text": [
      "Done with 1887 Norway Nights and Russian Days.csv\n",
      "\n",
      "Starting on 1889 Letters Written During a Short Residence in Sweden Norway and Denmark.csv\n",
      "\n"
     ]
    },
    {
     "data": {
      "application/vnd.jupyter.widget-view+json": {
       "model_id": "91378c9edff34d2fa428db66e944ae35",
       "version_major": 2,
       "version_minor": 0
      },
      "text/plain": [
       "  0%|          | 0/605 [00:00<?, ?it/s]"
      ]
     },
     "metadata": {},
     "output_type": "display_data"
    },
    {
     "data": {
      "application/vnd.jupyter.widget-view+json": {
       "model_id": "e058f1e8d2c9401cb20e4da2c6f50cc7",
       "version_major": 2,
       "version_minor": 0
      },
      "text/plain": [
       "Applying OCR post-correction:   0%|          | 0/605 [00:00<?, ?it/s]"
      ]
     },
     "metadata": {},
     "output_type": "display_data"
    },
    {
     "name": "stdout",
     "output_type": "stream",
     "text": [
      "Done with 1889 Letters Written During a Short Residence in Sweden Norway and Denmark.csv\n",
      "\n",
      "Starting on 1890 Norwegian Pictures.csv\n",
      "\n"
     ]
    },
    {
     "data": {
      "application/vnd.jupyter.widget-view+json": {
       "model_id": "f432e86f638b428da2d092c029699107",
       "version_major": 2,
       "version_minor": 0
      },
      "text/plain": [
       "  0%|          | 0/1175 [00:00<?, ?it/s]"
      ]
     },
     "metadata": {},
     "output_type": "display_data"
    },
    {
     "data": {
      "application/vnd.jupyter.widget-view+json": {
       "model_id": "f41b11872dfd457cb0571eec004b7e57",
       "version_major": 2,
       "version_minor": 0
      },
      "text/plain": [
       "Applying OCR post-correction:   0%|          | 0/1175 [00:00<?, ?it/s]"
      ]
     },
     "metadata": {},
     "output_type": "display_data"
    },
    {
     "name": "stdout",
     "output_type": "stream",
     "text": [
      "Done with 1890 Norwegian Pictures.csv\n",
      "\n",
      "Starting on 1892 A Ride Across Iceland in the Summer of 1891.csv\n",
      "\n"
     ]
    },
    {
     "data": {
      "application/vnd.jupyter.widget-view+json": {
       "model_id": "18afd66cff454b2c8c06d76e33d6fb20",
       "version_major": 2,
       "version_minor": 0
      },
      "text/plain": [
       "  0%|          | 0/255 [00:00<?, ?it/s]"
      ]
     },
     "metadata": {},
     "output_type": "display_data"
    },
    {
     "data": {
      "application/vnd.jupyter.widget-view+json": {
       "model_id": "4244f4f9b44544c6a17174ec4952260d",
       "version_major": 2,
       "version_minor": 0
      },
      "text/plain": [
       "Applying OCR post-correction:   0%|          | 0/255 [00:00<?, ?it/s]"
      ]
     },
     "metadata": {},
     "output_type": "display_data"
    },
    {
     "name": "stdout",
     "output_type": "stream",
     "text": [
      "Done with 1892 A Ride Across Iceland in the Summer of 1891.csv\n",
      "\n",
      "Starting on 1892 Norway and the Norwegians.csv\n",
      "\n"
     ]
    },
    {
     "data": {
      "application/vnd.jupyter.widget-view+json": {
       "model_id": "307c3f90664a4111ad58aed5f700d171",
       "version_major": 2,
       "version_minor": 0
      },
      "text/plain": [
       "  0%|          | 0/931 [00:00<?, ?it/s]"
      ]
     },
     "metadata": {},
     "output_type": "display_data"
    },
    {
     "data": {
      "application/vnd.jupyter.widget-view+json": {
       "model_id": "88282750323d4850a6d8d9327eefd3a3",
       "version_major": 2,
       "version_minor": 0
      },
      "text/plain": [
       "Applying OCR post-correction:   0%|          | 0/931 [00:00<?, ?it/s]"
      ]
     },
     "metadata": {},
     "output_type": "display_data"
    },
    {
     "name": "stdout",
     "output_type": "stream",
     "text": [
      "Done with 1892 Norway and the Norwegians.csv\n",
      "\n",
      "Starting on 1892 The best tour in Norway.csv\n",
      "\n"
     ]
    },
    {
     "data": {
      "application/vnd.jupyter.widget-view+json": {
       "model_id": "4b958bb0c34d4d5d9076747e674113ac",
       "version_major": 2,
       "version_minor": 0
      },
      "text/plain": [
       "  0%|          | 0/2387 [00:00<?, ?it/s]"
      ]
     },
     "metadata": {},
     "output_type": "display_data"
    },
    {
     "data": {
      "application/vnd.jupyter.widget-view+json": {
       "model_id": "d531cacca60d4d33b578b08ec8bccad0",
       "version_major": 2,
       "version_minor": 0
      },
      "text/plain": [
       "Applying OCR post-correction:   0%|          | 0/2387 [00:00<?, ?it/s]"
      ]
     },
     "metadata": {},
     "output_type": "display_data"
    },
    {
     "name": "stdout",
     "output_type": "stream",
     "text": [
      "Done with 1892 The best tour in Norway.csv\n",
      "\n",
      "Starting on 1893 Old Norway and Its Fjords.csv\n",
      "\n"
     ]
    },
    {
     "data": {
      "application/vnd.jupyter.widget-view+json": {
       "model_id": "5dbc50f060b547e78a04557eeab8d2de",
       "version_major": 2,
       "version_minor": 0
      },
      "text/plain": [
       "  0%|          | 0/1030 [00:00<?, ?it/s]"
      ]
     },
     "metadata": {},
     "output_type": "display_data"
    },
    {
     "data": {
      "application/vnd.jupyter.widget-view+json": {
       "model_id": "2295070f44c147ab9cb9164e6190fa3f",
       "version_major": 2,
       "version_minor": 0
      },
      "text/plain": [
       "Applying OCR post-correction:   0%|          | 0/1030 [00:00<?, ?it/s]"
      ]
     },
     "metadata": {},
     "output_type": "display_data"
    },
    {
     "name": "stdout",
     "output_type": "stream",
     "text": [
      "Done with 1893 Old Norway and Its Fjords.csv\n",
      "\n",
      "Starting on 1893 Sweden and the Swedes.csv\n",
      "\n"
     ]
    },
    {
     "data": {
      "application/vnd.jupyter.widget-view+json": {
       "model_id": "6e0616f2af574667bd085b6b526e82c9",
       "version_major": 2,
       "version_minor": 0
      },
      "text/plain": [
       "  0%|          | 0/766 [00:00<?, ?it/s]"
      ]
     },
     "metadata": {},
     "output_type": "display_data"
    },
    {
     "data": {
      "application/vnd.jupyter.widget-view+json": {
       "model_id": "a2ea8c004a1541a0b493b2453adb70f9",
       "version_major": 2,
       "version_minor": 0
      },
      "text/plain": [
       "Applying OCR post-correction:   0%|          | 0/766 [00:00<?, ?it/s]"
      ]
     },
     "metadata": {},
     "output_type": "display_data"
    },
    {
     "name": "stdout",
     "output_type": "stream",
     "text": [
      "Done with 1893 Sweden and the Swedes.csv\n",
      "\n",
      "Starting on 1894 A Girls Ride in Iceland.csv\n",
      "\n"
     ]
    },
    {
     "data": {
      "application/vnd.jupyter.widget-view+json": {
       "model_id": "24301bdaf0424527aab45fd7152c7fb6",
       "version_major": 2,
       "version_minor": 0
      },
      "text/plain": [
       "  0%|          | 0/749 [00:00<?, ?it/s]"
      ]
     },
     "metadata": {},
     "output_type": "display_data"
    },
    {
     "data": {
      "application/vnd.jupyter.widget-view+json": {
       "model_id": "7e6c8d84aa52463299170fd1fa226b05",
       "version_major": 2,
       "version_minor": 0
      },
      "text/plain": [
       "Applying OCR post-correction:   0%|          | 0/749 [00:00<?, ?it/s]"
      ]
     },
     "metadata": {},
     "output_type": "display_data"
    },
    {
     "name": "stdout",
     "output_type": "stream",
     "text": [
      "Done with 1894 A Girls Ride in Iceland.csv\n",
      "\n",
      "Starting on 1894 A Winter Jaunt to Norway.csv\n",
      "\n"
     ]
    },
    {
     "data": {
      "application/vnd.jupyter.widget-view+json": {
       "model_id": "e70ffefd76ed4712aa37806f21383ea6",
       "version_major": 2,
       "version_minor": 0
      },
      "text/plain": [
       "  0%|          | 0/1555 [00:00<?, ?it/s]"
      ]
     },
     "metadata": {},
     "output_type": "display_data"
    },
    {
     "data": {
      "application/vnd.jupyter.widget-view+json": {
       "model_id": "1b840743c8ff438f9f1e9e0edc4e9d85",
       "version_major": 2,
       "version_minor": 0
      },
      "text/plain": [
       "Applying OCR post-correction:   0%|          | 0/1555 [00:00<?, ?it/s]"
      ]
     },
     "metadata": {},
     "output_type": "display_data"
    },
    {
     "name": "stdout",
     "output_type": "stream",
     "text": [
      "Done with 1894 A Winter Jaunt to Norway.csv\n",
      "\n",
      "Starting on 1895 Angling travels in Norway.csv\n",
      "\n"
     ]
    },
    {
     "data": {
      "application/vnd.jupyter.widget-view+json": {
       "model_id": "df6e24c7727d4efba876eb0662b10e7b",
       "version_major": 2,
       "version_minor": 0
      },
      "text/plain": [
       "  0%|          | 0/320 [00:00<?, ?it/s]"
      ]
     },
     "metadata": {},
     "output_type": "display_data"
    },
    {
     "data": {
      "application/vnd.jupyter.widget-view+json": {
       "model_id": "59b1ae5cbea440928664dd284e6972a8",
       "version_major": 2,
       "version_minor": 0
      },
      "text/plain": [
       "Applying OCR post-correction:   0%|          | 0/320 [00:00<?, ?it/s]"
      ]
     },
     "metadata": {},
     "output_type": "display_data"
    },
    {
     "name": "stdout",
     "output_type": "stream",
     "text": [
      "Done with 1895 Angling travels in Norway.csv\n",
      "\n",
      "Starting on 1895 Notes of Travel in Sweden.csv\n",
      "\n"
     ]
    },
    {
     "data": {
      "application/vnd.jupyter.widget-view+json": {
       "model_id": "adfcc837b9414e85b8cc006504588194",
       "version_major": 2,
       "version_minor": 0
      },
      "text/plain": [
       "  0%|          | 0/1571 [00:00<?, ?it/s]"
      ]
     },
     "metadata": {},
     "output_type": "display_data"
    },
    {
     "data": {
      "application/vnd.jupyter.widget-view+json": {
       "model_id": "a2407980c06e40698a791311dc2090d6",
       "version_major": 2,
       "version_minor": 0
      },
      "text/plain": [
       "Applying OCR post-correction:   0%|          | 0/1571 [00:00<?, ?it/s]"
      ]
     },
     "metadata": {},
     "output_type": "display_data"
    },
    {
     "name": "stdout",
     "output_type": "stream",
     "text": [
      "Done with 1895 Notes of Travel in Sweden.csv\n",
      "\n",
      "Starting on 1895 Vignette from Finland.csv\n",
      "\n"
     ]
    },
    {
     "data": {
      "application/vnd.jupyter.widget-view+json": {
       "model_id": "9eece4cdefea4eea83b1fac1794bb46d",
       "version_major": 2,
       "version_minor": 0
      },
      "text/plain": [
       "  0%|          | 0/1209 [00:00<?, ?it/s]"
      ]
     },
     "metadata": {},
     "output_type": "display_data"
    },
    {
     "data": {
      "application/vnd.jupyter.widget-view+json": {
       "model_id": "5c99ca04c3dc4cabad4a5ad1423c15e9",
       "version_major": 2,
       "version_minor": 0
      },
      "text/plain": [
       "Applying OCR post-correction:   0%|          | 0/1209 [00:00<?, ?it/s]"
      ]
     },
     "metadata": {},
     "output_type": "display_data"
    },
    {
     "name": "stdout",
     "output_type": "stream",
     "text": [
      "Done with 1895 Vignette from Finland.csv\n",
      "\n",
      "Starting on 1896 New ground in Norway.csv\n",
      "\n"
     ]
    },
    {
     "data": {
      "application/vnd.jupyter.widget-view+json": {
       "model_id": "84ba363dd34d49cf94e223a46845a668",
       "version_major": 2,
       "version_minor": 0
      },
      "text/plain": [
       "  0%|          | 0/1063 [00:00<?, ?it/s]"
      ]
     },
     "metadata": {},
     "output_type": "display_data"
    },
    {
     "data": {
      "application/vnd.jupyter.widget-view+json": {
       "model_id": "5b9838ab7aea4916b729d56acd0bb545",
       "version_major": 2,
       "version_minor": 0
      },
      "text/plain": [
       "Applying OCR post-correction:   0%|          | 0/1063 [00:00<?, ?it/s]"
      ]
     },
     "metadata": {},
     "output_type": "display_data"
    },
    {
     "name": "stdout",
     "output_type": "stream",
     "text": [
      "Done with 1896 New ground in Norway.csv\n",
      "\n",
      "Starting on 1897 Norway.csv\n",
      "\n"
     ]
    },
    {
     "data": {
      "application/vnd.jupyter.widget-view+json": {
       "model_id": "004b91c9bba040328a0328718f8a1156",
       "version_major": 2,
       "version_minor": 0
      },
      "text/plain": [
       "  0%|          | 0/726 [00:00<?, ?it/s]"
      ]
     },
     "metadata": {},
     "output_type": "display_data"
    },
    {
     "data": {
      "application/vnd.jupyter.widget-view+json": {
       "model_id": "8c479c1351d94bb7b5df3a944718cc26",
       "version_major": 2,
       "version_minor": 0
      },
      "text/plain": [
       "Applying OCR post-correction:   0%|          | 0/726 [00:00<?, ?it/s]"
      ]
     },
     "metadata": {},
     "output_type": "display_data"
    },
    {
     "name": "stdout",
     "output_type": "stream",
     "text": [
      "Done with 1897 Norway.csv\n",
      "\n",
      "Starting on 1897 Wild Norway.csv\n",
      "\n"
     ]
    },
    {
     "data": {
      "application/vnd.jupyter.widget-view+json": {
       "model_id": "d71bf3045b634adcb532f527b64934fc",
       "version_major": 2,
       "version_minor": 0
      },
      "text/plain": [
       "  0%|          | 0/434 [00:00<?, ?it/s]"
      ]
     },
     "metadata": {},
     "output_type": "display_data"
    },
    {
     "data": {
      "application/vnd.jupyter.widget-view+json": {
       "model_id": "dd4009cfbbb443d2ab636b3513b99d24",
       "version_major": 2,
       "version_minor": 0
      },
      "text/plain": [
       "Applying OCR post-correction:   0%|          | 0/434 [00:00<?, ?it/s]"
      ]
     },
     "metadata": {},
     "output_type": "display_data"
    },
    {
     "name": "stdout",
     "output_type": "stream",
     "text": [
      "Done with 1897 Wild Norway.csv\n",
      "\n",
      "Starting on 1898 Again in Sweden.csv\n",
      "\n"
     ]
    },
    {
     "data": {
      "application/vnd.jupyter.widget-view+json": {
       "model_id": "b04a87ac9f244c849a163ca6653123ab",
       "version_major": 2,
       "version_minor": 0
      },
      "text/plain": [
       "  0%|          | 0/3134 [00:00<?, ?it/s]"
      ]
     },
     "metadata": {},
     "output_type": "display_data"
    },
    {
     "data": {
      "application/vnd.jupyter.widget-view+json": {
       "model_id": "90e96490c968411ca67741a44c2f1384",
       "version_major": 2,
       "version_minor": 0
      },
      "text/plain": [
       "Applying OCR post-correction:   0%|          | 0/3134 [00:00<?, ?it/s]"
      ]
     },
     "metadata": {},
     "output_type": "display_data"
    },
    {
     "name": "stdout",
     "output_type": "stream",
     "text": [
      "Done with 1898 Again in Sweden.csv\n",
      "\n",
      "Starting on 1898 New Climbs in Norway.csv\n",
      "\n"
     ]
    },
    {
     "data": {
      "application/vnd.jupyter.widget-view+json": {
       "model_id": "a87e161e91c74b6795653b5afe3b2e3e",
       "version_major": 2,
       "version_minor": 0
      },
      "text/plain": [
       "  0%|          | 0/590 [00:00<?, ?it/s]"
      ]
     },
     "metadata": {},
     "output_type": "display_data"
    },
    {
     "data": {
      "application/vnd.jupyter.widget-view+json": {
       "model_id": "03ff1a1575bd4514a1c6af87e6b3b1f5",
       "version_major": 2,
       "version_minor": 0
      },
      "text/plain": [
       "Applying OCR post-correction:   0%|          | 0/590 [00:00<?, ?it/s]"
      ]
     },
     "metadata": {},
     "output_type": "display_data"
    },
    {
     "name": "stdout",
     "output_type": "stream",
     "text": [
      "Done with 1898 New Climbs in Norway.csv\n",
      "\n",
      "Starting on 1898 Through Finland in Carts.csv\n",
      "\n"
     ]
    },
    {
     "data": {
      "application/vnd.jupyter.widget-view+json": {
       "model_id": "4a8f75bdd1b8461380e37288d1ed28f0",
       "version_major": 2,
       "version_minor": 0
      },
      "text/plain": [
       "  0%|          | 0/432 [00:00<?, ?it/s]"
      ]
     },
     "metadata": {},
     "output_type": "display_data"
    },
    {
     "data": {
      "application/vnd.jupyter.widget-view+json": {
       "model_id": "37eef33495ab4e59aeea4a714a3b491d",
       "version_major": 2,
       "version_minor": 0
      },
      "text/plain": [
       "Applying OCR post-correction:   0%|          | 0/432 [00:00<?, ?it/s]"
      ]
     },
     "metadata": {},
     "output_type": "display_data"
    },
    {
     "name": "stdout",
     "output_type": "stream",
     "text": [
      "Done with 1898 Through Finland in Carts.csv\n",
      "\n",
      "Starting on 1899 Ruins of the Saga Time.csv\n",
      "\n"
     ]
    },
    {
     "data": {
      "application/vnd.jupyter.widget-view+json": {
       "model_id": "54f145d4179e465bbac693eed3519165",
       "version_major": 2,
       "version_minor": 0
      },
      "text/plain": [
       "  0%|          | 0/750 [00:00<?, ?it/s]"
      ]
     },
     "metadata": {},
     "output_type": "display_data"
    },
    {
     "data": {
      "application/vnd.jupyter.widget-view+json": {
       "model_id": "22d572e6dd6e4af9a2b61836bfb7f68c",
       "version_major": 2,
       "version_minor": 0
      },
      "text/plain": [
       "Applying OCR post-correction:   0%|          | 0/750 [00:00<?, ?it/s]"
      ]
     },
     "metadata": {},
     "output_type": "display_data"
    },
    {
     "name": "stdout",
     "output_type": "stream",
     "text": [
      "Done with 1899 Ruins of the Saga Time.csv\n",
      "\n",
      "Starting on 1902 Across Iceland.csv\n",
      "\n"
     ]
    },
    {
     "data": {
      "application/vnd.jupyter.widget-view+json": {
       "model_id": "b4bef6cb631d45e8a427f5088f0ae6c3",
       "version_major": 2,
       "version_minor": 0
      },
      "text/plain": [
       "  0%|          | 0/992 [00:00<?, ?it/s]"
      ]
     },
     "metadata": {},
     "output_type": "display_data"
    },
    {
     "data": {
      "application/vnd.jupyter.widget-view+json": {
       "model_id": "81b82715e960487c98b1d1734489e761",
       "version_major": 2,
       "version_minor": 0
      },
      "text/plain": [
       "Applying OCR post-correction:   0%|          | 0/992 [00:00<?, ?it/s]"
      ]
     },
     "metadata": {},
     "output_type": "display_data"
    },
    {
     "name": "stdout",
     "output_type": "stream",
     "text": [
      "Done with 1902 Across Iceland.csv\n",
      "\n",
      "Starting on 1903 Thirty seasons in Scandinavia.csv\n",
      "\n"
     ]
    },
    {
     "data": {
      "application/vnd.jupyter.widget-view+json": {
       "model_id": "0d7bdf30cfc84fa595859371fc893b70",
       "version_major": 2,
       "version_minor": 0
      },
      "text/plain": [
       "  0%|          | 0/337 [00:00<?, ?it/s]"
      ]
     },
     "metadata": {},
     "output_type": "display_data"
    },
    {
     "data": {
      "application/vnd.jupyter.widget-view+json": {
       "model_id": "f9807ef405a54de0b3c126db27e53a5d",
       "version_major": 2,
       "version_minor": 0
      },
      "text/plain": [
       "Applying OCR post-correction:   0%|          | 0/337 [00:00<?, ?it/s]"
      ]
     },
     "metadata": {},
     "output_type": "display_data"
    },
    {
     "name": "stdout",
     "output_type": "stream",
     "text": [
      "Done with 1903 Thirty seasons in Scandinavia.csv\n",
      "\n",
      "Starting on 1906 Through Scandinavia to Moscow.csv\n",
      "\n"
     ]
    },
    {
     "data": {
      "application/vnd.jupyter.widget-view+json": {
       "model_id": "95e8bebaac7048f0b05816be93710055",
       "version_major": 2,
       "version_minor": 0
      },
      "text/plain": [
       "  0%|          | 0/929 [00:00<?, ?it/s]"
      ]
     },
     "metadata": {},
     "output_type": "display_data"
    },
    {
     "data": {
      "application/vnd.jupyter.widget-view+json": {
       "model_id": "9002411ab98e45a099d1388189cf2886",
       "version_major": 2,
       "version_minor": 0
      },
      "text/plain": [
       "Applying OCR post-correction:   0%|          | 0/929 [00:00<?, ?it/s]"
      ]
     },
     "metadata": {},
     "output_type": "display_data"
    },
    {
     "name": "stdout",
     "output_type": "stream",
     "text": [
      "Done with 1906 Through Scandinavia to Moscow.csv\n",
      "\n",
      "Starting on 1907 The Norwegian Fjords.csv\n",
      "\n"
     ]
    },
    {
     "data": {
      "application/vnd.jupyter.widget-view+json": {
       "model_id": "6652b43e5e194bb5af5e1a19ac25dc0c",
       "version_major": 2,
       "version_minor": 0
      },
      "text/plain": [
       "  0%|          | 0/702 [00:00<?, ?it/s]"
      ]
     },
     "metadata": {},
     "output_type": "display_data"
    },
    {
     "data": {
      "application/vnd.jupyter.widget-view+json": {
       "model_id": "800cb4c2485c476b9183028727985440",
       "version_major": 2,
       "version_minor": 0
      },
      "text/plain": [
       "Applying OCR post-correction:   0%|          | 0/702 [00:00<?, ?it/s]"
      ]
     },
     "metadata": {},
     "output_type": "display_data"
    },
    {
     "name": "stdout",
     "output_type": "stream",
     "text": [
      "Done with 1907 The Norwegian Fjords.csv\n",
      "\n",
      "Starting on 1909 Peeps at many Lands Finland.csv\n",
      "\n"
     ]
    },
    {
     "data": {
      "application/vnd.jupyter.widget-view+json": {
       "model_id": "2301b59cb5fe4c6d92af85f627a76dfd",
       "version_major": 2,
       "version_minor": 0
      },
      "text/plain": [
       "  0%|          | 0/107 [00:00<?, ?it/s]"
      ]
     },
     "metadata": {},
     "output_type": "display_data"
    },
    {
     "data": {
      "application/vnd.jupyter.widget-view+json": {
       "model_id": "0fe337e769c6414199c4e69dc751100d",
       "version_major": 2,
       "version_minor": 0
      },
      "text/plain": [
       "Applying OCR post-correction:   0%|          | 0/107 [00:00<?, ?it/s]"
      ]
     },
     "metadata": {},
     "output_type": "display_data"
    },
    {
     "name": "stdout",
     "output_type": "stream",
     "text": [
      "Done with 1909 Peeps at many Lands Finland.csv\n",
      "\n",
      "Starting on 1911 Peeps at Many Lands Norway.csv\n",
      "\n"
     ]
    },
    {
     "data": {
      "application/vnd.jupyter.widget-view+json": {
       "model_id": "0ecae7b496b543b5a0cca0a2cac2d47d",
       "version_major": 2,
       "version_minor": 0
      },
      "text/plain": [
       "  0%|          | 0/554 [00:00<?, ?it/s]"
      ]
     },
     "metadata": {},
     "output_type": "display_data"
    },
    {
     "data": {
      "application/vnd.jupyter.widget-view+json": {
       "model_id": "f0e8aca15e7349b28e15a3110b7418fb",
       "version_major": 2,
       "version_minor": 0
      },
      "text/plain": [
       "Applying OCR post-correction:   0%|          | 0/554 [00:00<?, ?it/s]"
      ]
     },
     "metadata": {},
     "output_type": "display_data"
    },
    {
     "name": "stdout",
     "output_type": "stream",
     "text": [
      "Done with 1911 Peeps at Many Lands Norway.csv\n",
      "\n",
      "Starting on 1911 Two visits to Denmark 1872 1874.csv\n",
      "\n"
     ]
    },
    {
     "data": {
      "application/vnd.jupyter.widget-view+json": {
       "model_id": "5d942bdbe0e1444ca344c95d1332349c",
       "version_major": 2,
       "version_minor": 0
      },
      "text/plain": [
       "  0%|          | 0/401 [00:00<?, ?it/s]"
      ]
     },
     "metadata": {},
     "output_type": "display_data"
    },
    {
     "data": {
      "application/vnd.jupyter.widget-view+json": {
       "model_id": "d55259324b0f499d9467c4048bf7c68d",
       "version_major": 2,
       "version_minor": 0
      },
      "text/plain": [
       "Applying OCR post-correction:   0%|          | 0/401 [00:00<?, ?it/s]"
      ]
     },
     "metadata": {},
     "output_type": "display_data"
    },
    {
     "name": "stdout",
     "output_type": "stream",
     "text": [
      "Done with 1911 Two visits to Denmark 1872 1874.csv\n",
      "\n",
      "Starting on 1914 Capitals of the Northlands Tales of Ten Cities.csv\n",
      "\n"
     ]
    },
    {
     "data": {
      "application/vnd.jupyter.widget-view+json": {
       "model_id": "116844d678364af4ab0bf733e84ea223",
       "version_major": 2,
       "version_minor": 0
      },
      "text/plain": [
       "  0%|          | 0/1246 [00:00<?, ?it/s]"
      ]
     },
     "metadata": {},
     "output_type": "display_data"
    },
    {
     "data": {
      "application/vnd.jupyter.widget-view+json": {
       "model_id": "87eec30c3fcf4de49e53986153c38e7d",
       "version_major": 2,
       "version_minor": 0
      },
      "text/plain": [
       "Applying OCR post-correction:   0%|          | 0/1246 [00:00<?, ?it/s]"
      ]
     },
     "metadata": {},
     "output_type": "display_data"
    },
    {
     "name": "stdout",
     "output_type": "stream",
     "text": [
      "Done with 1914 Capitals of the Northlands Tales of Ten Cities.csv\n",
      "\n",
      "Starting on 1914 Iceland Horseback tours in saga land.csv\n",
      "\n"
     ]
    },
    {
     "data": {
      "application/vnd.jupyter.widget-view+json": {
       "model_id": "fc038c0c56144821a5002116e4569f30",
       "version_major": 2,
       "version_minor": 0
      },
      "text/plain": [
       "  0%|          | 0/1654 [00:00<?, ?it/s]"
      ]
     },
     "metadata": {},
     "output_type": "display_data"
    },
    {
     "data": {
      "application/vnd.jupyter.widget-view+json": {
       "model_id": "c7db68eacca2402ab983294111f776c4",
       "version_major": 2,
       "version_minor": 0
      },
      "text/plain": [
       "Applying OCR post-correction:   0%|          | 0/1654 [00:00<?, ?it/s]"
      ]
     },
     "metadata": {},
     "output_type": "display_data"
    },
    {
     "name": "stdout",
     "output_type": "stream",
     "text": [
      "Done with 1914 Iceland Horseback tours in saga land.csv\n",
      "\n",
      "Starting on 1918 The Charm of Scandinavia.csv\n",
      "\n"
     ]
    },
    {
     "data": {
      "application/vnd.jupyter.widget-view+json": {
       "model_id": "71c6cc93b7f64ffa811bd06b95469f5e",
       "version_major": 2,
       "version_minor": 0
      },
      "text/plain": [
       "  0%|          | 0/1494 [00:00<?, ?it/s]"
      ]
     },
     "metadata": {},
     "output_type": "display_data"
    },
    {
     "data": {
      "application/vnd.jupyter.widget-view+json": {
       "model_id": "b43ead64670c421a8480ba8ab78e6200",
       "version_major": 2,
       "version_minor": 0
      },
      "text/plain": [
       "Applying OCR post-correction:   0%|          | 0/1494 [00:00<?, ?it/s]"
      ]
     },
     "metadata": {},
     "output_type": "display_data"
    },
    {
     "name": "stdout",
     "output_type": "stream",
     "text": [
      "Done with 1918 The Charm of Scandinavia.csv\n",
      "\n",
      "Starting on 1921 Denmark.csv\n",
      "\n"
     ]
    },
    {
     "data": {
      "application/vnd.jupyter.widget-view+json": {
       "model_id": "586e9030b3d441eebc420e1e4d60530c",
       "version_major": 2,
       "version_minor": 0
      },
      "text/plain": [
       "  0%|          | 0/309 [00:00<?, ?it/s]"
      ]
     },
     "metadata": {},
     "output_type": "display_data"
    },
    {
     "data": {
      "application/vnd.jupyter.widget-view+json": {
       "model_id": "ad4ac6e746ba4c05b564469c070608c1",
       "version_major": 2,
       "version_minor": 0
      },
      "text/plain": [
       "Applying OCR post-correction:   0%|          | 0/309 [00:00<?, ?it/s]"
      ]
     },
     "metadata": {},
     "output_type": "display_data"
    },
    {
     "name": "stdout",
     "output_type": "stream",
     "text": [
      "Done with 1921 Denmark.csv\n",
      "\n",
      "Done. Find your files in .\\literature csv_clean\n"
     ]
    }
   ],
   "source": [
    "# ============================================\n",
    "# BATCH PROCESSING: Process all csv files\n",
    "# ============================================\n",
    "\n",
    "# Define input and output directories\n",
    "departure_folder = r'.\\literature csv_raw'     # Source folder containing CSV files\n",
    "arrival_folder = r'.\\literature csv_clean'    # Destination folder for CSV output\n",
    "\n",
    "# Create the output directory if it doesn't exist\n",
    "# exist_ok=True prevents errors if the directory already exists\n",
    "os.makedirs(arrival_folder, exist_ok=True)\n",
    "\n",
    "# Get a list of all files in the CSV folder\n",
    "files_in_folder = os.listdir(departure_folder)\n",
    "\n",
    "# Filter to only process CSV files and skip hidden files/folders\n",
    "csv_files = [file for file in files_in_folder if file.endswith('.csv') and not file.startswith('.')]\n",
    "\n",
    "# Process each file in the folder with a progress bar\n",
    "for file in tqdm(csv_files, desc='Text processing', colour='blue'):\n",
    "\n",
    "    print (f'Starting on {file}\\n')\n",
    "    \n",
    "    # Construct the full path to the CSV file\n",
    "    file_path = os.path.join(departure_folder, file)\n",
    "\n",
    "    # Read the CSV into a Dataframe    \n",
    "    df = pd.read_csv(file_path)\n",
    "\n",
    "    # Apply the Preprocess Text function and add a new column holding the preprocessed content\n",
    "    df['preprocessed_content'] = df['page_content'].progress_apply(lambda x : preprocess_text(x))\n",
    "\n",
    "     # Apply the OCR Correction function and make two new columns and add them to the dataframe\n",
    "    df['corrections_tracker'], df['ocr_corrected_text'] = zip(*tqdm(df['preprocessed_content'].apply(ocr_post_correction), desc=\"Applying OCR post-correction\"))\n",
    "\n",
    "    # Building a new dataframe\n",
    "    df = df[['source', 'page_content', 'preprocessed_content', 'ocr_corrected_text', 'corrections_tracker']]\n",
    "\n",
    "    # Construct the full path for the output CSV file\n",
    "    csv_file_path = os.path.join(arrival_folder, file)\n",
    "\n",
    "    # Save the DataFrame to CSV\n",
    "    # index=False prevents pandas from writing row numbers as a column\n",
    "    df.to_csv(csv_file_path, index=False)\n",
    "\n",
    "    print (f'Done with {file}\\n')\n",
    "\n",
    "print (f'Done. Find your files in {arrival_folder}')"
   ]
  },
  {
   "cell_type": "code",
   "execution_count": null,
   "id": "670e4336-dd83-4c17-b7ee-bb2225177333",
   "metadata": {},
   "outputs": [],
   "source": []
  }
 ],
 "metadata": {
  "kernelspec": {
   "display_name": "Python 3 (ipykernel)",
   "language": "python",
   "name": "python3"
  },
  "language_info": {
   "codemirror_mode": {
    "name": "ipython",
    "version": 3
   },
   "file_extension": ".py",
   "mimetype": "text/x-python",
   "name": "python",
   "nbconvert_exporter": "python",
   "pygments_lexer": "ipython3",
   "version": "3.9.21"
  }
 },
 "nbformat": 4,
 "nbformat_minor": 5
}
